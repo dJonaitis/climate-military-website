{
 "cells": [
  {
   "cell_type": "markdown",
   "metadata": {},
   "source": [
    "# Military Emissions\n",
    "\n",
    "This notebook is responsible for working with data from the SIPRI Arms Transfer database.\n",
    "\n",
    "The value column corresponds to the SIPRI TIV value. It is a measure of military capability transferred."
   ]
  },
  {
   "cell_type": "code",
   "execution_count": 19,
   "metadata": {},
   "outputs": [],
   "source": [
    "import pandas as pd"
   ]
  },
  {
   "cell_type": "code",
   "execution_count": 20,
   "metadata": {},
   "outputs": [
    {
     "name": "stdout",
     "output_type": "stream",
     "text": [
      "29058\n"
     ]
    }
   ],
   "source": [
    "# Read the CSV file into a dataframe\n",
    "df = pd.read_csv('data/trade-register.csv')\n",
    "columns_to_drop = ['col4', 'Number ordered', 'col6', 'Weapon designation', 'Weapon description', 'Number delivered', 'col10', 'Year(s) of delivery', 'status', 'Comments', 'SIPRI TIV per unit', 'SIPRI TIV for total order']\n",
    "df.drop(columns=columns_to_drop, inplace=True)\n",
    "# Rename the columns\n",
    "df.columns=['Recipient', 'Supplier', 'Year', 'sipri_TIV']\n",
    "# I am recoding the Soviet Union as Russia because the Soviet Union no longer exists, and was a big player in our 1950-2023 dataset. Thus, maintaining that data is useful.\n",
    "df['Supplier'] = df['Supplier'].replace('Soviet Union', 'Russian Federation')\n",
    "df['Recipient'] = df['Recipient'].replace('Soviet Union', 'Russian Federation')\n",
    "# Display the head of the dataframe\n",
    "df.head()\n",
    "print(len(df['Recipient']))"
   ]
  },
  {
   "cell_type": "code",
   "execution_count": 21,
   "metadata": {},
   "outputs": [
    {
     "name": "stdout",
     "output_type": "stream",
     "text": [
      "24705\n",
      "['AFG' 'ALB' 'DZA' 'AGO' 'ATG' 'ARG' 'ARM' 'AUT' 'AUS' 'AZE' 'BHR' 'BGD'\n",
      " 'BRB' 'BHS' 'BDI' 'BEL' 'BEN' 'BFA' 'BTN' 'BLR' 'BLZ' 'BOL' 'BWA' 'BRA'\n",
      " 'BGR' 'CMR' 'CAN' 'CPV' 'CAF' 'TCD' 'CHL' 'CHN' 'KHM' 'COL' 'COM' 'COG'\n",
      " 'CRI' 'HRV' 'CUB' 'CYP' 'CZE' 'DNK' 'DJI' 'DOM' 'ECU' 'EGY' 'GNQ' 'ERI'\n",
      " 'EST' 'TLS' 'ETH' 'FIN' 'FJI' 'FRA' 'DEU' 'GAB' 'GMB' 'GNB' 'GEO' 'GHA'\n",
      " 'GRD' 'GRC' 'GTM' 'GIN' 'GUY' 'HTI' 'HND' 'HUN' 'ISL' 'IND' 'IDN' 'IRN'\n",
      " 'IRL' 'IRQ' 'ISR' 'ITA' 'JAM' 'JPN' 'JOR' 'KAZ' 'KEN' 'KIR' 'PRK' 'KOR'\n",
      " 'KWT' 'KGZ' 'LAO' 'LVA' 'LBN' 'LSO' 'LBR' 'LTU' 'LUX' 'LBY' 'MKD' 'MDG'\n",
      " 'MYS' 'MHL' 'MUS' 'MEX' 'MLI' 'MDV' 'MDA' 'MNG' 'MAR' 'MOZ' 'MRT' 'MLT'\n",
      " 'MNE' 'MWI' 'MMR' 'NAM' 'NPL' 'NLD' 'NIC' 'NGA' 'NER' 'NOR' 'NZL' 'OMN'\n",
      " 'PAK' 'PLW' 'PAN' 'PNG' 'PRY' 'PER' 'PHL' 'POL' 'PRT' 'QAT' 'ROU' 'RWA'\n",
      " 'ZAF' 'ESH' 'SLV' 'WSM' 'SAU' 'SEN' 'SRB' 'SYC' 'SLE' 'SGP' 'KNA' 'SVK'\n",
      " 'SVN' 'SLB' 'SOM' 'ESP' 'LKA' 'SSD' 'SDN' 'SUR' 'SWZ' 'SWE' 'CHE' 'SYR'\n",
      " 'TWN' 'TJK' 'TZA' 'THA' 'TGO' 'TON' 'TTO' 'TKM' 'TUN' 'TUV' 'UGA' 'GBR'\n",
      " 'UKR' 'URY' 'USA' 'RUS' 'UZB' 'VUT' 'VEN' 'VNM' 'YEM' 'ZMB' 'ZWE']\n",
      "Year\n",
      "2022.0    560\n",
      "1980.0    537\n",
      "1982.0    482\n",
      "1975.0    476\n",
      "1981.0    463\n",
      "         ... \n",
      "1947.0      8\n",
      "1946.0      6\n",
      "1945.0      4\n",
      "1940.0      2\n",
      "1943.0      1\n",
      "Name: count, Length: 81, dtype: int64\n"
     ]
    }
   ],
   "source": [
    "from functions import country_to_iso\n",
    "\n",
    "df['ISO_Recipient'] = df['Recipient'].apply(country_to_iso)\n",
    "df['ISO_Supplier'] = df['Supplier'].apply(country_to_iso)\n",
    "\n",
    "df.dropna(inplace=True)\n",
    "df.head()\n",
    "print(len(df['Recipient']))\n",
    "unique_iso_recipients = df['ISO_Recipient'].unique()\n",
    "print(unique_iso_recipients)"
   ]
  },
  {
   "cell_type": "code",
   "execution_count": 22,
   "metadata": {},
   "outputs": [
    {
     "data": {
      "text/plain": [
       "'Success.'"
      ]
     },
     "execution_count": 22,
     "metadata": {},
     "output_type": "execute_result"
    }
   ],
   "source": [
    "from functions import df_to_database\n",
    "\n",
    "df_to_database(df, 'tradeRegister')"
   ]
  },
  {
   "cell_type": "code",
   "execution_count": null,
   "metadata": {},
   "outputs": [],
   "source": [
    "year_counts = df['Year'].value_counts()\n",
    "print(year_counts)"
   ]
  },
  {
   "cell_type": "markdown",
   "metadata": {},
   "source": [
    "# Visualisations\n",
    "This is mostly code that can then be transferred into Flask."
   ]
  },
  {
   "cell_type": "code",
   "execution_count": 23,
   "metadata": {},
   "outputs": [],
   "source": [
    "import geopandas as gpd\n",
    "\n",
    "import matplotlib.pyplot as plt\n",
    "import plotly.graph_objects as go"
   ]
  },
  {
   "cell_type": "code",
   "execution_count": 24,
   "metadata": {},
   "outputs": [
    {
     "data": {
      "application/vnd.plotly.v1+json": {
       "config": {
        "plotlyServerURL": "https://plot.ly"
       },
       "data": [
        {
         "line": {
          "color": "red",
          "width": 0
         },
         "locationmode": "ISO-3",
         "locations": [
          "USA",
          "ALB"
         ],
         "mode": "lines",
         "type": "scattergeo"
        },
        {
         "line": {
          "color": "red",
          "width": 0
         },
         "locationmode": "ISO-3",
         "locations": [
          "CAN",
          "AGO"
         ],
         "mode": "lines",
         "type": "scattergeo"
        },
        {
         "line": {
          "color": "red",
          "width": 0.022
         },
         "locationmode": "ISO-3",
         "locations": [
          "FRA",
          "AGO"
         ],
         "mode": "lines",
         "type": "scattergeo"
        },
        {
         "line": {
          "color": "red",
          "width": 0
         },
         "locationmode": "ISO-3",
         "locations": [
          "ESP",
          "AGO"
         ],
         "mode": "lines",
         "type": "scattergeo"
        },
        {
         "line": {
          "color": "red",
          "width": 0
         },
         "locationmode": "ISO-3",
         "locations": [
          "ESP",
          "AGO"
         ],
         "mode": "lines",
         "type": "scattergeo"
        },
        {
         "line": {
          "color": "red",
          "width": 0.0044
         },
         "locationmode": "ISO-3",
         "locations": [
          "USA",
          "ARG"
         ],
         "mode": "lines",
         "type": "scattergeo"
        },
        {
         "line": {
          "color": "red",
          "width": 0.0224
         },
         "locationmode": "ISO-3",
         "locations": [
          "USA",
          "ARG"
         ],
         "mode": "lines",
         "type": "scattergeo"
        },
        {
         "line": {
          "color": "red",
          "width": 0
         },
         "locationmode": "ISO-3",
         "locations": [
          "ITA",
          "AUT"
         ],
         "mode": "lines",
         "type": "scattergeo"
        },
        {
         "line": {
          "color": "red",
          "width": 0
         },
         "locationmode": "ISO-3",
         "locations": [
          "FRA",
          "AUS"
         ],
         "mode": "lines",
         "type": "scattergeo"
        },
        {
         "line": {
          "color": "red",
          "width": 0
         },
         "locationmode": "ISO-3",
         "locations": [
          "FRA",
          "AUS"
         ],
         "mode": "lines",
         "type": "scattergeo"
        },
        {
         "line": {
          "color": "red",
          "width": 0
         },
         "locationmode": "ISO-3",
         "locations": [
          "FRA",
          "AUS"
         ],
         "mode": "lines",
         "type": "scattergeo"
        },
        {
         "line": {
          "color": "red",
          "width": 0
         },
         "locationmode": "ISO-3",
         "locations": [
          "DEU",
          "AUS"
         ],
         "mode": "lines",
         "type": "scattergeo"
        },
        {
         "line": {
          "color": "red",
          "width": 0
         },
         "locationmode": "ISO-3",
         "locations": [
          "NOR",
          "AUS"
         ],
         "mode": "lines",
         "type": "scattergeo"
        },
        {
         "line": {
          "color": "red",
          "width": 0
         },
         "locationmode": "ISO-3",
         "locations": [
          "GBR",
          "AUS"
         ],
         "mode": "lines",
         "type": "scattergeo"
        },
        {
         "line": {
          "color": "red",
          "width": 0
         },
         "locationmode": "ISO-3",
         "locations": [
          "USA",
          "AUS"
         ],
         "mode": "lines",
         "type": "scattergeo"
        },
        {
         "line": {
          "color": "red",
          "width": 0
         },
         "locationmode": "ISO-3",
         "locations": [
          "USA",
          "AUS"
         ],
         "mode": "lines",
         "type": "scattergeo"
        },
        {
         "line": {
          "color": "red",
          "width": 0
         },
         "locationmode": "ISO-3",
         "locations": [
          "USA",
          "AUS"
         ],
         "mode": "lines",
         "type": "scattergeo"
        },
        {
         "line": {
          "color": "red",
          "width": 0
         },
         "locationmode": "ISO-3",
         "locations": [
          "USA",
          "AUS"
         ],
         "mode": "lines",
         "type": "scattergeo"
        },
        {
         "line": {
          "color": "red",
          "width": 0.048
         },
         "locationmode": "ISO-3",
         "locations": [
          "USA",
          "AUS"
         ],
         "mode": "lines",
         "type": "scattergeo"
        },
        {
         "line": {
          "color": "red",
          "width": 0
         },
         "locationmode": "ISO-3",
         "locations": [
          "USA",
          "AUS"
         ],
         "mode": "lines",
         "type": "scattergeo"
        },
        {
         "line": {
          "color": "red",
          "width": 0
         },
         "locationmode": "ISO-3",
         "locations": [
          "USA",
          "AUS"
         ],
         "mode": "lines",
         "type": "scattergeo"
        },
        {
         "line": {
          "color": "red",
          "width": 0
         },
         "locationmode": "ISO-3",
         "locations": [
          "USA",
          "AUS"
         ],
         "mode": "lines",
         "type": "scattergeo"
        },
        {
         "line": {
          "color": "red",
          "width": 0
         },
         "locationmode": "ISO-3",
         "locations": [
          "USA",
          "AUS"
         ],
         "mode": "lines",
         "type": "scattergeo"
        },
        {
         "line": {
          "color": "red",
          "width": 0.0435
         },
         "locationmode": "ISO-3",
         "locations": [
          "USA",
          "AUS"
         ],
         "mode": "lines",
         "type": "scattergeo"
        },
        {
         "line": {
          "color": "red",
          "width": 0.0054
         },
         "locationmode": "ISO-3",
         "locations": [
          "USA",
          "BHR"
         ],
         "mode": "lines",
         "type": "scattergeo"
        },
        {
         "line": {
          "color": "red",
          "width": 0
         },
         "locationmode": "ISO-3",
         "locations": [
          "CAN",
          "BGD"
         ],
         "mode": "lines",
         "type": "scattergeo"
        },
        {
         "line": {
          "color": "red",
          "width": 0
         },
         "locationmode": "ISO-3",
         "locations": [
          "FRA",
          "BEL"
         ],
         "mode": "lines",
         "type": "scattergeo"
        },
        {
         "line": {
          "color": "red",
          "width": 0
         },
         "locationmode": "ISO-3",
         "locations": [
          "USA",
          "BEL"
         ],
         "mode": "lines",
         "type": "scattergeo"
        },
        {
         "line": {
          "color": "red",
          "width": 0.0016799999999999999
         },
         "locationmode": "ISO-3",
         "locations": [
          "CHN",
          "BEN"
         ],
         "mode": "lines",
         "type": "scattergeo"
        },
        {
         "line": {
          "color": "red",
          "width": 0.005
         },
         "locationmode": "ISO-3",
         "locations": [
          "CHN",
          "BEN"
         ],
         "mode": "lines",
         "type": "scattergeo"
        },
        {
         "line": {
          "color": "red",
          "width": 0.0014399999999999999
         },
         "locationmode": "ISO-3",
         "locations": [
          "ESP",
          "BEN"
         ],
         "mode": "lines",
         "type": "scattergeo"
        },
        {
         "line": {
          "color": "red",
          "width": 0.00108
         },
         "locationmode": "ISO-3",
         "locations": [
          "EGY",
          "BFA"
         ],
         "mode": "lines",
         "type": "scattergeo"
        },
        {
         "line": {
          "color": "red",
          "width": 0.0015
         },
         "locationmode": "ISO-3",
         "locations": [
          "USA",
          "BFA"
         ],
         "mode": "lines",
         "type": "scattergeo"
        },
        {
         "line": {
          "color": "red",
          "width": 0.002
         },
         "locationmode": "ISO-3",
         "locations": [
          "USA",
          "BLZ"
         ],
         "mode": "lines",
         "type": "scattergeo"
        },
        {
         "line": {
          "color": "red",
          "width": 0
         },
         "locationmode": "ISO-3",
         "locations": [
          "FRA",
          "BRA"
         ],
         "mode": "lines",
         "type": "scattergeo"
        },
        {
         "line": {
          "color": "red",
          "width": 0.092
         },
         "locationmode": "ISO-3",
         "locations": [
          "IRL",
          "BRA"
         ],
         "mode": "lines",
         "type": "scattergeo"
        },
        {
         "line": {
          "color": "red",
          "width": 0
         },
         "locationmode": "ISO-3",
         "locations": [
          "ITA",
          "BRA"
         ],
         "mode": "lines",
         "type": "scattergeo"
        },
        {
         "line": {
          "color": "red",
          "width": 0
         },
         "locationmode": "ISO-3",
         "locations": [
          "SWE",
          "BRA"
         ],
         "mode": "lines",
         "type": "scattergeo"
        },
        {
         "line": {
          "color": "red",
          "width": 0
         },
         "locationmode": "ISO-3",
         "locations": [
          "FRA",
          "BGR"
         ],
         "mode": "lines",
         "type": "scattergeo"
        },
        {
         "line": {
          "color": "red",
          "width": 0
         },
         "locationmode": "ISO-3",
         "locations": [
          "FRA",
          "BGR"
         ],
         "mode": "lines",
         "type": "scattergeo"
        },
        {
         "line": {
          "color": "red",
          "width": 0.00352
         },
         "locationmode": "ISO-3",
         "locations": [
          "POL",
          "BGR"
         ],
         "mode": "lines",
         "type": "scattergeo"
        },
        {
         "line": {
          "color": "red",
          "width": 0
         },
         "locationmode": "ISO-3",
         "locations": [
          "SWE",
          "BGR"
         ],
         "mode": "lines",
         "type": "scattergeo"
        },
        {
         "line": {
          "color": "red",
          "width": 0
         },
         "locationmode": "ISO-3",
         "locations": [
          "USA",
          "BGR"
         ],
         "mode": "lines",
         "type": "scattergeo"
        },
        {
         "line": {
          "color": "red",
          "width": 0.006
         },
         "locationmode": "ISO-3",
         "locations": [
          "ZAF",
          "CMR"
         ],
         "mode": "lines",
         "type": "scattergeo"
        },
        {
         "line": {
          "color": "red",
          "width": 0.001
         },
         "locationmode": "ISO-3",
         "locations": [
          "USA",
          "CMR"
         ],
         "mode": "lines",
         "type": "scattergeo"
        },
        {
         "line": {
          "color": "red",
          "width": 0
         },
         "locationmode": "ISO-3",
         "locations": [
          "USA",
          "CAN"
         ],
         "mode": "lines",
         "type": "scattergeo"
        },
        {
         "line": {
          "color": "red",
          "width": 0.003
         },
         "locationmode": "ISO-3",
         "locations": [
          "CAN",
          "TCD"
         ],
         "mode": "lines",
         "type": "scattergeo"
        },
        {
         "line": {
          "color": "red",
          "width": 0.022879999999999998
         },
         "locationmode": "ISO-3",
         "locations": [
          "NZL",
          "CHL"
         ],
         "mode": "lines",
         "type": "scattergeo"
        },
        {
         "line": {
          "color": "red",
          "width": 0.0136
         },
         "locationmode": "ISO-3",
         "locations": [
          "CHN",
          "KHM"
         ],
         "mode": "lines",
         "type": "scattergeo"
        },
        {
         "line": {
          "color": "red",
          "width": 0.094
         },
         "locationmode": "ISO-3",
         "locations": [
          "CHN",
          "KHM"
         ],
         "mode": "lines",
         "type": "scattergeo"
        },
        {
         "line": {
          "color": "red",
          "width": 0
         },
         "locationmode": "ISO-3",
         "locations": [
          "CAN",
          "COL"
         ],
         "mode": "lines",
         "type": "scattergeo"
        },
        {
         "line": {
          "color": "red",
          "width": 0
         },
         "locationmode": "ISO-3",
         "locations": [
          "ISR",
          "COL"
         ],
         "mode": "lines",
         "type": "scattergeo"
        },
        {
         "line": {
          "color": "red",
          "width": 0
         },
         "locationmode": "ISO-3",
         "locations": [
          "ISR",
          "COL"
         ],
         "mode": "lines",
         "type": "scattergeo"
        },
        {
         "line": {
          "color": "red",
          "width": 0
         },
         "locationmode": "ISO-3",
         "locations": [
          "ISR",
          "COL"
         ],
         "mode": "lines",
         "type": "scattergeo"
        },
        {
         "line": {
          "color": "red",
          "width": 0
         },
         "locationmode": "ISO-3",
         "locations": [
          "NLD",
          "COL"
         ],
         "mode": "lines",
         "type": "scattergeo"
        },
        {
         "line": {
          "color": "red",
          "width": 0
         },
         "locationmode": "ISO-3",
         "locations": [
          "USA",
          "COL"
         ],
         "mode": "lines",
         "type": "scattergeo"
        },
        {
         "line": {
          "color": "red",
          "width": 0
         },
         "locationmode": "ISO-3",
         "locations": [
          "FRA",
          "HRV"
         ],
         "mode": "lines",
         "type": "scattergeo"
        },
        {
         "line": {
          "color": "red",
          "width": 0
         },
         "locationmode": "ISO-3",
         "locations": [
          "DEU",
          "CYP"
         ],
         "mode": "lines",
         "type": "scattergeo"
        },
        {
         "line": {
          "color": "red",
          "width": 0
         },
         "locationmode": "ISO-3",
         "locations": [
          "ISR",
          "CYP"
         ],
         "mode": "lines",
         "type": "scattergeo"
        },
        {
         "line": {
          "color": "red",
          "width": 0
         },
         "locationmode": "ISO-3",
         "locations": [
          "ISR",
          "CYP"
         ],
         "mode": "lines",
         "type": "scattergeo"
        },
        {
         "line": {
          "color": "red",
          "width": 0
         },
         "locationmode": "ISO-3",
         "locations": [
          "FRA",
          "CZE"
         ],
         "mode": "lines",
         "type": "scattergeo"
        },
        {
         "line": {
          "color": "red",
          "width": 0.0045
         },
         "locationmode": "ISO-3",
         "locations": [
          "DEU",
          "CZE"
         ],
         "mode": "lines",
         "type": "scattergeo"
        },
        {
         "line": {
          "color": "red",
          "width": 0.0448
         },
         "locationmode": "ISO-3",
         "locations": [
          "DEU",
          "CZE"
         ],
         "mode": "lines",
         "type": "scattergeo"
        },
        {
         "line": {
          "color": "red",
          "width": 0
         },
         "locationmode": "ISO-3",
         "locations": [
          "ISR",
          "CZE"
         ],
         "mode": "lines",
         "type": "scattergeo"
        },
        {
         "line": {
          "color": "red",
          "width": 0
         },
         "locationmode": "ISO-3",
         "locations": [
          "USA",
          "CZE"
         ],
         "mode": "lines",
         "type": "scattergeo"
        },
        {
         "line": {
          "color": "red",
          "width": 0
         },
         "locationmode": "ISO-3",
         "locations": [
          "USA",
          "CZE"
         ],
         "mode": "lines",
         "type": "scattergeo"
        },
        {
         "line": {
          "color": "red",
          "width": 0
         },
         "locationmode": "ISO-3",
         "locations": [
          "USA",
          "CZE"
         ],
         "mode": "lines",
         "type": "scattergeo"
        },
        {
         "line": {
          "color": "red",
          "width": 0.0025
         },
         "locationmode": "ISO-3",
         "locations": [
          "ISR",
          "DNK"
         ],
         "mode": "lines",
         "type": "scattergeo"
        },
        {
         "line": {
          "color": "red",
          "width": 0.0044
         },
         "locationmode": "ISO-3",
         "locations": [
          "ISR",
          "DNK"
         ],
         "mode": "lines",
         "type": "scattergeo"
        },
        {
         "line": {
          "color": "red",
          "width": 0.0005600000000000001
         },
         "locationmode": "ISO-3",
         "locations": [
          "ITA",
          "DOM"
         ],
         "mode": "lines",
         "type": "scattergeo"
        },
        {
         "line": {
          "color": "red",
          "width": 0.006719999999999999
         },
         "locationmode": "ISO-3",
         "locations": [
          "ESP",
          "DOM"
         ],
         "mode": "lines",
         "type": "scattergeo"
        },
        {
         "line": {
          "color": "red",
          "width": 0.0011200000000000001
         },
         "locationmode": "ISO-3",
         "locations": [
          "USA",
          "DOM"
         ],
         "mode": "lines",
         "type": "scattergeo"
        },
        {
         "line": {
          "color": "red",
          "width": 0.002
         },
         "locationmode": "ISO-3",
         "locations": [
          "USA",
          "DOM"
         ],
         "mode": "lines",
         "type": "scattergeo"
        },
        {
         "line": {
          "color": "red",
          "width": 0.01488
         },
         "locationmode": "ISO-3",
         "locations": [
          "USA",
          "DOM"
         ],
         "mode": "lines",
         "type": "scattergeo"
        },
        {
         "line": {
          "color": "red",
          "width": 0.016
         },
         "locationmode": "ISO-3",
         "locations": [
          "CHL",
          "ECU"
         ],
         "mode": "lines",
         "type": "scattergeo"
        },
        {
         "line": {
          "color": "red",
          "width": 0
         },
         "locationmode": "ISO-3",
         "locations": [
          "ISR",
          "ECU"
         ],
         "mode": "lines",
         "type": "scattergeo"
        },
        {
         "line": {
          "color": "red",
          "width": 0.0032
         },
         "locationmode": "ISO-3",
         "locations": [
          "ZAF",
          "ECU"
         ],
         "mode": "lines",
         "type": "scattergeo"
        },
        {
         "line": {
          "color": "red",
          "width": 0.00256
         },
         "locationmode": "ISO-3",
         "locations": [
          "USA",
          "ECU"
         ],
         "mode": "lines",
         "type": "scattergeo"
        },
        {
         "line": {
          "color": "red",
          "width": 0.0008
         },
         "locationmode": "ISO-3",
         "locations": [
          "USA",
          "ECU"
         ],
         "mode": "lines",
         "type": "scattergeo"
        },
        {
         "line": {
          "color": "red",
          "width": 0.006
         },
         "locationmode": "ISO-3",
         "locations": [
          "FRA",
          "EGY"
         ],
         "mode": "lines",
         "type": "scattergeo"
        },
        {
         "line": {
          "color": "red",
          "width": 0.0011799999999999998
         },
         "locationmode": "ISO-3",
         "locations": [
          "KOR",
          "EGY"
         ],
         "mode": "lines",
         "type": "scattergeo"
        },
        {
         "line": {
          "color": "red",
          "width": 0
         },
         "locationmode": "ISO-3",
         "locations": [
          "KOR",
          "EGY"
         ],
         "mode": "lines",
         "type": "scattergeo"
        },
        {
         "line": {
          "color": "red",
          "width": 0.00868
         },
         "locationmode": "ISO-3",
         "locations": [
          "KOR",
          "EGY"
         ],
         "mode": "lines",
         "type": "scattergeo"
        },
        {
         "line": {
          "color": "red",
          "width": 0
         },
         "locationmode": "ISO-3",
         "locations": [
          "USA",
          "EGY"
         ],
         "mode": "lines",
         "type": "scattergeo"
        },
        {
         "line": {
          "color": "red",
          "width": 0
         },
         "locationmode": "ISO-3",
         "locations": [
          "USA",
          "EGY"
         ],
         "mode": "lines",
         "type": "scattergeo"
        },
        {
         "line": {
          "color": "red",
          "width": 0
         },
         "locationmode": "ISO-3",
         "locations": [
          "USA",
          "EGY"
         ],
         "mode": "lines",
         "type": "scattergeo"
        },
        {
         "line": {
          "color": "red",
          "width": 0.027
         },
         "locationmode": "ISO-3",
         "locations": [
          "USA",
          "EGY"
         ],
         "mode": "lines",
         "type": "scattergeo"
        },
        {
         "line": {
          "color": "red",
          "width": 0
         },
         "locationmode": "ISO-3",
         "locations": [
          "USA",
          "EGY"
         ],
         "mode": "lines",
         "type": "scattergeo"
        },
        {
         "line": {
          "color": "red",
          "width": 0.008
         },
         "locationmode": "ISO-3",
         "locations": [
          "POL",
          "EST"
         ],
         "mode": "lines",
         "type": "scattergeo"
        },
        {
         "line": {
          "color": "red",
          "width": 0
         },
         "locationmode": "ISO-3",
         "locations": [
          "USA",
          "EST"
         ],
         "mode": "lines",
         "type": "scattergeo"
        },
        {
         "line": {
          "color": "red",
          "width": 0
         },
         "locationmode": "ISO-3",
         "locations": [
          "USA",
          "EST"
         ],
         "mode": "lines",
         "type": "scattergeo"
        },
        {
         "line": {
          "color": "red",
          "width": 0
         },
         "locationmode": "ISO-3",
         "locations": [
          "USA",
          "EST"
         ],
         "mode": "lines",
         "type": "scattergeo"
        },
        {
         "line": {
          "color": "red",
          "width": 0
         },
         "locationmode": "ISO-3",
         "locations": [
          "ISR",
          "FIN"
         ],
         "mode": "lines",
         "type": "scattergeo"
        },
        {
         "line": {
          "color": "red",
          "width": 0
         },
         "locationmode": "ISO-3",
         "locations": [
          "ISR",
          "FIN"
         ],
         "mode": "lines",
         "type": "scattergeo"
        },
        {
         "line": {
          "color": "red",
          "width": 0
         },
         "locationmode": "ISO-3",
         "locations": [
          "ISR",
          "FIN"
         ],
         "mode": "lines",
         "type": "scattergeo"
        },
        {
         "line": {
          "color": "red",
          "width": 0
         },
         "locationmode": "ISO-3",
         "locations": [
          "KOR",
          "FIN"
         ],
         "mode": "lines",
         "type": "scattergeo"
        },
        {
         "line": {
          "color": "red",
          "width": 0.01
         },
         "locationmode": "ISO-3",
         "locations": [
          "SWE",
          "FIN"
         ],
         "mode": "lines",
         "type": "scattergeo"
        },
        {
         "line": {
          "color": "red",
          "width": 0
         },
         "locationmode": "ISO-3",
         "locations": [
          "USA",
          "FIN"
         ],
         "mode": "lines",
         "type": "scattergeo"
        },
        {
         "line": {
          "color": "red",
          "width": 0
         },
         "locationmode": "ISO-3",
         "locations": [
          "USA",
          "FIN"
         ],
         "mode": "lines",
         "type": "scattergeo"
        },
        {
         "line": {
          "color": "red",
          "width": 0
         },
         "locationmode": "ISO-3",
         "locations": [
          "FRA",
          "DEU"
         ],
         "mode": "lines",
         "type": "scattergeo"
        },
        {
         "line": {
          "color": "red",
          "width": 0
         },
         "locationmode": "ISO-3",
         "locations": [
          "ITA",
          "DEU"
         ],
         "mode": "lines",
         "type": "scattergeo"
        },
        {
         "line": {
          "color": "red",
          "width": 0
         },
         "locationmode": "ISO-3",
         "locations": [
          "SWE",
          "DEU"
         ],
         "mode": "lines",
         "type": "scattergeo"
        },
        {
         "line": {
          "color": "red",
          "width": 0
         },
         "locationmode": "ISO-3",
         "locations": [
          "USA",
          "DEU"
         ],
         "mode": "lines",
         "type": "scattergeo"
        },
        {
         "line": {
          "color": "red",
          "width": 0
         },
         "locationmode": "ISO-3",
         "locations": [
          "USA",
          "DEU"
         ],
         "mode": "lines",
         "type": "scattergeo"
        },
        {
         "line": {
          "color": "red",
          "width": 0
         },
         "locationmode": "ISO-3",
         "locations": [
          "USA",
          "DEU"
         ],
         "mode": "lines",
         "type": "scattergeo"
        },
        {
         "line": {
          "color": "red",
          "width": 0
         },
         "locationmode": "ISO-3",
         "locations": [
          "USA",
          "DEU"
         ],
         "mode": "lines",
         "type": "scattergeo"
        },
        {
         "line": {
          "color": "red",
          "width": 0
         },
         "locationmode": "ISO-3",
         "locations": [
          "USA",
          "DEU"
         ],
         "mode": "lines",
         "type": "scattergeo"
        },
        {
         "line": {
          "color": "red",
          "width": 0
         },
         "locationmode": "ISO-3",
         "locations": [
          "USA",
          "DEU"
         ],
         "mode": "lines",
         "type": "scattergeo"
        },
        {
         "line": {
          "color": "red",
          "width": 0.0012
         },
         "locationmode": "ISO-3",
         "locations": [
          "POL",
          "GEO"
         ],
         "mode": "lines",
         "type": "scattergeo"
        },
        {
         "line": {
          "color": "red",
          "width": 0.00492
         },
         "locationmode": "ISO-3",
         "locations": [
          "USA",
          "GEO"
         ],
         "mode": "lines",
         "type": "scattergeo"
        },
        {
         "line": {
          "color": "red",
          "width": 0
         },
         "locationmode": "ISO-3",
         "locations": [
          "USA",
          "GEO"
         ],
         "mode": "lines",
         "type": "scattergeo"
        },
        {
         "line": {
          "color": "red",
          "width": 0.008960000000000001
         },
         "locationmode": "ISO-3",
         "locations": [
          "GBR",
          "GHA"
         ],
         "mode": "lines",
         "type": "scattergeo"
        },
        {
         "line": {
          "color": "red",
          "width": 0
         },
         "locationmode": "ISO-3",
         "locations": [
          "FRA",
          "GRC"
         ],
         "mode": "lines",
         "type": "scattergeo"
        },
        {
         "line": {
          "color": "red",
          "width": 0
         },
         "locationmode": "ISO-3",
         "locations": [
          "FRA",
          "GRC"
         ],
         "mode": "lines",
         "type": "scattergeo"
        },
        {
         "line": {
          "color": "red",
          "width": 0
         },
         "locationmode": "ISO-3",
         "locations": [
          "FRA",
          "GRC"
         ],
         "mode": "lines",
         "type": "scattergeo"
        },
        {
         "line": {
          "color": "red",
          "width": 0
         },
         "locationmode": "ISO-3",
         "locations": [
          "FRA",
          "GRC"
         ],
         "mode": "lines",
         "type": "scattergeo"
        },
        {
         "line": {
          "color": "red",
          "width": 0
         },
         "locationmode": "ISO-3",
         "locations": [
          "FRA",
          "GRC"
         ],
         "mode": "lines",
         "type": "scattergeo"
        },
        {
         "line": {
          "color": "red",
          "width": 0.0544
         },
         "locationmode": "ISO-3",
         "locations": [
          "DEU",
          "GRC"
         ],
         "mode": "lines",
         "type": "scattergeo"
        },
        {
         "line": {
          "color": "red",
          "width": 0
         },
         "locationmode": "ISO-3",
         "locations": [
          "ITA",
          "GRC"
         ],
         "mode": "lines",
         "type": "scattergeo"
        },
        {
         "line": {
          "color": "red",
          "width": 0
         },
         "locationmode": "ISO-3",
         "locations": [
          "ITA",
          "GRC"
         ],
         "mode": "lines",
         "type": "scattergeo"
        },
        {
         "line": {
          "color": "red",
          "width": 0.02944
         },
         "locationmode": "ISO-3",
         "locations": [
          "USA",
          "GRC"
         ],
         "mode": "lines",
         "type": "scattergeo"
        },
        {
         "line": {
          "color": "red",
          "width": 0.02
         },
         "locationmode": "ISO-3",
         "locations": [
          "USA",
          "GTM"
         ],
         "mode": "lines",
         "type": "scattergeo"
        },
        {
         "line": {
          "color": "red",
          "width": 0
         },
         "locationmode": "ISO-3",
         "locations": [
          "FRA",
          "GIN"
         ],
         "mode": "lines",
         "type": "scattergeo"
        },
        {
         "line": {
          "color": "red",
          "width": 0
         },
         "locationmode": "ISO-3",
         "locations": [
          "CZE",
          "HUN"
         ],
         "mode": "lines",
         "type": "scattergeo"
        },
        {
         "line": {
          "color": "red",
          "width": 0
         },
         "locationmode": "ISO-3",
         "locations": [
          "USA",
          "HUN"
         ],
         "mode": "lines",
         "type": "scattergeo"
        },
        {
         "line": {
          "color": "red",
          "width": 0
         },
         "locationmode": "ISO-3",
         "locations": [
          "USA",
          "HUN"
         ],
         "mode": "lines",
         "type": "scattergeo"
        },
        {
         "line": {
          "color": "red",
          "width": 0.026
         },
         "locationmode": "ISO-3",
         "locations": [
          "ISR",
          "IND"
         ],
         "mode": "lines",
         "type": "scattergeo"
        },
        {
         "line": {
          "color": "red",
          "width": 0
         },
         "locationmode": "ISO-3",
         "locations": [
          "ITA",
          "IND"
         ],
         "mode": "lines",
         "type": "scattergeo"
        },
        {
         "line": {
          "color": "red",
          "width": 0
         },
         "locationmode": "ISO-3",
         "locations": [
          "USA",
          "IND"
         ],
         "mode": "lines",
         "type": "scattergeo"
        },
        {
         "line": {
          "color": "red",
          "width": 0
         },
         "locationmode": "ISO-3",
         "locations": [
          "USA",
          "IND"
         ],
         "mode": "lines",
         "type": "scattergeo"
        },
        {
         "line": {
          "color": "red",
          "width": 0
         },
         "locationmode": "ISO-3",
         "locations": [
          "USA",
          "IND"
         ],
         "mode": "lines",
         "type": "scattergeo"
        },
        {
         "line": {
          "color": "red",
          "width": 0
         },
         "locationmode": "ISO-3",
         "locations": [
          "FRA",
          "IDN"
         ],
         "mode": "lines",
         "type": "scattergeo"
        },
        {
         "line": {
          "color": "red",
          "width": 0.003
         },
         "locationmode": "ISO-3",
         "locations": [
          "CAN",
          "IRL"
         ],
         "mode": "lines",
         "type": "scattergeo"
        },
        {
         "line": {
          "color": "red",
          "width": 0.0224
         },
         "locationmode": "ISO-3",
         "locations": [
          "NZL",
          "IRL"
         ],
         "mode": "lines",
         "type": "scattergeo"
        },
        {
         "line": {
          "color": "red",
          "width": 0.025
         },
         "locationmode": "ISO-3",
         "locations": [
          "ESP",
          "IRL"
         ],
         "mode": "lines",
         "type": "scattergeo"
        },
        {
         "line": {
          "color": "red",
          "width": 0.052
         },
         "locationmode": "ISO-3",
         "locations": [
          "FRA",
          "IRQ"
         ],
         "mode": "lines",
         "type": "scattergeo"
        },
        {
         "line": {
          "color": "red",
          "width": 0
         },
         "locationmode": "ISO-3",
         "locations": [
          "DEU",
          "ISR"
         ],
         "mode": "lines",
         "type": "scattergeo"
        },
        {
         "line": {
          "color": "red",
          "width": 0.016280000000000003
         },
         "locationmode": "ISO-3",
         "locations": [
          "USA",
          "ISR"
         ],
         "mode": "lines",
         "type": "scattergeo"
        },
        {
         "line": {
          "color": "red",
          "width": 0
         },
         "locationmode": "ISO-3",
         "locations": [
          "ISR",
          "ITA"
         ],
         "mode": "lines",
         "type": "scattergeo"
        },
        {
         "line": {
          "color": "red",
          "width": 0
         },
         "locationmode": "ISO-3",
         "locations": [
          "ISR",
          "ITA"
         ],
         "mode": "lines",
         "type": "scattergeo"
        },
        {
         "line": {
          "color": "red",
          "width": 0
         },
         "locationmode": "ISO-3",
         "locations": [
          "GBR",
          "ITA"
         ],
         "mode": "lines",
         "type": "scattergeo"
        },
        {
         "line": {
          "color": "red",
          "width": 0
         },
         "locationmode": "ISO-3",
         "locations": [
          "USA",
          "ITA"
         ],
         "mode": "lines",
         "type": "scattergeo"
        },
        {
         "line": {
          "color": "red",
          "width": 0
         },
         "locationmode": "ISO-3",
         "locations": [
          "USA",
          "JPN"
         ],
         "mode": "lines",
         "type": "scattergeo"
        },
        {
         "line": {
          "color": "red",
          "width": 0
         },
         "locationmode": "ISO-3",
         "locations": [
          "USA",
          "JPN"
         ],
         "mode": "lines",
         "type": "scattergeo"
        },
        {
         "line": {
          "color": "red",
          "width": 0
         },
         "locationmode": "ISO-3",
         "locations": [
          "FRA",
          "JOR"
         ],
         "mode": "lines",
         "type": "scattergeo"
        },
        {
         "line": {
          "color": "red",
          "width": 0.009
         },
         "locationmode": "ISO-3",
         "locations": [
          "USA",
          "JOR"
         ],
         "mode": "lines",
         "type": "scattergeo"
        },
        {
         "line": {
          "color": "red",
          "width": 0
         },
         "locationmode": "ISO-3",
         "locations": [
          "USA",
          "JOR"
         ],
         "mode": "lines",
         "type": "scattergeo"
        },
        {
         "line": {
          "color": "red",
          "width": 0
         },
         "locationmode": "ISO-3",
         "locations": [
          "USA",
          "JOR"
         ],
         "mode": "lines",
         "type": "scattergeo"
        },
        {
         "line": {
          "color": "red",
          "width": 0
         },
         "locationmode": "ISO-3",
         "locations": [
          "USA",
          "JOR"
         ],
         "mode": "lines",
         "type": "scattergeo"
        },
        {
         "line": {
          "color": "red",
          "width": 0
         },
         "locationmode": "ISO-3",
         "locations": [
          "USA",
          "JOR"
         ],
         "mode": "lines",
         "type": "scattergeo"
        },
        {
         "line": {
          "color": "red",
          "width": 0
         },
         "locationmode": "ISO-3",
         "locations": [
          "USA",
          "JOR"
         ],
         "mode": "lines",
         "type": "scattergeo"
        },
        {
         "line": {
          "color": "red",
          "width": 0
         },
         "locationmode": "ISO-3",
         "locations": [
          "USA",
          "JOR"
         ],
         "mode": "lines",
         "type": "scattergeo"
        },
        {
         "line": {
          "color": "red",
          "width": 0.003
         },
         "locationmode": "ISO-3",
         "locations": [
          "CAN",
          "KAZ"
         ],
         "mode": "lines",
         "type": "scattergeo"
        },
        {
         "line": {
          "color": "red",
          "width": 0.0104
         },
         "locationmode": "ISO-3",
         "locations": [
          "CZE",
          "KAZ"
         ],
         "mode": "lines",
         "type": "scattergeo"
        },
        {
         "line": {
          "color": "red",
          "width": 0.025
         },
         "locationmode": "ISO-3",
         "locations": [
          "ESP",
          "KAZ"
         ],
         "mode": "lines",
         "type": "scattergeo"
        },
        {
         "line": {
          "color": "red",
          "width": 0
         },
         "locationmode": "ISO-3",
         "locations": [
          "USA",
          "KOR"
         ],
         "mode": "lines",
         "type": "scattergeo"
        },
        {
         "line": {
          "color": "red",
          "width": 0.0054
         },
         "locationmode": "ISO-3",
         "locations": [
          "USA",
          "KOR"
         ],
         "mode": "lines",
         "type": "scattergeo"
        },
        {
         "line": {
          "color": "red",
          "width": 0
         },
         "locationmode": "ISO-3",
         "locations": [
          "USA",
          "KOR"
         ],
         "mode": "lines",
         "type": "scattergeo"
        },
        {
         "line": {
          "color": "red",
          "width": 0
         },
         "locationmode": "ISO-3",
         "locations": [
          "USA",
          "KOR"
         ],
         "mode": "lines",
         "type": "scattergeo"
        },
        {
         "line": {
          "color": "red",
          "width": 0
         },
         "locationmode": "ISO-3",
         "locations": [
          "USA",
          "KWT"
         ],
         "mode": "lines",
         "type": "scattergeo"
        },
        {
         "line": {
          "color": "red",
          "width": 0
         },
         "locationmode": "ISO-3",
         "locations": [
          "POL",
          "LVA"
         ],
         "mode": "lines",
         "type": "scattergeo"
        },
        {
         "line": {
          "color": "red",
          "width": 0.03
         },
         "locationmode": "ISO-3",
         "locations": [
          "SWE",
          "LVA"
         ],
         "mode": "lines",
         "type": "scattergeo"
        },
        {
         "line": {
          "color": "red",
          "width": 0.008
         },
         "locationmode": "ISO-3",
         "locations": [
          "SWE",
          "LVA"
         ],
         "mode": "lines",
         "type": "scattergeo"
        },
        {
         "line": {
          "color": "red",
          "width": 0
         },
         "locationmode": "ISO-3",
         "locations": [
          "FRA",
          "LTU"
         ],
         "mode": "lines",
         "type": "scattergeo"
        },
        {
         "line": {
          "color": "red",
          "width": 0
         },
         "locationmode": "ISO-3",
         "locations": [
          "DEU",
          "LTU"
         ],
         "mode": "lines",
         "type": "scattergeo"
        },
        {
         "line": {
          "color": "red",
          "width": 0.004
         },
         "locationmode": "ISO-3",
         "locations": [
          "DEU",
          "LTU"
         ],
         "mode": "lines",
         "type": "scattergeo"
        },
        {
         "line": {
          "color": "red",
          "width": 0.006
         },
         "locationmode": "ISO-3",
         "locations": [
          "ESP",
          "LTU"
         ],
         "mode": "lines",
         "type": "scattergeo"
        },
        {
         "line": {
          "color": "red",
          "width": 0.015
         },
         "locationmode": "ISO-3",
         "locations": [
          "SWE",
          "LTU"
         ],
         "mode": "lines",
         "type": "scattergeo"
        },
        {
         "line": {
          "color": "red",
          "width": 0
         },
         "locationmode": "ISO-3",
         "locations": [
          "USA",
          "LTU"
         ],
         "mode": "lines",
         "type": "scattergeo"
        },
        {
         "line": {
          "color": "red",
          "width": 0
         },
         "locationmode": "ISO-3",
         "locations": [
          "USA",
          "LTU"
         ],
         "mode": "lines",
         "type": "scattergeo"
        },
        {
         "line": {
          "color": "red",
          "width": 0
         },
         "locationmode": "ISO-3",
         "locations": [
          "USA",
          "LTU"
         ],
         "mode": "lines",
         "type": "scattergeo"
        },
        {
         "line": {
          "color": "red",
          "width": 0
         },
         "locationmode": "ISO-3",
         "locations": [
          "USA",
          "LTU"
         ],
         "mode": "lines",
         "type": "scattergeo"
        },
        {
         "line": {
          "color": "red",
          "width": 0
         },
         "locationmode": "ISO-3",
         "locations": [
          "USA",
          "LTU"
         ],
         "mode": "lines",
         "type": "scattergeo"
        },
        {
         "line": {
          "color": "red",
          "width": 0
         },
         "locationmode": "ISO-3",
         "locations": [
          "USA",
          "LTU"
         ],
         "mode": "lines",
         "type": "scattergeo"
        },
        {
         "line": {
          "color": "red",
          "width": 0
         },
         "locationmode": "ISO-3",
         "locations": [
          "FRA",
          "LUX"
         ],
         "mode": "lines",
         "type": "scattergeo"
        },
        {
         "line": {
          "color": "red",
          "width": 0
         },
         "locationmode": "ISO-3",
         "locations": [
          "CHE",
          "LUX"
         ],
         "mode": "lines",
         "type": "scattergeo"
        },
        {
         "line": {
          "color": "red",
          "width": 0
         },
         "locationmode": "ISO-3",
         "locations": [
          "FRA",
          "MKD"
         ],
         "mode": "lines",
         "type": "scattergeo"
        },
        {
         "line": {
          "color": "red",
          "width": 0.002
         },
         "locationmode": "ISO-3",
         "locations": [
          "USA",
          "MYS"
         ],
         "mode": "lines",
         "type": "scattergeo"
        },
        {
         "line": {
          "color": "red",
          "width": 0.024
         },
         "locationmode": "ISO-3",
         "locations": [
          "CHN",
          "MLI"
         ],
         "mode": "lines",
         "type": "scattergeo"
        },
        {
         "line": {
          "color": "red",
          "width": 0.0022400000000000002
         },
         "locationmode": "ISO-3",
         "locations": [
          "ESP",
          "MLI"
         ],
         "mode": "lines",
         "type": "scattergeo"
        },
        {
         "line": {
          "color": "red",
          "width": 0.00532
         },
         "locationmode": "ISO-3",
         "locations": [
          "DEU",
          "MDA"
         ],
         "mode": "lines",
         "type": "scattergeo"
        },
        {
         "line": {
          "color": "red",
          "width": 0.0052
         },
         "locationmode": "ISO-3",
         "locations": [
          "AUS",
          "MNG"
         ],
         "mode": "lines",
         "type": "scattergeo"
        },
        {
         "line": {
          "color": "red",
          "width": 0.016
         },
         "locationmode": "ISO-3",
         "locations": [
          "CHN",
          "MAR"
         ],
         "mode": "lines",
         "type": "scattergeo"
        },
        {
         "line": {
          "color": "red",
          "width": 0.036
         },
         "locationmode": "ISO-3",
         "locations": [
          "DEU",
          "MAR"
         ],
         "mode": "lines",
         "type": "scattergeo"
        },
        {
         "line": {
          "color": "red",
          "width": 0.135
         },
         "locationmode": "ISO-3",
         "locations": [
          "ISR",
          "MAR"
         ],
         "mode": "lines",
         "type": "scattergeo"
        },
        {
         "line": {
          "color": "red",
          "width": 0.094
         },
         "locationmode": "ISO-3",
         "locations": [
          "ISR",
          "MAR"
         ],
         "mode": "lines",
         "type": "scattergeo"
        },
        {
         "line": {
          "color": "red",
          "width": 0.032
         },
         "locationmode": "ISO-3",
         "locations": [
          "FIN",
          "NLD"
         ],
         "mode": "lines",
         "type": "scattergeo"
        },
        {
         "line": {
          "color": "red",
          "width": 0
         },
         "locationmode": "ISO-3",
         "locations": [
          "NOR",
          "NLD"
         ],
         "mode": "lines",
         "type": "scattergeo"
        },
        {
         "line": {
          "color": "red",
          "width": 0
         },
         "locationmode": "ISO-3",
         "locations": [
          "USA",
          "NLD"
         ],
         "mode": "lines",
         "type": "scattergeo"
        },
        {
         "line": {
          "color": "red",
          "width": 0
         },
         "locationmode": "ISO-3",
         "locations": [
          "USA",
          "NLD"
         ],
         "mode": "lines",
         "type": "scattergeo"
        },
        {
         "line": {
          "color": "red",
          "width": 0
         },
         "locationmode": "ISO-3",
         "locations": [
          "USA",
          "NLD"
         ],
         "mode": "lines",
         "type": "scattergeo"
        },
        {
         "line": {
          "color": "red",
          "width": 0
         },
         "locationmode": "ISO-3",
         "locations": [
          "USA",
          "NLD"
         ],
         "mode": "lines",
         "type": "scattergeo"
        },
        {
         "line": {
          "color": "red",
          "width": 0.0048
         },
         "locationmode": "ISO-3",
         "locations": [
          "AUT",
          "NGA"
         ],
         "mode": "lines",
         "type": "scattergeo"
        },
        {
         "line": {
          "color": "red",
          "width": 0.004
         },
         "locationmode": "ISO-3",
         "locations": [
          "CHN",
          "NGA"
         ],
         "mode": "lines",
         "type": "scattergeo"
        },
        {
         "line": {
          "color": "red",
          "width": 0.025
         },
         "locationmode": "ISO-3",
         "locations": [
          "CHN",
          "NGA"
         ],
         "mode": "lines",
         "type": "scattergeo"
        },
        {
         "line": {
          "color": "red",
          "width": 0.015
         },
         "locationmode": "ISO-3",
         "locations": [
          "CHN",
          "NGA"
         ],
         "mode": "lines",
         "type": "scattergeo"
        },
        {
         "line": {
          "color": "red",
          "width": 0
         },
         "locationmode": "ISO-3",
         "locations": [
          "ITA",
          "NGA"
         ],
         "mode": "lines",
         "type": "scattergeo"
        },
        {
         "line": {
          "color": "red",
          "width": 0.0055
         },
         "locationmode": "ISO-3",
         "locations": [
          "ITA",
          "NGA"
         ],
         "mode": "lines",
         "type": "scattergeo"
        },
        {
         "line": {
          "color": "red",
          "width": 0.0054
         },
         "locationmode": "ISO-3",
         "locations": [
          "SAU",
          "NGA"
         ],
         "mode": "lines",
         "type": "scattergeo"
        },
        {
         "line": {
          "color": "red",
          "width": 0
         },
         "locationmode": "ISO-3",
         "locations": [
          "USA",
          "NGA"
         ],
         "mode": "lines",
         "type": "scattergeo"
        },
        {
         "line": {
          "color": "red",
          "width": 0.004
         },
         "locationmode": "ISO-3",
         "locations": [
          "USA",
          "NGA"
         ],
         "mode": "lines",
         "type": "scattergeo"
        },
        {
         "line": {
          "color": "red",
          "width": 0
         },
         "locationmode": "ISO-3",
         "locations": [
          "USA",
          "NGA"
         ],
         "mode": "lines",
         "type": "scattergeo"
        },
        {
         "line": {
          "color": "red",
          "width": 0.0057
         },
         "locationmode": "ISO-3",
         "locations": [
          "USA",
          "NGA"
         ],
         "mode": "lines",
         "type": "scattergeo"
        },
        {
         "line": {
          "color": "red",
          "width": 0.00136
         },
         "locationmode": "ISO-3",
         "locations": [
          "FRA",
          "NER"
         ],
         "mode": "lines",
         "type": "scattergeo"
        },
        {
         "line": {
          "color": "red",
          "width": 0.00047999999999999996
         },
         "locationmode": "ISO-3",
         "locations": [
          "FRA",
          "NER"
         ],
         "mode": "lines",
         "type": "scattergeo"
        },
        {
         "line": {
          "color": "red",
          "width": 0.008
         },
         "locationmode": "ISO-3",
         "locations": [
          "ITA",
          "NER"
         ],
         "mode": "lines",
         "type": "scattergeo"
        },
        {
         "line": {
          "color": "red",
          "width": 0.0048
         },
         "locationmode": "ISO-3",
         "locations": [
          "ZAF",
          "NER"
         ],
         "mode": "lines",
         "type": "scattergeo"
        },
        {
         "line": {
          "color": "red",
          "width": 0
         },
         "locationmode": "ISO-3",
         "locations": [
          "DEU",
          "NOR"
         ],
         "mode": "lines",
         "type": "scattergeo"
        },
        {
         "line": {
          "color": "red",
          "width": 0
         },
         "locationmode": "ISO-3",
         "locations": [
          "KOR",
          "NOR"
         ],
         "mode": "lines",
         "type": "scattergeo"
        },
        {
         "line": {
          "color": "red",
          "width": 0
         },
         "locationmode": "ISO-3",
         "locations": [
          "KOR",
          "NOR"
         ],
         "mode": "lines",
         "type": "scattergeo"
        },
        {
         "line": {
          "color": "red",
          "width": 0
         },
         "locationmode": "ISO-3",
         "locations": [
          "NLD",
          "NOR"
         ],
         "mode": "lines",
         "type": "scattergeo"
        },
        {
         "line": {
          "color": "red",
          "width": 0.008
         },
         "locationmode": "ISO-3",
         "locations": [
          "POL",
          "NOR"
         ],
         "mode": "lines",
         "type": "scattergeo"
        },
        {
         "line": {
          "color": "red",
          "width": 0
         },
         "locationmode": "ISO-3",
         "locations": [
          "USA",
          "NOR"
         ],
         "mode": "lines",
         "type": "scattergeo"
        },
        {
         "line": {
          "color": "red",
          "width": 0
         },
         "locationmode": "ISO-3",
         "locations": [
          "USA",
          "NOR"
         ],
         "mode": "lines",
         "type": "scattergeo"
        },
        {
         "line": {
          "color": "red",
          "width": 0
         },
         "locationmode": "ISO-3",
         "locations": [
          "USA",
          "NOR"
         ],
         "mode": "lines",
         "type": "scattergeo"
        },
        {
         "line": {
          "color": "red",
          "width": 0.0264
         },
         "locationmode": "ISO-3",
         "locations": [
          "LTU",
          "PAK"
         ],
         "mode": "lines",
         "type": "scattergeo"
        },
        {
         "line": {
          "color": "red",
          "width": 0
         },
         "locationmode": "ISO-3",
         "locations": [
          "NLD",
          "PAK"
         ],
         "mode": "lines",
         "type": "scattergeo"
        },
        {
         "line": {
          "color": "red",
          "width": 0
         },
         "locationmode": "ISO-3",
         "locations": [
          "USA",
          "PAK"
         ],
         "mode": "lines",
         "type": "scattergeo"
        },
        {
         "line": {
          "color": "red",
          "width": 0
         },
         "locationmode": "ISO-3",
         "locations": [
          "USA",
          "PAK"
         ],
         "mode": "lines",
         "type": "scattergeo"
        },
        {
         "line": {
          "color": "red",
          "width": 0.0448
         },
         "locationmode": "ISO-3",
         "locations": [
          "ESP",
          "PER"
         ],
         "mode": "lines",
         "type": "scattergeo"
        },
        {
         "line": {
          "color": "red",
          "width": 0
         },
         "locationmode": "ISO-3",
         "locations": [
          "USA",
          "PER"
         ],
         "mode": "lines",
         "type": "scattergeo"
        },
        {
         "line": {
          "color": "red",
          "width": 0.00108
         },
         "locationmode": "ISO-3",
         "locations": [
          "USA",
          "PER"
         ],
         "mode": "lines",
         "type": "scattergeo"
        },
        {
         "line": {
          "color": "red",
          "width": 0
         },
         "locationmode": "ISO-3",
         "locations": [
          "DEU",
          "PHL"
         ],
         "mode": "lines",
         "type": "scattergeo"
        },
        {
         "line": {
          "color": "red",
          "width": 0
         },
         "locationmode": "ISO-3",
         "locations": [
          "DEU",
          "PHL"
         ],
         "mode": "lines",
         "type": "scattergeo"
        },
        {
         "line": {
          "color": "red",
          "width": 0
         },
         "locationmode": "ISO-3",
         "locations": [
          "IND",
          "PHL"
         ],
         "mode": "lines",
         "type": "scattergeo"
        },
        {
         "line": {
          "color": "red",
          "width": 0
         },
         "locationmode": "ISO-3",
         "locations": [
          "IND",
          "PHL"
         ],
         "mode": "lines",
         "type": "scattergeo"
        },
        {
         "line": {
          "color": "red",
          "width": 0
         },
         "locationmode": "ISO-3",
         "locations": [
          "IDN",
          "PHL"
         ],
         "mode": "lines",
         "type": "scattergeo"
        },
        {
         "line": {
          "color": "red",
          "width": 0
         },
         "locationmode": "ISO-3",
         "locations": [
          "ISR",
          "PHL"
         ],
         "mode": "lines",
         "type": "scattergeo"
        },
        {
         "line": {
          "color": "red",
          "width": 0
         },
         "locationmode": "ISO-3",
         "locations": [
          "KOR",
          "PHL"
         ],
         "mode": "lines",
         "type": "scattergeo"
        },
        {
         "line": {
          "color": "red",
          "width": 0
         },
         "locationmode": "ISO-3",
         "locations": [
          "KOR",
          "PHL"
         ],
         "mode": "lines",
         "type": "scattergeo"
        },
        {
         "line": {
          "color": "red",
          "width": 0.0344
         },
         "locationmode": "ISO-3",
         "locations": [
          "USA",
          "PHL"
         ],
         "mode": "lines",
         "type": "scattergeo"
        },
        {
         "line": {
          "color": "red",
          "width": 0
         },
         "locationmode": "ISO-3",
         "locations": [
          "USA",
          "PHL"
         ],
         "mode": "lines",
         "type": "scattergeo"
        },
        {
         "line": {
          "color": "red",
          "width": 0.023039999999999998
         },
         "locationmode": "ISO-3",
         "locations": [
          "DEU",
          "POL"
         ],
         "mode": "lines",
         "type": "scattergeo"
        },
        {
         "line": {
          "color": "red",
          "width": 0.048
         },
         "locationmode": "ISO-3",
         "locations": [
          "ISR",
          "POL"
         ],
         "mode": "lines",
         "type": "scattergeo"
        },
        {
         "line": {
          "color": "red",
          "width": 0.039
         },
         "locationmode": "ISO-3",
         "locations": [
          "ITA",
          "POL"
         ],
         "mode": "lines",
         "type": "scattergeo"
        },
        {
         "line": {
          "color": "red",
          "width": 0.096
         },
         "locationmode": "ISO-3",
         "locations": [
          "KOR",
          "POL"
         ],
         "mode": "lines",
         "type": "scattergeo"
        },
        {
         "line": {
          "color": "red",
          "width": 0.3948
         },
         "locationmode": "ISO-3",
         "locations": [
          "KOR",
          "POL"
         ],
         "mode": "lines",
         "type": "scattergeo"
        },
        {
         "line": {
          "color": "red",
          "width": 0
         },
         "locationmode": "ISO-3",
         "locations": [
          "KOR",
          "POL"
         ],
         "mode": "lines",
         "type": "scattergeo"
        },
        {
         "line": {
          "color": "red",
          "width": 0.266
         },
         "locationmode": "ISO-3",
         "locations": [
          "KOR",
          "POL"
         ],
         "mode": "lines",
         "type": "scattergeo"
        },
        {
         "line": {
          "color": "red",
          "width": 0
         },
         "locationmode": "ISO-3",
         "locations": [
          "KOR",
          "POL"
         ],
         "mode": "lines",
         "type": "scattergeo"
        },
        {
         "line": {
          "color": "red",
          "width": 0.0396
         },
         "locationmode": "ISO-3",
         "locations": [
          "KOR",
          "POL"
         ],
         "mode": "lines",
         "type": "scattergeo"
        },
        {
         "line": {
          "color": "red",
          "width": 0
         },
         "locationmode": "ISO-3",
         "locations": [
          "KOR",
          "POL"
         ],
         "mode": "lines",
         "type": "scattergeo"
        },
        {
         "line": {
          "color": "red",
          "width": 0.6249600000000001
         },
         "locationmode": "ISO-3",
         "locations": [
          "KOR",
          "POL"
         ],
         "mode": "lines",
         "type": "scattergeo"
        },
        {
         "line": {
          "color": "red",
          "width": 0
         },
         "locationmode": "ISO-3",
         "locations": [
          "KOR",
          "POL"
         ],
         "mode": "lines",
         "type": "scattergeo"
        },
        {
         "line": {
          "color": "red",
          "width": 0.014
         },
         "locationmode": "ISO-3",
         "locations": [
          "KOR",
          "POL"
         ],
         "mode": "lines",
         "type": "scattergeo"
        },
        {
         "line": {
          "color": "red",
          "width": 0
         },
         "locationmode": "ISO-3",
         "locations": [
          "GBR",
          "POL"
         ],
         "mode": "lines",
         "type": "scattergeo"
        },
        {
         "line": {
          "color": "red",
          "width": 0.07
         },
         "locationmode": "ISO-3",
         "locations": [
          "GBR",
          "POL"
         ],
         "mode": "lines",
         "type": "scattergeo"
        },
        {
         "line": {
          "color": "red",
          "width": 0
         },
         "locationmode": "ISO-3",
         "locations": [
          "GBR",
          "POL"
         ],
         "mode": "lines",
         "type": "scattergeo"
        },
        {
         "line": {
          "color": "red",
          "width": 0
         },
         "locationmode": "ISO-3",
         "locations": [
          "GBR",
          "POL"
         ],
         "mode": "lines",
         "type": "scattergeo"
        },
        {
         "line": {
          "color": "red",
          "width": 0
         },
         "locationmode": "ISO-3",
         "locations": [
          "USA",
          "POL"
         ],
         "mode": "lines",
         "type": "scattergeo"
        },
        {
         "line": {
          "color": "red",
          "width": 0.0528
         },
         "locationmode": "ISO-3",
         "locations": [
          "USA",
          "POL"
         ],
         "mode": "lines",
         "type": "scattergeo"
        },
        {
         "line": {
          "color": "red",
          "width": 0
         },
         "locationmode": "ISO-3",
         "locations": [
          "USA",
          "POL"
         ],
         "mode": "lines",
         "type": "scattergeo"
        },
        {
         "line": {
          "color": "red",
          "width": 0.004
         },
         "locationmode": "ISO-3",
         "locations": [
          "USA",
          "POL"
         ],
         "mode": "lines",
         "type": "scattergeo"
        },
        {
         "line": {
          "color": "red",
          "width": 0.0007199999999999999
         },
         "locationmode": "ISO-3",
         "locations": [
          "USA",
          "POL"
         ],
         "mode": "lines",
         "type": "scattergeo"
        },
        {
         "line": {
          "color": "red",
          "width": 0.128
         },
         "locationmode": "ISO-3",
         "locations": [
          "USA",
          "POL"
         ],
         "mode": "lines",
         "type": "scattergeo"
        },
        {
         "line": {
          "color": "red",
          "width": 0.1008
         },
         "locationmode": "ISO-3",
         "locations": [
          "USA",
          "POL"
         ],
         "mode": "lines",
         "type": "scattergeo"
        },
        {
         "line": {
          "color": "red",
          "width": 0
         },
         "locationmode": "ISO-3",
         "locations": [
          "USA",
          "POL"
         ],
         "mode": "lines",
         "type": "scattergeo"
        },
        {
         "line": {
          "color": "red",
          "width": 0
         },
         "locationmode": "ISO-3",
         "locations": [
          "USA",
          "POL"
         ],
         "mode": "lines",
         "type": "scattergeo"
        },
        {
         "line": {
          "color": "red",
          "width": 0.0192
         },
         "locationmode": "ISO-3",
         "locations": [
          "USA",
          "POL"
         ],
         "mode": "lines",
         "type": "scattergeo"
        },
        {
         "line": {
          "color": "red",
          "width": 0
         },
         "locationmode": "ISO-3",
         "locations": [
          "USA",
          "POL"
         ],
         "mode": "lines",
         "type": "scattergeo"
        },
        {
         "line": {
          "color": "red",
          "width": 0.012
         },
         "locationmode": "ISO-3",
         "locations": [
          "USA",
          "POL"
         ],
         "mode": "lines",
         "type": "scattergeo"
        },
        {
         "line": {
          "color": "red",
          "width": 0
         },
         "locationmode": "ISO-3",
         "locations": [
          "USA",
          "POL"
         ],
         "mode": "lines",
         "type": "scattergeo"
        },
        {
         "line": {
          "color": "red",
          "width": 0.009
         },
         "locationmode": "ISO-3",
         "locations": [
          "ITA",
          "PRT"
         ],
         "mode": "lines",
         "type": "scattergeo"
        },
        {
         "line": {
          "color": "red",
          "width": 0
         },
         "locationmode": "ISO-3",
         "locations": [
          "USA",
          "PRT"
         ],
         "mode": "lines",
         "type": "scattergeo"
        },
        {
         "line": {
          "color": "red",
          "width": 0
         },
         "locationmode": "ISO-3",
         "locations": [
          "ISR",
          "ROU"
         ],
         "mode": "lines",
         "type": "scattergeo"
        },
        {
         "line": {
          "color": "red",
          "width": 0
         },
         "locationmode": "ISO-3",
         "locations": [
          "NOR",
          "ROU"
         ],
         "mode": "lines",
         "type": "scattergeo"
        },
        {
         "line": {
          "color": "red",
          "width": 0.0684
         },
         "locationmode": "ISO-3",
         "locations": [
          "NOR",
          "ROU"
         ],
         "mode": "lines",
         "type": "scattergeo"
        },
        {
         "line": {
          "color": "red",
          "width": 0.0224
         },
         "locationmode": "ISO-3",
         "locations": [
          "USA",
          "ROU"
         ],
         "mode": "lines",
         "type": "scattergeo"
        },
        {
         "line": {
          "color": "red",
          "width": 0.01188
         },
         "locationmode": "ISO-3",
         "locations": [
          "USA",
          "ROU"
         ],
         "mode": "lines",
         "type": "scattergeo"
        },
        {
         "line": {
          "color": "red",
          "width": 0
         },
         "locationmode": "ISO-3",
         "locations": [
          "USA",
          "ROU"
         ],
         "mode": "lines",
         "type": "scattergeo"
        },
        {
         "line": {
          "color": "red",
          "width": 0.0014
         },
         "locationmode": "ISO-3",
         "locations": [
          "ISR",
          "SLV"
         ],
         "mode": "lines",
         "type": "scattergeo"
        },
        {
         "line": {
          "color": "red",
          "width": 0.0008
         },
         "locationmode": "ISO-3",
         "locations": [
          "USA",
          "SLV"
         ],
         "mode": "lines",
         "type": "scattergeo"
        },
        {
         "line": {
          "color": "red",
          "width": 0.0011
         },
         "locationmode": "ISO-3",
         "locations": [
          "USA",
          "SLV"
         ],
         "mode": "lines",
         "type": "scattergeo"
        },
        {
         "line": {
          "color": "red",
          "width": 0
         },
         "locationmode": "ISO-3",
         "locations": [
          "KOR",
          "SAU"
         ],
         "mode": "lines",
         "type": "scattergeo"
        },
        {
         "line": {
          "color": "red",
          "width": 0
         },
         "locationmode": "ISO-3",
         "locations": [
          "KOR",
          "SAU"
         ],
         "mode": "lines",
         "type": "scattergeo"
        },
        {
         "line": {
          "color": "red",
          "width": 0.0176
         },
         "locationmode": "ISO-3",
         "locations": [
          "KOR",
          "SAU"
         ],
         "mode": "lines",
         "type": "scattergeo"
        },
        {
         "line": {
          "color": "red",
          "width": 0
         },
         "locationmode": "ISO-3",
         "locations": [
          "USA",
          "SAU"
         ],
         "mode": "lines",
         "type": "scattergeo"
        },
        {
         "line": {
          "color": "red",
          "width": 0
         },
         "locationmode": "ISO-3",
         "locations": [
          "USA",
          "SAU"
         ],
         "mode": "lines",
         "type": "scattergeo"
        },
        {
         "line": {
          "color": "red",
          "width": 0.0014
         },
         "locationmode": "ISO-3",
         "locations": [
          "CHN",
          "SEN"
         ],
         "mode": "lines",
         "type": "scattergeo"
        },
        {
         "line": {
          "color": "red",
          "width": 0.0096
         },
         "locationmode": "ISO-3",
         "locations": [
          "CHN",
          "SEN"
         ],
         "mode": "lines",
         "type": "scattergeo"
        },
        {
         "line": {
          "color": "red",
          "width": 0.00196
         },
         "locationmode": "ISO-3",
         "locations": [
          "CHN",
          "SEN"
         ],
         "mode": "lines",
         "type": "scattergeo"
        },
        {
         "line": {
          "color": "red",
          "width": 0
         },
         "locationmode": "ISO-3",
         "locations": [
          "FRA",
          "SEN"
         ],
         "mode": "lines",
         "type": "scattergeo"
        },
        {
         "line": {
          "color": "red",
          "width": 0.006
         },
         "locationmode": "ISO-3",
         "locations": [
          "CAN",
          "SRB"
         ],
         "mode": "lines",
         "type": "scattergeo"
        },
        {
         "line": {
          "color": "red",
          "width": 0.004
         },
         "locationmode": "ISO-3",
         "locations": [
          "CHN",
          "SRB"
         ],
         "mode": "lines",
         "type": "scattergeo"
        },
        {
         "line": {
          "color": "red",
          "width": 0.0792
         },
         "locationmode": "ISO-3",
         "locations": [
          "CYP",
          "SRB"
         ],
         "mode": "lines",
         "type": "scattergeo"
        },
        {
         "line": {
          "color": "red",
          "width": 0.05
         },
         "locationmode": "ISO-3",
         "locations": [
          "ESP",
          "SRB"
         ],
         "mode": "lines",
         "type": "scattergeo"
        },
        {
         "line": {
          "color": "red",
          "width": 0.0015
         },
         "locationmode": "ISO-3",
         "locations": [
          "USA",
          "SRB"
         ],
         "mode": "lines",
         "type": "scattergeo"
        },
        {
         "line": {
          "color": "red",
          "width": 0.0005
         },
         "locationmode": "ISO-3",
         "locations": [
          "ISR",
          "SGP"
         ],
         "mode": "lines",
         "type": "scattergeo"
        },
        {
         "line": {
          "color": "red",
          "width": 0
         },
         "locationmode": "ISO-3",
         "locations": [
          "USA",
          "SGP"
         ],
         "mode": "lines",
         "type": "scattergeo"
        },
        {
         "line": {
          "color": "red",
          "width": 0
         },
         "locationmode": "ISO-3",
         "locations": [
          "USA",
          "SGP"
         ],
         "mode": "lines",
         "type": "scattergeo"
        },
        {
         "line": {
          "color": "red",
          "width": 0
         },
         "locationmode": "ISO-3",
         "locations": [
          "FIN",
          "SVK"
         ],
         "mode": "lines",
         "type": "scattergeo"
        },
        {
         "line": {
          "color": "red",
          "width": 0
         },
         "locationmode": "ISO-3",
         "locations": [
          "FIN",
          "SVK"
         ],
         "mode": "lines",
         "type": "scattergeo"
        },
        {
         "line": {
          "color": "red",
          "width": 0.048
         },
         "locationmode": "ISO-3",
         "locations": [
          "DEU",
          "SVK"
         ],
         "mode": "lines",
         "type": "scattergeo"
        },
        {
         "line": {
          "color": "red",
          "width": 0
         },
         "locationmode": "ISO-3",
         "locations": [
          "SWE",
          "SVK"
         ],
         "mode": "lines",
         "type": "scattergeo"
        },
        {
         "line": {
          "color": "red",
          "width": 0
         },
         "locationmode": "ISO-3",
         "locations": [
          "SWE",
          "SVK"
         ],
         "mode": "lines",
         "type": "scattergeo"
        },
        {
         "line": {
          "color": "red",
          "width": 0
         },
         "locationmode": "ISO-3",
         "locations": [
          "USA",
          "SVN"
         ],
         "mode": "lines",
         "type": "scattergeo"
        },
        {
         "line": {
          "color": "red",
          "width": 0.008
         },
         "locationmode": "ISO-3",
         "locations": [
          "ITA",
          "SOM"
         ],
         "mode": "lines",
         "type": "scattergeo"
        },
        {
         "line": {
          "color": "red",
          "width": 0
         },
         "locationmode": "ISO-3",
         "locations": [
          "FRA",
          "ESP"
         ],
         "mode": "lines",
         "type": "scattergeo"
        },
        {
         "line": {
          "color": "red",
          "width": 0.072
         },
         "locationmode": "ISO-3",
         "locations": [
          "ISR",
          "ESP"
         ],
         "mode": "lines",
         "type": "scattergeo"
        },
        {
         "line": {
          "color": "red",
          "width": 0
         },
         "locationmode": "ISO-3",
         "locations": [
          "ISR",
          "ESP"
         ],
         "mode": "lines",
         "type": "scattergeo"
        },
        {
         "line": {
          "color": "red",
          "width": 0
         },
         "locationmode": "ISO-3",
         "locations": [
          "GBR",
          "ESP"
         ],
         "mode": "lines",
         "type": "scattergeo"
        },
        {
         "line": {
          "color": "red",
          "width": 0
         },
         "locationmode": "ISO-3",
         "locations": [
          "USA",
          "ESP"
         ],
         "mode": "lines",
         "type": "scattergeo"
        },
        {
         "line": {
          "color": "red",
          "width": 0
         },
         "locationmode": "ISO-3",
         "locations": [
          "USA",
          "ESP"
         ],
         "mode": "lines",
         "type": "scattergeo"
        },
        {
         "line": {
          "color": "red",
          "width": 0
         },
         "locationmode": "ISO-3",
         "locations": [
          "USA",
          "ESP"
         ],
         "mode": "lines",
         "type": "scattergeo"
        },
        {
         "line": {
          "color": "red",
          "width": 0
         },
         "locationmode": "ISO-3",
         "locations": [
          "USA",
          "LKA"
         ],
         "mode": "lines",
         "type": "scattergeo"
        },
        {
         "line": {
          "color": "red",
          "width": 0.0016
         },
         "locationmode": "ISO-3",
         "locations": [
          "BLR",
          "SDN"
         ],
         "mode": "lines",
         "type": "scattergeo"
        },
        {
         "line": {
          "color": "red",
          "width": 0
         },
         "locationmode": "ISO-3",
         "locations": [
          "CAN",
          "SWE"
         ],
         "mode": "lines",
         "type": "scattergeo"
        },
        {
         "line": {
          "color": "red",
          "width": 0
         },
         "locationmode": "ISO-3",
         "locations": [
          "DEU",
          "SWE"
         ],
         "mode": "lines",
         "type": "scattergeo"
        },
        {
         "line": {
          "color": "red",
          "width": 0
         },
         "locationmode": "ISO-3",
         "locations": [
          "GBR",
          "SWE"
         ],
         "mode": "lines",
         "type": "scattergeo"
        },
        {
         "line": {
          "color": "red",
          "width": 0
         },
         "locationmode": "ISO-3",
         "locations": [
          "USA",
          "TWN"
         ],
         "mode": "lines",
         "type": "scattergeo"
        },
        {
         "line": {
          "color": "red",
          "width": 0
         },
         "locationmode": "ISO-3",
         "locations": [
          "USA",
          "TWN"
         ],
         "mode": "lines",
         "type": "scattergeo"
        },
        {
         "line": {
          "color": "red",
          "width": 0
         },
         "locationmode": "ISO-3",
         "locations": [
          "USA",
          "TWN"
         ],
         "mode": "lines",
         "type": "scattergeo"
        },
        {
         "line": {
          "color": "red",
          "width": 0
         },
         "locationmode": "ISO-3",
         "locations": [
          "USA",
          "TWN"
         ],
         "mode": "lines",
         "type": "scattergeo"
        },
        {
         "line": {
          "color": "red",
          "width": 0
         },
         "locationmode": "ISO-3",
         "locations": [
          "AUT",
          "THA"
         ],
         "mode": "lines",
         "type": "scattergeo"
        },
        {
         "line": {
          "color": "red",
          "width": 0
         },
         "locationmode": "ISO-3",
         "locations": [
          "ISR",
          "THA"
         ],
         "mode": "lines",
         "type": "scattergeo"
        },
        {
         "line": {
          "color": "red",
          "width": 0
         },
         "locationmode": "ISO-3",
         "locations": [
          "KOR",
          "THA"
         ],
         "mode": "lines",
         "type": "scattergeo"
        },
        {
         "line": {
          "color": "red",
          "width": 0
         },
         "locationmode": "ISO-3",
         "locations": [
          "USA",
          "THA"
         ],
         "mode": "lines",
         "type": "scattergeo"
        },
        {
         "line": {
          "color": "red",
          "width": 0
         },
         "locationmode": "ISO-3",
         "locations": [
          "USA",
          "THA"
         ],
         "mode": "lines",
         "type": "scattergeo"
        },
        {
         "line": {
          "color": "red",
          "width": 0
         },
         "locationmode": "ISO-3",
         "locations": [
          "USA",
          "THA"
         ],
         "mode": "lines",
         "type": "scattergeo"
        },
        {
         "line": {
          "color": "red",
          "width": 0.002
         },
         "locationmode": "ISO-3",
         "locations": [
          "AUT",
          "UGA"
         ],
         "mode": "lines",
         "type": "scattergeo"
        },
        {
         "line": {
          "color": "red",
          "width": 0
         },
         "locationmode": "ISO-3",
         "locations": [
          "DEU",
          "GBR"
         ],
         "mode": "lines",
         "type": "scattergeo"
        },
        {
         "line": {
          "color": "red",
          "width": 0
         },
         "locationmode": "ISO-3",
         "locations": [
          "NLD",
          "GBR"
         ],
         "mode": "lines",
         "type": "scattergeo"
        },
        {
         "line": {
          "color": "red",
          "width": 0
         },
         "locationmode": "ISO-3",
         "locations": [
          "NOR",
          "GBR"
         ],
         "mode": "lines",
         "type": "scattergeo"
        },
        {
         "line": {
          "color": "red",
          "width": 0.016
         },
         "locationmode": "ISO-3",
         "locations": [
          "NOR",
          "GBR"
         ],
         "mode": "lines",
         "type": "scattergeo"
        },
        {
         "line": {
          "color": "red",
          "width": 0
         },
         "locationmode": "ISO-3",
         "locations": [
          "SWE",
          "GBR"
         ],
         "mode": "lines",
         "type": "scattergeo"
        },
        {
         "line": {
          "color": "red",
          "width": 0.01
         },
         "locationmode": "ISO-3",
         "locations": [
          "SWE",
          "GBR"
         ],
         "mode": "lines",
         "type": "scattergeo"
        },
        {
         "line": {
          "color": "red",
          "width": 0.1152
         },
         "locationmode": "ISO-3",
         "locations": [
          "USA",
          "GBR"
         ],
         "mode": "lines",
         "type": "scattergeo"
        },
        {
         "line": {
          "color": "red",
          "width": 0.048
         },
         "locationmode": "ISO-3",
         "locations": [
          "USA",
          "GBR"
         ],
         "mode": "lines",
         "type": "scattergeo"
        },
        {
         "line": {
          "color": "red",
          "width": 0.033600000000000005
         },
         "locationmode": "ISO-3",
         "locations": [
          "AUS",
          "UKR"
         ],
         "mode": "lines",
         "type": "scattergeo"
        },
        {
         "line": {
          "color": "red",
          "width": 0.0048
         },
         "locationmode": "ISO-3",
         "locations": [
          "AUS",
          "UKR"
         ],
         "mode": "lines",
         "type": "scattergeo"
        },
        {
         "line": {
          "color": "red",
          "width": 0.00784
         },
         "locationmode": "ISO-3",
         "locations": [
          "AUS",
          "UKR"
         ],
         "mode": "lines",
         "type": "scattergeo"
        },
        {
         "line": {
          "color": "red",
          "width": 0.0048
         },
         "locationmode": "ISO-3",
         "locations": [
          "BEL",
          "UKR"
         ],
         "mode": "lines",
         "type": "scattergeo"
        },
        {
         "line": {
          "color": "red",
          "width": 0.024640000000000002
         },
         "locationmode": "ISO-3",
         "locations": [
          "BEL",
          "UKR"
         ],
         "mode": "lines",
         "type": "scattergeo"
        },
        {
         "line": {
          "color": "red",
          "width": 0.0272
         },
         "locationmode": "ISO-3",
         "locations": [
          "BEL",
          "UKR"
         ],
         "mode": "lines",
         "type": "scattergeo"
        },
        {
         "line": {
          "color": "red",
          "width": 0.0004
         },
         "locationmode": "ISO-3",
         "locations": [
          "BEL",
          "UKR"
         ],
         "mode": "lines",
         "type": "scattergeo"
        },
        {
         "line": {
          "color": "red",
          "width": 0.0009599999999999999
         },
         "locationmode": "ISO-3",
         "locations": [
          "BEL",
          "UKR"
         ],
         "mode": "lines",
         "type": "scattergeo"
        },
        {
         "line": {
          "color": "red",
          "width": 0.0016
         },
         "locationmode": "ISO-3",
         "locations": [
          "CAN",
          "UKR"
         ],
         "mode": "lines",
         "type": "scattergeo"
        },
        {
         "line": {
          "color": "red",
          "width": 0.00352
         },
         "locationmode": "ISO-3",
         "locations": [
          "CAN",
          "UKR"
         ],
         "mode": "lines",
         "type": "scattergeo"
        },
        {
         "line": {
          "color": "red",
          "width": 0.0256
         },
         "locationmode": "ISO-3",
         "locations": [
          "CAN",
          "UKR"
         ],
         "mode": "lines",
         "type": "scattergeo"
        },
        {
         "line": {
          "color": "red",
          "width": 0.02886
         },
         "locationmode": "ISO-3",
         "locations": [
          "CAN",
          "UKR"
         ],
         "mode": "lines",
         "type": "scattergeo"
        },
        {
         "line": {
          "color": "red",
          "width": 0.224
         },
         "locationmode": "ISO-3",
         "locations": [
          "CAN",
          "UKR"
         ],
         "mode": "lines",
         "type": "scattergeo"
        },
        {
         "line": {
          "color": "red",
          "width": 0.05824
         },
         "locationmode": "ISO-3",
         "locations": [
          "CAN",
          "UKR"
         ],
         "mode": "lines",
         "type": "scattergeo"
        },
        {
         "line": {
          "color": "red",
          "width": 0.0026
         },
         "locationmode": "ISO-3",
         "locations": [
          "CAN",
          "UKR"
         ],
         "mode": "lines",
         "type": "scattergeo"
        },
        {
         "line": {
          "color": "red",
          "width": 0.0032
         },
         "locationmode": "ISO-3",
         "locations": [
          "CAN",
          "UKR"
         ],
         "mode": "lines",
         "type": "scattergeo"
        },
        {
         "line": {
          "color": "red",
          "width": 0.0078
         },
         "locationmode": "ISO-3",
         "locations": [
          "HRV",
          "UKR"
         ],
         "mode": "lines",
         "type": "scattergeo"
        },
        {
         "line": {
          "color": "red",
          "width": 0.0638
         },
         "locationmode": "ISO-3",
         "locations": [
          "HRV",
          "UKR"
         ],
         "mode": "lines",
         "type": "scattergeo"
        },
        {
         "line": {
          "color": "red",
          "width": 0.0144
         },
         "locationmode": "ISO-3",
         "locations": [
          "HRV",
          "UKR"
         ],
         "mode": "lines",
         "type": "scattergeo"
        },
        {
         "line": {
          "color": "red",
          "width": 0.0005600000000000001
         },
         "locationmode": "ISO-3",
         "locations": [
          "HRV",
          "UKR"
         ],
         "mode": "lines",
         "type": "scattergeo"
        },
        {
         "line": {
          "color": "red",
          "width": 0.0057599999999999995
         },
         "locationmode": "ISO-3",
         "locations": [
          "CZE",
          "UKR"
         ],
         "mode": "lines",
         "type": "scattergeo"
        },
        {
         "line": {
          "color": "red",
          "width": 0.054
         },
         "locationmode": "ISO-3",
         "locations": [
          "CZE",
          "UKR"
         ],
         "mode": "lines",
         "type": "scattergeo"
        },
        {
         "line": {
          "color": "red",
          "width": 0.04032
         },
         "locationmode": "ISO-3",
         "locations": [
          "CZE",
          "UKR"
         ],
         "mode": "lines",
         "type": "scattergeo"
        },
        {
         "line": {
          "color": "red",
          "width": 0.03432
         },
         "locationmode": "ISO-3",
         "locations": [
          "CZE",
          "UKR"
         ],
         "mode": "lines",
         "type": "scattergeo"
        },
        {
         "line": {
          "color": "red",
          "width": 0.010320000000000001
         },
         "locationmode": "ISO-3",
         "locations": [
          "CZE",
          "UKR"
         ],
         "mode": "lines",
         "type": "scattergeo"
        },
        {
         "line": {
          "color": "red",
          "width": 0.0272
         },
         "locationmode": "ISO-3",
         "locations": [
          "CZE",
          "UKR"
         ],
         "mode": "lines",
         "type": "scattergeo"
        },
        {
         "line": {
          "color": "red",
          "width": 0.0028
         },
         "locationmode": "ISO-3",
         "locations": [
          "CZE",
          "UKR"
         ],
         "mode": "lines",
         "type": "scattergeo"
        },
        {
         "line": {
          "color": "red",
          "width": 0.0024
         },
         "locationmode": "ISO-3",
         "locations": [
          "CZE",
          "UKR"
         ],
         "mode": "lines",
         "type": "scattergeo"
        },
        {
         "line": {
          "color": "red",
          "width": 0.0152
         },
         "locationmode": "ISO-3",
         "locations": [
          "CZE",
          "UKR"
         ],
         "mode": "lines",
         "type": "scattergeo"
        },
        {
         "line": {
          "color": "red",
          "width": 0.01392
         },
         "locationmode": "ISO-3",
         "locations": [
          "CZE",
          "UKR"
         ],
         "mode": "lines",
         "type": "scattergeo"
        },
        {
         "line": {
          "color": "red",
          "width": 0.0264
         },
         "locationmode": "ISO-3",
         "locations": [
          "CZE",
          "UKR"
         ],
         "mode": "lines",
         "type": "scattergeo"
        },
        {
         "line": {
          "color": "red",
          "width": 0.06864
         },
         "locationmode": "ISO-3",
         "locations": [
          "CZE",
          "UKR"
         ],
         "mode": "lines",
         "type": "scattergeo"
        },
        {
         "line": {
          "color": "red",
          "width": 0.0416
         },
         "locationmode": "ISO-3",
         "locations": [
          "CZE",
          "UKR"
         ],
         "mode": "lines",
         "type": "scattergeo"
        },
        {
         "line": {
          "color": "red",
          "width": 0.00344
         },
         "locationmode": "ISO-3",
         "locations": [
          "CZE",
          "UKR"
         ],
         "mode": "lines",
         "type": "scattergeo"
        },
        {
         "line": {
          "color": "red",
          "width": 0.00304
         },
         "locationmode": "ISO-3",
         "locations": [
          "CZE",
          "UKR"
         ],
         "mode": "lines",
         "type": "scattergeo"
        },
        {
         "line": {
          "color": "red",
          "width": 0.0016
         },
         "locationmode": "ISO-3",
         "locations": [
          "CZE",
          "UKR"
         ],
         "mode": "lines",
         "type": "scattergeo"
        },
        {
         "line": {
          "color": "red",
          "width": 0.016
         },
         "locationmode": "ISO-3",
         "locations": [
          "DNK",
          "UKR"
         ],
         "mode": "lines",
         "type": "scattergeo"
        },
        {
         "line": {
          "color": "red",
          "width": 0.008
         },
         "locationmode": "ISO-3",
         "locations": [
          "DNK",
          "UKR"
         ],
         "mode": "lines",
         "type": "scattergeo"
        },
        {
         "line": {
          "color": "red",
          "width": 0.004
         },
         "locationmode": "ISO-3",
         "locations": [
          "DNK",
          "UKR"
         ],
         "mode": "lines",
         "type": "scattergeo"
        },
        {
         "line": {
          "color": "red",
          "width": 0.012960000000000001
         },
         "locationmode": "ISO-3",
         "locations": [
          "DNK",
          "UKR"
         ],
         "mode": "lines",
         "type": "scattergeo"
        },
        {
         "line": {
          "color": "red",
          "width": 0.00868
         },
         "locationmode": "ISO-3",
         "locations": [
          "EST",
          "UKR"
         ],
         "mode": "lines",
         "type": "scattergeo"
        },
        {
         "line": {
          "color": "red",
          "width": 0.0192
         },
         "locationmode": "ISO-3",
         "locations": [
          "EST",
          "UKR"
         ],
         "mode": "lines",
         "type": "scattergeo"
        },
        {
         "line": {
          "color": "red",
          "width": 0.006
         },
         "locationmode": "ISO-3",
         "locations": [
          "EST",
          "UKR"
         ],
         "mode": "lines",
         "type": "scattergeo"
        },
        {
         "line": {
          "color": "red",
          "width": 0.006
         },
         "locationmode": "ISO-3",
         "locations": [
          "EST",
          "UKR"
         ],
         "mode": "lines",
         "type": "scattergeo"
        },
        {
         "line": {
          "color": "red",
          "width": 0.0008399999999999999
         },
         "locationmode": "ISO-3",
         "locations": [
          "EST",
          "UKR"
         ],
         "mode": "lines",
         "type": "scattergeo"
        },
        {
         "line": {
          "color": "red",
          "width": 0.0004
         },
         "locationmode": "ISO-3",
         "locations": [
          "EST",
          "UKR"
         ],
         "mode": "lines",
         "type": "scattergeo"
        },
        {
         "line": {
          "color": "red",
          "width": 0.0012
         },
         "locationmode": "ISO-3",
         "locations": [
          "FIN",
          "UKR"
         ],
         "mode": "lines",
         "type": "scattergeo"
        },
        {
         "line": {
          "color": "red",
          "width": 0.0288
         },
         "locationmode": "ISO-3",
         "locations": [
          "FRA",
          "UKR"
         ],
         "mode": "lines",
         "type": "scattergeo"
        },
        {
         "line": {
          "color": "red",
          "width": 0.01584
         },
         "locationmode": "ISO-3",
         "locations": [
          "FRA",
          "UKR"
         ],
         "mode": "lines",
         "type": "scattergeo"
        },
        {
         "line": {
          "color": "red",
          "width": 0.040659999999999995
         },
         "locationmode": "ISO-3",
         "locations": [
          "FRA",
          "UKR"
         ],
         "mode": "lines",
         "type": "scattergeo"
        },
        {
         "line": {
          "color": "red",
          "width": 0.032
         },
         "locationmode": "ISO-3",
         "locations": [
          "FRA",
          "UKR"
         ],
         "mode": "lines",
         "type": "scattergeo"
        },
        {
         "line": {
          "color": "red",
          "width": 0.0012
         },
         "locationmode": "ISO-3",
         "locations": [
          "FRA",
          "UKR"
         ],
         "mode": "lines",
         "type": "scattergeo"
        },
        {
         "line": {
          "color": "red",
          "width": 0.0038399999999999997
         },
         "locationmode": "ISO-3",
         "locations": [
          "FRA",
          "UKR"
         ],
         "mode": "lines",
         "type": "scattergeo"
        },
        {
         "line": {
          "color": "red",
          "width": 0.00564
         },
         "locationmode": "ISO-3",
         "locations": [
          "FRA",
          "UKR"
         ],
         "mode": "lines",
         "type": "scattergeo"
        },
        {
         "line": {
          "color": "red",
          "width": 0.0036
         },
         "locationmode": "ISO-3",
         "locations": [
          "FRA",
          "UKR"
         ],
         "mode": "lines",
         "type": "scattergeo"
        },
        {
         "line": {
          "color": "red",
          "width": 0.0024
         },
         "locationmode": "ISO-3",
         "locations": [
          "FRA",
          "UKR"
         ],
         "mode": "lines",
         "type": "scattergeo"
        },
        {
         "line": {
          "color": "red",
          "width": 0.044
         },
         "locationmode": "ISO-3",
         "locations": [
          "FRA",
          "UKR"
         ],
         "mode": "lines",
         "type": "scattergeo"
        },
        {
         "line": {
          "color": "red",
          "width": 0.0114
         },
         "locationmode": "ISO-3",
         "locations": [
          "FRA",
          "UKR"
         ],
         "mode": "lines",
         "type": "scattergeo"
        },
        {
         "line": {
          "color": "red",
          "width": 0.0144
         },
         "locationmode": "ISO-3",
         "locations": [
          "FRA",
          "UKR"
         ],
         "mode": "lines",
         "type": "scattergeo"
        },
        {
         "line": {
          "color": "red",
          "width": 0.012
         },
         "locationmode": "ISO-3",
         "locations": [
          "FRA",
          "UKR"
         ],
         "mode": "lines",
         "type": "scattergeo"
        },
        {
         "line": {
          "color": "red",
          "width": 0.0112
         },
         "locationmode": "ISO-3",
         "locations": [
          "DEU",
          "UKR"
         ],
         "mode": "lines",
         "type": "scattergeo"
        },
        {
         "line": {
          "color": "red",
          "width": 0.016800000000000002
         },
         "locationmode": "ISO-3",
         "locations": [
          "DEU",
          "UKR"
         ],
         "mode": "lines",
         "type": "scattergeo"
        },
        {
         "line": {
          "color": "red",
          "width": 0.0036
         },
         "locationmode": "ISO-3",
         "locations": [
          "DEU",
          "UKR"
         ],
         "mode": "lines",
         "type": "scattergeo"
        },
        {
         "line": {
          "color": "red",
          "width": 0.008
         },
         "locationmode": "ISO-3",
         "locations": [
          "DEU",
          "UKR"
         ],
         "mode": "lines",
         "type": "scattergeo"
        },
        {
         "line": {
          "color": "red",
          "width": 0.008
         },
         "locationmode": "ISO-3",
         "locations": [
          "DEU",
          "UKR"
         ],
         "mode": "lines",
         "type": "scattergeo"
        },
        {
         "line": {
          "color": "red",
          "width": 0.014
         },
         "locationmode": "ISO-3",
         "locations": [
          "DEU",
          "UKR"
         ],
         "mode": "lines",
         "type": "scattergeo"
        },
        {
         "line": {
          "color": "red",
          "width": 0.37439999999999996
         },
         "locationmode": "ISO-3",
         "locations": [
          "DEU",
          "UKR"
         ],
         "mode": "lines",
         "type": "scattergeo"
        },
        {
         "line": {
          "color": "red",
          "width": 0.01882
         },
         "locationmode": "ISO-3",
         "locations": [
          "DEU",
          "UKR"
         ],
         "mode": "lines",
         "type": "scattergeo"
        },
        {
         "line": {
          "color": "red",
          "width": 0.105
         },
         "locationmode": "ISO-3",
         "locations": [
          "DEU",
          "UKR"
         ],
         "mode": "lines",
         "type": "scattergeo"
        },
        {
         "line": {
          "color": "red",
          "width": 0.4
         },
         "locationmode": "ISO-3",
         "locations": [
          "DEU",
          "UKR"
         ],
         "mode": "lines",
         "type": "scattergeo"
        },
        {
         "line": {
          "color": "red",
          "width": 0.072
         },
         "locationmode": "ISO-3",
         "locations": [
          "DEU",
          "UKR"
         ],
         "mode": "lines",
         "type": "scattergeo"
        },
        {
         "line": {
          "color": "red",
          "width": 0.0048
         },
         "locationmode": "ISO-3",
         "locations": [
          "DEU",
          "UKR"
         ],
         "mode": "lines",
         "type": "scattergeo"
        },
        {
         "line": {
          "color": "red",
          "width": 0.12240000000000001
         },
         "locationmode": "ISO-3",
         "locations": [
          "DEU",
          "UKR"
         ],
         "mode": "lines",
         "type": "scattergeo"
        },
        {
         "line": {
          "color": "red",
          "width": 0.14
         },
         "locationmode": "ISO-3",
         "locations": [
          "DEU",
          "UKR"
         ],
         "mode": "lines",
         "type": "scattergeo"
        },
        {
         "line": {
          "color": "red",
          "width": 0.0504
         },
         "locationmode": "ISO-3",
         "locations": [
          "DEU",
          "UKR"
         ],
         "mode": "lines",
         "type": "scattergeo"
        },
        {
         "line": {
          "color": "red",
          "width": 0
         },
         "locationmode": "ISO-3",
         "locations": [
          "DEU",
          "UKR"
         ],
         "mode": "lines",
         "type": "scattergeo"
        },
        {
         "line": {
          "color": "red",
          "width": 0.0032
         },
         "locationmode": "ISO-3",
         "locations": [
          "DEU",
          "UKR"
         ],
         "mode": "lines",
         "type": "scattergeo"
        },
        {
         "line": {
          "color": "red",
          "width": 0.032
         },
         "locationmode": "ISO-3",
         "locations": [
          "DEU",
          "UKR"
         ],
         "mode": "lines",
         "type": "scattergeo"
        },
        {
         "line": {
          "color": "red",
          "width": 0.0864
         },
         "locationmode": "ISO-3",
         "locations": [
          "DEU",
          "UKR"
         ],
         "mode": "lines",
         "type": "scattergeo"
        },
        {
         "line": {
          "color": "red",
          "width": 0.0016
         },
         "locationmode": "ISO-3",
         "locations": [
          "DEU",
          "UKR"
         ],
         "mode": "lines",
         "type": "scattergeo"
        },
        {
         "line": {
          "color": "red",
          "width": 0.020399999999999998
         },
         "locationmode": "ISO-3",
         "locations": [
          "DEU",
          "UKR"
         ],
         "mode": "lines",
         "type": "scattergeo"
        },
        {
         "line": {
          "color": "red",
          "width": 0.0288
         },
         "locationmode": "ISO-3",
         "locations": [
          "GRC",
          "UKR"
         ],
         "mode": "lines",
         "type": "scattergeo"
        },
        {
         "line": {
          "color": "red",
          "width": 0.08
         },
         "locationmode": "ISO-3",
         "locations": [
          "ITA",
          "UKR"
         ],
         "mode": "lines",
         "type": "scattergeo"
        },
        {
         "line": {
          "color": "red",
          "width": 0.008
         },
         "locationmode": "ISO-3",
         "locations": [
          "ITA",
          "UKR"
         ],
         "mode": "lines",
         "type": "scattergeo"
        },
        {
         "line": {
          "color": "red",
          "width": 0.0012
         },
         "locationmode": "ISO-3",
         "locations": [
          "ITA",
          "UKR"
         ],
         "mode": "lines",
         "type": "scattergeo"
        },
        {
         "line": {
          "color": "red",
          "width": 0.0528
         },
         "locationmode": "ISO-3",
         "locations": [
          "ITA",
          "UKR"
         ],
         "mode": "lines",
         "type": "scattergeo"
        },
        {
         "line": {
          "color": "red",
          "width": 0.004
         },
         "locationmode": "ISO-3",
         "locations": [
          "ITA",
          "UKR"
         ],
         "mode": "lines",
         "type": "scattergeo"
        },
        {
         "line": {
          "color": "red",
          "width": 0.0019199999999999998
         },
         "locationmode": "ISO-3",
         "locations": [
          "ITA",
          "UKR"
         ],
         "mode": "lines",
         "type": "scattergeo"
        },
        {
         "line": {
          "color": "red",
          "width": 0.0066
         },
         "locationmode": "ISO-3",
         "locations": [
          "ITA",
          "UKR"
         ],
         "mode": "lines",
         "type": "scattergeo"
        },
        {
         "line": {
          "color": "red",
          "width": 0.0216
         },
         "locationmode": "ISO-3",
         "locations": [
          "ITA",
          "UKR"
         ],
         "mode": "lines",
         "type": "scattergeo"
        },
        {
         "line": {
          "color": "red",
          "width": 0.01
         },
         "locationmode": "ISO-3",
         "locations": [
          "ITA",
          "UKR"
         ],
         "mode": "lines",
         "type": "scattergeo"
        },
        {
         "line": {
          "color": "red",
          "width": 0.005900000000000001
         },
         "locationmode": "ISO-3",
         "locations": [
          "KOR",
          "UKR"
         ],
         "mode": "lines",
         "type": "scattergeo"
        },
        {
         "line": {
          "color": "red",
          "width": 0.006
         },
         "locationmode": "ISO-3",
         "locations": [
          "LVA",
          "UKR"
         ],
         "mode": "lines",
         "type": "scattergeo"
        },
        {
         "line": {
          "color": "red",
          "width": 0.0232
         },
         "locationmode": "ISO-3",
         "locations": [
          "LVA",
          "UKR"
         ],
         "mode": "lines",
         "type": "scattergeo"
        },
        {
         "line": {
          "color": "red",
          "width": 0.00176
         },
         "locationmode": "ISO-3",
         "locations": [
          "LVA",
          "UKR"
         ],
         "mode": "lines",
         "type": "scattergeo"
        },
        {
         "line": {
          "color": "red",
          "width": 0.001
         },
         "locationmode": "ISO-3",
         "locations": [
          "LVA",
          "UKR"
         ],
         "mode": "lines",
         "type": "scattergeo"
        },
        {
         "line": {
          "color": "red",
          "width": 0.00076
         },
         "locationmode": "ISO-3",
         "locations": [
          "LVA",
          "UKR"
         ],
         "mode": "lines",
         "type": "scattergeo"
        },
        {
         "line": {
          "color": "red",
          "width": 0.00128
         },
         "locationmode": "ISO-3",
         "locations": [
          "LVA",
          "UKR"
         ],
         "mode": "lines",
         "type": "scattergeo"
        },
        {
         "line": {
          "color": "red",
          "width": 0.006
         },
         "locationmode": "ISO-3",
         "locations": [
          "LTU",
          "UKR"
         ],
         "mode": "lines",
         "type": "scattergeo"
        },
        {
         "line": {
          "color": "red",
          "width": 0.0064800000000000005
         },
         "locationmode": "ISO-3",
         "locations": [
          "LTU",
          "UKR"
         ],
         "mode": "lines",
         "type": "scattergeo"
        },
        {
         "line": {
          "color": "red",
          "width": 0.0144
         },
         "locationmode": "ISO-3",
         "locations": [
          "LTU",
          "UKR"
         ],
         "mode": "lines",
         "type": "scattergeo"
        },
        {
         "line": {
          "color": "red",
          "width": 0.0116
         },
         "locationmode": "ISO-3",
         "locations": [
          "LTU",
          "UKR"
         ],
         "mode": "lines",
         "type": "scattergeo"
        },
        {
         "line": {
          "color": "red",
          "width": 0.0016
         },
         "locationmode": "ISO-3",
         "locations": [
          "LTU",
          "UKR"
         ],
         "mode": "lines",
         "type": "scattergeo"
        },
        {
         "line": {
          "color": "red",
          "width": 0.0008
         },
         "locationmode": "ISO-3",
         "locations": [
          "LUX",
          "UKR"
         ],
         "mode": "lines",
         "type": "scattergeo"
        },
        {
         "line": {
          "color": "red",
          "width": 0.0368
         },
         "locationmode": "ISO-3",
         "locations": [
          "MKD",
          "UKR"
         ],
         "mode": "lines",
         "type": "scattergeo"
        },
        {
         "line": {
          "color": "red",
          "width": 0.0624
         },
         "locationmode": "ISO-3",
         "locations": [
          "MKD",
          "UKR"
         ],
         "mode": "lines",
         "type": "scattergeo"
        },
        {
         "line": {
          "color": "red",
          "width": 0.18719999999999998
         },
         "locationmode": "ISO-3",
         "locations": [
          "MAR",
          "UKR"
         ],
         "mode": "lines",
         "type": "scattergeo"
        },
        {
         "line": {
          "color": "red",
          "width": 0.054240000000000003
         },
         "locationmode": "ISO-3",
         "locations": [
          "NLD",
          "UKR"
         ],
         "mode": "lines",
         "type": "scattergeo"
        },
        {
         "line": {
          "color": "red",
          "width": 0.0048
         },
         "locationmode": "ISO-3",
         "locations": [
          "NLD",
          "UKR"
         ],
         "mode": "lines",
         "type": "scattergeo"
        },
        {
         "line": {
          "color": "red",
          "width": 0.002
         },
         "locationmode": "ISO-3",
         "locations": [
          "NLD",
          "UKR"
         ],
         "mode": "lines",
         "type": "scattergeo"
        },
        {
         "line": {
          "color": "red",
          "width": 0.008
         },
         "locationmode": "ISO-3",
         "locations": [
          "NLD",
          "UKR"
         ],
         "mode": "lines",
         "type": "scattergeo"
        },
        {
         "line": {
          "color": "red",
          "width": 0.032
         },
         "locationmode": "ISO-3",
         "locations": [
          "NLD",
          "UKR"
         ],
         "mode": "lines",
         "type": "scattergeo"
        },
        {
         "line": {
          "color": "red",
          "width": 0.0024
         },
         "locationmode": "ISO-3",
         "locations": [
          "NLD",
          "UKR"
         ],
         "mode": "lines",
         "type": "scattergeo"
        },
        {
         "line": {
          "color": "red",
          "width": 0.0288
         },
         "locationmode": "ISO-3",
         "locations": [
          "NLD",
          "UKR"
         ],
         "mode": "lines",
         "type": "scattergeo"
        },
        {
         "line": {
          "color": "red",
          "width": 0.0008
         },
         "locationmode": "ISO-3",
         "locations": [
          "NLD",
          "UKR"
         ],
         "mode": "lines",
         "type": "scattergeo"
        },
        {
         "line": {
          "color": "red",
          "width": 0.0128
         },
         "locationmode": "ISO-3",
         "locations": [
          "NLD",
          "UKR"
         ],
         "mode": "lines",
         "type": "scattergeo"
        },
        {
         "line": {
          "color": "red",
          "width": 0.012
         },
         "locationmode": "ISO-3",
         "locations": [
          "NLD",
          "UKR"
         ],
         "mode": "lines",
         "type": "scattergeo"
        },
        {
         "line": {
          "color": "red",
          "width": 0.00512
         },
         "locationmode": "ISO-3",
         "locations": [
          "NOR",
          "UKR"
         ],
         "mode": "lines",
         "type": "scattergeo"
        },
        {
         "line": {
          "color": "red",
          "width": 0.0256
         },
         "locationmode": "ISO-3",
         "locations": [
          "NOR",
          "UKR"
         ],
         "mode": "lines",
         "type": "scattergeo"
        },
        {
         "line": {
          "color": "red",
          "width": 0.0016799999999999999
         },
         "locationmode": "ISO-3",
         "locations": [
          "NOR",
          "UKR"
         ],
         "mode": "lines",
         "type": "scattergeo"
        },
        {
         "line": {
          "color": "red",
          "width": 0.020239999999999998
         },
         "locationmode": "ISO-3",
         "locations": [
          "NOR",
          "UKR"
         ],
         "mode": "lines",
         "type": "scattergeo"
        },
        {
         "line": {
          "color": "red",
          "width": 0.0072
         },
         "locationmode": "ISO-3",
         "locations": [
          "NOR",
          "UKR"
         ],
         "mode": "lines",
         "type": "scattergeo"
        },
        {
         "line": {
          "color": "red",
          "width": 0.06
         },
         "locationmode": "ISO-3",
         "locations": [
          "NOR",
          "UKR"
         ],
         "mode": "lines",
         "type": "scattergeo"
        },
        {
         "line": {
          "color": "red",
          "width": 0
         },
         "locationmode": "ISO-3",
         "locations": [
          "NOR",
          "UKR"
         ],
         "mode": "lines",
         "type": "scattergeo"
        },
        {
         "line": {
          "color": "red",
          "width": 0.0576
         },
         "locationmode": "ISO-3",
         "locations": [
          "POL",
          "UKR"
         ],
         "mode": "lines",
         "type": "scattergeo"
        },
        {
         "line": {
          "color": "red",
          "width": 0.0648
         },
         "locationmode": "ISO-3",
         "locations": [
          "POL",
          "UKR"
         ],
         "mode": "lines",
         "type": "scattergeo"
        },
        {
         "line": {
          "color": "red",
          "width": 0
         },
         "locationmode": "ISO-3",
         "locations": [
          "POL",
          "UKR"
         ],
         "mode": "lines",
         "type": "scattergeo"
        },
        {
         "line": {
          "color": "red",
          "width": 0.0448
         },
         "locationmode": "ISO-3",
         "locations": [
          "POL",
          "UKR"
         ],
         "mode": "lines",
         "type": "scattergeo"
        },
        {
         "line": {
          "color": "red",
          "width": 0.16
         },
         "locationmode": "ISO-3",
         "locations": [
          "POL",
          "UKR"
         ],
         "mode": "lines",
         "type": "scattergeo"
        },
        {
         "line": {
          "color": "red",
          "width": 0.0512
         },
         "locationmode": "ISO-3",
         "locations": [
          "POL",
          "UKR"
         ],
         "mode": "lines",
         "type": "scattergeo"
        },
        {
         "line": {
          "color": "red",
          "width": 0.5616
         },
         "locationmode": "ISO-3",
         "locations": [
          "POL",
          "UKR"
         ],
         "mode": "lines",
         "type": "scattergeo"
        },
        {
         "line": {
          "color": "red",
          "width": 0.018
         },
         "locationmode": "ISO-3",
         "locations": [
          "POL",
          "UKR"
         ],
         "mode": "lines",
         "type": "scattergeo"
        },
        {
         "line": {
          "color": "red",
          "width": 0
         },
         "locationmode": "ISO-3",
         "locations": [
          "PRT",
          "UKR"
         ],
         "mode": "lines",
         "type": "scattergeo"
        },
        {
         "line": {
          "color": "red",
          "width": 0.0094
         },
         "locationmode": "ISO-3",
         "locations": [
          "PRT",
          "UKR"
         ],
         "mode": "lines",
         "type": "scattergeo"
        },
        {
         "line": {
          "color": "red",
          "width": 0.00035999999999999997
         },
         "locationmode": "ISO-3",
         "locations": [
          "PRT",
          "UKR"
         ],
         "mode": "lines",
         "type": "scattergeo"
        },
        {
         "line": {
          "color": "red",
          "width": 0.004
         },
         "locationmode": "ISO-3",
         "locations": [
          "ROU",
          "UKR"
         ],
         "mode": "lines",
         "type": "scattergeo"
        },
        {
         "line": {
          "color": "red",
          "width": 0.036
         },
         "locationmode": "ISO-3",
         "locations": [
          "SVK",
          "UKR"
         ],
         "mode": "lines",
         "type": "scattergeo"
        },
        {
         "line": {
          "color": "red",
          "width": 0.0216
         },
         "locationmode": "ISO-3",
         "locations": [
          "SVK",
          "UKR"
         ],
         "mode": "lines",
         "type": "scattergeo"
        },
        {
         "line": {
          "color": "red",
          "width": 0.0064
         },
         "locationmode": "ISO-3",
         "locations": [
          "SVK",
          "UKR"
         ],
         "mode": "lines",
         "type": "scattergeo"
        },
        {
         "line": {
          "color": "red",
          "width": 0.0232
         },
         "locationmode": "ISO-3",
         "locations": [
          "SVK",
          "UKR"
         ],
         "mode": "lines",
         "type": "scattergeo"
        },
        {
         "line": {
          "color": "red",
          "width": 0.00088
         },
         "locationmode": "ISO-3",
         "locations": [
          "SVK",
          "UKR"
         ],
         "mode": "lines",
         "type": "scattergeo"
        },
        {
         "line": {
          "color": "red",
          "width": 0.036
         },
         "locationmode": "ISO-3",
         "locations": [
          "SVK",
          "UKR"
         ],
         "mode": "lines",
         "type": "scattergeo"
        },
        {
         "line": {
          "color": "red",
          "width": 0.02112
         },
         "locationmode": "ISO-3",
         "locations": [
          "SVK",
          "UKR"
         ],
         "mode": "lines",
         "type": "scattergeo"
        },
        {
         "line": {
          "color": "red",
          "width": 0.00528
         },
         "locationmode": "ISO-3",
         "locations": [
          "SVK",
          "UKR"
         ],
         "mode": "lines",
         "type": "scattergeo"
        },
        {
         "line": {
          "color": "red",
          "width": 0.0504
         },
         "locationmode": "ISO-3",
         "locations": [
          "SVN",
          "UKR"
         ],
         "mode": "lines",
         "type": "scattergeo"
        },
        {
         "line": {
          "color": "red",
          "width": 0.0252
         },
         "locationmode": "ISO-3",
         "locations": [
          "SVN",
          "UKR"
         ],
         "mode": "lines",
         "type": "scattergeo"
        },
        {
         "line": {
          "color": "red",
          "width": 0.0036
         },
         "locationmode": "ISO-3",
         "locations": [
          "ESP",
          "UKR"
         ],
         "mode": "lines",
         "type": "scattergeo"
        },
        {
         "line": {
          "color": "red",
          "width": 0.032
         },
         "locationmode": "ISO-3",
         "locations": [
          "ESP",
          "UKR"
         ],
         "mode": "lines",
         "type": "scattergeo"
        },
        {
         "line": {
          "color": "red",
          "width": 0.012
         },
         "locationmode": "ISO-3",
         "locations": [
          "ESP",
          "UKR"
         ],
         "mode": "lines",
         "type": "scattergeo"
        },
        {
         "line": {
          "color": "red",
          "width": 0.0034
         },
         "locationmode": "ISO-3",
         "locations": [
          "ESP",
          "UKR"
         ],
         "mode": "lines",
         "type": "scattergeo"
        },
        {
         "line": {
          "color": "red",
          "width": 0.0028799999999999997
         },
         "locationmode": "ISO-3",
         "locations": [
          "ESP",
          "UKR"
         ],
         "mode": "lines",
         "type": "scattergeo"
        },
        {
         "line": {
          "color": "red",
          "width": 0.00014000000000000001
         },
         "locationmode": "ISO-3",
         "locations": [
          "ESP",
          "UKR"
         ],
         "mode": "lines",
         "type": "scattergeo"
        },
        {
         "line": {
          "color": "red",
          "width": 0.016
         },
         "locationmode": "ISO-3",
         "locations": [
          "ESP",
          "UKR"
         ],
         "mode": "lines",
         "type": "scattergeo"
        },
        {
         "line": {
          "color": "red",
          "width": 0.0016
         },
         "locationmode": "ISO-3",
         "locations": [
          "SWE",
          "UKR"
         ],
         "mode": "lines",
         "type": "scattergeo"
        },
        {
         "line": {
          "color": "red",
          "width": 0.024
         },
         "locationmode": "ISO-3",
         "locations": [
          "GBR",
          "UKR"
         ],
         "mode": "lines",
         "type": "scattergeo"
        },
        {
         "line": {
          "color": "red",
          "width": 0.0064
         },
         "locationmode": "ISO-3",
         "locations": [
          "GBR",
          "UKR"
         ],
         "mode": "lines",
         "type": "scattergeo"
        },
        {
         "line": {
          "color": "red",
          "width": 0.0512
         },
         "locationmode": "ISO-3",
         "locations": [
          "GBR",
          "UKR"
         ],
         "mode": "lines",
         "type": "scattergeo"
        },
        {
         "line": {
          "color": "red",
          "width": 0.027
         },
         "locationmode": "ISO-3",
         "locations": [
          "GBR",
          "UKR"
         ],
         "mode": "lines",
         "type": "scattergeo"
        },
        {
         "line": {
          "color": "red",
          "width": 0.096
         },
         "locationmode": "ISO-3",
         "locations": [
          "GBR",
          "UKR"
         ],
         "mode": "lines",
         "type": "scattergeo"
        },
        {
         "line": {
          "color": "red",
          "width": 0.02
         },
         "locationmode": "ISO-3",
         "locations": [
          "GBR",
          "UKR"
         ],
         "mode": "lines",
         "type": "scattergeo"
        },
        {
         "line": {
          "color": "red",
          "width": 0.0036
         },
         "locationmode": "ISO-3",
         "locations": [
          "GBR",
          "UKR"
         ],
         "mode": "lines",
         "type": "scattergeo"
        },
        {
         "line": {
          "color": "red",
          "width": 0.0476
         },
         "locationmode": "ISO-3",
         "locations": [
          "GBR",
          "UKR"
         ],
         "mode": "lines",
         "type": "scattergeo"
        },
        {
         "line": {
          "color": "red",
          "width": 0.016800000000000002
         },
         "locationmode": "ISO-3",
         "locations": [
          "GBR",
          "UKR"
         ],
         "mode": "lines",
         "type": "scattergeo"
        },
        {
         "line": {
          "color": "red",
          "width": 0.024
         },
         "locationmode": "ISO-3",
         "locations": [
          "GBR",
          "UKR"
         ],
         "mode": "lines",
         "type": "scattergeo"
        },
        {
         "line": {
          "color": "red",
          "width": 0.00792
         },
         "locationmode": "ISO-3",
         "locations": [
          "GBR",
          "UKR"
         ],
         "mode": "lines",
         "type": "scattergeo"
        },
        {
         "line": {
          "color": "red",
          "width": 0.05248
         },
         "locationmode": "ISO-3",
         "locations": [
          "GBR",
          "UKR"
         ],
         "mode": "lines",
         "type": "scattergeo"
        },
        {
         "line": {
          "color": "red",
          "width": 0.0048
         },
         "locationmode": "ISO-3",
         "locations": [
          "GBR",
          "UKR"
         ],
         "mode": "lines",
         "type": "scattergeo"
        },
        {
         "line": {
          "color": "red",
          "width": 0.0288
         },
         "locationmode": "ISO-3",
         "locations": [
          "GBR",
          "UKR"
         ],
         "mode": "lines",
         "type": "scattergeo"
        },
        {
         "line": {
          "color": "red",
          "width": 0.06
         },
         "locationmode": "ISO-3",
         "locations": [
          "GBR",
          "UKR"
         ],
         "mode": "lines",
         "type": "scattergeo"
        },
        {
         "line": {
          "color": "red",
          "width": 0.0057599999999999995
         },
         "locationmode": "ISO-3",
         "locations": [
          "GBR",
          "UKR"
         ],
         "mode": "lines",
         "type": "scattergeo"
        },
        {
         "line": {
          "color": "red",
          "width": 0.00256
         },
         "locationmode": "ISO-3",
         "locations": [
          "GBR",
          "UKR"
         ],
         "mode": "lines",
         "type": "scattergeo"
        },
        {
         "line": {
          "color": "red",
          "width": 0.055200000000000006
         },
         "locationmode": "ISO-3",
         "locations": [
          "GBR",
          "UKR"
         ],
         "mode": "lines",
         "type": "scattergeo"
        },
        {
         "line": {
          "color": "red",
          "width": 0.00128
         },
         "locationmode": "ISO-3",
         "locations": [
          "GBR",
          "UKR"
         ],
         "mode": "lines",
         "type": "scattergeo"
        },
        {
         "line": {
          "color": "red",
          "width": 0.0162
         },
         "locationmode": "ISO-3",
         "locations": [
          "GBR",
          "UKR"
         ],
         "mode": "lines",
         "type": "scattergeo"
        },
        {
         "line": {
          "color": "red",
          "width": 0.008
         },
         "locationmode": "ISO-3",
         "locations": [
          "GBR",
          "UKR"
         ],
         "mode": "lines",
         "type": "scattergeo"
        },
        {
         "line": {
          "color": "red",
          "width": 0.0028
         },
         "locationmode": "ISO-3",
         "locations": [
          "GBR",
          "UKR"
         ],
         "mode": "lines",
         "type": "scattergeo"
        },
        {
         "line": {
          "color": "red",
          "width": 0.017
         },
         "locationmode": "ISO-3",
         "locations": [
          "GBR",
          "UKR"
         ],
         "mode": "lines",
         "type": "scattergeo"
        },
        {
         "line": {
          "color": "red",
          "width": 0.0032
         },
         "locationmode": "ISO-3",
         "locations": [
          "GBR",
          "UKR"
         ],
         "mode": "lines",
         "type": "scattergeo"
        },
        {
         "line": {
          "color": "red",
          "width": 0.1296
         },
         "locationmode": "ISO-3",
         "locations": [
          "GBR",
          "UKR"
         ],
         "mode": "lines",
         "type": "scattergeo"
        },
        {
         "line": {
          "color": "red",
          "width": 0.0096
         },
         "locationmode": "ISO-3",
         "locations": [
          "GBR",
          "UKR"
         ],
         "mode": "lines",
         "type": "scattergeo"
        },
        {
         "line": {
          "color": "red",
          "width": 0.022
         },
         "locationmode": "ISO-3",
         "locations": [
          "USA",
          "UKR"
         ],
         "mode": "lines",
         "type": "scattergeo"
        },
        {
         "line": {
          "color": "red",
          "width": 0.12
         },
         "locationmode": "ISO-3",
         "locations": [
          "USA",
          "UKR"
         ],
         "mode": "lines",
         "type": "scattergeo"
        },
        {
         "line": {
          "color": "red",
          "width": 0.096
         },
         "locationmode": "ISO-3",
         "locations": [
          "USA",
          "UKR"
         ],
         "mode": "lines",
         "type": "scattergeo"
        },
        {
         "line": {
          "color": "red",
          "width": 0
         },
         "locationmode": "ISO-3",
         "locations": [
          "USA",
          "UKR"
         ],
         "mode": "lines",
         "type": "scattergeo"
        },
        {
         "line": {
          "color": "red",
          "width": 0.0576
         },
         "locationmode": "ISO-3",
         "locations": [
          "USA",
          "UKR"
         ],
         "mode": "lines",
         "type": "scattergeo"
        },
        {
         "line": {
          "color": "red",
          "width": 0.006
         },
         "locationmode": "ISO-3",
         "locations": [
          "USA",
          "UKR"
         ],
         "mode": "lines",
         "type": "scattergeo"
        },
        {
         "line": {
          "color": "red",
          "width": 0
         },
         "locationmode": "ISO-3",
         "locations": [
          "USA",
          "UKR"
         ],
         "mode": "lines",
         "type": "scattergeo"
        },
        {
         "line": {
          "color": "red",
          "width": 0.00604
         },
         "locationmode": "ISO-3",
         "locations": [
          "USA",
          "UKR"
         ],
         "mode": "lines",
         "type": "scattergeo"
        },
        {
         "line": {
          "color": "red",
          "width": 0.032
         },
         "locationmode": "ISO-3",
         "locations": [
          "USA",
          "UKR"
         ],
         "mode": "lines",
         "type": "scattergeo"
        },
        {
         "line": {
          "color": "red",
          "width": 0.01036
         },
         "locationmode": "ISO-3",
         "locations": [
          "USA",
          "UKR"
         ],
         "mode": "lines",
         "type": "scattergeo"
        },
        {
         "line": {
          "color": "red",
          "width": 0.224
         },
         "locationmode": "ISO-3",
         "locations": [
          "USA",
          "UKR"
         ],
         "mode": "lines",
         "type": "scattergeo"
        },
        {
         "line": {
          "color": "red",
          "width": 0.0144
         },
         "locationmode": "ISO-3",
         "locations": [
          "USA",
          "UKR"
         ],
         "mode": "lines",
         "type": "scattergeo"
        },
        {
         "line": {
          "color": "red",
          "width": 1.248
         },
         "locationmode": "ISO-3",
         "locations": [
          "USA",
          "UKR"
         ],
         "mode": "lines",
         "type": "scattergeo"
        },
        {
         "line": {
          "color": "red",
          "width": 0.0176
         },
         "locationmode": "ISO-3",
         "locations": [
          "USA",
          "UKR"
         ],
         "mode": "lines",
         "type": "scattergeo"
        },
        {
         "line": {
          "color": "red",
          "width": 0.01672
         },
         "locationmode": "ISO-3",
         "locations": [
          "USA",
          "UKR"
         ],
         "mode": "lines",
         "type": "scattergeo"
        },
        {
         "line": {
          "color": "red",
          "width": 0.046799999999999994
         },
         "locationmode": "ISO-3",
         "locations": [
          "USA",
          "UKR"
         ],
         "mode": "lines",
         "type": "scattergeo"
        },
        {
         "line": {
          "color": "red",
          "width": 0.039
         },
         "locationmode": "ISO-3",
         "locations": [
          "USA",
          "UKR"
         ],
         "mode": "lines",
         "type": "scattergeo"
        },
        {
         "line": {
          "color": "red",
          "width": 0.312
         },
         "locationmode": "ISO-3",
         "locations": [
          "USA",
          "UKR"
         ],
         "mode": "lines",
         "type": "scattergeo"
        },
        {
         "line": {
          "color": "red",
          "width": 0.006
         },
         "locationmode": "ISO-3",
         "locations": [
          "USA",
          "UKR"
         ],
         "mode": "lines",
         "type": "scattergeo"
        },
        {
         "line": {
          "color": "red",
          "width": 0.03456
         },
         "locationmode": "ISO-3",
         "locations": [
          "USA",
          "UKR"
         ],
         "mode": "lines",
         "type": "scattergeo"
        },
        {
         "line": {
          "color": "red",
          "width": 0.019440000000000002
         },
         "locationmode": "ISO-3",
         "locations": [
          "USA",
          "UKR"
         ],
         "mode": "lines",
         "type": "scattergeo"
        },
        {
         "line": {
          "color": "red",
          "width": 0.096
         },
         "locationmode": "ISO-3",
         "locations": [
          "USA",
          "UKR"
         ],
         "mode": "lines",
         "type": "scattergeo"
        },
        {
         "line": {
          "color": "red",
          "width": 0.0992
         },
         "locationmode": "ISO-3",
         "locations": [
          "USA",
          "UKR"
         ],
         "mode": "lines",
         "type": "scattergeo"
        },
        {
         "line": {
          "color": "red",
          "width": 0.26783999999999997
         },
         "locationmode": "ISO-3",
         "locations": [
          "USA",
          "UKR"
         ],
         "mode": "lines",
         "type": "scattergeo"
        },
        {
         "line": {
          "color": "red",
          "width": 0.11264
         },
         "locationmode": "ISO-3",
         "locations": [
          "USA",
          "UKR"
         ],
         "mode": "lines",
         "type": "scattergeo"
        },
        {
         "line": {
          "color": "red",
          "width": 0.0599
         },
         "locationmode": "ISO-3",
         "locations": [
          "USA",
          "UKR"
         ],
         "mode": "lines",
         "type": "scattergeo"
        },
        {
         "line": {
          "color": "red",
          "width": 0.116
         },
         "locationmode": "ISO-3",
         "locations": [
          "USA",
          "UKR"
         ],
         "mode": "lines",
         "type": "scattergeo"
        },
        {
         "line": {
          "color": "red",
          "width": 0.0136
         },
         "locationmode": "ISO-3",
         "locations": [
          "USA",
          "UKR"
         ],
         "mode": "lines",
         "type": "scattergeo"
        },
        {
         "line": {
          "color": "red",
          "width": 0.13
         },
         "locationmode": "ISO-3",
         "locations": [
          "USA",
          "UKR"
         ],
         "mode": "lines",
         "type": "scattergeo"
        },
        {
         "line": {
          "color": "red",
          "width": 0.016
         },
         "locationmode": "ISO-3",
         "locations": [
          "USA",
          "UKR"
         ],
         "mode": "lines",
         "type": "scattergeo"
        },
        {
         "line": {
          "color": "red",
          "width": 0.04
         },
         "locationmode": "ISO-3",
         "locations": [
          "USA",
          "UKR"
         ],
         "mode": "lines",
         "type": "scattergeo"
        },
        {
         "line": {
          "color": "red",
          "width": 0.044
         },
         "locationmode": "ISO-3",
         "locations": [
          "USA",
          "UKR"
         ],
         "mode": "lines",
         "type": "scattergeo"
        },
        {
         "line": {
          "color": "red",
          "width": 0.54
         },
         "locationmode": "ISO-3",
         "locations": [
          "USA",
          "UKR"
         ],
         "mode": "lines",
         "type": "scattergeo"
        },
        {
         "line": {
          "color": "red",
          "width": 0.05292
         },
         "locationmode": "ISO-3",
         "locations": [
          "USA",
          "UKR"
         ],
         "mode": "lines",
         "type": "scattergeo"
        },
        {
         "line": {
          "color": "red",
          "width": 0.0009599999999999999
         },
         "locationmode": "ISO-3",
         "locations": [
          "USA",
          "UKR"
         ],
         "mode": "lines",
         "type": "scattergeo"
        },
        {
         "line": {
          "color": "red",
          "width": 0.13119999999999998
         },
         "locationmode": "ISO-3",
         "locations": [
          "USA",
          "UKR"
         ],
         "mode": "lines",
         "type": "scattergeo"
        },
        {
         "line": {
          "color": "red",
          "width": 0.3
         },
         "locationmode": "ISO-3",
         "locations": [
          "USA",
          "UKR"
         ],
         "mode": "lines",
         "type": "scattergeo"
        },
        {
         "line": {
          "color": "red",
          "width": 0.084
         },
         "locationmode": "ISO-3",
         "locations": [
          "USA",
          "UKR"
         ],
         "mode": "lines",
         "type": "scattergeo"
        },
        {
         "line": {
          "color": "red",
          "width": 0.0456
         },
         "locationmode": "ISO-3",
         "locations": [
          "USA",
          "UKR"
         ],
         "mode": "lines",
         "type": "scattergeo"
        },
        {
         "line": {
          "color": "red",
          "width": 0.144
         },
         "locationmode": "ISO-3",
         "locations": [
          "USA",
          "UKR"
         ],
         "mode": "lines",
         "type": "scattergeo"
        },
        {
         "line": {
          "color": "red",
          "width": 0.11359999999999999
         },
         "locationmode": "ISO-3",
         "locations": [
          "USA",
          "UKR"
         ],
         "mode": "lines",
         "type": "scattergeo"
        },
        {
         "line": {
          "color": "red",
          "width": 0.0011
         },
         "locationmode": "ISO-3",
         "locations": [
          "USA",
          "UKR"
         ],
         "mode": "lines",
         "type": "scattergeo"
        },
        {
         "line": {
          "color": "red",
          "width": 0.00624
         },
         "locationmode": "ISO-3",
         "locations": [
          "USA",
          "UKR"
         ],
         "mode": "lines",
         "type": "scattergeo"
        },
        {
         "line": {
          "color": "red",
          "width": 0.0096
         },
         "locationmode": "ISO-3",
         "locations": [
          "KOR",
          "URY"
         ],
         "mode": "lines",
         "type": "scattergeo"
        },
        {
         "line": {
          "color": "red",
          "width": 0
         },
         "locationmode": "ISO-3",
         "locations": [
          "CAN",
          "USA"
         ],
         "mode": "lines",
         "type": "scattergeo"
        },
        {
         "line": {
          "color": "red",
          "width": 0
         },
         "locationmode": "ISO-3",
         "locations": [
          "FRA",
          "USA"
         ],
         "mode": "lines",
         "type": "scattergeo"
        },
        {
         "line": {
          "color": "red",
          "width": 0
         },
         "locationmode": "ISO-3",
         "locations": [
          "DEU",
          "USA"
         ],
         "mode": "lines",
         "type": "scattergeo"
        },
        {
         "line": {
          "color": "red",
          "width": 0
         },
         "locationmode": "ISO-3",
         "locations": [
          "LVA",
          "USA"
         ],
         "mode": "lines",
         "type": "scattergeo"
        },
        {
         "line": {
          "color": "red",
          "width": 0
         },
         "locationmode": "ISO-3",
         "locations": [
          "NOR",
          "USA"
         ],
         "mode": "lines",
         "type": "scattergeo"
        },
        {
         "line": {
          "color": "red",
          "width": 0.0125
         },
         "locationmode": "ISO-3",
         "locations": [
          "IRN",
          "VEN"
         ],
         "mode": "lines",
         "type": "scattergeo"
        },
        {
         "line": {
          "color": "red",
          "width": 0.09
         },
         "locationmode": "ISO-3",
         "locations": [
          "IRN",
          "VEN"
         ],
         "mode": "lines",
         "type": "scattergeo"
        },
        {
         "line": {
          "color": "red",
          "width": 0
         },
         "locationmode": "ISO-3",
         "locations": [
          "USA",
          "VNM"
         ],
         "mode": "lines",
         "type": "scattergeo"
        }
       ],
       "layout": {
        "margin": {
         "b": 0,
         "l": 0,
         "pad": 0,
         "r": 0,
         "t": 0
        },
        "showlegend": false,
        "template": {
         "data": {
          "bar": [
           {
            "error_x": {
             "color": "#2a3f5f"
            },
            "error_y": {
             "color": "#2a3f5f"
            },
            "marker": {
             "line": {
              "color": "#E5ECF6",
              "width": 0.5
             },
             "pattern": {
              "fillmode": "overlay",
              "size": 10,
              "solidity": 0.2
             }
            },
            "type": "bar"
           }
          ],
          "barpolar": [
           {
            "marker": {
             "line": {
              "color": "#E5ECF6",
              "width": 0.5
             },
             "pattern": {
              "fillmode": "overlay",
              "size": 10,
              "solidity": 0.2
             }
            },
            "type": "barpolar"
           }
          ],
          "carpet": [
           {
            "aaxis": {
             "endlinecolor": "#2a3f5f",
             "gridcolor": "white",
             "linecolor": "white",
             "minorgridcolor": "white",
             "startlinecolor": "#2a3f5f"
            },
            "baxis": {
             "endlinecolor": "#2a3f5f",
             "gridcolor": "white",
             "linecolor": "white",
             "minorgridcolor": "white",
             "startlinecolor": "#2a3f5f"
            },
            "type": "carpet"
           }
          ],
          "choropleth": [
           {
            "colorbar": {
             "outlinewidth": 0,
             "ticks": ""
            },
            "type": "choropleth"
           }
          ],
          "contour": [
           {
            "colorbar": {
             "outlinewidth": 0,
             "ticks": ""
            },
            "colorscale": [
             [
              0,
              "#0d0887"
             ],
             [
              0.1111111111111111,
              "#46039f"
             ],
             [
              0.2222222222222222,
              "#7201a8"
             ],
             [
              0.3333333333333333,
              "#9c179e"
             ],
             [
              0.4444444444444444,
              "#bd3786"
             ],
             [
              0.5555555555555556,
              "#d8576b"
             ],
             [
              0.6666666666666666,
              "#ed7953"
             ],
             [
              0.7777777777777778,
              "#fb9f3a"
             ],
             [
              0.8888888888888888,
              "#fdca26"
             ],
             [
              1,
              "#f0f921"
             ]
            ],
            "type": "contour"
           }
          ],
          "contourcarpet": [
           {
            "colorbar": {
             "outlinewidth": 0,
             "ticks": ""
            },
            "type": "contourcarpet"
           }
          ],
          "heatmap": [
           {
            "colorbar": {
             "outlinewidth": 0,
             "ticks": ""
            },
            "colorscale": [
             [
              0,
              "#0d0887"
             ],
             [
              0.1111111111111111,
              "#46039f"
             ],
             [
              0.2222222222222222,
              "#7201a8"
             ],
             [
              0.3333333333333333,
              "#9c179e"
             ],
             [
              0.4444444444444444,
              "#bd3786"
             ],
             [
              0.5555555555555556,
              "#d8576b"
             ],
             [
              0.6666666666666666,
              "#ed7953"
             ],
             [
              0.7777777777777778,
              "#fb9f3a"
             ],
             [
              0.8888888888888888,
              "#fdca26"
             ],
             [
              1,
              "#f0f921"
             ]
            ],
            "type": "heatmap"
           }
          ],
          "heatmapgl": [
           {
            "colorbar": {
             "outlinewidth": 0,
             "ticks": ""
            },
            "colorscale": [
             [
              0,
              "#0d0887"
             ],
             [
              0.1111111111111111,
              "#46039f"
             ],
             [
              0.2222222222222222,
              "#7201a8"
             ],
             [
              0.3333333333333333,
              "#9c179e"
             ],
             [
              0.4444444444444444,
              "#bd3786"
             ],
             [
              0.5555555555555556,
              "#d8576b"
             ],
             [
              0.6666666666666666,
              "#ed7953"
             ],
             [
              0.7777777777777778,
              "#fb9f3a"
             ],
             [
              0.8888888888888888,
              "#fdca26"
             ],
             [
              1,
              "#f0f921"
             ]
            ],
            "type": "heatmapgl"
           }
          ],
          "histogram": [
           {
            "marker": {
             "pattern": {
              "fillmode": "overlay",
              "size": 10,
              "solidity": 0.2
             }
            },
            "type": "histogram"
           }
          ],
          "histogram2d": [
           {
            "colorbar": {
             "outlinewidth": 0,
             "ticks": ""
            },
            "colorscale": [
             [
              0,
              "#0d0887"
             ],
             [
              0.1111111111111111,
              "#46039f"
             ],
             [
              0.2222222222222222,
              "#7201a8"
             ],
             [
              0.3333333333333333,
              "#9c179e"
             ],
             [
              0.4444444444444444,
              "#bd3786"
             ],
             [
              0.5555555555555556,
              "#d8576b"
             ],
             [
              0.6666666666666666,
              "#ed7953"
             ],
             [
              0.7777777777777778,
              "#fb9f3a"
             ],
             [
              0.8888888888888888,
              "#fdca26"
             ],
             [
              1,
              "#f0f921"
             ]
            ],
            "type": "histogram2d"
           }
          ],
          "histogram2dcontour": [
           {
            "colorbar": {
             "outlinewidth": 0,
             "ticks": ""
            },
            "colorscale": [
             [
              0,
              "#0d0887"
             ],
             [
              0.1111111111111111,
              "#46039f"
             ],
             [
              0.2222222222222222,
              "#7201a8"
             ],
             [
              0.3333333333333333,
              "#9c179e"
             ],
             [
              0.4444444444444444,
              "#bd3786"
             ],
             [
              0.5555555555555556,
              "#d8576b"
             ],
             [
              0.6666666666666666,
              "#ed7953"
             ],
             [
              0.7777777777777778,
              "#fb9f3a"
             ],
             [
              0.8888888888888888,
              "#fdca26"
             ],
             [
              1,
              "#f0f921"
             ]
            ],
            "type": "histogram2dcontour"
           }
          ],
          "mesh3d": [
           {
            "colorbar": {
             "outlinewidth": 0,
             "ticks": ""
            },
            "type": "mesh3d"
           }
          ],
          "parcoords": [
           {
            "line": {
             "colorbar": {
              "outlinewidth": 0,
              "ticks": ""
             }
            },
            "type": "parcoords"
           }
          ],
          "pie": [
           {
            "automargin": true,
            "type": "pie"
           }
          ],
          "scatter": [
           {
            "fillpattern": {
             "fillmode": "overlay",
             "size": 10,
             "solidity": 0.2
            },
            "type": "scatter"
           }
          ],
          "scatter3d": [
           {
            "line": {
             "colorbar": {
              "outlinewidth": 0,
              "ticks": ""
             }
            },
            "marker": {
             "colorbar": {
              "outlinewidth": 0,
              "ticks": ""
             }
            },
            "type": "scatter3d"
           }
          ],
          "scattercarpet": [
           {
            "marker": {
             "colorbar": {
              "outlinewidth": 0,
              "ticks": ""
             }
            },
            "type": "scattercarpet"
           }
          ],
          "scattergeo": [
           {
            "marker": {
             "colorbar": {
              "outlinewidth": 0,
              "ticks": ""
             }
            },
            "type": "scattergeo"
           }
          ],
          "scattergl": [
           {
            "marker": {
             "colorbar": {
              "outlinewidth": 0,
              "ticks": ""
             }
            },
            "type": "scattergl"
           }
          ],
          "scattermapbox": [
           {
            "marker": {
             "colorbar": {
              "outlinewidth": 0,
              "ticks": ""
             }
            },
            "type": "scattermapbox"
           }
          ],
          "scatterpolar": [
           {
            "marker": {
             "colorbar": {
              "outlinewidth": 0,
              "ticks": ""
             }
            },
            "type": "scatterpolar"
           }
          ],
          "scatterpolargl": [
           {
            "marker": {
             "colorbar": {
              "outlinewidth": 0,
              "ticks": ""
             }
            },
            "type": "scatterpolargl"
           }
          ],
          "scatterternary": [
           {
            "marker": {
             "colorbar": {
              "outlinewidth": 0,
              "ticks": ""
             }
            },
            "type": "scatterternary"
           }
          ],
          "surface": [
           {
            "colorbar": {
             "outlinewidth": 0,
             "ticks": ""
            },
            "colorscale": [
             [
              0,
              "#0d0887"
             ],
             [
              0.1111111111111111,
              "#46039f"
             ],
             [
              0.2222222222222222,
              "#7201a8"
             ],
             [
              0.3333333333333333,
              "#9c179e"
             ],
             [
              0.4444444444444444,
              "#bd3786"
             ],
             [
              0.5555555555555556,
              "#d8576b"
             ],
             [
              0.6666666666666666,
              "#ed7953"
             ],
             [
              0.7777777777777778,
              "#fb9f3a"
             ],
             [
              0.8888888888888888,
              "#fdca26"
             ],
             [
              1,
              "#f0f921"
             ]
            ],
            "type": "surface"
           }
          ],
          "table": [
           {
            "cells": {
             "fill": {
              "color": "#EBF0F8"
             },
             "line": {
              "color": "white"
             }
            },
            "header": {
             "fill": {
              "color": "#C8D4E3"
             },
             "line": {
              "color": "white"
             }
            },
            "type": "table"
           }
          ]
         },
         "layout": {
          "annotationdefaults": {
           "arrowcolor": "#2a3f5f",
           "arrowhead": 0,
           "arrowwidth": 1
          },
          "autotypenumbers": "strict",
          "coloraxis": {
           "colorbar": {
            "outlinewidth": 0,
            "ticks": ""
           }
          },
          "colorscale": {
           "diverging": [
            [
             0,
             "#8e0152"
            ],
            [
             0.1,
             "#c51b7d"
            ],
            [
             0.2,
             "#de77ae"
            ],
            [
             0.3,
             "#f1b6da"
            ],
            [
             0.4,
             "#fde0ef"
            ],
            [
             0.5,
             "#f7f7f7"
            ],
            [
             0.6,
             "#e6f5d0"
            ],
            [
             0.7,
             "#b8e186"
            ],
            [
             0.8,
             "#7fbc41"
            ],
            [
             0.9,
             "#4d9221"
            ],
            [
             1,
             "#276419"
            ]
           ],
           "sequential": [
            [
             0,
             "#0d0887"
            ],
            [
             0.1111111111111111,
             "#46039f"
            ],
            [
             0.2222222222222222,
             "#7201a8"
            ],
            [
             0.3333333333333333,
             "#9c179e"
            ],
            [
             0.4444444444444444,
             "#bd3786"
            ],
            [
             0.5555555555555556,
             "#d8576b"
            ],
            [
             0.6666666666666666,
             "#ed7953"
            ],
            [
             0.7777777777777778,
             "#fb9f3a"
            ],
            [
             0.8888888888888888,
             "#fdca26"
            ],
            [
             1,
             "#f0f921"
            ]
           ],
           "sequentialminus": [
            [
             0,
             "#0d0887"
            ],
            [
             0.1111111111111111,
             "#46039f"
            ],
            [
             0.2222222222222222,
             "#7201a8"
            ],
            [
             0.3333333333333333,
             "#9c179e"
            ],
            [
             0.4444444444444444,
             "#bd3786"
            ],
            [
             0.5555555555555556,
             "#d8576b"
            ],
            [
             0.6666666666666666,
             "#ed7953"
            ],
            [
             0.7777777777777778,
             "#fb9f3a"
            ],
            [
             0.8888888888888888,
             "#fdca26"
            ],
            [
             1,
             "#f0f921"
            ]
           ]
          },
          "colorway": [
           "#636efa",
           "#EF553B",
           "#00cc96",
           "#ab63fa",
           "#FFA15A",
           "#19d3f3",
           "#FF6692",
           "#B6E880",
           "#FF97FF",
           "#FECB52"
          ],
          "font": {
           "color": "#2a3f5f"
          },
          "geo": {
           "bgcolor": "white",
           "lakecolor": "white",
           "landcolor": "#E5ECF6",
           "showlakes": true,
           "showland": true,
           "subunitcolor": "white"
          },
          "hoverlabel": {
           "align": "left"
          },
          "hovermode": "closest",
          "mapbox": {
           "style": "light"
          },
          "paper_bgcolor": "white",
          "plot_bgcolor": "#E5ECF6",
          "polar": {
           "angularaxis": {
            "gridcolor": "white",
            "linecolor": "white",
            "ticks": ""
           },
           "bgcolor": "#E5ECF6",
           "radialaxis": {
            "gridcolor": "white",
            "linecolor": "white",
            "ticks": ""
           }
          },
          "scene": {
           "xaxis": {
            "backgroundcolor": "#E5ECF6",
            "gridcolor": "white",
            "gridwidth": 2,
            "linecolor": "white",
            "showbackground": true,
            "ticks": "",
            "zerolinecolor": "white"
           },
           "yaxis": {
            "backgroundcolor": "#E5ECF6",
            "gridcolor": "white",
            "gridwidth": 2,
            "linecolor": "white",
            "showbackground": true,
            "ticks": "",
            "zerolinecolor": "white"
           },
           "zaxis": {
            "backgroundcolor": "#E5ECF6",
            "gridcolor": "white",
            "gridwidth": 2,
            "linecolor": "white",
            "showbackground": true,
            "ticks": "",
            "zerolinecolor": "white"
           }
          },
          "shapedefaults": {
           "line": {
            "color": "#2a3f5f"
           }
          },
          "ternary": {
           "aaxis": {
            "gridcolor": "white",
            "linecolor": "white",
            "ticks": ""
           },
           "baxis": {
            "gridcolor": "white",
            "linecolor": "white",
            "ticks": ""
           },
           "bgcolor": "#E5ECF6",
           "caxis": {
            "gridcolor": "white",
            "linecolor": "white",
            "ticks": ""
           }
          },
          "title": {
           "x": 0.05
          },
          "xaxis": {
           "automargin": true,
           "gridcolor": "white",
           "linecolor": "white",
           "ticks": "",
           "title": {
            "standoff": 15
           },
           "zerolinecolor": "white",
           "zerolinewidth": 2
          },
          "yaxis": {
           "automargin": true,
           "gridcolor": "white",
           "linecolor": "white",
           "ticks": "",
           "title": {
            "standoff": 15
           },
           "zerolinecolor": "white",
           "zerolinewidth": 2
          }
         }
        },
        "title": {
         "text": "Arms transfers between countries"
        }
       }
      }
     },
     "metadata": {},
     "output_type": "display_data"
    }
   ],
   "source": [
    "fig = go.Figure()\n",
    "\n",
    "df = df[df['Year'] == 2022]\n",
    "df_zip = zip(df['ISO_Supplier'], df['ISO_Recipient'], df['sipri_TIV'])\n",
    "\n",
    "for iso_supplier, iso_recipient, value in df_zip:\n",
    "    fig.add_trace(go.Scattergeo(\n",
    "                        locations=[iso_supplier, iso_recipient],\n",
    "                        locationmode='ISO-3',\n",
    "                        mode='lines',\n",
    "                        line=dict(width=value/500, color=\"red\")\n",
    "                        ))\n",
    "\n",
    "fig.update_layout(title=\"Arms transfers between countries\",\n",
    "                  margin={\"t\": 0, \"b\": 0, \"l\": 0, \"r\": 0, \"pad\": 0},\n",
    "                  showlegend=False)\n",
    "# fig.update_geos(projection_type=\"orthographic\")\n",
    "\n",
    "fig.show()"
   ]
  }
 ],
 "metadata": {
  "kernelspec": {
   "display_name": "Python 3",
   "language": "python",
   "name": "python3"
  },
  "language_info": {
   "codemirror_mode": {
    "name": "ipython",
    "version": 3
   },
   "file_extension": ".py",
   "mimetype": "text/x-python",
   "name": "python",
   "nbconvert_exporter": "python",
   "pygments_lexer": "ipython3",
   "version": "3.11.5"
  }
 },
 "nbformat": 4,
 "nbformat_minor": 2
}
