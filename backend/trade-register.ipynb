{
 "cells": [
  {
   "cell_type": "markdown",
   "metadata": {},
   "source": [
    "# Military Emissions\n",
    "\n",
    "This notebook is responsible for working with data from the SIPRI Arms Transfer database.\n",
    "\n",
    "The value column corresponds to the SIPRI TIV value. It is a measure of military capability transferred."
   ]
  },
  {
   "cell_type": "code",
   "execution_count": 2,
   "metadata": {},
   "outputs": [],
   "source": [
    "import pandas as pd"
   ]
  },
  {
   "cell_type": "code",
   "execution_count": 3,
   "metadata": {},
   "outputs": [
    {
     "name": "stdout",
     "output_type": "stream",
     "text": [
      "29058\n"
     ]
    }
   ],
   "source": [
    "# Read the CSV file into a dataframe\n",
    "df = pd.read_csv('data/trade-register.csv')\n",
    "columns_to_drop = ['col4', 'Number ordered', 'col6', 'Weapon designation', 'Weapon description', 'Number delivered', 'col10', 'Year(s) of delivery', 'status', 'Comments', 'SIPRI TIV per unit', 'SIPRI TIV for total order']\n",
    "df.drop(columns=columns_to_drop, inplace=True)\n",
    "# Rename the columns\n",
    "df.columns=['Recipient', 'Supplier', 'Year', 'sipri_TIV']\n",
    "# I am recoding the Soviet Union as Russia because the Soviet Union no longer exists, and was a big player in our 1950-2023 dataset. Thus, maintaining that data is useful.\n",
    "df['Supplier'] = df['Supplier'].replace('Soviet Union', 'Russian Federation')\n",
    "df['Recipient'] = df['Recipient'].replace('Soviet Union', 'Russian Federation')\n",
    "# Display the head of the dataframe\n",
    "df.head()\n",
    "print(len(df['Recipient']))"
   ]
  },
  {
   "cell_type": "code",
   "execution_count": 4,
   "metadata": {},
   "outputs": [
    {
     "name": "stdout",
     "output_type": "stream",
     "text": [
      "24705\n",
      "['AFG' 'ALB' 'DZA' 'AGO' 'ATG' 'ARG' 'ARM' 'AUT' 'AUS' 'AZE' 'BHR' 'BGD'\n",
      " 'BRB' 'BHS' 'BDI' 'BEL' 'BEN' 'BFA' 'BTN' 'BLR' 'BLZ' 'BOL' 'BWA' 'BRA'\n",
      " 'BGR' 'CMR' 'CAN' 'CPV' 'CAF' 'TCD' 'CHL' 'CHN' 'KHM' 'COL' 'COM' 'COG'\n",
      " 'CRI' 'HRV' 'CUB' 'CYP' 'CZE' 'DNK' 'DJI' 'DOM' 'ECU' 'EGY' 'GNQ' 'ERI'\n",
      " 'EST' 'TLS' 'ETH' 'FIN' 'FJI' 'FRA' 'DEU' 'GAB' 'GMB' 'GNB' 'GEO' 'GHA'\n",
      " 'GRD' 'GRC' 'GTM' 'GIN' 'GUY' 'HTI' 'HND' 'HUN' 'ISL' 'IND' 'IDN' 'IRN'\n",
      " 'IRL' 'IRQ' 'ISR' 'ITA' 'JAM' 'JPN' 'JOR' 'KAZ' 'KEN' 'KIR' 'PRK' 'KOR'\n",
      " 'KWT' 'KGZ' 'LAO' 'LVA' 'LBN' 'LSO' 'LBR' 'LTU' 'LUX' 'LBY' 'MKD' 'MDG'\n",
      " 'MYS' 'MHL' 'MUS' 'MEX' 'MLI' 'MDV' 'MDA' 'MNG' 'MAR' 'MOZ' 'MRT' 'MLT'\n",
      " 'MNE' 'MWI' 'MMR' 'NAM' 'NPL' 'NLD' 'NIC' 'NGA' 'NER' 'NOR' 'NZL' 'OMN'\n",
      " 'PAK' 'PLW' 'PAN' 'PNG' 'PRY' 'PER' 'PHL' 'POL' 'PRT' 'QAT' 'ROU' 'RWA'\n",
      " 'ZAF' 'ESH' 'SLV' 'WSM' 'SAU' 'SEN' 'SRB' 'SYC' 'SLE' 'SGP' 'KNA' 'SVK'\n",
      " 'SVN' 'SLB' 'SOM' 'ESP' 'LKA' 'SSD' 'SDN' 'SUR' 'SWZ' 'SWE' 'CHE' 'SYR'\n",
      " 'TWN' 'TJK' 'TZA' 'THA' 'TGO' 'TON' 'TTO' 'TKM' 'TUN' 'TUV' 'UGA' 'GBR'\n",
      " 'UKR' 'URY' 'USA' 'RUS' 'UZB' 'VUT' 'VEN' 'VNM' 'YEM' 'ZMB' 'ZWE']\n"
     ]
    }
   ],
   "source": [
    "from functions import country_to_iso\n",
    "\n",
    "df['ISO_Recipient'] = df['Recipient'].apply(country_to_iso)\n",
    "df['ISO_Supplier'] = df['Supplier'].apply(country_to_iso)\n",
    "\n",
    "df.dropna(inplace=True)\n",
    "df.head()\n",
    "print(len(df['Recipient']))\n",
    "unique_iso_recipients = df['ISO_Recipient'].unique()\n",
    "print(unique_iso_recipients)"
   ]
  },
  {
   "cell_type": "code",
   "execution_count": 5,
   "metadata": {},
   "outputs": [
    {
     "data": {
      "text/plain": [
       "'Success.'"
      ]
     },
     "execution_count": 5,
     "metadata": {},
     "output_type": "execute_result"
    }
   ],
   "source": [
    "from functions import df_to_database\n",
    "\n",
    "df_to_database(df, 'tradeRegister')"
   ]
  },
  {
   "cell_type": "code",
   "execution_count": 6,
   "metadata": {},
   "outputs": [
    {
     "data": {
      "text/plain": [
       "count     81.000000\n",
       "mean     305.000000\n",
       "std      119.435861\n",
       "min        1.000000\n",
       "25%      257.000000\n",
       "50%      304.000000\n",
       "75%      387.000000\n",
       "max      560.000000\n",
       "Name: count, dtype: float64"
      ]
     },
     "execution_count": 6,
     "metadata": {},
     "output_type": "execute_result"
    }
   ],
   "source": [
    "year_counts = df['Year'].value_counts()\n",
    "# print(year_counts)\n",
    "year_counts.describe()"
   ]
  },
  {
   "cell_type": "markdown",
   "metadata": {},
   "source": [
    "# Visualisations\n",
    "This is mostly code that can then be transferred into Flask."
   ]
  },
  {
   "cell_type": "code",
   "execution_count": 7,
   "metadata": {},
   "outputs": [],
   "source": [
    "import geopandas as gpd\n",
    "\n",
    "import matplotlib.pyplot as plt\n",
    "import plotly.graph_objects as go"
   ]
  },
  {
   "cell_type": "code",
   "execution_count": 8,
   "metadata": {},
   "outputs": [
    {
     "data": {
      "application/vnd.plotly.v1+json": {
       "config": {
        "plotlyServerURL": "https://plot.ly"
       },
       "data": [
        {
         "hovertext": "Recipient: Algeria<br>Supplier: Italy<br>SIPRI TIV: 0.0",
         "line": {
          "color": "red",
          "width": 2
         },
         "locationmode": "ISO-3",
         "locations": [
          "ITA",
          "DZA"
         ],
         "mode": "lines",
         "type": "scattergeo"
        },
        {
         "hovertext": "Recipient: Angola<br>Supplier: France<br>SIPRI TIV: 0.0",
         "line": {
          "color": "red",
          "width": 2
         },
         "locationmode": "ISO-3",
         "locations": [
          "FRA",
          "AGO"
         ],
         "mode": "lines",
         "type": "scattergeo"
        },
        {
         "hovertext": "Recipient: Angola<br>Supplier: United States<br>SIPRI TIV: 0.0",
         "line": {
          "color": "red",
          "width": 2
         },
         "locationmode": "ISO-3",
         "locations": [
          "USA",
          "AGO"
         ],
         "mode": "lines",
         "type": "scattergeo"
        },
        {
         "hovertext": "Recipient: Argentina<br>Supplier: Norway<br>SIPRI TIV: 0.0",
         "line": {
          "color": "red",
          "width": 2
         },
         "locationmode": "ISO-3",
         "locations": [
          "NOR",
          "ARG"
         ],
         "mode": "lines",
         "type": "scattergeo"
        },
        {
         "hovertext": "Recipient: Argentina<br>Supplier: Norway<br>SIPRI TIV: 0.0",
         "line": {
          "color": "red",
          "width": 2
         },
         "locationmode": "ISO-3",
         "locations": [
          "NOR",
          "ARG"
         ],
         "mode": "lines",
         "type": "scattergeo"
        },
        {
         "hovertext": "Recipient: Argentina<br>Supplier: United States<br>SIPRI TIV: 0.0",
         "line": {
          "color": "red",
          "width": 2
         },
         "locationmode": "ISO-3",
         "locations": [
          "USA",
          "ARG"
         ],
         "mode": "lines",
         "type": "scattergeo"
        },
        {
         "hovertext": "Recipient: Armenia<br>Supplier: France<br>SIPRI TIV: 3.84",
         "line": {
          "color": "red",
          "width": 2
         },
         "locationmode": "ISO-3",
         "locations": [
          "FRA",
          "ARM"
         ],
         "mode": "lines",
         "type": "scattergeo"
        },
        {
         "hovertext": "Recipient: Armenia<br>Supplier: France<br>SIPRI TIV: 0.0",
         "line": {
          "color": "red",
          "width": 2
         },
         "locationmode": "ISO-3",
         "locations": [
          "FRA",
          "ARM"
         ],
         "mode": "lines",
         "type": "scattergeo"
        },
        {
         "hovertext": "Recipient: Armenia<br>Supplier: India<br>SIPRI TIV: 0.0",
         "line": {
          "color": "red",
          "width": 2
         },
         "locationmode": "ISO-3",
         "locations": [
          "IND",
          "ARM"
         ],
         "mode": "lines",
         "type": "scattergeo"
        },
        {
         "hovertext": "Recipient: Armenia<br>Supplier: India<br>SIPRI TIV: 0.0",
         "line": {
          "color": "red",
          "width": 2
         },
         "locationmode": "ISO-3",
         "locations": [
          "IND",
          "ARM"
         ],
         "mode": "lines",
         "type": "scattergeo"
        },
        {
         "hovertext": "Recipient: Armenia<br>Supplier: India<br>SIPRI TIV: 3.6",
         "line": {
          "color": "red",
          "width": 2
         },
         "locationmode": "ISO-3",
         "locations": [
          "IND",
          "ARM"
         ],
         "mode": "lines",
         "type": "scattergeo"
        },
        {
         "hovertext": "Recipient: Austria<br>Supplier: Brazil<br>SIPRI TIV: 0.0",
         "line": {
          "color": "red",
          "width": 2
         },
         "locationmode": "ISO-3",
         "locations": [
          "BRA",
          "AUT"
         ],
         "mode": "lines",
         "type": "scattergeo"
        },
        {
         "hovertext": "Recipient: Austria<br>Supplier: Germany<br>SIPRI TIV: 0.0",
         "line": {
          "color": "red",
          "width": 2
         },
         "locationmode": "ISO-3",
         "locations": [
          "DEU",
          "AUT"
         ],
         "mode": "lines",
         "type": "scattergeo"
        },
        {
         "hovertext": "Recipient: Austria<br>Supplier: Germany<br>SIPRI TIV: 0.0",
         "line": {
          "color": "red",
          "width": 2
         },
         "locationmode": "ISO-3",
         "locations": [
          "DEU",
          "AUT"
         ],
         "mode": "lines",
         "type": "scattergeo"
        },
        {
         "hovertext": "Recipient: Austria<br>Supplier: Switzerland<br>SIPRI TIV: 0.0",
         "line": {
          "color": "red",
          "width": 2
         },
         "locationmode": "ISO-3",
         "locations": [
          "CHE",
          "AUT"
         ],
         "mode": "lines",
         "type": "scattergeo"
        },
        {
         "hovertext": "Recipient: Austria<br>Supplier: United States<br>SIPRI TIV: 0.0",
         "line": {
          "color": "red",
          "width": 2
         },
         "locationmode": "ISO-3",
         "locations": [
          "USA",
          "AUT"
         ],
         "mode": "lines",
         "type": "scattergeo"
        },
        {
         "hovertext": "Recipient: Australia<br>Supplier: Ireland<br>SIPRI TIV: 0.0",
         "line": {
          "color": "red",
          "width": 2
         },
         "locationmode": "ISO-3",
         "locations": [
          "IRL",
          "AUS"
         ],
         "mode": "lines",
         "type": "scattergeo"
        },
        {
         "hovertext": "Recipient: Australia<br>Supplier: Israel<br>SIPRI TIV: 0.0",
         "line": {
          "color": "red",
          "width": 2
         },
         "locationmode": "ISO-3",
         "locations": [
          "ISR",
          "AUS"
         ],
         "mode": "lines",
         "type": "scattergeo"
        },
        {
         "hovertext": "Recipient: Australia<br>Supplier: South Korea<br>SIPRI TIV: 0.0",
         "line": {
          "color": "red",
          "width": 2
         },
         "locationmode": "ISO-3",
         "locations": [
          "KOR",
          "AUS"
         ],
         "mode": "lines",
         "type": "scattergeo"
        },
        {
         "hovertext": "Recipient: Australia<br>Supplier: United Kingdom<br>SIPRI TIV: 0.0",
         "line": {
          "color": "red",
          "width": 2
         },
         "locationmode": "ISO-3",
         "locations": [
          "GBR",
          "AUS"
         ],
         "mode": "lines",
         "type": "scattergeo"
        },
        {
         "hovertext": "Recipient: Australia<br>Supplier: United States<br>SIPRI TIV: 0.0",
         "line": {
          "color": "red",
          "width": 2
         },
         "locationmode": "ISO-3",
         "locations": [
          "USA",
          "AUS"
         ],
         "mode": "lines",
         "type": "scattergeo"
        },
        {
         "hovertext": "Recipient: Australia<br>Supplier: United States<br>SIPRI TIV: 0.0",
         "line": {
          "color": "red",
          "width": 2
         },
         "locationmode": "ISO-3",
         "locations": [
          "USA",
          "AUS"
         ],
         "mode": "lines",
         "type": "scattergeo"
        },
        {
         "hovertext": "Recipient: Australia<br>Supplier: United States<br>SIPRI TIV: 0.0",
         "line": {
          "color": "red",
          "width": 2
         },
         "locationmode": "ISO-3",
         "locations": [
          "USA",
          "AUS"
         ],
         "mode": "lines",
         "type": "scattergeo"
        },
        {
         "hovertext": "Recipient: Australia<br>Supplier: United States<br>SIPRI TIV: 0.0",
         "line": {
          "color": "red",
          "width": 2
         },
         "locationmode": "ISO-3",
         "locations": [
          "USA",
          "AUS"
         ],
         "mode": "lines",
         "type": "scattergeo"
        },
        {
         "hovertext": "Recipient: Australia<br>Supplier: United States<br>SIPRI TIV: 0.0",
         "line": {
          "color": "red",
          "width": 2
         },
         "locationmode": "ISO-3",
         "locations": [
          "USA",
          "AUS"
         ],
         "mode": "lines",
         "type": "scattergeo"
        },
        {
         "hovertext": "Recipient: Australia<br>Supplier: United States<br>SIPRI TIV: 0.0",
         "line": {
          "color": "red",
          "width": 2
         },
         "locationmode": "ISO-3",
         "locations": [
          "USA",
          "AUS"
         ],
         "mode": "lines",
         "type": "scattergeo"
        },
        {
         "hovertext": "Recipient: Australia<br>Supplier: United States<br>SIPRI TIV: 0.0",
         "line": {
          "color": "red",
          "width": 2
         },
         "locationmode": "ISO-3",
         "locations": [
          "USA",
          "AUS"
         ],
         "mode": "lines",
         "type": "scattergeo"
        },
        {
         "hovertext": "Recipient: Australia<br>Supplier: United States<br>SIPRI TIV: 0.0",
         "line": {
          "color": "red",
          "width": 2
         },
         "locationmode": "ISO-3",
         "locations": [
          "USA",
          "AUS"
         ],
         "mode": "lines",
         "type": "scattergeo"
        },
        {
         "hovertext": "Recipient: Australia<br>Supplier: United States<br>SIPRI TIV: 0.0",
         "line": {
          "color": "red",
          "width": 2
         },
         "locationmode": "ISO-3",
         "locations": [
          "USA",
          "AUS"
         ],
         "mode": "lines",
         "type": "scattergeo"
        },
        {
         "hovertext": "Recipient: Australia<br>Supplier: United States<br>SIPRI TIV: 0.0",
         "line": {
          "color": "red",
          "width": 2
         },
         "locationmode": "ISO-3",
         "locations": [
          "USA",
          "AUS"
         ],
         "mode": "lines",
         "type": "scattergeo"
        },
        {
         "hovertext": "Recipient: Australia<br>Supplier: United States<br>SIPRI TIV: 0.0",
         "line": {
          "color": "red",
          "width": 2
         },
         "locationmode": "ISO-3",
         "locations": [
          "USA",
          "AUS"
         ],
         "mode": "lines",
         "type": "scattergeo"
        },
        {
         "hovertext": "Recipient: Australia<br>Supplier: United States<br>SIPRI TIV: 0.0",
         "line": {
          "color": "red",
          "width": 2
         },
         "locationmode": "ISO-3",
         "locations": [
          "USA",
          "AUS"
         ],
         "mode": "lines",
         "type": "scattergeo"
        },
        {
         "hovertext": "Recipient: Azerbaijan<br>Supplier: Israel<br>SIPRI TIV: 0.0",
         "line": {
          "color": "red",
          "width": 2
         },
         "locationmode": "ISO-3",
         "locations": [
          "ISR",
          "AZE"
         ],
         "mode": "lines",
         "type": "scattergeo"
        },
        {
         "hovertext": "Recipient: Azerbaijan<br>Supplier: Italy<br>SIPRI TIV: 0.0",
         "line": {
          "color": "red",
          "width": 2
         },
         "locationmode": "ISO-3",
         "locations": [
          "ITA",
          "AZE"
         ],
         "mode": "lines",
         "type": "scattergeo"
        },
        {
         "hovertext": "Recipient: Azerbaijan<br>Supplier: United States<br>SIPRI TIV: 0.0",
         "line": {
          "color": "red",
          "width": 2
         },
         "locationmode": "ISO-3",
         "locations": [
          "USA",
          "AZE"
         ],
         "mode": "lines",
         "type": "scattergeo"
        },
        {
         "hovertext": "Recipient: Belgium<br>Supplier: France<br>SIPRI TIV: 0.0",
         "line": {
          "color": "red",
          "width": 2
         },
         "locationmode": "ISO-3",
         "locations": [
          "FRA",
          "BEL"
         ],
         "mode": "lines",
         "type": "scattergeo"
        },
        {
         "hovertext": "Recipient: Belgium<br>Supplier: France<br>SIPRI TIV: 0.0",
         "line": {
          "color": "red",
          "width": 2
         },
         "locationmode": "ISO-3",
         "locations": [
          "FRA",
          "BEL"
         ],
         "mode": "lines",
         "type": "scattergeo"
        },
        {
         "hovertext": "Recipient: Belgium<br>Supplier: Germany<br>SIPRI TIV: 0.0",
         "line": {
          "color": "red",
          "width": 2
         },
         "locationmode": "ISO-3",
         "locations": [
          "DEU",
          "BEL"
         ],
         "mode": "lines",
         "type": "scattergeo"
        },
        {
         "hovertext": "Recipient: Belgium<br>Supplier: Germany<br>SIPRI TIV: 0.0",
         "line": {
          "color": "red",
          "width": 2
         },
         "locationmode": "ISO-3",
         "locations": [
          "DEU",
          "BEL"
         ],
         "mode": "lines",
         "type": "scattergeo"
        },
        {
         "hovertext": "Recipient: Belgium<br>Supplier: Italy<br>SIPRI TIV: 0.0",
         "line": {
          "color": "red",
          "width": 2
         },
         "locationmode": "ISO-3",
         "locations": [
          "ITA",
          "BEL"
         ],
         "mode": "lines",
         "type": "scattergeo"
        },
        {
         "hovertext": "Recipient: Belgium<br>Supplier: Netherlands<br>SIPRI TIV: 0.0",
         "line": {
          "color": "red",
          "width": 2
         },
         "locationmode": "ISO-3",
         "locations": [
          "NLD",
          "BEL"
         ],
         "mode": "lines",
         "type": "scattergeo"
        },
        {
         "hovertext": "Recipient: Belgium<br>Supplier: United States<br>SIPRI TIV: 0.0",
         "line": {
          "color": "red",
          "width": 2
         },
         "locationmode": "ISO-3",
         "locations": [
          "USA",
          "BEL"
         ],
         "mode": "lines",
         "type": "scattergeo"
        },
        {
         "hovertext": "Recipient: Benin<br>Supplier: Jordan<br>SIPRI TIV: 8.7",
         "line": {
          "color": "red",
          "width": 2
         },
         "locationmode": "ISO-3",
         "locations": [
          "JOR",
          "BEN"
         ],
         "mode": "lines",
         "type": "scattergeo"
        },
        {
         "hovertext": "Recipient: Burkina Faso<br>Supplier: China<br>SIPRI TIV: 0.0",
         "line": {
          "color": "red",
          "width": 2
         },
         "locationmode": "ISO-3",
         "locations": [
          "CHN",
          "BFA"
         ],
         "mode": "lines",
         "type": "scattergeo"
        },
        {
         "hovertext": "Recipient: Burkina Faso<br>Supplier: China<br>SIPRI TIV: 0.0",
         "line": {
          "color": "red",
          "width": 2
         },
         "locationmode": "ISO-3",
         "locations": [
          "CHN",
          "BFA"
         ],
         "mode": "lines",
         "type": "scattergeo"
        },
        {
         "hovertext": "Recipient: Bulgaria<br>Supplier: Canada<br>SIPRI TIV: 0.0",
         "line": {
          "color": "red",
          "width": 2
         },
         "locationmode": "ISO-3",
         "locations": [
          "CAN",
          "BGR"
         ],
         "mode": "lines",
         "type": "scattergeo"
        },
        {
         "hovertext": "Recipient: Bulgaria<br>Supplier: Canada<br>SIPRI TIV: 0.0",
         "line": {
          "color": "red",
          "width": 2
         },
         "locationmode": "ISO-3",
         "locations": [
          "CAN",
          "BGR"
         ],
         "mode": "lines",
         "type": "scattergeo"
        },
        {
         "hovertext": "Recipient: Canada<br>Supplier: France<br>SIPRI TIV: 0.0",
         "line": {
          "color": "red",
          "width": 2
         },
         "locationmode": "ISO-3",
         "locations": [
          "FRA",
          "CAN"
         ],
         "mode": "lines",
         "type": "scattergeo"
        },
        {
         "hovertext": "Recipient: Canada<br>Supplier: France<br>SIPRI TIV: 0.0",
         "line": {
          "color": "red",
          "width": 2
         },
         "locationmode": "ISO-3",
         "locations": [
          "FRA",
          "CAN"
         ],
         "mode": "lines",
         "type": "scattergeo"
        },
        {
         "hovertext": "Recipient: Canada<br>Supplier: United Kingdom<br>SIPRI TIV: 0.0",
         "line": {
          "color": "red",
          "width": 2
         },
         "locationmode": "ISO-3",
         "locations": [
          "GBR",
          "CAN"
         ],
         "mode": "lines",
         "type": "scattergeo"
        },
        {
         "hovertext": "Recipient: Canada<br>Supplier: United Kingdom<br>SIPRI TIV: 0.0",
         "line": {
          "color": "red",
          "width": 2
         },
         "locationmode": "ISO-3",
         "locations": [
          "GBR",
          "CAN"
         ],
         "mode": "lines",
         "type": "scattergeo"
        },
        {
         "hovertext": "Recipient: Canada<br>Supplier: United States<br>SIPRI TIV: 0.0",
         "line": {
          "color": "red",
          "width": 2
         },
         "locationmode": "ISO-3",
         "locations": [
          "USA",
          "CAN"
         ],
         "mode": "lines",
         "type": "scattergeo"
        },
        {
         "hovertext": "Recipient: Canada<br>Supplier: United States<br>SIPRI TIV: 0.0",
         "line": {
          "color": "red",
          "width": 2
         },
         "locationmode": "ISO-3",
         "locations": [
          "USA",
          "CAN"
         ],
         "mode": "lines",
         "type": "scattergeo"
        },
        {
         "hovertext": "Recipient: Canada<br>Supplier: United States<br>SIPRI TIV: 0.0",
         "line": {
          "color": "red",
          "width": 2
         },
         "locationmode": "ISO-3",
         "locations": [
          "USA",
          "CAN"
         ],
         "mode": "lines",
         "type": "scattergeo"
        },
        {
         "hovertext": "Recipient: Canada<br>Supplier: United States<br>SIPRI TIV: 0.0",
         "line": {
          "color": "red",
          "width": 2
         },
         "locationmode": "ISO-3",
         "locations": [
          "USA",
          "CAN"
         ],
         "mode": "lines",
         "type": "scattergeo"
        },
        {
         "hovertext": "Recipient: Canada<br>Supplier: United States<br>SIPRI TIV: 0.0",
         "line": {
          "color": "red",
          "width": 2
         },
         "locationmode": "ISO-3",
         "locations": [
          "USA",
          "CAN"
         ],
         "mode": "lines",
         "type": "scattergeo"
        },
        {
         "hovertext": "Recipient: Colombia<br>Supplier: Canada<br>SIPRI TIV: 0.0",
         "line": {
          "color": "red",
          "width": 2
         },
         "locationmode": "ISO-3",
         "locations": [
          "CAN",
          "COL"
         ],
         "mode": "lines",
         "type": "scattergeo"
        },
        {
         "hovertext": "Recipient: Colombia<br>Supplier: France<br>SIPRI TIV: 0.0",
         "line": {
          "color": "red",
          "width": 2
         },
         "locationmode": "ISO-3",
         "locations": [
          "FRA",
          "COL"
         ],
         "mode": "lines",
         "type": "scattergeo"
        },
        {
         "hovertext": "Recipient: Colombia<br>Supplier: France<br>SIPRI TIV: 0.0",
         "line": {
          "color": "red",
          "width": 2
         },
         "locationmode": "ISO-3",
         "locations": [
          "FRA",
          "COL"
         ],
         "mode": "lines",
         "type": "scattergeo"
        },
        {
         "hovertext": "Recipient: Colombia<br>Supplier: Israel<br>SIPRI TIV: 0.0",
         "line": {
          "color": "red",
          "width": 2
         },
         "locationmode": "ISO-3",
         "locations": [
          "ISR",
          "COL"
         ],
         "mode": "lines",
         "type": "scattergeo"
        },
        {
         "hovertext": "Recipient: Colombia<br>Supplier: Sweden<br>SIPRI TIV: 0.0",
         "line": {
          "color": "red",
          "width": 2
         },
         "locationmode": "ISO-3",
         "locations": [
          "SWE",
          "COL"
         ],
         "mode": "lines",
         "type": "scattergeo"
        },
        {
         "hovertext": "Recipient: Colombia<br>Supplier: Sweden<br>SIPRI TIV: 0.0",
         "line": {
          "color": "red",
          "width": 2
         },
         "locationmode": "ISO-3",
         "locations": [
          "SWE",
          "COL"
         ],
         "mode": "lines",
         "type": "scattergeo"
        },
        {
         "hovertext": "Recipient: Colombia<br>Supplier: United States<br>SIPRI TIV: 0.52",
         "line": {
          "color": "red",
          "width": 2
         },
         "locationmode": "ISO-3",
         "locations": [
          "USA",
          "COL"
         ],
         "mode": "lines",
         "type": "scattergeo"
        },
        {
         "hovertext": "Recipient: Croatia<br>Supplier: Israel<br>SIPRI TIV: 0.0",
         "line": {
          "color": "red",
          "width": 2
         },
         "locationmode": "ISO-3",
         "locations": [
          "ISR",
          "HRV"
         ],
         "mode": "lines",
         "type": "scattergeo"
        },
        {
         "hovertext": "Recipient: Czechia<br>Supplier: Brazil<br>SIPRI TIV: 0.0",
         "line": {
          "color": "red",
          "width": 2
         },
         "locationmode": "ISO-3",
         "locations": [
          "BRA",
          "CZE"
         ],
         "mode": "lines",
         "type": "scattergeo"
        },
        {
         "hovertext": "Recipient: Czechia<br>Supplier: Israel<br>SIPRI TIV: 0.0",
         "line": {
          "color": "red",
          "width": 2
         },
         "locationmode": "ISO-3",
         "locations": [
          "ISR",
          "CZE"
         ],
         "mode": "lines",
         "type": "scattergeo"
        },
        {
         "hovertext": "Recipient: Czechia<br>Supplier: Sweden<br>SIPRI TIV: 0.0",
         "line": {
          "color": "red",
          "width": 2
         },
         "locationmode": "ISO-3",
         "locations": [
          "SWE",
          "CZE"
         ],
         "mode": "lines",
         "type": "scattergeo"
        },
        {
         "hovertext": "Recipient: Czechia<br>Supplier: Sweden<br>SIPRI TIV: 0.0",
         "line": {
          "color": "red",
          "width": 2
         },
         "locationmode": "ISO-3",
         "locations": [
          "SWE",
          "CZE"
         ],
         "mode": "lines",
         "type": "scattergeo"
        },
        {
         "hovertext": "Recipient: Czechia<br>Supplier: Sweden<br>SIPRI TIV: 0.0",
         "line": {
          "color": "red",
          "width": 2
         },
         "locationmode": "ISO-3",
         "locations": [
          "SWE",
          "CZE"
         ],
         "mode": "lines",
         "type": "scattergeo"
        },
        {
         "hovertext": "Recipient: Czechia<br>Supplier: United States<br>SIPRI TIV: 0.0",
         "line": {
          "color": "red",
          "width": 2
         },
         "locationmode": "ISO-3",
         "locations": [
          "USA",
          "CZE"
         ],
         "mode": "lines",
         "type": "scattergeo"
        },
        {
         "hovertext": "Recipient: Denmark<br>Supplier: Netherlands<br>SIPRI TIV: 0.0",
         "line": {
          "color": "red",
          "width": 2
         },
         "locationmode": "ISO-3",
         "locations": [
          "NLD",
          "DNK"
         ],
         "mode": "lines",
         "type": "scattergeo"
        },
        {
         "hovertext": "Recipient: Dominican Republic<br>Supplier: Italy<br>SIPRI TIV: 0.0",
         "line": {
          "color": "red",
          "width": 2
         },
         "locationmode": "ISO-3",
         "locations": [
          "ITA",
          "DOM"
         ],
         "mode": "lines",
         "type": "scattergeo"
        },
        {
         "hovertext": "Recipient: Ecuador<br>Supplier: Canada<br>SIPRI TIV: 0.0",
         "line": {
          "color": "red",
          "width": 2
         },
         "locationmode": "ISO-3",
         "locations": [
          "CAN",
          "ECU"
         ],
         "mode": "lines",
         "type": "scattergeo"
        },
        {
         "hovertext": "Recipient: Ecuador<br>Supplier: France<br>SIPRI TIV: 0.0",
         "line": {
          "color": "red",
          "width": 2
         },
         "locationmode": "ISO-3",
         "locations": [
          "FRA",
          "ECU"
         ],
         "mode": "lines",
         "type": "scattergeo"
        },
        {
         "hovertext": "Recipient: Ecuador<br>Supplier: Spain<br>SIPRI TIV: 0.0",
         "line": {
          "color": "red",
          "width": 2
         },
         "locationmode": "ISO-3",
         "locations": [
          "ESP",
          "ECU"
         ],
         "mode": "lines",
         "type": "scattergeo"
        },
        {
         "hovertext": "Recipient: Ecuador<br>Supplier: Spain<br>SIPRI TIV: 0.0",
         "line": {
          "color": "red",
          "width": 2
         },
         "locationmode": "ISO-3",
         "locations": [
          "ESP",
          "ECU"
         ],
         "mode": "lines",
         "type": "scattergeo"
        },
        {
         "hovertext": "Recipient: Ecuador<br>Supplier: United States<br>SIPRI TIV: 0.0",
         "line": {
          "color": "red",
          "width": 2
         },
         "locationmode": "ISO-3",
         "locations": [
          "USA",
          "ECU"
         ],
         "mode": "lines",
         "type": "scattergeo"
        },
        {
         "hovertext": "Recipient: Egypt<br>Supplier: United States<br>SIPRI TIV: 25.8",
         "line": {
          "color": "red",
          "width": 2
         },
         "locationmode": "ISO-3",
         "locations": [
          "USA",
          "EGY"
         ],
         "mode": "lines",
         "type": "scattergeo"
        },
        {
         "hovertext": "Recipient: Egypt<br>Supplier: United States<br>SIPRI TIV: 0.0",
         "line": {
          "color": "red",
          "width": 2
         },
         "locationmode": "ISO-3",
         "locations": [
          "USA",
          "EGY"
         ],
         "mode": "lines",
         "type": "scattergeo"
        },
        {
         "hovertext": "Recipient: Estonia<br>Supplier: France<br>SIPRI TIV: 0.0",
         "line": {
          "color": "red",
          "width": 2
         },
         "locationmode": "ISO-3",
         "locations": [
          "FRA",
          "EST"
         ],
         "mode": "lines",
         "type": "scattergeo"
        },
        {
         "hovertext": "Recipient: Estonia<br>Supplier: Germany<br>SIPRI TIV: 0.0",
         "line": {
          "color": "red",
          "width": 2
         },
         "locationmode": "ISO-3",
         "locations": [
          "DEU",
          "EST"
         ],
         "mode": "lines",
         "type": "scattergeo"
        },
        {
         "hovertext": "Recipient: Estonia<br>Supplier: Germany<br>SIPRI TIV: 0.0",
         "line": {
          "color": "red",
          "width": 2
         },
         "locationmode": "ISO-3",
         "locations": [
          "DEU",
          "EST"
         ],
         "mode": "lines",
         "type": "scattergeo"
        },
        {
         "hovertext": "Recipient: Estonia<br>Supplier: Israel<br>SIPRI TIV: 0.0",
         "line": {
          "color": "red",
          "width": 2
         },
         "locationmode": "ISO-3",
         "locations": [
          "ISR",
          "EST"
         ],
         "mode": "lines",
         "type": "scattergeo"
        },
        {
         "hovertext": "Recipient: Estonia<br>Supplier: South Korea<br>SIPRI TIV: 0.0",
         "line": {
          "color": "red",
          "width": 2
         },
         "locationmode": "ISO-3",
         "locations": [
          "KOR",
          "EST"
         ],
         "mode": "lines",
         "type": "scattergeo"
        },
        {
         "hovertext": "Recipient: Finland<br>Supplier: France<br>SIPRI TIV: 0.0",
         "line": {
          "color": "red",
          "width": 2
         },
         "locationmode": "ISO-3",
         "locations": [
          "FRA",
          "FIN"
         ],
         "mode": "lines",
         "type": "scattergeo"
        },
        {
         "hovertext": "Recipient: Finland<br>Supplier: Israel<br>SIPRI TIV: 0.0",
         "line": {
          "color": "red",
          "width": 2
         },
         "locationmode": "ISO-3",
         "locations": [
          "ISR",
          "FIN"
         ],
         "mode": "lines",
         "type": "scattergeo"
        },
        {
         "hovertext": "Recipient: Finland<br>Supplier: Israel<br>SIPRI TIV: 0.0",
         "line": {
          "color": "red",
          "width": 2
         },
         "locationmode": "ISO-3",
         "locations": [
          "ISR",
          "FIN"
         ],
         "mode": "lines",
         "type": "scattergeo"
        },
        {
         "hovertext": "Recipient: Finland<br>Supplier: Sweden<br>SIPRI TIV: 0.0",
         "line": {
          "color": "red",
          "width": 2
         },
         "locationmode": "ISO-3",
         "locations": [
          "SWE",
          "FIN"
         ],
         "mode": "lines",
         "type": "scattergeo"
        },
        {
         "hovertext": "Recipient: Finland<br>Supplier: Sweden<br>SIPRI TIV: 1.5",
         "line": {
          "color": "red",
          "width": 2
         },
         "locationmode": "ISO-3",
         "locations": [
          "SWE",
          "FIN"
         ],
         "mode": "lines",
         "type": "scattergeo"
        },
        {
         "hovertext": "Recipient: Finland<br>Supplier: United States<br>SIPRI TIV: 0.0",
         "line": {
          "color": "red",
          "width": 2
         },
         "locationmode": "ISO-3",
         "locations": [
          "USA",
          "FIN"
         ],
         "mode": "lines",
         "type": "scattergeo"
        },
        {
         "hovertext": "Recipient: Finland<br>Supplier: United States<br>SIPRI TIV: 0.0",
         "line": {
          "color": "red",
          "width": 2
         },
         "locationmode": "ISO-3",
         "locations": [
          "USA",
          "FIN"
         ],
         "mode": "lines",
         "type": "scattergeo"
        },
        {
         "hovertext": "Recipient: Finland<br>Supplier: United States<br>SIPRI TIV: 0.0",
         "line": {
          "color": "red",
          "width": 2
         },
         "locationmode": "ISO-3",
         "locations": [
          "USA",
          "FIN"
         ],
         "mode": "lines",
         "type": "scattergeo"
        },
        {
         "hovertext": "Recipient: Finland<br>Supplier: United States<br>SIPRI TIV: 0.0",
         "line": {
          "color": "red",
          "width": 2
         },
         "locationmode": "ISO-3",
         "locations": [
          "USA",
          "FIN"
         ],
         "mode": "lines",
         "type": "scattergeo"
        },
        {
         "hovertext": "Recipient: Germany<br>Supplier: Israel<br>SIPRI TIV: 0.0",
         "line": {
          "color": "red",
          "width": 2
         },
         "locationmode": "ISO-3",
         "locations": [
          "ISR",
          "DEU"
         ],
         "mode": "lines",
         "type": "scattergeo"
        },
        {
         "hovertext": "Recipient: Germany<br>Supplier: Israel<br>SIPRI TIV: 0.0",
         "line": {
          "color": "red",
          "width": 2
         },
         "locationmode": "ISO-3",
         "locations": [
          "ISR",
          "DEU"
         ],
         "mode": "lines",
         "type": "scattergeo"
        },
        {
         "hovertext": "Recipient: Germany<br>Supplier: Italy<br>SIPRI TIV: 0.0",
         "line": {
          "color": "red",
          "width": 2
         },
         "locationmode": "ISO-3",
         "locations": [
          "ITA",
          "DEU"
         ],
         "mode": "lines",
         "type": "scattergeo"
        },
        {
         "hovertext": "Recipient: Germany<br>Supplier: United Kingdom<br>SIPRI TIV: 0.0",
         "line": {
          "color": "red",
          "width": 2
         },
         "locationmode": "ISO-3",
         "locations": [
          "GBR",
          "DEU"
         ],
         "mode": "lines",
         "type": "scattergeo"
        },
        {
         "hovertext": "Recipient: Germany<br>Supplier: United States<br>SIPRI TIV: 0.0",
         "line": {
          "color": "red",
          "width": 2
         },
         "locationmode": "ISO-3",
         "locations": [
          "USA",
          "DEU"
         ],
         "mode": "lines",
         "type": "scattergeo"
        },
        {
         "hovertext": "Recipient: Germany<br>Supplier: United States<br>SIPRI TIV: 0.0",
         "line": {
          "color": "red",
          "width": 2
         },
         "locationmode": "ISO-3",
         "locations": [
          "USA",
          "DEU"
         ],
         "mode": "lines",
         "type": "scattergeo"
        },
        {
         "hovertext": "Recipient: Germany<br>Supplier: United States<br>SIPRI TIV: 0.0",
         "line": {
          "color": "red",
          "width": 2
         },
         "locationmode": "ISO-3",
         "locations": [
          "USA",
          "DEU"
         ],
         "mode": "lines",
         "type": "scattergeo"
        },
        {
         "hovertext": "Recipient: Germany<br>Supplier: United States<br>SIPRI TIV: 0.0",
         "line": {
          "color": "red",
          "width": 2
         },
         "locationmode": "ISO-3",
         "locations": [
          "USA",
          "DEU"
         ],
         "mode": "lines",
         "type": "scattergeo"
        },
        {
         "hovertext": "Recipient: Germany<br>Supplier: United States<br>SIPRI TIV: 0.0",
         "line": {
          "color": "red",
          "width": 2
         },
         "locationmode": "ISO-3",
         "locations": [
          "USA",
          "DEU"
         ],
         "mode": "lines",
         "type": "scattergeo"
        },
        {
         "hovertext": "Recipient: Germany<br>Supplier: United States<br>SIPRI TIV: 0.0",
         "line": {
          "color": "red",
          "width": 2
         },
         "locationmode": "ISO-3",
         "locations": [
          "USA",
          "DEU"
         ],
         "mode": "lines",
         "type": "scattergeo"
        },
        {
         "hovertext": "Recipient: Gabon<br>Supplier: Canada<br>SIPRI TIV: 1.5",
         "line": {
          "color": "red",
          "width": 2
         },
         "locationmode": "ISO-3",
         "locations": [
          "CAN",
          "GAB"
         ],
         "mode": "lines",
         "type": "scattergeo"
        },
        {
         "hovertext": "Recipient: Gabon<br>Supplier: Spain<br>SIPRI TIV: 12.5",
         "line": {
          "color": "red",
          "width": 2
         },
         "locationmode": "ISO-3",
         "locations": [
          "ESP",
          "GAB"
         ],
         "mode": "lines",
         "type": "scattergeo"
        },
        {
         "hovertext": "Recipient: Georgia<br>Supplier: Poland<br>SIPRI TIV: 0.0",
         "line": {
          "color": "red",
          "width": 2
         },
         "locationmode": "ISO-3",
         "locations": [
          "POL",
          "GEO"
         ],
         "mode": "lines",
         "type": "scattergeo"
        },
        {
         "hovertext": "Recipient: Ghana<br>Supplier: China<br>SIPRI TIV: 2.4",
         "line": {
          "color": "red",
          "width": 2
         },
         "locationmode": "ISO-3",
         "locations": [
          "CHN",
          "GHA"
         ],
         "mode": "lines",
         "type": "scattergeo"
        },
        {
         "hovertext": "Recipient: Ghana<br>Supplier: United States<br>SIPRI TIV: 3.36",
         "line": {
          "color": "red",
          "width": 2
         },
         "locationmode": "ISO-3",
         "locations": [
          "USA",
          "GHA"
         ],
         "mode": "lines",
         "type": "scattergeo"
        },
        {
         "hovertext": "Recipient: Greece<br>Supplier: France<br>SIPRI TIV: 0.0",
         "line": {
          "color": "red",
          "width": 2
         },
         "locationmode": "ISO-3",
         "locations": [
          "FRA",
          "GRC"
         ],
         "mode": "lines",
         "type": "scattergeo"
        },
        {
         "hovertext": "Recipient: Greece<br>Supplier: Israel<br>SIPRI TIV: 0.0",
         "line": {
          "color": "red",
          "width": 2
         },
         "locationmode": "ISO-3",
         "locations": [
          "ISR",
          "GRC"
         ],
         "mode": "lines",
         "type": "scattergeo"
        },
        {
         "hovertext": "Recipient: Greece<br>Supplier: Israel<br>SIPRI TIV: 0.0",
         "line": {
          "color": "red",
          "width": 2
         },
         "locationmode": "ISO-3",
         "locations": [
          "ISR",
          "GRC"
         ],
         "mode": "lines",
         "type": "scattergeo"
        },
        {
         "hovertext": "Recipient: Greece<br>Supplier: Israel<br>SIPRI TIV: 0.0",
         "line": {
          "color": "red",
          "width": 2
         },
         "locationmode": "ISO-3",
         "locations": [
          "ISR",
          "GRC"
         ],
         "mode": "lines",
         "type": "scattergeo"
        },
        {
         "hovertext": "Recipient: Greece<br>Supplier: Israel<br>SIPRI TIV: 0.0",
         "line": {
          "color": "red",
          "width": 2
         },
         "locationmode": "ISO-3",
         "locations": [
          "ISR",
          "GRC"
         ],
         "mode": "lines",
         "type": "scattergeo"
        },
        {
         "hovertext": "Recipient: Greece<br>Supplier: Israel<br>SIPRI TIV: 0.0",
         "line": {
          "color": "red",
          "width": 2
         },
         "locationmode": "ISO-3",
         "locations": [
          "ISR",
          "GRC"
         ],
         "mode": "lines",
         "type": "scattergeo"
        },
        {
         "hovertext": "Recipient: Greece<br>Supplier: Italy<br>SIPRI TIV: 0.0",
         "line": {
          "color": "red",
          "width": 2
         },
         "locationmode": "ISO-3",
         "locations": [
          "ITA",
          "GRC"
         ],
         "mode": "lines",
         "type": "scattergeo"
        },
        {
         "hovertext": "Recipient: Greece<br>Supplier: United States<br>SIPRI TIV: 0.0",
         "line": {
          "color": "red",
          "width": 2
         },
         "locationmode": "ISO-3",
         "locations": [
          "USA",
          "GRC"
         ],
         "mode": "lines",
         "type": "scattergeo"
        },
        {
         "hovertext": "Recipient: Greece<br>Supplier: United States<br>SIPRI TIV: 0.0",
         "line": {
          "color": "red",
          "width": 2
         },
         "locationmode": "ISO-3",
         "locations": [
          "USA",
          "GRC"
         ],
         "mode": "lines",
         "type": "scattergeo"
        },
        {
         "hovertext": "Recipient: Greece<br>Supplier: United States<br>SIPRI TIV: 0.0",
         "line": {
          "color": "red",
          "width": 2
         },
         "locationmode": "ISO-3",
         "locations": [
          "USA",
          "GRC"
         ],
         "mode": "lines",
         "type": "scattergeo"
        },
        {
         "hovertext": "Recipient: Greece<br>Supplier: United States<br>SIPRI TIV: 0.0",
         "line": {
          "color": "red",
          "width": 2
         },
         "locationmode": "ISO-3",
         "locations": [
          "USA",
          "GRC"
         ],
         "mode": "lines",
         "type": "scattergeo"
        },
        {
         "hovertext": "Recipient: Greece<br>Supplier: United States<br>SIPRI TIV: 0.0",
         "line": {
          "color": "red",
          "width": 2
         },
         "locationmode": "ISO-3",
         "locations": [
          "USA",
          "GRC"
         ],
         "mode": "lines",
         "type": "scattergeo"
        },
        {
         "hovertext": "Recipient: Guatemala<br>Supplier: United States<br>SIPRI TIV: 0.56",
         "line": {
          "color": "red",
          "width": 2
         },
         "locationmode": "ISO-3",
         "locations": [
          "USA",
          "GTM"
         ],
         "mode": "lines",
         "type": "scattergeo"
        },
        {
         "hovertext": "Recipient: Honduras<br>Supplier: Germany<br>SIPRI TIV: 0.0",
         "line": {
          "color": "red",
          "width": 2
         },
         "locationmode": "ISO-3",
         "locations": [
          "DEU",
          "HND"
         ],
         "mode": "lines",
         "type": "scattergeo"
        },
        {
         "hovertext": "Recipient: Honduras<br>Supplier: United States<br>SIPRI TIV: 0.0",
         "line": {
          "color": "red",
          "width": 2
         },
         "locationmode": "ISO-3",
         "locations": [
          "USA",
          "HND"
         ],
         "mode": "lines",
         "type": "scattergeo"
        },
        {
         "hovertext": "Recipient: Hungary<br>Supplier: Israel<br>SIPRI TIV: 0.0",
         "line": {
          "color": "red",
          "width": 2
         },
         "locationmode": "ISO-3",
         "locations": [
          "ISR",
          "HUN"
         ],
         "mode": "lines",
         "type": "scattergeo"
        },
        {
         "hovertext": "Recipient: India<br>Supplier: France<br>SIPRI TIV: 0.0",
         "line": {
          "color": "red",
          "width": 2
         },
         "locationmode": "ISO-3",
         "locations": [
          "FRA",
          "IND"
         ],
         "mode": "lines",
         "type": "scattergeo"
        },
        {
         "hovertext": "Recipient: India<br>Supplier: Germany<br>SIPRI TIV: 2.2",
         "line": {
          "color": "red",
          "width": 2
         },
         "locationmode": "ISO-3",
         "locations": [
          "DEU",
          "IND"
         ],
         "mode": "lines",
         "type": "scattergeo"
        },
        {
         "hovertext": "Recipient: India<br>Supplier: Israel<br>SIPRI TIV: 0.0",
         "line": {
          "color": "red",
          "width": 2
         },
         "locationmode": "ISO-3",
         "locations": [
          "ISR",
          "IND"
         ],
         "mode": "lines",
         "type": "scattergeo"
        },
        {
         "hovertext": "Recipient: India<br>Supplier: Italy<br>SIPRI TIV: 0.0",
         "line": {
          "color": "red",
          "width": 2
         },
         "locationmode": "ISO-3",
         "locations": [
          "ITA",
          "IND"
         ],
         "mode": "lines",
         "type": "scattergeo"
        },
        {
         "hovertext": "Recipient: India<br>Supplier: South Korea<br>SIPRI TIV: 0.0",
         "line": {
          "color": "red",
          "width": 2
         },
         "locationmode": "ISO-3",
         "locations": [
          "KOR",
          "IND"
         ],
         "mode": "lines",
         "type": "scattergeo"
        },
        {
         "hovertext": "Recipient: India<br>Supplier: Spain<br>SIPRI TIV: 0.0",
         "line": {
          "color": "red",
          "width": 2
         },
         "locationmode": "ISO-3",
         "locations": [
          "ESP",
          "IND"
         ],
         "mode": "lines",
         "type": "scattergeo"
        },
        {
         "hovertext": "Recipient: India<br>Supplier: United States<br>SIPRI TIV: 0.0",
         "line": {
          "color": "red",
          "width": 2
         },
         "locationmode": "ISO-3",
         "locations": [
          "USA",
          "IND"
         ],
         "mode": "lines",
         "type": "scattergeo"
        },
        {
         "hovertext": "Recipient: India<br>Supplier: United States<br>SIPRI TIV: 0.0",
         "line": {
          "color": "red",
          "width": 2
         },
         "locationmode": "ISO-3",
         "locations": [
          "USA",
          "IND"
         ],
         "mode": "lines",
         "type": "scattergeo"
        },
        {
         "hovertext": "Recipient: Indonesia<br>Supplier: Australia<br>SIPRI TIV: 2.1",
         "line": {
          "color": "red",
          "width": 2
         },
         "locationmode": "ISO-3",
         "locations": [
          "AUS",
          "IDN"
         ],
         "mode": "lines",
         "type": "scattergeo"
        },
        {
         "hovertext": "Recipient: Indonesia<br>Supplier: France<br>SIPRI TIV: 0.0",
         "line": {
          "color": "red",
          "width": 2
         },
         "locationmode": "ISO-3",
         "locations": [
          "FRA",
          "IDN"
         ],
         "mode": "lines",
         "type": "scattergeo"
        },
        {
         "hovertext": "Recipient: Indonesia<br>Supplier: France<br>SIPRI TIV: 0.0",
         "line": {
          "color": "red",
          "width": 2
         },
         "locationmode": "ISO-3",
         "locations": [
          "FRA",
          "IDN"
         ],
         "mode": "lines",
         "type": "scattergeo"
        },
        {
         "hovertext": "Recipient: Indonesia<br>Supplier: France<br>SIPRI TIV: 0.0",
         "line": {
          "color": "red",
          "width": 2
         },
         "locationmode": "ISO-3",
         "locations": [
          "FRA",
          "IDN"
         ],
         "mode": "lines",
         "type": "scattergeo"
        },
        {
         "hovertext": "Recipient: Indonesia<br>Supplier: Italy<br>SIPRI TIV: 0.0",
         "line": {
          "color": "red",
          "width": 2
         },
         "locationmode": "ISO-3",
         "locations": [
          "ITA",
          "IDN"
         ],
         "mode": "lines",
         "type": "scattergeo"
        },
        {
         "hovertext": "Recipient: Indonesia<br>Supplier: United States<br>SIPRI TIV: 0.0",
         "line": {
          "color": "red",
          "width": 2
         },
         "locationmode": "ISO-3",
         "locations": [
          "USA",
          "IDN"
         ],
         "mode": "lines",
         "type": "scattergeo"
        },
        {
         "hovertext": "Recipient: Iraq<br>Supplier: China<br>SIPRI TIV: 0.0",
         "line": {
          "color": "red",
          "width": 2
         },
         "locationmode": "ISO-3",
         "locations": [
          "CHN",
          "IRQ"
         ],
         "mode": "lines",
         "type": "scattergeo"
        },
        {
         "hovertext": "Recipient: Iraq<br>Supplier: France<br>SIPRI TIV: 0.0",
         "line": {
          "color": "red",
          "width": 2
         },
         "locationmode": "ISO-3",
         "locations": [
          "FRA",
          "IRQ"
         ],
         "mode": "lines",
         "type": "scattergeo"
        },
        {
         "hovertext": "Recipient: Israel<br>Supplier: United States<br>SIPRI TIV: 40.0",
         "line": {
          "color": "red",
          "width": 2
         },
         "locationmode": "ISO-3",
         "locations": [
          "USA",
          "ISR"
         ],
         "mode": "lines",
         "type": "scattergeo"
        },
        {
         "hovertext": "Recipient: Israel<br>Supplier: United States<br>SIPRI TIV: 0.0",
         "line": {
          "color": "red",
          "width": 2
         },
         "locationmode": "ISO-3",
         "locations": [
          "USA",
          "ISR"
         ],
         "mode": "lines",
         "type": "scattergeo"
        },
        {
         "hovertext": "Recipient: Israel<br>Supplier: United States<br>SIPRI TIV: 0.0",
         "line": {
          "color": "red",
          "width": 2
         },
         "locationmode": "ISO-3",
         "locations": [
          "USA",
          "ISR"
         ],
         "mode": "lines",
         "type": "scattergeo"
        },
        {
         "hovertext": "Recipient: Israel<br>Supplier: United States<br>SIPRI TIV: 0.0",
         "line": {
          "color": "red",
          "width": 2
         },
         "locationmode": "ISO-3",
         "locations": [
          "USA",
          "ISR"
         ],
         "mode": "lines",
         "type": "scattergeo"
        },
        {
         "hovertext": "Recipient: Israel<br>Supplier: United States<br>SIPRI TIV: 20.0",
         "line": {
          "color": "red",
          "width": 2
         },
         "locationmode": "ISO-3",
         "locations": [
          "USA",
          "ISR"
         ],
         "mode": "lines",
         "type": "scattergeo"
        },
        {
         "hovertext": "Recipient: Israel<br>Supplier: United States<br>SIPRI TIV: 9.6",
         "line": {
          "color": "red",
          "width": 2
         },
         "locationmode": "ISO-3",
         "locations": [
          "USA",
          "ISR"
         ],
         "mode": "lines",
         "type": "scattergeo"
        },
        {
         "hovertext": "Recipient: Israel<br>Supplier: United States<br>SIPRI TIV: 0.0",
         "line": {
          "color": "red",
          "width": 2
         },
         "locationmode": "ISO-3",
         "locations": [
          "USA",
          "ISR"
         ],
         "mode": "lines",
         "type": "scattergeo"
        },
        {
         "hovertext": "Recipient: Israel<br>Supplier: United States<br>SIPRI TIV: 18.0",
         "line": {
          "color": "red",
          "width": 2
         },
         "locationmode": "ISO-3",
         "locations": [
          "USA",
          "ISR"
         ],
         "mode": "lines",
         "type": "scattergeo"
        },
        {
         "hovertext": "Recipient: Italy<br>Supplier: Germany<br>SIPRI TIV: 0.0",
         "line": {
          "color": "red",
          "width": 2
         },
         "locationmode": "ISO-3",
         "locations": [
          "DEU",
          "ITA"
         ],
         "mode": "lines",
         "type": "scattergeo"
        },
        {
         "hovertext": "Recipient: Italy<br>Supplier: United States<br>SIPRI TIV: 0.0",
         "line": {
          "color": "red",
          "width": 2
         },
         "locationmode": "ISO-3",
         "locations": [
          "USA",
          "ITA"
         ],
         "mode": "lines",
         "type": "scattergeo"
        },
        {
         "hovertext": "Recipient: Italy<br>Supplier: United States<br>SIPRI TIV: 0.0",
         "line": {
          "color": "red",
          "width": 2
         },
         "locationmode": "ISO-3",
         "locations": [
          "USA",
          "ITA"
         ],
         "mode": "lines",
         "type": "scattergeo"
        },
        {
         "hovertext": "Recipient: Italy<br>Supplier: United States<br>SIPRI TIV: 0.0",
         "line": {
          "color": "red",
          "width": 2
         },
         "locationmode": "ISO-3",
         "locations": [
          "USA",
          "ITA"
         ],
         "mode": "lines",
         "type": "scattergeo"
        },
        {
         "hovertext": "Recipient: Japan<br>Supplier: Finland<br>SIPRI TIV: 0.0",
         "line": {
          "color": "red",
          "width": 2
         },
         "locationmode": "ISO-3",
         "locations": [
          "FIN",
          "JPN"
         ],
         "mode": "lines",
         "type": "scattergeo"
        },
        {
         "hovertext": "Recipient: Japan<br>Supplier: Sweden<br>SIPRI TIV: 0.0",
         "line": {
          "color": "red",
          "width": 2
         },
         "locationmode": "ISO-3",
         "locations": [
          "SWE",
          "JPN"
         ],
         "mode": "lines",
         "type": "scattergeo"
        },
        {
         "hovertext": "Recipient: Japan<br>Supplier: United Kingdom<br>SIPRI TIV: 0.0",
         "line": {
          "color": "red",
          "width": 2
         },
         "locationmode": "ISO-3",
         "locations": [
          "GBR",
          "JPN"
         ],
         "mode": "lines",
         "type": "scattergeo"
        },
        {
         "hovertext": "Recipient: Japan<br>Supplier: United States<br>SIPRI TIV: 0.0",
         "line": {
          "color": "red",
          "width": 2
         },
         "locationmode": "ISO-3",
         "locations": [
          "USA",
          "JPN"
         ],
         "mode": "lines",
         "type": "scattergeo"
        },
        {
         "hovertext": "Recipient: Japan<br>Supplier: United States<br>SIPRI TIV: 0.0",
         "line": {
          "color": "red",
          "width": 2
         },
         "locationmode": "ISO-3",
         "locations": [
          "USA",
          "JPN"
         ],
         "mode": "lines",
         "type": "scattergeo"
        },
        {
         "hovertext": "Recipient: Japan<br>Supplier: United States<br>SIPRI TIV: 0.0",
         "line": {
          "color": "red",
          "width": 2
         },
         "locationmode": "ISO-3",
         "locations": [
          "USA",
          "JPN"
         ],
         "mode": "lines",
         "type": "scattergeo"
        },
        {
         "hovertext": "Recipient: Japan<br>Supplier: United States<br>SIPRI TIV: 0.0",
         "line": {
          "color": "red",
          "width": 2
         },
         "locationmode": "ISO-3",
         "locations": [
          "USA",
          "JPN"
         ],
         "mode": "lines",
         "type": "scattergeo"
        },
        {
         "hovertext": "Recipient: Japan<br>Supplier: United States<br>SIPRI TIV: 0.0",
         "line": {
          "color": "red",
          "width": 2
         },
         "locationmode": "ISO-3",
         "locations": [
          "USA",
          "JPN"
         ],
         "mode": "lines",
         "type": "scattergeo"
        },
        {
         "hovertext": "Recipient: Jordan<br>Supplier: United States<br>SIPRI TIV: 0.0",
         "line": {
          "color": "red",
          "width": 2
         },
         "locationmode": "ISO-3",
         "locations": [
          "USA",
          "JOR"
         ],
         "mode": "lines",
         "type": "scattergeo"
        },
        {
         "hovertext": "Recipient: Jordan<br>Supplier: United States<br>SIPRI TIV: 0.0",
         "line": {
          "color": "red",
          "width": 2
         },
         "locationmode": "ISO-3",
         "locations": [
          "USA",
          "JOR"
         ],
         "mode": "lines",
         "type": "scattergeo"
        },
        {
         "hovertext": "Recipient: South Korea<br>Supplier: Brazil<br>SIPRI TIV: 0.0",
         "line": {
          "color": "red",
          "width": 2
         },
         "locationmode": "ISO-3",
         "locations": [
          "BRA",
          "KOR"
         ],
         "mode": "lines",
         "type": "scattergeo"
        },
        {
         "hovertext": "Recipient: South Korea<br>Supplier: Canada<br>SIPRI TIV: 0.0",
         "line": {
          "color": "red",
          "width": 2
         },
         "locationmode": "ISO-3",
         "locations": [
          "CAN",
          "KOR"
         ],
         "mode": "lines",
         "type": "scattergeo"
        },
        {
         "hovertext": "Recipient: South Korea<br>Supplier: France<br>SIPRI TIV: 0.0",
         "line": {
          "color": "red",
          "width": 2
         },
         "locationmode": "ISO-3",
         "locations": [
          "FRA",
          "KOR"
         ],
         "mode": "lines",
         "type": "scattergeo"
        },
        {
         "hovertext": "Recipient: South Korea<br>Supplier: Germany<br>SIPRI TIV: 0.0",
         "line": {
          "color": "red",
          "width": 2
         },
         "locationmode": "ISO-3",
         "locations": [
          "DEU",
          "KOR"
         ],
         "mode": "lines",
         "type": "scattergeo"
        },
        {
         "hovertext": "Recipient: South Korea<br>Supplier: Israel<br>SIPRI TIV: 0.0",
         "line": {
          "color": "red",
          "width": 2
         },
         "locationmode": "ISO-3",
         "locations": [
          "ISR",
          "KOR"
         ],
         "mode": "lines",
         "type": "scattergeo"
        },
        {
         "hovertext": "Recipient: South Korea<br>Supplier: United States<br>SIPRI TIV: 0.0",
         "line": {
          "color": "red",
          "width": 2
         },
         "locationmode": "ISO-3",
         "locations": [
          "USA",
          "KOR"
         ],
         "mode": "lines",
         "type": "scattergeo"
        },
        {
         "hovertext": "Recipient: South Korea<br>Supplier: United States<br>SIPRI TIV: 0.0",
         "line": {
          "color": "red",
          "width": 2
         },
         "locationmode": "ISO-3",
         "locations": [
          "USA",
          "KOR"
         ],
         "mode": "lines",
         "type": "scattergeo"
        },
        {
         "hovertext": "Recipient: South Korea<br>Supplier: United States<br>SIPRI TIV: 0.0",
         "line": {
          "color": "red",
          "width": 2
         },
         "locationmode": "ISO-3",
         "locations": [
          "USA",
          "KOR"
         ],
         "mode": "lines",
         "type": "scattergeo"
        },
        {
         "hovertext": "Recipient: South Korea<br>Supplier: United States<br>SIPRI TIV: 0.0",
         "line": {
          "color": "red",
          "width": 2
         },
         "locationmode": "ISO-3",
         "locations": [
          "USA",
          "KOR"
         ],
         "mode": "lines",
         "type": "scattergeo"
        },
        {
         "hovertext": "Recipient: South Korea<br>Supplier: United States<br>SIPRI TIV: 0.0",
         "line": {
          "color": "red",
          "width": 2
         },
         "locationmode": "ISO-3",
         "locations": [
          "USA",
          "KOR"
         ],
         "mode": "lines",
         "type": "scattergeo"
        },
        {
         "hovertext": "Recipient: South Korea<br>Supplier: United States<br>SIPRI TIV: 0.0",
         "line": {
          "color": "red",
          "width": 2
         },
         "locationmode": "ISO-3",
         "locations": [
          "USA",
          "KOR"
         ],
         "mode": "lines",
         "type": "scattergeo"
        },
        {
         "hovertext": "Recipient: South Korea<br>Supplier: United States<br>SIPRI TIV: 0.0",
         "line": {
          "color": "red",
          "width": 2
         },
         "locationmode": "ISO-3",
         "locations": [
          "USA",
          "KOR"
         ],
         "mode": "lines",
         "type": "scattergeo"
        },
        {
         "hovertext": "Recipient: Laos<br>Supplier: China<br>SIPRI TIV: 1.6",
         "line": {
          "color": "red",
          "width": 2
         },
         "locationmode": "ISO-3",
         "locations": [
          "CHN",
          "LAO"
         ],
         "mode": "lines",
         "type": "scattergeo"
        },
        {
         "hovertext": "Recipient: Latvia<br>Supplier: Germany<br>SIPRI TIV: 0.0",
         "line": {
          "color": "red",
          "width": 2
         },
         "locationmode": "ISO-3",
         "locations": [
          "DEU",
          "LVA"
         ],
         "mode": "lines",
         "type": "scattergeo"
        },
        {
         "hovertext": "Recipient: Latvia<br>Supplier: Germany<br>SIPRI TIV: 0.0",
         "line": {
          "color": "red",
          "width": 2
         },
         "locationmode": "ISO-3",
         "locations": [
          "DEU",
          "LVA"
         ],
         "mode": "lines",
         "type": "scattergeo"
        },
        {
         "hovertext": "Recipient: Latvia<br>Supplier: Norway<br>SIPRI TIV: 0.0",
         "line": {
          "color": "red",
          "width": 2
         },
         "locationmode": "ISO-3",
         "locations": [
          "NOR",
          "LVA"
         ],
         "mode": "lines",
         "type": "scattergeo"
        },
        {
         "hovertext": "Recipient: Latvia<br>Supplier: Norway<br>SIPRI TIV: 0.0",
         "line": {
          "color": "red",
          "width": 2
         },
         "locationmode": "ISO-3",
         "locations": [
          "NOR",
          "LVA"
         ],
         "mode": "lines",
         "type": "scattergeo"
        },
        {
         "hovertext": "Recipient: Latvia<br>Supplier: United States<br>SIPRI TIV: 0.0",
         "line": {
          "color": "red",
          "width": 2
         },
         "locationmode": "ISO-3",
         "locations": [
          "USA",
          "LVA"
         ],
         "mode": "lines",
         "type": "scattergeo"
        },
        {
         "hovertext": "Recipient: Latvia<br>Supplier: United States<br>SIPRI TIV: 0.0",
         "line": {
          "color": "red",
          "width": 2
         },
         "locationmode": "ISO-3",
         "locations": [
          "USA",
          "LVA"
         ],
         "mode": "lines",
         "type": "scattergeo"
        },
        {
         "hovertext": "Recipient: Latvia<br>Supplier: United States<br>SIPRI TIV: 0.0",
         "line": {
          "color": "red",
          "width": 2
         },
         "locationmode": "ISO-3",
         "locations": [
          "USA",
          "LVA"
         ],
         "mode": "lines",
         "type": "scattergeo"
        },
        {
         "hovertext": "Recipient: Latvia<br>Supplier: United States<br>SIPRI TIV: 0.0",
         "line": {
          "color": "red",
          "width": 2
         },
         "locationmode": "ISO-3",
         "locations": [
          "USA",
          "LVA"
         ],
         "mode": "lines",
         "type": "scattergeo"
        },
        {
         "hovertext": "Recipient: Lebanon<br>Supplier: France<br>SIPRI TIV: 0.0",
         "line": {
          "color": "red",
          "width": 2
         },
         "locationmode": "ISO-3",
         "locations": [
          "FRA",
          "LBN"
         ],
         "mode": "lines",
         "type": "scattergeo"
        },
        {
         "hovertext": "Recipient: Lithuania<br>Supplier: Germany<br>SIPRI TIV: 0.0",
         "line": {
          "color": "red",
          "width": 2
         },
         "locationmode": "ISO-3",
         "locations": [
          "DEU",
          "LTU"
         ],
         "mode": "lines",
         "type": "scattergeo"
        },
        {
         "hovertext": "Recipient: Lithuania<br>Supplier: Netherlands<br>SIPRI TIV: 0.0",
         "line": {
          "color": "red",
          "width": 2
         },
         "locationmode": "ISO-3",
         "locations": [
          "NLD",
          "LTU"
         ],
         "mode": "lines",
         "type": "scattergeo"
        },
        {
         "hovertext": "Recipient: Lithuania<br>Supplier: Norway<br>SIPRI TIV: 0.0",
         "line": {
          "color": "red",
          "width": 2
         },
         "locationmode": "ISO-3",
         "locations": [
          "NOR",
          "LTU"
         ],
         "mode": "lines",
         "type": "scattergeo"
        },
        {
         "hovertext": "Recipient: Lithuania<br>Supplier: United States<br>SIPRI TIV: 0.0",
         "line": {
          "color": "red",
          "width": 2
         },
         "locationmode": "ISO-3",
         "locations": [
          "USA",
          "LTU"
         ],
         "mode": "lines",
         "type": "scattergeo"
        },
        {
         "hovertext": "Recipient: Lithuania<br>Supplier: United States<br>SIPRI TIV: 0.0",
         "line": {
          "color": "red",
          "width": 2
         },
         "locationmode": "ISO-3",
         "locations": [
          "USA",
          "LTU"
         ],
         "mode": "lines",
         "type": "scattergeo"
        },
        {
         "hovertext": "Recipient: Lithuania<br>Supplier: United States<br>SIPRI TIV: 0.0",
         "line": {
          "color": "red",
          "width": 2
         },
         "locationmode": "ISO-3",
         "locations": [
          "USA",
          "LTU"
         ],
         "mode": "lines",
         "type": "scattergeo"
        },
        {
         "hovertext": "Recipient: North Macedonia<br>Supplier: Italy<br>SIPRI TIV: 0.0",
         "line": {
          "color": "red",
          "width": 2
         },
         "locationmode": "ISO-3",
         "locations": [
          "ITA",
          "MKD"
         ],
         "mode": "lines",
         "type": "scattergeo"
        },
        {
         "hovertext": "Recipient: North Macedonia<br>Supplier: Italy<br>SIPRI TIV: 0.0",
         "line": {
          "color": "red",
          "width": 2
         },
         "locationmode": "ISO-3",
         "locations": [
          "ITA",
          "MKD"
         ],
         "mode": "lines",
         "type": "scattergeo"
        },
        {
         "hovertext": "Recipient: Malaysia<br>Supplier: Canada<br>SIPRI TIV: 0.0",
         "line": {
          "color": "red",
          "width": 2
         },
         "locationmode": "ISO-3",
         "locations": [
          "CAN",
          "MYS"
         ],
         "mode": "lines",
         "type": "scattergeo"
        },
        {
         "hovertext": "Recipient: Malaysia<br>Supplier: Israel<br>SIPRI TIV: 0.0",
         "line": {
          "color": "red",
          "width": 2
         },
         "locationmode": "ISO-3",
         "locations": [
          "ISR",
          "MYS"
         ],
         "mode": "lines",
         "type": "scattergeo"
        },
        {
         "hovertext": "Recipient: Malaysia<br>Supplier: Italy<br>SIPRI TIV: 0.0",
         "line": {
          "color": "red",
          "width": 2
         },
         "locationmode": "ISO-3",
         "locations": [
          "ITA",
          "MYS"
         ],
         "mode": "lines",
         "type": "scattergeo"
        },
        {
         "hovertext": "Recipient: Malaysia<br>Supplier: South Korea<br>SIPRI TIV: 0.0",
         "line": {
          "color": "red",
          "width": 2
         },
         "locationmode": "ISO-3",
         "locations": [
          "KOR",
          "MYS"
         ],
         "mode": "lines",
         "type": "scattergeo"
        },
        {
         "hovertext": "Recipient: Malaysia<br>Supplier: United States<br>SIPRI TIV: 0.0",
         "line": {
          "color": "red",
          "width": 2
         },
         "locationmode": "ISO-3",
         "locations": [
          "USA",
          "MYS"
         ],
         "mode": "lines",
         "type": "scattergeo"
        },
        {
         "hovertext": "Recipient: Malaysia<br>Supplier: United States<br>SIPRI TIV: 0.0",
         "line": {
          "color": "red",
          "width": 2
         },
         "locationmode": "ISO-3",
         "locations": [
          "USA",
          "MYS"
         ],
         "mode": "lines",
         "type": "scattergeo"
        },
        {
         "hovertext": "Recipient: Moldova<br>Supplier: France<br>SIPRI TIV: 10.0",
         "line": {
          "color": "red",
          "width": 2
         },
         "locationmode": "ISO-3",
         "locations": [
          "FRA",
          "MDA"
         ],
         "mode": "lines",
         "type": "scattergeo"
        },
        {
         "hovertext": "Recipient: Morocco<br>Supplier: Israel<br>SIPRI TIV: 0.0",
         "line": {
          "color": "red",
          "width": 2
         },
         "locationmode": "ISO-3",
         "locations": [
          "ISR",
          "MAR"
         ],
         "mode": "lines",
         "type": "scattergeo"
        },
        {
         "hovertext": "Recipient: Montenegro<br>Supplier: Israel<br>SIPRI TIV: 0.0",
         "line": {
          "color": "red",
          "width": 2
         },
         "locationmode": "ISO-3",
         "locations": [
          "ISR",
          "MNE"
         ],
         "mode": "lines",
         "type": "scattergeo"
        },
        {
         "hovertext": "Recipient: Nepal<br>Supplier: Poland<br>SIPRI TIV: 0.0",
         "line": {
          "color": "red",
          "width": 2
         },
         "locationmode": "ISO-3",
         "locations": [
          "POL",
          "NPL"
         ],
         "mode": "lines",
         "type": "scattergeo"
        },
        {
         "hovertext": "Recipient: Netherlands<br>Supplier: Brazil<br>SIPRI TIV: 0.0",
         "line": {
          "color": "red",
          "width": 2
         },
         "locationmode": "ISO-3",
         "locations": [
          "BRA",
          "NLD"
         ],
         "mode": "lines",
         "type": "scattergeo"
        },
        {
         "hovertext": "Recipient: Netherlands<br>Supplier: France<br>SIPRI TIV: 0.0",
         "line": {
          "color": "red",
          "width": 2
         },
         "locationmode": "ISO-3",
         "locations": [
          "FRA",
          "NLD"
         ],
         "mode": "lines",
         "type": "scattergeo"
        },
        {
         "hovertext": "Recipient: Netherlands<br>Supplier: Germany<br>SIPRI TIV: 0.0",
         "line": {
          "color": "red",
          "width": 2
         },
         "locationmode": "ISO-3",
         "locations": [
          "DEU",
          "NLD"
         ],
         "mode": "lines",
         "type": "scattergeo"
        },
        {
         "hovertext": "Recipient: Netherlands<br>Supplier: Israel<br>SIPRI TIV: 0.0",
         "line": {
          "color": "red",
          "width": 2
         },
         "locationmode": "ISO-3",
         "locations": [
          "ISR",
          "NLD"
         ],
         "mode": "lines",
         "type": "scattergeo"
        },
        {
         "hovertext": "Recipient: Netherlands<br>Supplier: Italy<br>SIPRI TIV: 0.0",
         "line": {
          "color": "red",
          "width": 2
         },
         "locationmode": "ISO-3",
         "locations": [
          "ITA",
          "NLD"
         ],
         "mode": "lines",
         "type": "scattergeo"
        },
        {
         "hovertext": "Recipient: Netherlands<br>Supplier: Italy<br>SIPRI TIV: 0.0",
         "line": {
          "color": "red",
          "width": 2
         },
         "locationmode": "ISO-3",
         "locations": [
          "ITA",
          "NLD"
         ],
         "mode": "lines",
         "type": "scattergeo"
        },
        {
         "hovertext": "Recipient: Netherlands<br>Supplier: Norway<br>SIPRI TIV: 0.0",
         "line": {
          "color": "red",
          "width": 2
         },
         "locationmode": "ISO-3",
         "locations": [
          "NOR",
          "NLD"
         ],
         "mode": "lines",
         "type": "scattergeo"
        },
        {
         "hovertext": "Recipient: Netherlands<br>Supplier: United States<br>SIPRI TIV: 0.0",
         "line": {
          "color": "red",
          "width": 2
         },
         "locationmode": "ISO-3",
         "locations": [
          "USA",
          "NLD"
         ],
         "mode": "lines",
         "type": "scattergeo"
        },
        {
         "hovertext": "Recipient: Netherlands<br>Supplier: United States<br>SIPRI TIV: 0.0",
         "line": {
          "color": "red",
          "width": 2
         },
         "locationmode": "ISO-3",
         "locations": [
          "USA",
          "NLD"
         ],
         "mode": "lines",
         "type": "scattergeo"
        },
        {
         "hovertext": "Recipient: Netherlands<br>Supplier: United States<br>SIPRI TIV: 0.0",
         "line": {
          "color": "red",
          "width": 2
         },
         "locationmode": "ISO-3",
         "locations": [
          "USA",
          "NLD"
         ],
         "mode": "lines",
         "type": "scattergeo"
        },
        {
         "hovertext": "Recipient: Netherlands<br>Supplier: United States<br>SIPRI TIV: 0.0",
         "line": {
          "color": "red",
          "width": 2
         },
         "locationmode": "ISO-3",
         "locations": [
          "USA",
          "NLD"
         ],
         "mode": "lines",
         "type": "scattergeo"
        },
        {
         "hovertext": "Recipient: Netherlands<br>Supplier: United States<br>SIPRI TIV: 0.0",
         "line": {
          "color": "red",
          "width": 2
         },
         "locationmode": "ISO-3",
         "locations": [
          "USA",
          "NLD"
         ],
         "mode": "lines",
         "type": "scattergeo"
        },
        {
         "hovertext": "Recipient: Netherlands<br>Supplier: United States<br>SIPRI TIV: 0.0",
         "line": {
          "color": "red",
          "width": 2
         },
         "locationmode": "ISO-3",
         "locations": [
          "USA",
          "NLD"
         ],
         "mode": "lines",
         "type": "scattergeo"
        },
        {
         "hovertext": "Recipient: Nigeria<br>Supplier: France<br>SIPRI TIV: 0.0",
         "line": {
          "color": "red",
          "width": 2
         },
         "locationmode": "ISO-3",
         "locations": [
          "FRA",
          "NGA"
         ],
         "mode": "lines",
         "type": "scattergeo"
        },
        {
         "hovertext": "Recipient: Nigeria<br>Supplier: United States<br>SIPRI TIV: 0.0",
         "line": {
          "color": "red",
          "width": 2
         },
         "locationmode": "ISO-3",
         "locations": [
          "USA",
          "NGA"
         ],
         "mode": "lines",
         "type": "scattergeo"
        },
        {
         "hovertext": "Recipient: Niger<br>Supplier: Egypt<br>SIPRI TIV: 1.8",
         "line": {
          "color": "red",
          "width": 2
         },
         "locationmode": "ISO-3",
         "locations": [
          "EGY",
          "NER"
         ],
         "mode": "lines",
         "type": "scattergeo"
        },
        {
         "hovertext": "Recipient: Niger<br>Supplier: Egypt<br>SIPRI TIV: 2.16",
         "line": {
          "color": "red",
          "width": 2
         },
         "locationmode": "ISO-3",
         "locations": [
          "EGY",
          "NER"
         ],
         "mode": "lines",
         "type": "scattergeo"
        },
        {
         "hovertext": "Recipient: Norway<br>Supplier: Germany<br>SIPRI TIV: 0.0",
         "line": {
          "color": "red",
          "width": 2
         },
         "locationmode": "ISO-3",
         "locations": [
          "DEU",
          "NOR"
         ],
         "mode": "lines",
         "type": "scattergeo"
        },
        {
         "hovertext": "Recipient: Norway<br>Supplier: Germany<br>SIPRI TIV: 0.0",
         "line": {
          "color": "red",
          "width": 2
         },
         "locationmode": "ISO-3",
         "locations": [
          "DEU",
          "NOR"
         ],
         "mode": "lines",
         "type": "scattergeo"
        },
        {
         "hovertext": "Recipient: Norway<br>Supplier: United States<br>SIPRI TIV: 0.0",
         "line": {
          "color": "red",
          "width": 2
         },
         "locationmode": "ISO-3",
         "locations": [
          "USA",
          "NOR"
         ],
         "mode": "lines",
         "type": "scattergeo"
        },
        {
         "hovertext": "Recipient: Norway<br>Supplier: United States<br>SIPRI TIV: 0.0",
         "line": {
          "color": "red",
          "width": 2
         },
         "locationmode": "ISO-3",
         "locations": [
          "USA",
          "NOR"
         ],
         "mode": "lines",
         "type": "scattergeo"
        },
        {
         "hovertext": "Recipient: Norway<br>Supplier: United States<br>SIPRI TIV: 0.0",
         "line": {
          "color": "red",
          "width": 2
         },
         "locationmode": "ISO-3",
         "locations": [
          "USA",
          "NOR"
         ],
         "mode": "lines",
         "type": "scattergeo"
        },
        {
         "hovertext": "Recipient: Norway<br>Supplier: United States<br>SIPRI TIV: 0.0",
         "line": {
          "color": "red",
          "width": 2
         },
         "locationmode": "ISO-3",
         "locations": [
          "USA",
          "NOR"
         ],
         "mode": "lines",
         "type": "scattergeo"
        },
        {
         "hovertext": "Recipient: Norway<br>Supplier: United States<br>SIPRI TIV: 0.0",
         "line": {
          "color": "red",
          "width": 2
         },
         "locationmode": "ISO-3",
         "locations": [
          "USA",
          "NOR"
         ],
         "mode": "lines",
         "type": "scattergeo"
        },
        {
         "hovertext": "Recipient: Pakistan<br>Supplier: Germany<br>SIPRI TIV: 0.0",
         "line": {
          "color": "red",
          "width": 2
         },
         "locationmode": "ISO-3",
         "locations": [
          "DEU",
          "PAK"
         ],
         "mode": "lines",
         "type": "scattergeo"
        },
        {
         "hovertext": "Recipient: Peru<br>Supplier: United States<br>SIPRI TIV: 0.0",
         "line": {
          "color": "red",
          "width": 2
         },
         "locationmode": "ISO-3",
         "locations": [
          "USA",
          "PER"
         ],
         "mode": "lines",
         "type": "scattergeo"
        },
        {
         "hovertext": "Recipient: Peru<br>Supplier: United States<br>SIPRI TIV: 0.0",
         "line": {
          "color": "red",
          "width": 2
         },
         "locationmode": "ISO-3",
         "locations": [
          "USA",
          "PER"
         ],
         "mode": "lines",
         "type": "scattergeo"
        },
        {
         "hovertext": "Recipient: Philippines<br>Supplier: Canada<br>SIPRI TIV: 0.0",
         "line": {
          "color": "red",
          "width": 2
         },
         "locationmode": "ISO-3",
         "locations": [
          "CAN",
          "PHL"
         ],
         "mode": "lines",
         "type": "scattergeo"
        },
        {
         "hovertext": "Recipient: Philippines<br>Supplier: Indonesia<br>SIPRI TIV: 0.0",
         "line": {
          "color": "red",
          "width": 2
         },
         "locationmode": "ISO-3",
         "locations": [
          "IDN",
          "PHL"
         ],
         "mode": "lines",
         "type": "scattergeo"
        },
        {
         "hovertext": "Recipient: Philippines<br>Supplier: Israel<br>SIPRI TIV: 0.0",
         "line": {
          "color": "red",
          "width": 2
         },
         "locationmode": "ISO-3",
         "locations": [
          "ISR",
          "PHL"
         ],
         "mode": "lines",
         "type": "scattergeo"
        },
        {
         "hovertext": "Recipient: Philippines<br>Supplier: Italy<br>SIPRI TIV: 0.0",
         "line": {
          "color": "red",
          "width": 2
         },
         "locationmode": "ISO-3",
         "locations": [
          "ITA",
          "PHL"
         ],
         "mode": "lines",
         "type": "scattergeo"
        },
        {
         "hovertext": "Recipient: Philippines<br>Supplier: United States<br>SIPRI TIV: 0.0",
         "line": {
          "color": "red",
          "width": 2
         },
         "locationmode": "ISO-3",
         "locations": [
          "USA",
          "PHL"
         ],
         "mode": "lines",
         "type": "scattergeo"
        },
        {
         "hovertext": "Recipient: Philippines<br>Supplier: United States<br>SIPRI TIV: 0.0",
         "line": {
          "color": "red",
          "width": 2
         },
         "locationmode": "ISO-3",
         "locations": [
          "USA",
          "PHL"
         ],
         "mode": "lines",
         "type": "scattergeo"
        },
        {
         "hovertext": "Recipient: Poland<br>Supplier: France<br>SIPRI TIV: 0.0",
         "line": {
          "color": "red",
          "width": 2
         },
         "locationmode": "ISO-3",
         "locations": [
          "FRA",
          "POL"
         ],
         "mode": "lines",
         "type": "scattergeo"
        },
        {
         "hovertext": "Recipient: Poland<br>Supplier: France<br>SIPRI TIV: 0.0",
         "line": {
          "color": "red",
          "width": 2
         },
         "locationmode": "ISO-3",
         "locations": [
          "FRA",
          "POL"
         ],
         "mode": "lines",
         "type": "scattergeo"
        },
        {
         "hovertext": "Recipient: Poland<br>Supplier: France<br>SIPRI TIV: 0.0",
         "line": {
          "color": "red",
          "width": 2
         },
         "locationmode": "ISO-3",
         "locations": [
          "FRA",
          "POL"
         ],
         "mode": "lines",
         "type": "scattergeo"
        },
        {
         "hovertext": "Recipient: Poland<br>Supplier: Germany<br>SIPRI TIV: 0.0",
         "line": {
          "color": "red",
          "width": 2
         },
         "locationmode": "ISO-3",
         "locations": [
          "DEU",
          "POL"
         ],
         "mode": "lines",
         "type": "scattergeo"
        },
        {
         "hovertext": "Recipient: Poland<br>Supplier: Germany<br>SIPRI TIV: 0.0",
         "line": {
          "color": "red",
          "width": 2
         },
         "locationmode": "ISO-3",
         "locations": [
          "DEU",
          "POL"
         ],
         "mode": "lines",
         "type": "scattergeo"
        },
        {
         "hovertext": "Recipient: Poland<br>Supplier: Israel<br>SIPRI TIV: 0.0",
         "line": {
          "color": "red",
          "width": 2
         },
         "locationmode": "ISO-3",
         "locations": [
          "ISR",
          "POL"
         ],
         "mode": "lines",
         "type": "scattergeo"
        },
        {
         "hovertext": "Recipient: Poland<br>Supplier: Israel<br>SIPRI TIV: 0.0",
         "line": {
          "color": "red",
          "width": 2
         },
         "locationmode": "ISO-3",
         "locations": [
          "ISR",
          "POL"
         ],
         "mode": "lines",
         "type": "scattergeo"
        },
        {
         "hovertext": "Recipient: Poland<br>Supplier: Italy<br>SIPRI TIV: 0.0",
         "line": {
          "color": "red",
          "width": 2
         },
         "locationmode": "ISO-3",
         "locations": [
          "ITA",
          "POL"
         ],
         "mode": "lines",
         "type": "scattergeo"
        },
        {
         "hovertext": "Recipient: Poland<br>Supplier: Italy<br>SIPRI TIV: 0.0",
         "line": {
          "color": "red",
          "width": 2
         },
         "locationmode": "ISO-3",
         "locations": [
          "ITA",
          "POL"
         ],
         "mode": "lines",
         "type": "scattergeo"
        },
        {
         "hovertext": "Recipient: Poland<br>Supplier: South Korea<br>SIPRI TIV: 0.0",
         "line": {
          "color": "red",
          "width": 2
         },
         "locationmode": "ISO-3",
         "locations": [
          "KOR",
          "POL"
         ],
         "mode": "lines",
         "type": "scattergeo"
        },
        {
         "hovertext": "Recipient: Poland<br>Supplier: South Korea<br>SIPRI TIV: 0.0",
         "line": {
          "color": "red",
          "width": 2
         },
         "locationmode": "ISO-3",
         "locations": [
          "KOR",
          "POL"
         ],
         "mode": "lines",
         "type": "scattergeo"
        },
        {
         "hovertext": "Recipient: Poland<br>Supplier: Netherlands<br>SIPRI TIV: 0.0",
         "line": {
          "color": "red",
          "width": 2
         },
         "locationmode": "ISO-3",
         "locations": [
          "NLD",
          "POL"
         ],
         "mode": "lines",
         "type": "scattergeo"
        },
        {
         "hovertext": "Recipient: Poland<br>Supplier: Netherlands<br>SIPRI TIV: 0.0",
         "line": {
          "color": "red",
          "width": 2
         },
         "locationmode": "ISO-3",
         "locations": [
          "NLD",
          "POL"
         ],
         "mode": "lines",
         "type": "scattergeo"
        },
        {
         "hovertext": "Recipient: Poland<br>Supplier: Netherlands<br>SIPRI TIV: 0.0",
         "line": {
          "color": "red",
          "width": 2
         },
         "locationmode": "ISO-3",
         "locations": [
          "NLD",
          "POL"
         ],
         "mode": "lines",
         "type": "scattergeo"
        },
        {
         "hovertext": "Recipient: Poland<br>Supplier: Norway<br>SIPRI TIV: 0.0",
         "line": {
          "color": "red",
          "width": 2
         },
         "locationmode": "ISO-3",
         "locations": [
          "NOR",
          "POL"
         ],
         "mode": "lines",
         "type": "scattergeo"
        },
        {
         "hovertext": "Recipient: Poland<br>Supplier: Norway<br>SIPRI TIV: 0.0",
         "line": {
          "color": "red",
          "width": 2
         },
         "locationmode": "ISO-3",
         "locations": [
          "NOR",
          "POL"
         ],
         "mode": "lines",
         "type": "scattergeo"
        },
        {
         "hovertext": "Recipient: Poland<br>Supplier: Sweden<br>SIPRI TIV: 0.0",
         "line": {
          "color": "red",
          "width": 2
         },
         "locationmode": "ISO-3",
         "locations": [
          "SWE",
          "POL"
         ],
         "mode": "lines",
         "type": "scattergeo"
        },
        {
         "hovertext": "Recipient: Poland<br>Supplier: Sweden<br>SIPRI TIV: 0.0",
         "line": {
          "color": "red",
          "width": 2
         },
         "locationmode": "ISO-3",
         "locations": [
          "SWE",
          "POL"
         ],
         "mode": "lines",
         "type": "scattergeo"
        },
        {
         "hovertext": "Recipient: Poland<br>Supplier: United Kingdom<br>SIPRI TIV: 0.0",
         "line": {
          "color": "red",
          "width": 2
         },
         "locationmode": "ISO-3",
         "locations": [
          "GBR",
          "POL"
         ],
         "mode": "lines",
         "type": "scattergeo"
        },
        {
         "hovertext": "Recipient: Poland<br>Supplier: United Kingdom<br>SIPRI TIV: 0.0",
         "line": {
          "color": "red",
          "width": 2
         },
         "locationmode": "ISO-3",
         "locations": [
          "GBR",
          "POL"
         ],
         "mode": "lines",
         "type": "scattergeo"
        },
        {
         "hovertext": "Recipient: Poland<br>Supplier: United Kingdom<br>SIPRI TIV: 0.0",
         "line": {
          "color": "red",
          "width": 2
         },
         "locationmode": "ISO-3",
         "locations": [
          "GBR",
          "POL"
         ],
         "mode": "lines",
         "type": "scattergeo"
        },
        {
         "hovertext": "Recipient: Poland<br>Supplier: United States<br>SIPRI TIV: 1.0",
         "line": {
          "color": "red",
          "width": 2
         },
         "locationmode": "ISO-3",
         "locations": [
          "USA",
          "POL"
         ],
         "mode": "lines",
         "type": "scattergeo"
        },
        {
         "hovertext": "Recipient: Poland<br>Supplier: United States<br>SIPRI TIV: 0.0",
         "line": {
          "color": "red",
          "width": 2
         },
         "locationmode": "ISO-3",
         "locations": [
          "USA",
          "POL"
         ],
         "mode": "lines",
         "type": "scattergeo"
        },
        {
         "hovertext": "Recipient: Poland<br>Supplier: United States<br>SIPRI TIV: 0.0",
         "line": {
          "color": "red",
          "width": 2
         },
         "locationmode": "ISO-3",
         "locations": [
          "USA",
          "POL"
         ],
         "mode": "lines",
         "type": "scattergeo"
        },
        {
         "hovertext": "Recipient: Poland<br>Supplier: United States<br>SIPRI TIV: 0.0",
         "line": {
          "color": "red",
          "width": 2
         },
         "locationmode": "ISO-3",
         "locations": [
          "USA",
          "POL"
         ],
         "mode": "lines",
         "type": "scattergeo"
        },
        {
         "hovertext": "Recipient: Poland<br>Supplier: United States<br>SIPRI TIV: 0.0",
         "line": {
          "color": "red",
          "width": 2
         },
         "locationmode": "ISO-3",
         "locations": [
          "USA",
          "POL"
         ],
         "mode": "lines",
         "type": "scattergeo"
        },
        {
         "hovertext": "Recipient: Poland<br>Supplier: United States<br>SIPRI TIV: 0.0",
         "line": {
          "color": "red",
          "width": 2
         },
         "locationmode": "ISO-3",
         "locations": [
          "USA",
          "POL"
         ],
         "mode": "lines",
         "type": "scattergeo"
        },
        {
         "hovertext": "Recipient: Poland<br>Supplier: United States<br>SIPRI TIV: 0.0",
         "line": {
          "color": "red",
          "width": 2
         },
         "locationmode": "ISO-3",
         "locations": [
          "USA",
          "POL"
         ],
         "mode": "lines",
         "type": "scattergeo"
        },
        {
         "hovertext": "Recipient: Poland<br>Supplier: United States<br>SIPRI TIV: 0.0",
         "line": {
          "color": "red",
          "width": 2
         },
         "locationmode": "ISO-3",
         "locations": [
          "USA",
          "POL"
         ],
         "mode": "lines",
         "type": "scattergeo"
        },
        {
         "hovertext": "Recipient: Poland<br>Supplier: United States<br>SIPRI TIV: 0.0",
         "line": {
          "color": "red",
          "width": 2
         },
         "locationmode": "ISO-3",
         "locations": [
          "USA",
          "POL"
         ],
         "mode": "lines",
         "type": "scattergeo"
        },
        {
         "hovertext": "Recipient: Poland<br>Supplier: United States<br>SIPRI TIV: 0.0",
         "line": {
          "color": "red",
          "width": 2
         },
         "locationmode": "ISO-3",
         "locations": [
          "USA",
          "POL"
         ],
         "mode": "lines",
         "type": "scattergeo"
        },
        {
         "hovertext": "Recipient: Poland<br>Supplier: United States<br>SIPRI TIV: 0.0",
         "line": {
          "color": "red",
          "width": 2
         },
         "locationmode": "ISO-3",
         "locations": [
          "USA",
          "POL"
         ],
         "mode": "lines",
         "type": "scattergeo"
        },
        {
         "hovertext": "Recipient: Poland<br>Supplier: United States<br>SIPRI TIV: 0.0",
         "line": {
          "color": "red",
          "width": 2
         },
         "locationmode": "ISO-3",
         "locations": [
          "USA",
          "POL"
         ],
         "mode": "lines",
         "type": "scattergeo"
        },
        {
         "hovertext": "Recipient: Poland<br>Supplier: United States<br>SIPRI TIV: 0.0",
         "line": {
          "color": "red",
          "width": 2
         },
         "locationmode": "ISO-3",
         "locations": [
          "USA",
          "POL"
         ],
         "mode": "lines",
         "type": "scattergeo"
        },
        {
         "hovertext": "Recipient: Poland<br>Supplier: United States<br>SIPRI TIV: 0.0",
         "line": {
          "color": "red",
          "width": 2
         },
         "locationmode": "ISO-3",
         "locations": [
          "USA",
          "POL"
         ],
         "mode": "lines",
         "type": "scattergeo"
        },
        {
         "hovertext": "Recipient: Poland<br>Supplier: United States<br>SIPRI TIV: 0.0",
         "line": {
          "color": "red",
          "width": 2
         },
         "locationmode": "ISO-3",
         "locations": [
          "USA",
          "POL"
         ],
         "mode": "lines",
         "type": "scattergeo"
        },
        {
         "hovertext": "Recipient: Poland<br>Supplier: United States<br>SIPRI TIV: 0.0",
         "line": {
          "color": "red",
          "width": 2
         },
         "locationmode": "ISO-3",
         "locations": [
          "USA",
          "POL"
         ],
         "mode": "lines",
         "type": "scattergeo"
        },
        {
         "hovertext": "Recipient: Portugal<br>Supplier: Netherlands<br>SIPRI TIV: 0.0",
         "line": {
          "color": "red",
          "width": 2
         },
         "locationmode": "ISO-3",
         "locations": [
          "NLD",
          "PRT"
         ],
         "mode": "lines",
         "type": "scattergeo"
        },
        {
         "hovertext": "Recipient: Romania<br>Supplier: France<br>SIPRI TIV: 0.0",
         "line": {
          "color": "red",
          "width": 2
         },
         "locationmode": "ISO-3",
         "locations": [
          "FRA",
          "ROU"
         ],
         "mode": "lines",
         "type": "scattergeo"
        },
        {
         "hovertext": "Recipient: Romania<br>Supplier: United Kingdom<br>SIPRI TIV: 18.0",
         "line": {
          "color": "red",
          "width": 2
         },
         "locationmode": "ISO-3",
         "locations": [
          "GBR",
          "ROU"
         ],
         "mode": "lines",
         "type": "scattergeo"
        },
        {
         "hovertext": "Recipient: Romania<br>Supplier: United States<br>SIPRI TIV: 0.0",
         "line": {
          "color": "red",
          "width": 2
         },
         "locationmode": "ISO-3",
         "locations": [
          "USA",
          "ROU"
         ],
         "mode": "lines",
         "type": "scattergeo"
        },
        {
         "hovertext": "Recipient: Romania<br>Supplier: United States<br>SIPRI TIV: 0.0",
         "line": {
          "color": "red",
          "width": 2
         },
         "locationmode": "ISO-3",
         "locations": [
          "USA",
          "ROU"
         ],
         "mode": "lines",
         "type": "scattergeo"
        },
        {
         "hovertext": "Recipient: Romania<br>Supplier: United States<br>SIPRI TIV: 0.0",
         "line": {
          "color": "red",
          "width": 2
         },
         "locationmode": "ISO-3",
         "locations": [
          "USA",
          "ROU"
         ],
         "mode": "lines",
         "type": "scattergeo"
        },
        {
         "hovertext": "Recipient: Romania<br>Supplier: United States<br>SIPRI TIV: 0.0",
         "line": {
          "color": "red",
          "width": 2
         },
         "locationmode": "ISO-3",
         "locations": [
          "USA",
          "ROU"
         ],
         "mode": "lines",
         "type": "scattergeo"
        },
        {
         "hovertext": "Recipient: Romania<br>Supplier: United States<br>SIPRI TIV: 0.0",
         "line": {
          "color": "red",
          "width": 2
         },
         "locationmode": "ISO-3",
         "locations": [
          "USA",
          "ROU"
         ],
         "mode": "lines",
         "type": "scattergeo"
        },
        {
         "hovertext": "Recipient: Romania<br>Supplier: United States<br>SIPRI TIV: 0.0",
         "line": {
          "color": "red",
          "width": 2
         },
         "locationmode": "ISO-3",
         "locations": [
          "USA",
          "ROU"
         ],
         "mode": "lines",
         "type": "scattergeo"
        },
        {
         "hovertext": "Recipient: Saudi Arabia<br>Supplier: Germany<br>SIPRI TIV: 0.0",
         "line": {
          "color": "red",
          "width": 2
         },
         "locationmode": "ISO-3",
         "locations": [
          "DEU",
          "SAU"
         ],
         "mode": "lines",
         "type": "scattergeo"
        },
        {
         "hovertext": "Recipient: Saudi Arabia<br>Supplier: United Kingdom<br>SIPRI TIV: 0.0",
         "line": {
          "color": "red",
          "width": 2
         },
         "locationmode": "ISO-3",
         "locations": [
          "GBR",
          "SAU"
         ],
         "mode": "lines",
         "type": "scattergeo"
        },
        {
         "hovertext": "Recipient: Singapore<br>Supplier: Germany<br>SIPRI TIV: 0.0",
         "line": {
          "color": "red",
          "width": 2
         },
         "locationmode": "ISO-3",
         "locations": [
          "DEU",
          "SGP"
         ],
         "mode": "lines",
         "type": "scattergeo"
        },
        {
         "hovertext": "Recipient: Singapore<br>Supplier: Germany<br>SIPRI TIV: 0.0",
         "line": {
          "color": "red",
          "width": 2
         },
         "locationmode": "ISO-3",
         "locations": [
          "DEU",
          "SGP"
         ],
         "mode": "lines",
         "type": "scattergeo"
        },
        {
         "hovertext": "Recipient: Singapore<br>Supplier: Israel<br>SIPRI TIV: 0.0",
         "line": {
          "color": "red",
          "width": 2
         },
         "locationmode": "ISO-3",
         "locations": [
          "ISR",
          "SGP"
         ],
         "mode": "lines",
         "type": "scattergeo"
        },
        {
         "hovertext": "Recipient: Singapore<br>Supplier: United States<br>SIPRI TIV: 0.0",
         "line": {
          "color": "red",
          "width": 2
         },
         "locationmode": "ISO-3",
         "locations": [
          "USA",
          "SGP"
         ],
         "mode": "lines",
         "type": "scattergeo"
        },
        {
         "hovertext": "Recipient: Slovakia<br>Supplier: Germany<br>SIPRI TIV: 12.0",
         "line": {
          "color": "red",
          "width": 2
         },
         "locationmode": "ISO-3",
         "locations": [
          "DEU",
          "SVK"
         ],
         "mode": "lines",
         "type": "scattergeo"
        },
        {
         "hovertext": "Recipient: Slovakia<br>Supplier: Israel<br>SIPRI TIV: 0.0",
         "line": {
          "color": "red",
          "width": 2
         },
         "locationmode": "ISO-3",
         "locations": [
          "ISR",
          "SVK"
         ],
         "mode": "lines",
         "type": "scattergeo"
        },
        {
         "hovertext": "Recipient: Slovakia<br>Supplier: Israel<br>SIPRI TIV: 0.0",
         "line": {
          "color": "red",
          "width": 2
         },
         "locationmode": "ISO-3",
         "locations": [
          "ISR",
          "SVK"
         ],
         "mode": "lines",
         "type": "scattergeo"
        },
        {
         "hovertext": "Recipient: Slovakia<br>Supplier: Poland<br>SIPRI TIV: 0.0",
         "line": {
          "color": "red",
          "width": 2
         },
         "locationmode": "ISO-3",
         "locations": [
          "POL",
          "SVK"
         ],
         "mode": "lines",
         "type": "scattergeo"
        },
        {
         "hovertext": "Recipient: Slovakia<br>Supplier: United States<br>SIPRI TIV: 0.0",
         "line": {
          "color": "red",
          "width": 2
         },
         "locationmode": "ISO-3",
         "locations": [
          "USA",
          "SVK"
         ],
         "mode": "lines",
         "type": "scattergeo"
        },
        {
         "hovertext": "Recipient: Slovenia<br>Supplier: Germany<br>SIPRI TIV: 0.0",
         "line": {
          "color": "red",
          "width": 2
         },
         "locationmode": "ISO-3",
         "locations": [
          "DEU",
          "SVN"
         ],
         "mode": "lines",
         "type": "scattergeo"
        },
        {
         "hovertext": "Recipient: Slovenia<br>Supplier: Germany<br>SIPRI TIV: 0.0",
         "line": {
          "color": "red",
          "width": 2
         },
         "locationmode": "ISO-3",
         "locations": [
          "DEU",
          "SVN"
         ],
         "mode": "lines",
         "type": "scattergeo"
        },
        {
         "hovertext": "Recipient: Slovenia<br>Supplier: Italy<br>SIPRI TIV: 0.0",
         "line": {
          "color": "red",
          "width": 2
         },
         "locationmode": "ISO-3",
         "locations": [
          "ITA",
          "SVN"
         ],
         "mode": "lines",
         "type": "scattergeo"
        },
        {
         "hovertext": "Recipient: Slovenia<br>Supplier: Italy<br>SIPRI TIV: 0.0",
         "line": {
          "color": "red",
          "width": 2
         },
         "locationmode": "ISO-3",
         "locations": [
          "ITA",
          "SVN"
         ],
         "mode": "lines",
         "type": "scattergeo"
        },
        {
         "hovertext": "Recipient: Slovenia<br>Supplier: United States<br>SIPRI TIV: 0.0",
         "line": {
          "color": "red",
          "width": 2
         },
         "locationmode": "ISO-3",
         "locations": [
          "USA",
          "SVN"
         ],
         "mode": "lines",
         "type": "scattergeo"
        },
        {
         "hovertext": "Recipient: Slovenia<br>Supplier: United States<br>SIPRI TIV: 0.0",
         "line": {
          "color": "red",
          "width": 2
         },
         "locationmode": "ISO-3",
         "locations": [
          "USA",
          "SVN"
         ],
         "mode": "lines",
         "type": "scattergeo"
        },
        {
         "hovertext": "Recipient: Spain<br>Supplier: Canada<br>SIPRI TIV: 0.0",
         "line": {
          "color": "red",
          "width": 2
         },
         "locationmode": "ISO-3",
         "locations": [
          "CAN",
          "ESP"
         ],
         "mode": "lines",
         "type": "scattergeo"
        },
        {
         "hovertext": "Recipient: Spain<br>Supplier: Canada<br>SIPRI TIV: 0.0",
         "line": {
          "color": "red",
          "width": 2
         },
         "locationmode": "ISO-3",
         "locations": [
          "CAN",
          "ESP"
         ],
         "mode": "lines",
         "type": "scattergeo"
        },
        {
         "hovertext": "Recipient: Spain<br>Supplier: France<br>SIPRI TIV: 0.0",
         "line": {
          "color": "red",
          "width": 2
         },
         "locationmode": "ISO-3",
         "locations": [
          "FRA",
          "ESP"
         ],
         "mode": "lines",
         "type": "scattergeo"
        },
        {
         "hovertext": "Recipient: Spain<br>Supplier: Germany<br>SIPRI TIV: 0.0",
         "line": {
          "color": "red",
          "width": 2
         },
         "locationmode": "ISO-3",
         "locations": [
          "DEU",
          "ESP"
         ],
         "mode": "lines",
         "type": "scattergeo"
        },
        {
         "hovertext": "Recipient: Spain<br>Supplier: Israel<br>SIPRI TIV: 0.0",
         "line": {
          "color": "red",
          "width": 2
         },
         "locationmode": "ISO-3",
         "locations": [
          "ISR",
          "ESP"
         ],
         "mode": "lines",
         "type": "scattergeo"
        },
        {
         "hovertext": "Recipient: Spain<br>Supplier: Israel<br>SIPRI TIV: 0.0",
         "line": {
          "color": "red",
          "width": 2
         },
         "locationmode": "ISO-3",
         "locations": [
          "ISR",
          "ESP"
         ],
         "mode": "lines",
         "type": "scattergeo"
        },
        {
         "hovertext": "Recipient: Spain<br>Supplier: Israel<br>SIPRI TIV: 0.0",
         "line": {
          "color": "red",
          "width": 2
         },
         "locationmode": "ISO-3",
         "locations": [
          "ISR",
          "ESP"
         ],
         "mode": "lines",
         "type": "scattergeo"
        },
        {
         "hovertext": "Recipient: Spain<br>Supplier: Israel<br>SIPRI TIV: 0.0",
         "line": {
          "color": "red",
          "width": 2
         },
         "locationmode": "ISO-3",
         "locations": [
          "ISR",
          "ESP"
         ],
         "mode": "lines",
         "type": "scattergeo"
        },
        {
         "hovertext": "Recipient: Spain<br>Supplier: Israel<br>SIPRI TIV: 0.0",
         "line": {
          "color": "red",
          "width": 2
         },
         "locationmode": "ISO-3",
         "locations": [
          "ISR",
          "ESP"
         ],
         "mode": "lines",
         "type": "scattergeo"
        },
        {
         "hovertext": "Recipient: Spain<br>Supplier: Norway<br>SIPRI TIV: 0.0",
         "line": {
          "color": "red",
          "width": 2
         },
         "locationmode": "ISO-3",
         "locations": [
          "NOR",
          "ESP"
         ],
         "mode": "lines",
         "type": "scattergeo"
        },
        {
         "hovertext": "Recipient: Spain<br>Supplier: Switzerland<br>SIPRI TIV: 0.0",
         "line": {
          "color": "red",
          "width": 2
         },
         "locationmode": "ISO-3",
         "locations": [
          "CHE",
          "ESP"
         ],
         "mode": "lines",
         "type": "scattergeo"
        },
        {
         "hovertext": "Recipient: Spain<br>Supplier: United States<br>SIPRI TIV: 0.0",
         "line": {
          "color": "red",
          "width": 2
         },
         "locationmode": "ISO-3",
         "locations": [
          "USA",
          "ESP"
         ],
         "mode": "lines",
         "type": "scattergeo"
        },
        {
         "hovertext": "Recipient: Spain<br>Supplier: United States<br>SIPRI TIV: 0.0",
         "line": {
          "color": "red",
          "width": 2
         },
         "locationmode": "ISO-3",
         "locations": [
          "USA",
          "ESP"
         ],
         "mode": "lines",
         "type": "scattergeo"
        },
        {
         "hovertext": "Recipient: Spain<br>Supplier: United States<br>SIPRI TIV: 0.0",
         "line": {
          "color": "red",
          "width": 2
         },
         "locationmode": "ISO-3",
         "locations": [
          "USA",
          "ESP"
         ],
         "mode": "lines",
         "type": "scattergeo"
        },
        {
         "hovertext": "Recipient: Spain<br>Supplier: United States<br>SIPRI TIV: 0.0",
         "line": {
          "color": "red",
          "width": 2
         },
         "locationmode": "ISO-3",
         "locations": [
          "USA",
          "ESP"
         ],
         "mode": "lines",
         "type": "scattergeo"
        },
        {
         "hovertext": "Recipient: Spain<br>Supplier: United States<br>SIPRI TIV: 0.0",
         "line": {
          "color": "red",
          "width": 2
         },
         "locationmode": "ISO-3",
         "locations": [
          "USA",
          "ESP"
         ],
         "mode": "lines",
         "type": "scattergeo"
        },
        {
         "hovertext": "Recipient: Spain<br>Supplier: United States<br>SIPRI TIV: 0.0",
         "line": {
          "color": "red",
          "width": 2
         },
         "locationmode": "ISO-3",
         "locations": [
          "USA",
          "ESP"
         ],
         "mode": "lines",
         "type": "scattergeo"
        },
        {
         "hovertext": "Recipient: Spain<br>Supplier: United States<br>SIPRI TIV: 0.0",
         "line": {
          "color": "red",
          "width": 2
         },
         "locationmode": "ISO-3",
         "locations": [
          "USA",
          "ESP"
         ],
         "mode": "lines",
         "type": "scattergeo"
        },
        {
         "hovertext": "Recipient: Spain<br>Supplier: United States<br>SIPRI TIV: 0.0",
         "line": {
          "color": "red",
          "width": 2
         },
         "locationmode": "ISO-3",
         "locations": [
          "USA",
          "ESP"
         ],
         "mode": "lines",
         "type": "scattergeo"
        },
        {
         "hovertext": "Recipient: Sri Lanka<br>Supplier: China<br>SIPRI TIV: 5.0",
         "line": {
          "color": "red",
          "width": 2
         },
         "locationmode": "ISO-3",
         "locations": [
          "CHN",
          "LKA"
         ],
         "mode": "lines",
         "type": "scattergeo"
        },
        {
         "hovertext": "Recipient: Sweden<br>Supplier: Finland<br>SIPRI TIV: 7.0",
         "line": {
          "color": "red",
          "width": 2
         },
         "locationmode": "ISO-3",
         "locations": [
          "FIN",
          "SWE"
         ],
         "mode": "lines",
         "type": "scattergeo"
        },
        {
         "hovertext": "Recipient: Sweden<br>Supplier: France<br>SIPRI TIV: 0.0",
         "line": {
          "color": "red",
          "width": 2
         },
         "locationmode": "ISO-3",
         "locations": [
          "FRA",
          "SWE"
         ],
         "mode": "lines",
         "type": "scattergeo"
        },
        {
         "hovertext": "Recipient: Sweden<br>Supplier: France<br>SIPRI TIV: 3.3",
         "line": {
          "color": "red",
          "width": 2
         },
         "locationmode": "ISO-3",
         "locations": [
          "FRA",
          "SWE"
         ],
         "mode": "lines",
         "type": "scattergeo"
        },
        {
         "hovertext": "Recipient: Sweden<br>Supplier: Germany<br>SIPRI TIV: 0.0",
         "line": {
          "color": "red",
          "width": 2
         },
         "locationmode": "ISO-3",
         "locations": [
          "DEU",
          "SWE"
         ],
         "mode": "lines",
         "type": "scattergeo"
        },
        {
         "hovertext": "Recipient: Sweden<br>Supplier: Netherlands<br>SIPRI TIV: 0.0",
         "line": {
          "color": "red",
          "width": 2
         },
         "locationmode": "ISO-3",
         "locations": [
          "NLD",
          "SWE"
         ],
         "mode": "lines",
         "type": "scattergeo"
        },
        {
         "hovertext": "Recipient: Sweden<br>Supplier: United Kingdom<br>SIPRI TIV: 0.0",
         "line": {
          "color": "red",
          "width": 2
         },
         "locationmode": "ISO-3",
         "locations": [
          "GBR",
          "SWE"
         ],
         "mode": "lines",
         "type": "scattergeo"
        },
        {
         "hovertext": "Recipient: Sweden<br>Supplier: United Kingdom<br>SIPRI TIV: 0.0",
         "line": {
          "color": "red",
          "width": 2
         },
         "locationmode": "ISO-3",
         "locations": [
          "GBR",
          "SWE"
         ],
         "mode": "lines",
         "type": "scattergeo"
        },
        {
         "hovertext": "Recipient: Sweden<br>Supplier: United States<br>SIPRI TIV: 0.0",
         "line": {
          "color": "red",
          "width": 2
         },
         "locationmode": "ISO-3",
         "locations": [
          "USA",
          "SWE"
         ],
         "mode": "lines",
         "type": "scattergeo"
        },
        {
         "hovertext": "Recipient: Switzerland<br>Supplier: Israel<br>SIPRI TIV: 0.0",
         "line": {
          "color": "red",
          "width": 2
         },
         "locationmode": "ISO-3",
         "locations": [
          "ISR",
          "CHE"
         ],
         "mode": "lines",
         "type": "scattergeo"
        },
        {
         "hovertext": "Recipient: Switzerland<br>Supplier: United States<br>SIPRI TIV: 0.0",
         "line": {
          "color": "red",
          "width": 2
         },
         "locationmode": "ISO-3",
         "locations": [
          "USA",
          "CHE"
         ],
         "mode": "lines",
         "type": "scattergeo"
        },
        {
         "hovertext": "Recipient: Taiwan<br>Supplier: United Kingdom<br>SIPRI TIV: 0.0",
         "line": {
          "color": "red",
          "width": 2
         },
         "locationmode": "ISO-3",
         "locations": [
          "GBR",
          "TWN"
         ],
         "mode": "lines",
         "type": "scattergeo"
        },
        {
         "hovertext": "Recipient: Taiwan<br>Supplier: United States<br>SIPRI TIV: 0.0",
         "line": {
          "color": "red",
          "width": 2
         },
         "locationmode": "ISO-3",
         "locations": [
          "USA",
          "TWN"
         ],
         "mode": "lines",
         "type": "scattergeo"
        },
        {
         "hovertext": "Recipient: Taiwan<br>Supplier: United States<br>SIPRI TIV: 0.0",
         "line": {
          "color": "red",
          "width": 2
         },
         "locationmode": "ISO-3",
         "locations": [
          "USA",
          "TWN"
         ],
         "mode": "lines",
         "type": "scattergeo"
        },
        {
         "hovertext": "Recipient: Taiwan<br>Supplier: United States<br>SIPRI TIV: 0.0",
         "line": {
          "color": "red",
          "width": 2
         },
         "locationmode": "ISO-3",
         "locations": [
          "USA",
          "TWN"
         ],
         "mode": "lines",
         "type": "scattergeo"
        },
        {
         "hovertext": "Recipient: Taiwan<br>Supplier: United States<br>SIPRI TIV: 0.0",
         "line": {
          "color": "red",
          "width": 2
         },
         "locationmode": "ISO-3",
         "locations": [
          "USA",
          "TWN"
         ],
         "mode": "lines",
         "type": "scattergeo"
        },
        {
         "hovertext": "Recipient: Tanzania<br>Supplier: Italy<br>SIPRI TIV: 0.0",
         "line": {
          "color": "red",
          "width": 2
         },
         "locationmode": "ISO-3",
         "locations": [
          "ITA",
          "TZA"
         ],
         "mode": "lines",
         "type": "scattergeo"
        },
        {
         "hovertext": "Recipient: Tanzania<br>Supplier: United States<br>SIPRI TIV: 0.0",
         "line": {
          "color": "red",
          "width": 2
         },
         "locationmode": "ISO-3",
         "locations": [
          "USA",
          "TZA"
         ],
         "mode": "lines",
         "type": "scattergeo"
        },
        {
         "hovertext": "Recipient: Thailand<br>Supplier: United States<br>SIPRI TIV: 0.0",
         "line": {
          "color": "red",
          "width": 2
         },
         "locationmode": "ISO-3",
         "locations": [
          "USA",
          "THA"
         ],
         "mode": "lines",
         "type": "scattergeo"
        },
        {
         "hovertext": "Recipient: United Kingdom<br>Supplier: Austria<br>SIPRI TIV: 0.0",
         "line": {
          "color": "red",
          "width": 2
         },
         "locationmode": "ISO-3",
         "locations": [
          "AUT",
          "GBR"
         ],
         "mode": "lines",
         "type": "scattergeo"
        },
        {
         "hovertext": "Recipient: United Kingdom<br>Supplier: Denmark<br>SIPRI TIV: 0.0",
         "line": {
          "color": "red",
          "width": 2
         },
         "locationmode": "ISO-3",
         "locations": [
          "DNK",
          "GBR"
         ],
         "mode": "lines",
         "type": "scattergeo"
        },
        {
         "hovertext": "Recipient: United Kingdom<br>Supplier: France<br>SIPRI TIV: 0.0",
         "line": {
          "color": "red",
          "width": 2
         },
         "locationmode": "ISO-3",
         "locations": [
          "FRA",
          "GBR"
         ],
         "mode": "lines",
         "type": "scattergeo"
        },
        {
         "hovertext": "Recipient: United Kingdom<br>Supplier: Germany<br>SIPRI TIV: 0.0",
         "line": {
          "color": "red",
          "width": 2
         },
         "locationmode": "ISO-3",
         "locations": [
          "DEU",
          "GBR"
         ],
         "mode": "lines",
         "type": "scattergeo"
        },
        {
         "hovertext": "Recipient: United Kingdom<br>Supplier: Sweden<br>SIPRI TIV: 21.0",
         "line": {
          "color": "red",
          "width": 2
         },
         "locationmode": "ISO-3",
         "locations": [
          "SWE",
          "GBR"
         ],
         "mode": "lines",
         "type": "scattergeo"
        },
        {
         "hovertext": "Recipient: United Kingdom<br>Supplier: Sweden<br>SIPRI TIV: 7.5",
         "line": {
          "color": "red",
          "width": 2
         },
         "locationmode": "ISO-3",
         "locations": [
          "SWE",
          "GBR"
         ],
         "mode": "lines",
         "type": "scattergeo"
        },
        {
         "hovertext": "Recipient: United Kingdom<br>Supplier: United States<br>SIPRI TIV: 0.0",
         "line": {
          "color": "red",
          "width": 2
         },
         "locationmode": "ISO-3",
         "locations": [
          "USA",
          "GBR"
         ],
         "mode": "lines",
         "type": "scattergeo"
        },
        {
         "hovertext": "Recipient: United Kingdom<br>Supplier: United States<br>SIPRI TIV: 0.0",
         "line": {
          "color": "red",
          "width": 2
         },
         "locationmode": "ISO-3",
         "locations": [
          "USA",
          "GBR"
         ],
         "mode": "lines",
         "type": "scattergeo"
        },
        {
         "hovertext": "Recipient: Ukraine<br>Supplier: Argentina<br>SIPRI TIV: 0.0",
         "line": {
          "color": "red",
          "width": 2
         },
         "locationmode": "ISO-3",
         "locations": [
          "ARG",
          "UKR"
         ],
         "mode": "lines",
         "type": "scattergeo"
        },
        {
         "hovertext": "Recipient: Ukraine<br>Supplier: Australia<br>SIPRI TIV: 0.0",
         "line": {
          "color": "red",
          "width": 2
         },
         "locationmode": "ISO-3",
         "locations": [
          "AUS",
          "UKR"
         ],
         "mode": "lines",
         "type": "scattergeo"
        },
        {
         "hovertext": "Recipient: Ukraine<br>Supplier: Belgium<br>SIPRI TIV: 0.0",
         "line": {
          "color": "red",
          "width": 2
         },
         "locationmode": "ISO-3",
         "locations": [
          "BEL",
          "UKR"
         ],
         "mode": "lines",
         "type": "scattergeo"
        },
        {
         "hovertext": "Recipient: Ukraine<br>Supplier: Belgium<br>SIPRI TIV: 0.0",
         "line": {
          "color": "red",
          "width": 2
         },
         "locationmode": "ISO-3",
         "locations": [
          "BEL",
          "UKR"
         ],
         "mode": "lines",
         "type": "scattergeo"
        },
        {
         "hovertext": "Recipient: Ukraine<br>Supplier: Belgium<br>SIPRI TIV: 0.0",
         "line": {
          "color": "red",
          "width": 2
         },
         "locationmode": "ISO-3",
         "locations": [
          "BEL",
          "UKR"
         ],
         "mode": "lines",
         "type": "scattergeo"
        },
        {
         "hovertext": "Recipient: Ukraine<br>Supplier: Belgium<br>SIPRI TIV: 4.8",
         "line": {
          "color": "red",
          "width": 2
         },
         "locationmode": "ISO-3",
         "locations": [
          "BEL",
          "UKR"
         ],
         "mode": "lines",
         "type": "scattergeo"
        },
        {
         "hovertext": "Recipient: Ukraine<br>Supplier: Belgium<br>SIPRI TIV: 4.0",
         "line": {
          "color": "red",
          "width": 2
         },
         "locationmode": "ISO-3",
         "locations": [
          "BEL",
          "UKR"
         ],
         "mode": "lines",
         "type": "scattergeo"
        },
        {
         "hovertext": "Recipient: Ukraine<br>Supplier: Belgium<br>SIPRI TIV: 0.9",
         "line": {
          "color": "red",
          "width": 2
         },
         "locationmode": "ISO-3",
         "locations": [
          "BEL",
          "UKR"
         ],
         "mode": "lines",
         "type": "scattergeo"
        },
        {
         "hovertext": "Recipient: Ukraine<br>Supplier: Bulgaria<br>SIPRI TIV: 0.0",
         "line": {
          "color": "red",
          "width": 2
         },
         "locationmode": "ISO-3",
         "locations": [
          "BGR",
          "UKR"
         ],
         "mode": "lines",
         "type": "scattergeo"
        },
        {
         "hovertext": "Recipient: Ukraine<br>Supplier: Canada<br>SIPRI TIV: 2.88",
         "line": {
          "color": "red",
          "width": 2
         },
         "locationmode": "ISO-3",
         "locations": [
          "CAN",
          "UKR"
         ],
         "mode": "lines",
         "type": "scattergeo"
        },
        {
         "hovertext": "Recipient: Ukraine<br>Supplier: Canada<br>SIPRI TIV: 20.74",
         "line": {
          "color": "red",
          "width": 2
         },
         "locationmode": "ISO-3",
         "locations": [
          "CAN",
          "UKR"
         ],
         "mode": "lines",
         "type": "scattergeo"
        },
        {
         "hovertext": "Recipient: Ukraine<br>Supplier: Canada<br>SIPRI TIV: 2.06",
         "line": {
          "color": "red",
          "width": 2
         },
         "locationmode": "ISO-3",
         "locations": [
          "CAN",
          "UKR"
         ],
         "mode": "lines",
         "type": "scattergeo"
        },
        {
         "hovertext": "Recipient: Ukraine<br>Supplier: Canada<br>SIPRI TIV: 0.9",
         "line": {
          "color": "red",
          "width": 2
         },
         "locationmode": "ISO-3",
         "locations": [
          "CAN",
          "UKR"
         ],
         "mode": "lines",
         "type": "scattergeo"
        },
        {
         "hovertext": "Recipient: Ukraine<br>Supplier: Canada<br>SIPRI TIV: 0.0",
         "line": {
          "color": "red",
          "width": 2
         },
         "locationmode": "ISO-3",
         "locations": [
          "CAN",
          "UKR"
         ],
         "mode": "lines",
         "type": "scattergeo"
        },
        {
         "hovertext": "Recipient: Ukraine<br>Supplier: Czechia<br>SIPRI TIV: 5.76",
         "line": {
          "color": "red",
          "width": 2
         },
         "locationmode": "ISO-3",
         "locations": [
          "CZE",
          "UKR"
         ],
         "mode": "lines",
         "type": "scattergeo"
        },
        {
         "hovertext": "Recipient: Ukraine<br>Supplier: Czechia<br>SIPRI TIV: 0.0",
         "line": {
          "color": "red",
          "width": 2
         },
         "locationmode": "ISO-3",
         "locations": [
          "CZE",
          "UKR"
         ],
         "mode": "lines",
         "type": "scattergeo"
        },
        {
         "hovertext": "Recipient: Ukraine<br>Supplier: Czechia<br>SIPRI TIV: 14.0",
         "line": {
          "color": "red",
          "width": 2
         },
         "locationmode": "ISO-3",
         "locations": [
          "CZE",
          "UKR"
         ],
         "mode": "lines",
         "type": "scattergeo"
        },
        {
         "hovertext": "Recipient: Ukraine<br>Supplier: Czechia<br>SIPRI TIV: 0.36",
         "line": {
          "color": "red",
          "width": 2
         },
         "locationmode": "ISO-3",
         "locations": [
          "CZE",
          "UKR"
         ],
         "mode": "lines",
         "type": "scattergeo"
        },
        {
         "hovertext": "Recipient: Ukraine<br>Supplier: Czechia<br>SIPRI TIV: 25.74",
         "line": {
          "color": "red",
          "width": 2
         },
         "locationmode": "ISO-3",
         "locations": [
          "CZE",
          "UKR"
         ],
         "mode": "lines",
         "type": "scattergeo"
        },
        {
         "hovertext": "Recipient: Ukraine<br>Supplier: Czechia<br>SIPRI TIV: 0.0",
         "line": {
          "color": "red",
          "width": 2
         },
         "locationmode": "ISO-3",
         "locations": [
          "CZE",
          "UKR"
         ],
         "mode": "lines",
         "type": "scattergeo"
        },
        {
         "hovertext": "Recipient: Ukraine<br>Supplier: Denmark<br>SIPRI TIV: 0.0",
         "line": {
          "color": "red",
          "width": 2
         },
         "locationmode": "ISO-3",
         "locations": [
          "DNK",
          "UKR"
         ],
         "mode": "lines",
         "type": "scattergeo"
        },
        {
         "hovertext": "Recipient: Ukraine<br>Supplier: Finland<br>SIPRI TIV: 3.0",
         "line": {
          "color": "red",
          "width": 2
         },
         "locationmode": "ISO-3",
         "locations": [
          "FIN",
          "UKR"
         ],
         "mode": "lines",
         "type": "scattergeo"
        },
        {
         "hovertext": "Recipient: Ukraine<br>Supplier: France<br>SIPRI TIV: 0.0",
         "line": {
          "color": "red",
          "width": 2
         },
         "locationmode": "ISO-3",
         "locations": [
          "FRA",
          "UKR"
         ],
         "mode": "lines",
         "type": "scattergeo"
        },
        {
         "hovertext": "Recipient: Ukraine<br>Supplier: France<br>SIPRI TIV: 2.64",
         "line": {
          "color": "red",
          "width": 2
         },
         "locationmode": "ISO-3",
         "locations": [
          "FRA",
          "UKR"
         ],
         "mode": "lines",
         "type": "scattergeo"
        },
        {
         "hovertext": "Recipient: Ukraine<br>Supplier: France<br>SIPRI TIV: 5.28",
         "line": {
          "color": "red",
          "width": 2
         },
         "locationmode": "ISO-3",
         "locations": [
          "FRA",
          "UKR"
         ],
         "mode": "lines",
         "type": "scattergeo"
        },
        {
         "hovertext": "Recipient: Ukraine<br>Supplier: France<br>SIPRI TIV: 0.0",
         "line": {
          "color": "red",
          "width": 2
         },
         "locationmode": "ISO-3",
         "locations": [
          "FRA",
          "UKR"
         ],
         "mode": "lines",
         "type": "scattergeo"
        },
        {
         "hovertext": "Recipient: Ukraine<br>Supplier: France<br>SIPRI TIV: 10.0",
         "line": {
          "color": "red",
          "width": 2
         },
         "locationmode": "ISO-3",
         "locations": [
          "FRA",
          "UKR"
         ],
         "mode": "lines",
         "type": "scattergeo"
        },
        {
         "hovertext": "Recipient: Ukraine<br>Supplier: France<br>SIPRI TIV: 12.8",
         "line": {
          "color": "red",
          "width": 2
         },
         "locationmode": "ISO-3",
         "locations": [
          "FRA",
          "UKR"
         ],
         "mode": "lines",
         "type": "scattergeo"
        },
        {
         "hovertext": "Recipient: Ukraine<br>Supplier: Germany<br>SIPRI TIV: 0.48",
         "line": {
          "color": "red",
          "width": 2
         },
         "locationmode": "ISO-3",
         "locations": [
          "DEU",
          "UKR"
         ],
         "mode": "lines",
         "type": "scattergeo"
        },
        {
         "hovertext": "Recipient: Ukraine<br>Supplier: Germany<br>SIPRI TIV: 14.78",
         "line": {
          "color": "red",
          "width": 2
         },
         "locationmode": "ISO-3",
         "locations": [
          "DEU",
          "UKR"
         ],
         "mode": "lines",
         "type": "scattergeo"
        },
        {
         "hovertext": "Recipient: Ukraine<br>Supplier: Germany<br>SIPRI TIV: 0.56",
         "line": {
          "color": "red",
          "width": 2
         },
         "locationmode": "ISO-3",
         "locations": [
          "DEU",
          "UKR"
         ],
         "mode": "lines",
         "type": "scattergeo"
        },
        {
         "hovertext": "Recipient: Ukraine<br>Supplier: Germany<br>SIPRI TIV: 9.6",
         "line": {
          "color": "red",
          "width": 2
         },
         "locationmode": "ISO-3",
         "locations": [
          "DEU",
          "UKR"
         ],
         "mode": "lines",
         "type": "scattergeo"
        },
        {
         "hovertext": "Recipient: Ukraine<br>Supplier: Germany<br>SIPRI TIV: 31.2",
         "line": {
          "color": "red",
          "width": 2
         },
         "locationmode": "ISO-3",
         "locations": [
          "DEU",
          "UKR"
         ],
         "mode": "lines",
         "type": "scattergeo"
        },
        {
         "hovertext": "Recipient: Ukraine<br>Supplier: Germany<br>SIPRI TIV: 0.0",
         "line": {
          "color": "red",
          "width": 2
         },
         "locationmode": "ISO-3",
         "locations": [
          "DEU",
          "UKR"
         ],
         "mode": "lines",
         "type": "scattergeo"
        },
        {
         "hovertext": "Recipient: Ukraine<br>Supplier: Germany<br>SIPRI TIV: 1.0",
         "line": {
          "color": "red",
          "width": 2
         },
         "locationmode": "ISO-3",
         "locations": [
          "DEU",
          "UKR"
         ],
         "mode": "lines",
         "type": "scattergeo"
        },
        {
         "hovertext": "Recipient: Ukraine<br>Supplier: Germany<br>SIPRI TIV: 44.0",
         "line": {
          "color": "red",
          "width": 2
         },
         "locationmode": "ISO-3",
         "locations": [
          "DEU",
          "UKR"
         ],
         "mode": "lines",
         "type": "scattergeo"
        },
        {
         "hovertext": "Recipient: Ukraine<br>Supplier: Germany<br>SIPRI TIV: 0.0",
         "line": {
          "color": "red",
          "width": 2
         },
         "locationmode": "ISO-3",
         "locations": [
          "DEU",
          "UKR"
         ],
         "mode": "lines",
         "type": "scattergeo"
        },
        {
         "hovertext": "Recipient: Ukraine<br>Supplier: Germany<br>SIPRI TIV: 96.0",
         "line": {
          "color": "red",
          "width": 2
         },
         "locationmode": "ISO-3",
         "locations": [
          "DEU",
          "UKR"
         ],
         "mode": "lines",
         "type": "scattergeo"
        },
        {
         "hovertext": "Recipient: Ukraine<br>Supplier: Italy<br>SIPRI TIV: 5.4",
         "line": {
          "color": "red",
          "width": 2
         },
         "locationmode": "ISO-3",
         "locations": [
          "ITA",
          "UKR"
         ],
         "mode": "lines",
         "type": "scattergeo"
        },
        {
         "hovertext": "Recipient: Ukraine<br>Supplier: Italy<br>SIPRI TIV: 6.4",
         "line": {
          "color": "red",
          "width": 2
         },
         "locationmode": "ISO-3",
         "locations": [
          "ITA",
          "UKR"
         ],
         "mode": "lines",
         "type": "scattergeo"
        },
        {
         "hovertext": "Recipient: Ukraine<br>Supplier: Jordan<br>SIPRI TIV: 0.0",
         "line": {
          "color": "red",
          "width": 2
         },
         "locationmode": "ISO-3",
         "locations": [
          "JOR",
          "UKR"
         ],
         "mode": "lines",
         "type": "scattergeo"
        },
        {
         "hovertext": "Recipient: Ukraine<br>Supplier: Netherlands<br>SIPRI TIV: 2.0",
         "line": {
          "color": "red",
          "width": 2
         },
         "locationmode": "ISO-3",
         "locations": [
          "NLD",
          "UKR"
         ],
         "mode": "lines",
         "type": "scattergeo"
        },
        {
         "hovertext": "Recipient: Ukraine<br>Supplier: Netherlands<br>SIPRI TIV: 0.0",
         "line": {
          "color": "red",
          "width": 2
         },
         "locationmode": "ISO-3",
         "locations": [
          "NLD",
          "UKR"
         ],
         "mode": "lines",
         "type": "scattergeo"
        },
        {
         "hovertext": "Recipient: Ukraine<br>Supplier: Netherlands<br>SIPRI TIV: 0.96",
         "line": {
          "color": "red",
          "width": 2
         },
         "locationmode": "ISO-3",
         "locations": [
          "NLD",
          "UKR"
         ],
         "mode": "lines",
         "type": "scattergeo"
        },
        {
         "hovertext": "Recipient: Ukraine<br>Supplier: Netherlands<br>SIPRI TIV: 0.0",
         "line": {
          "color": "red",
          "width": 2
         },
         "locationmode": "ISO-3",
         "locations": [
          "NLD",
          "UKR"
         ],
         "mode": "lines",
         "type": "scattergeo"
        },
        {
         "hovertext": "Recipient: Ukraine<br>Supplier: Norway<br>SIPRI TIV: 4.8",
         "line": {
          "color": "red",
          "width": 2
         },
         "locationmode": "ISO-3",
         "locations": [
          "NOR",
          "UKR"
         ],
         "mode": "lines",
         "type": "scattergeo"
        },
        {
         "hovertext": "Recipient: Ukraine<br>Supplier: Norway<br>SIPRI TIV: 2.24",
         "line": {
          "color": "red",
          "width": 2
         },
         "locationmode": "ISO-3",
         "locations": [
          "NOR",
          "UKR"
         ],
         "mode": "lines",
         "type": "scattergeo"
        },
        {
         "hovertext": "Recipient: Ukraine<br>Supplier: Norway<br>SIPRI TIV: 1.16",
         "line": {
          "color": "red",
          "width": 2
         },
         "locationmode": "ISO-3",
         "locations": [
          "NOR",
          "UKR"
         ],
         "mode": "lines",
         "type": "scattergeo"
        },
        {
         "hovertext": "Recipient: Ukraine<br>Supplier: Norway<br>SIPRI TIV: 0.0",
         "line": {
          "color": "red",
          "width": 2
         },
         "locationmode": "ISO-3",
         "locations": [
          "NOR",
          "UKR"
         ],
         "mode": "lines",
         "type": "scattergeo"
        },
        {
         "hovertext": "Recipient: Ukraine<br>Supplier: Norway<br>SIPRI TIV: 8.0",
         "line": {
          "color": "red",
          "width": 2
         },
         "locationmode": "ISO-3",
         "locations": [
          "NOR",
          "UKR"
         ],
         "mode": "lines",
         "type": "scattergeo"
        },
        {
         "hovertext": "Recipient: Ukraine<br>Supplier: Norway<br>SIPRI TIV: 12.0",
         "line": {
          "color": "red",
          "width": 2
         },
         "locationmode": "ISO-3",
         "locations": [
          "NOR",
          "UKR"
         ],
         "mode": "lines",
         "type": "scattergeo"
        },
        {
         "hovertext": "Recipient: Ukraine<br>Supplier: Norway<br>SIPRI TIV: 12.0",
         "line": {
          "color": "red",
          "width": 2
         },
         "locationmode": "ISO-3",
         "locations": [
          "NOR",
          "UKR"
         ],
         "mode": "lines",
         "type": "scattergeo"
        },
        {
         "hovertext": "Recipient: Ukraine<br>Supplier: Norway<br>SIPRI TIV: 0.0",
         "line": {
          "color": "red",
          "width": 2
         },
         "locationmode": "ISO-3",
         "locations": [
          "NOR",
          "UKR"
         ],
         "mode": "lines",
         "type": "scattergeo"
        },
        {
         "hovertext": "Recipient: Ukraine<br>Supplier: Poland<br>SIPRI TIV: 170.0",
         "line": {
          "color": "red",
          "width": 2
         },
         "locationmode": "ISO-3",
         "locations": [
          "POL",
          "UKR"
         ],
         "mode": "lines",
         "type": "scattergeo"
        },
        {
         "hovertext": "Recipient: Ukraine<br>Supplier: Poland<br>SIPRI TIV: 34.0",
         "line": {
          "color": "red",
          "width": 2
         },
         "locationmode": "ISO-3",
         "locations": [
          "POL",
          "UKR"
         ],
         "mode": "lines",
         "type": "scattergeo"
        },
        {
         "hovertext": "Recipient: Ukraine<br>Supplier: Poland<br>SIPRI TIV: 159.6",
         "line": {
          "color": "red",
          "width": 2
         },
         "locationmode": "ISO-3",
         "locations": [
          "POL",
          "UKR"
         ],
         "mode": "lines",
         "type": "scattergeo"
        },
        {
         "hovertext": "Recipient: Ukraine<br>Supplier: Poland<br>SIPRI TIV: 38.4",
         "line": {
          "color": "red",
          "width": 2
         },
         "locationmode": "ISO-3",
         "locations": [
          "POL",
          "UKR"
         ],
         "mode": "lines",
         "type": "scattergeo"
        },
        {
         "hovertext": "Recipient: Ukraine<br>Supplier: Portugal<br>SIPRI TIV: 1.2",
         "line": {
          "color": "red",
          "width": 2
         },
         "locationmode": "ISO-3",
         "locations": [
          "PRT",
          "UKR"
         ],
         "mode": "lines",
         "type": "scattergeo"
        },
        {
         "hovertext": "Recipient: Ukraine<br>Supplier: Portugal<br>SIPRI TIV: 6.0",
         "line": {
          "color": "red",
          "width": 2
         },
         "locationmode": "ISO-3",
         "locations": [
          "PRT",
          "UKR"
         ],
         "mode": "lines",
         "type": "scattergeo"
        },
        {
         "hovertext": "Recipient: Ukraine<br>Supplier: Slovakia<br>SIPRI TIV: 1.44",
         "line": {
          "color": "red",
          "width": 2
         },
         "locationmode": "ISO-3",
         "locations": [
          "SVK",
          "UKR"
         ],
         "mode": "lines",
         "type": "scattergeo"
        },
        {
         "hovertext": "Recipient: Ukraine<br>Supplier: Slovakia<br>SIPRI TIV: 148.2",
         "line": {
          "color": "red",
          "width": 2
         },
         "locationmode": "ISO-3",
         "locations": [
          "SVK",
          "UKR"
         ],
         "mode": "lines",
         "type": "scattergeo"
        },
        {
         "hovertext": "Recipient: Ukraine<br>Supplier: Slovenia<br>SIPRI TIV: 2.4",
         "line": {
          "color": "red",
          "width": 2
         },
         "locationmode": "ISO-3",
         "locations": [
          "SVN",
          "UKR"
         ],
         "mode": "lines",
         "type": "scattergeo"
        },
        {
         "hovertext": "Recipient: Ukraine<br>Supplier: Spain<br>SIPRI TIV: 0.12",
         "line": {
          "color": "red",
          "width": 2
         },
         "locationmode": "ISO-3",
         "locations": [
          "ESP",
          "UKR"
         ],
         "mode": "lines",
         "type": "scattergeo"
        },
        {
         "hovertext": "Recipient: Ukraine<br>Supplier: Spain<br>SIPRI TIV: 2.0",
         "line": {
          "color": "red",
          "width": 2
         },
         "locationmode": "ISO-3",
         "locations": [
          "ESP",
          "UKR"
         ],
         "mode": "lines",
         "type": "scattergeo"
        },
        {
         "hovertext": "Recipient: Ukraine<br>Supplier: Sweden<br>SIPRI TIV: 4.0",
         "line": {
          "color": "red",
          "width": 2
         },
         "locationmode": "ISO-3",
         "locations": [
          "SWE",
          "UKR"
         ],
         "mode": "lines",
         "type": "scattergeo"
        },
        {
         "hovertext": "Recipient: Ukraine<br>Supplier: Sweden<br>SIPRI TIV: 12.0",
         "line": {
          "color": "red",
          "width": 2
         },
         "locationmode": "ISO-3",
         "locations": [
          "SWE",
          "UKR"
         ],
         "mode": "lines",
         "type": "scattergeo"
        },
        {
         "hovertext": "Recipient: Ukraine<br>Supplier: Sweden<br>SIPRI TIV: 30.0",
         "line": {
          "color": "red",
          "width": 2
         },
         "locationmode": "ISO-3",
         "locations": [
          "SWE",
          "UKR"
         ],
         "mode": "lines",
         "type": "scattergeo"
        },
        {
         "hovertext": "Recipient: Ukraine<br>Supplier: Sweden<br>SIPRI TIV: 1.6",
         "line": {
          "color": "red",
          "width": 2
         },
         "locationmode": "ISO-3",
         "locations": [
          "SWE",
          "UKR"
         ],
         "mode": "lines",
         "type": "scattergeo"
        },
        {
         "hovertext": "Recipient: Ukraine<br>Supplier: Sweden<br>SIPRI TIV: 0.0",
         "line": {
          "color": "red",
          "width": 2
         },
         "locationmode": "ISO-3",
         "locations": [
          "SWE",
          "UKR"
         ],
         "mode": "lines",
         "type": "scattergeo"
        },
        {
         "hovertext": "Recipient: Ukraine<br>Supplier: Sweden<br>SIPRI TIV: 18.0",
         "line": {
          "color": "red",
          "width": 2
         },
         "locationmode": "ISO-3",
         "locations": [
          "SWE",
          "UKR"
         ],
         "mode": "lines",
         "type": "scattergeo"
        },
        {
         "hovertext": "Recipient: Ukraine<br>Supplier: Sweden<br>SIPRI TIV: 0.36",
         "line": {
          "color": "red",
          "width": 2
         },
         "locationmode": "ISO-3",
         "locations": [
          "SWE",
          "UKR"
         ],
         "mode": "lines",
         "type": "scattergeo"
        },
        {
         "hovertext": "Recipient: Ukraine<br>Supplier: Sweden<br>SIPRI TIV: 0.8",
         "line": {
          "color": "red",
          "width": 2
         },
         "locationmode": "ISO-3",
         "locations": [
          "SWE",
          "UKR"
         ],
         "mode": "lines",
         "type": "scattergeo"
        },
        {
         "hovertext": "Recipient: Ukraine<br>Supplier: United Kingdom<br>SIPRI TIV: 21.6",
         "line": {
          "color": "red",
          "width": 2
         },
         "locationmode": "ISO-3",
         "locations": [
          "GBR",
          "UKR"
         ],
         "mode": "lines",
         "type": "scattergeo"
        },
        {
         "hovertext": "Recipient: Ukraine<br>Supplier: United Kingdom<br>SIPRI TIV: 1.2",
         "line": {
          "color": "red",
          "width": 2
         },
         "locationmode": "ISO-3",
         "locations": [
          "GBR",
          "UKR"
         ],
         "mode": "lines",
         "type": "scattergeo"
        },
        {
         "hovertext": "Recipient: Ukraine<br>Supplier: United Kingdom<br>SIPRI TIV: 0.0",
         "line": {
          "color": "red",
          "width": 2
         },
         "locationmode": "ISO-3",
         "locations": [
          "GBR",
          "UKR"
         ],
         "mode": "lines",
         "type": "scattergeo"
        },
        {
         "hovertext": "Recipient: Ukraine<br>Supplier: United Kingdom<br>SIPRI TIV: 2.3",
         "line": {
          "color": "red",
          "width": 2
         },
         "locationmode": "ISO-3",
         "locations": [
          "GBR",
          "UKR"
         ],
         "mode": "lines",
         "type": "scattergeo"
        },
        {
         "hovertext": "Recipient: Ukraine<br>Supplier: United Kingdom<br>SIPRI TIV: 12.8",
         "line": {
          "color": "red",
          "width": 2
         },
         "locationmode": "ISO-3",
         "locations": [
          "GBR",
          "UKR"
         ],
         "mode": "lines",
         "type": "scattergeo"
        },
        {
         "hovertext": "Recipient: Ukraine<br>Supplier: United States<br>SIPRI TIV: 28.8",
         "line": {
          "color": "red",
          "width": 2
         },
         "locationmode": "ISO-3",
         "locations": [
          "USA",
          "UKR"
         ],
         "mode": "lines",
         "type": "scattergeo"
        },
        {
         "hovertext": "Recipient: Ukraine<br>Supplier: United States<br>SIPRI TIV: 11.2",
         "line": {
          "color": "red",
          "width": 2
         },
         "locationmode": "ISO-3",
         "locations": [
          "USA",
          "UKR"
         ],
         "mode": "lines",
         "type": "scattergeo"
        },
        {
         "hovertext": "Recipient: Ukraine<br>Supplier: United States<br>SIPRI TIV: 2.56",
         "line": {
          "color": "red",
          "width": 2
         },
         "locationmode": "ISO-3",
         "locations": [
          "USA",
          "UKR"
         ],
         "mode": "lines",
         "type": "scattergeo"
        },
        {
         "hovertext": "Recipient: Ukraine<br>Supplier: United States<br>SIPRI TIV: 0.0",
         "line": {
          "color": "red",
          "width": 2
         },
         "locationmode": "ISO-3",
         "locations": [
          "USA",
          "UKR"
         ],
         "mode": "lines",
         "type": "scattergeo"
        },
        {
         "hovertext": "Recipient: Ukraine<br>Supplier: United States<br>SIPRI TIV: 15.0",
         "line": {
          "color": "red",
          "width": 2
         },
         "locationmode": "ISO-3",
         "locations": [
          "USA",
          "UKR"
         ],
         "mode": "lines",
         "type": "scattergeo"
        },
        {
         "hovertext": "Recipient: Ukraine<br>Supplier: United States<br>SIPRI TIV: 60.0",
         "line": {
          "color": "red",
          "width": 2
         },
         "locationmode": "ISO-3",
         "locations": [
          "USA",
          "UKR"
         ],
         "mode": "lines",
         "type": "scattergeo"
        },
        {
         "hovertext": "Recipient: Ukraine<br>Supplier: United States<br>SIPRI TIV: 1.0",
         "line": {
          "color": "red",
          "width": 2
         },
         "locationmode": "ISO-3",
         "locations": [
          "USA",
          "UKR"
         ],
         "mode": "lines",
         "type": "scattergeo"
        },
        {
         "hovertext": "Recipient: Ukraine<br>Supplier: United States<br>SIPRI TIV: 2.88",
         "line": {
          "color": "red",
          "width": 2
         },
         "locationmode": "ISO-3",
         "locations": [
          "USA",
          "UKR"
         ],
         "mode": "lines",
         "type": "scattergeo"
        },
        {
         "hovertext": "Recipient: Ukraine<br>Supplier: United States<br>SIPRI TIV: 7.2",
         "line": {
          "color": "red",
          "width": 2
         },
         "locationmode": "ISO-3",
         "locations": [
          "USA",
          "UKR"
         ],
         "mode": "lines",
         "type": "scattergeo"
        },
        {
         "hovertext": "Recipient: Ukraine<br>Supplier: United States<br>SIPRI TIV: 6.4",
         "line": {
          "color": "red",
          "width": 2
         },
         "locationmode": "ISO-3",
         "locations": [
          "USA",
          "UKR"
         ],
         "mode": "lines",
         "type": "scattergeo"
        },
        {
         "hovertext": "Recipient: Ukraine<br>Supplier: United States<br>SIPRI TIV: 5.5",
         "line": {
          "color": "red",
          "width": 2
         },
         "locationmode": "ISO-3",
         "locations": [
          "USA",
          "UKR"
         ],
         "mode": "lines",
         "type": "scattergeo"
        },
        {
         "hovertext": "Recipient: Ukraine<br>Supplier: United States<br>SIPRI TIV: 60.0",
         "line": {
          "color": "red",
          "width": 2
         },
         "locationmode": "ISO-3",
         "locations": [
          "USA",
          "UKR"
         ],
         "mode": "lines",
         "type": "scattergeo"
        },
        {
         "hovertext": "Recipient: Ukraine<br>Supplier: United States<br>SIPRI TIV: 96.0",
         "line": {
          "color": "red",
          "width": 2
         },
         "locationmode": "ISO-3",
         "locations": [
          "USA",
          "UKR"
         ],
         "mode": "lines",
         "type": "scattergeo"
        },
        {
         "hovertext": "Recipient: Ukraine<br>Supplier: United States<br>SIPRI TIV: 0.1",
         "line": {
          "color": "red",
          "width": 2
         },
         "locationmode": "ISO-3",
         "locations": [
          "USA",
          "UKR"
         ],
         "mode": "lines",
         "type": "scattergeo"
        },
        {
         "hovertext": "Recipient: Ukraine<br>Supplier: United States<br>SIPRI TIV: 2.6",
         "line": {
          "color": "red",
          "width": 2
         },
         "locationmode": "ISO-3",
         "locations": [
          "USA",
          "UKR"
         ],
         "mode": "lines",
         "type": "scattergeo"
        },
        {
         "hovertext": "Recipient: Ukraine<br>Supplier: United States<br>SIPRI TIV: 15.2",
         "line": {
          "color": "red",
          "width": 2
         },
         "locationmode": "ISO-3",
         "locations": [
          "USA",
          "UKR"
         ],
         "mode": "lines",
         "type": "scattergeo"
        },
        {
         "hovertext": "Recipient: Uruguay<br>Supplier: Denmark<br>SIPRI TIV: 0.0",
         "line": {
          "color": "red",
          "width": 2
         },
         "locationmode": "ISO-3",
         "locations": [
          "DNK",
          "URY"
         ],
         "mode": "lines",
         "type": "scattergeo"
        },
        {
         "hovertext": "Recipient: Uruguay<br>Supplier: Spain<br>SIPRI TIV: 0.0",
         "line": {
          "color": "red",
          "width": 2
         },
         "locationmode": "ISO-3",
         "locations": [
          "ESP",
          "URY"
         ],
         "mode": "lines",
         "type": "scattergeo"
        },
        {
         "hovertext": "Recipient: Uruguay<br>Supplier: United States<br>SIPRI TIV: 0.0",
         "line": {
          "color": "red",
          "width": 2
         },
         "locationmode": "ISO-3",
         "locations": [
          "USA",
          "URY"
         ],
         "mode": "lines",
         "type": "scattergeo"
        },
        {
         "hovertext": "Recipient: Uruguay<br>Supplier: United States<br>SIPRI TIV: 0.0",
         "line": {
          "color": "red",
          "width": 2
         },
         "locationmode": "ISO-3",
         "locations": [
          "USA",
          "URY"
         ],
         "mode": "lines",
         "type": "scattergeo"
        },
        {
         "hovertext": "Recipient: Uruguay<br>Supplier: United States<br>SIPRI TIV: 0.0",
         "line": {
          "color": "red",
          "width": 2
         },
         "locationmode": "ISO-3",
         "locations": [
          "USA",
          "URY"
         ],
         "mode": "lines",
         "type": "scattergeo"
        },
        {
         "hovertext": "Recipient: United States<br>Supplier: Canada<br>SIPRI TIV: 0.0",
         "line": {
          "color": "red",
          "width": 2
         },
         "locationmode": "ISO-3",
         "locations": [
          "CAN",
          "USA"
         ],
         "mode": "lines",
         "type": "scattergeo"
        },
        {
         "hovertext": "Recipient: United States<br>Supplier: Canada<br>SIPRI TIV: 0.0",
         "line": {
          "color": "red",
          "width": 2
         },
         "locationmode": "ISO-3",
         "locations": [
          "CAN",
          "USA"
         ],
         "mode": "lines",
         "type": "scattergeo"
        },
        {
         "hovertext": "Recipient: United States<br>Supplier: Israel<br>SIPRI TIV: 0.0",
         "line": {
          "color": "red",
          "width": 2
         },
         "locationmode": "ISO-3",
         "locations": [
          "ISR",
          "USA"
         ],
         "mode": "lines",
         "type": "scattergeo"
        },
        {
         "hovertext": "Recipient: United States<br>Supplier: Japan<br>SIPRI TIV: 0.0",
         "line": {
          "color": "red",
          "width": 2
         },
         "locationmode": "ISO-3",
         "locations": [
          "JPN",
          "USA"
         ],
         "mode": "lines",
         "type": "scattergeo"
        },
        {
         "hovertext": "Recipient: Viet Nam<br>Supplier: India<br>SIPRI TIV: 30.0",
         "line": {
          "color": "red",
          "width": 2
         },
         "locationmode": "ISO-3",
         "locations": [
          "IND",
          "VNM"
         ],
         "mode": "lines",
         "type": "scattergeo"
        },
        {
         "hovertext": "Recipient: Zambia<br>Supplier: United States<br>SIPRI TIV: 5.0",
         "line": {
          "color": "red",
          "width": 2
         },
         "locationmode": "ISO-3",
         "locations": [
          "USA",
          "ZMB"
         ],
         "mode": "lines",
         "type": "scattergeo"
        },
        {
         "hovertext": "Recipient: Zambia<br>Supplier: United States<br>SIPRI TIV: 0.0",
         "line": {
          "color": "red",
          "width": 2
         },
         "locationmode": "ISO-3",
         "locations": [
          "USA",
          "ZMB"
         ],
         "mode": "lines",
         "type": "scattergeo"
        },
        {
         "hovertext": "Recipient: Zimbabwe<br>Supplier: China<br>SIPRI TIV: 10.4",
         "line": {
          "color": "red",
          "width": 2
         },
         "locationmode": "ISO-3",
         "locations": [
          "CHN",
          "ZWE"
         ],
         "mode": "lines",
         "type": "scattergeo"
        },
        {
         "hovertext": "Recipient: Zimbabwe<br>Supplier: China<br>SIPRI TIV: 2.8",
         "line": {
          "color": "red",
          "width": 2
         },
         "locationmode": "ISO-3",
         "locations": [
          "CHN",
          "ZWE"
         ],
         "mode": "lines",
         "type": "scattergeo"
        },
        {
         "hovertext": "Recipient: Zimbabwe<br>Supplier: China<br>SIPRI TIV: 7.2",
         "line": {
          "color": "red",
          "width": 2
         },
         "locationmode": "ISO-3",
         "locations": [
          "CHN",
          "ZWE"
         ],
         "mode": "lines",
         "type": "scattergeo"
        }
       ],
       "layout": {
        "geo": {
         "projection": {
          "type": "orthographic"
         }
        },
        "margin": {
         "b": 0,
         "l": 0,
         "pad": 0,
         "r": 0,
         "t": 0
        },
        "showlegend": false,
        "template": {
         "data": {
          "bar": [
           {
            "error_x": {
             "color": "#f2f5fa"
            },
            "error_y": {
             "color": "#f2f5fa"
            },
            "marker": {
             "line": {
              "color": "rgb(17,17,17)",
              "width": 0.5
             },
             "pattern": {
              "fillmode": "overlay",
              "size": 10,
              "solidity": 0.2
             }
            },
            "type": "bar"
           }
          ],
          "barpolar": [
           {
            "marker": {
             "line": {
              "color": "rgb(17,17,17)",
              "width": 0.5
             },
             "pattern": {
              "fillmode": "overlay",
              "size": 10,
              "solidity": 0.2
             }
            },
            "type": "barpolar"
           }
          ],
          "carpet": [
           {
            "aaxis": {
             "endlinecolor": "#A2B1C6",
             "gridcolor": "#506784",
             "linecolor": "#506784",
             "minorgridcolor": "#506784",
             "startlinecolor": "#A2B1C6"
            },
            "baxis": {
             "endlinecolor": "#A2B1C6",
             "gridcolor": "#506784",
             "linecolor": "#506784",
             "minorgridcolor": "#506784",
             "startlinecolor": "#A2B1C6"
            },
            "type": "carpet"
           }
          ],
          "choropleth": [
           {
            "colorbar": {
             "outlinewidth": 0,
             "ticks": ""
            },
            "type": "choropleth"
           }
          ],
          "contour": [
           {
            "colorbar": {
             "outlinewidth": 0,
             "ticks": ""
            },
            "colorscale": [
             [
              0,
              "#0d0887"
             ],
             [
              0.1111111111111111,
              "#46039f"
             ],
             [
              0.2222222222222222,
              "#7201a8"
             ],
             [
              0.3333333333333333,
              "#9c179e"
             ],
             [
              0.4444444444444444,
              "#bd3786"
             ],
             [
              0.5555555555555556,
              "#d8576b"
             ],
             [
              0.6666666666666666,
              "#ed7953"
             ],
             [
              0.7777777777777778,
              "#fb9f3a"
             ],
             [
              0.8888888888888888,
              "#fdca26"
             ],
             [
              1,
              "#f0f921"
             ]
            ],
            "type": "contour"
           }
          ],
          "contourcarpet": [
           {
            "colorbar": {
             "outlinewidth": 0,
             "ticks": ""
            },
            "type": "contourcarpet"
           }
          ],
          "heatmap": [
           {
            "colorbar": {
             "outlinewidth": 0,
             "ticks": ""
            },
            "colorscale": [
             [
              0,
              "#0d0887"
             ],
             [
              0.1111111111111111,
              "#46039f"
             ],
             [
              0.2222222222222222,
              "#7201a8"
             ],
             [
              0.3333333333333333,
              "#9c179e"
             ],
             [
              0.4444444444444444,
              "#bd3786"
             ],
             [
              0.5555555555555556,
              "#d8576b"
             ],
             [
              0.6666666666666666,
              "#ed7953"
             ],
             [
              0.7777777777777778,
              "#fb9f3a"
             ],
             [
              0.8888888888888888,
              "#fdca26"
             ],
             [
              1,
              "#f0f921"
             ]
            ],
            "type": "heatmap"
           }
          ],
          "heatmapgl": [
           {
            "colorbar": {
             "outlinewidth": 0,
             "ticks": ""
            },
            "colorscale": [
             [
              0,
              "#0d0887"
             ],
             [
              0.1111111111111111,
              "#46039f"
             ],
             [
              0.2222222222222222,
              "#7201a8"
             ],
             [
              0.3333333333333333,
              "#9c179e"
             ],
             [
              0.4444444444444444,
              "#bd3786"
             ],
             [
              0.5555555555555556,
              "#d8576b"
             ],
             [
              0.6666666666666666,
              "#ed7953"
             ],
             [
              0.7777777777777778,
              "#fb9f3a"
             ],
             [
              0.8888888888888888,
              "#fdca26"
             ],
             [
              1,
              "#f0f921"
             ]
            ],
            "type": "heatmapgl"
           }
          ],
          "histogram": [
           {
            "marker": {
             "pattern": {
              "fillmode": "overlay",
              "size": 10,
              "solidity": 0.2
             }
            },
            "type": "histogram"
           }
          ],
          "histogram2d": [
           {
            "colorbar": {
             "outlinewidth": 0,
             "ticks": ""
            },
            "colorscale": [
             [
              0,
              "#0d0887"
             ],
             [
              0.1111111111111111,
              "#46039f"
             ],
             [
              0.2222222222222222,
              "#7201a8"
             ],
             [
              0.3333333333333333,
              "#9c179e"
             ],
             [
              0.4444444444444444,
              "#bd3786"
             ],
             [
              0.5555555555555556,
              "#d8576b"
             ],
             [
              0.6666666666666666,
              "#ed7953"
             ],
             [
              0.7777777777777778,
              "#fb9f3a"
             ],
             [
              0.8888888888888888,
              "#fdca26"
             ],
             [
              1,
              "#f0f921"
             ]
            ],
            "type": "histogram2d"
           }
          ],
          "histogram2dcontour": [
           {
            "colorbar": {
             "outlinewidth": 0,
             "ticks": ""
            },
            "colorscale": [
             [
              0,
              "#0d0887"
             ],
             [
              0.1111111111111111,
              "#46039f"
             ],
             [
              0.2222222222222222,
              "#7201a8"
             ],
             [
              0.3333333333333333,
              "#9c179e"
             ],
             [
              0.4444444444444444,
              "#bd3786"
             ],
             [
              0.5555555555555556,
              "#d8576b"
             ],
             [
              0.6666666666666666,
              "#ed7953"
             ],
             [
              0.7777777777777778,
              "#fb9f3a"
             ],
             [
              0.8888888888888888,
              "#fdca26"
             ],
             [
              1,
              "#f0f921"
             ]
            ],
            "type": "histogram2dcontour"
           }
          ],
          "mesh3d": [
           {
            "colorbar": {
             "outlinewidth": 0,
             "ticks": ""
            },
            "type": "mesh3d"
           }
          ],
          "parcoords": [
           {
            "line": {
             "colorbar": {
              "outlinewidth": 0,
              "ticks": ""
             }
            },
            "type": "parcoords"
           }
          ],
          "pie": [
           {
            "automargin": true,
            "type": "pie"
           }
          ],
          "scatter": [
           {
            "marker": {
             "line": {
              "color": "#283442"
             }
            },
            "type": "scatter"
           }
          ],
          "scatter3d": [
           {
            "line": {
             "colorbar": {
              "outlinewidth": 0,
              "ticks": ""
             }
            },
            "marker": {
             "colorbar": {
              "outlinewidth": 0,
              "ticks": ""
             }
            },
            "type": "scatter3d"
           }
          ],
          "scattercarpet": [
           {
            "marker": {
             "colorbar": {
              "outlinewidth": 0,
              "ticks": ""
             }
            },
            "type": "scattercarpet"
           }
          ],
          "scattergeo": [
           {
            "marker": {
             "colorbar": {
              "outlinewidth": 0,
              "ticks": ""
             }
            },
            "type": "scattergeo"
           }
          ],
          "scattergl": [
           {
            "marker": {
             "line": {
              "color": "#283442"
             }
            },
            "type": "scattergl"
           }
          ],
          "scattermapbox": [
           {
            "marker": {
             "colorbar": {
              "outlinewidth": 0,
              "ticks": ""
             }
            },
            "type": "scattermapbox"
           }
          ],
          "scatterpolar": [
           {
            "marker": {
             "colorbar": {
              "outlinewidth": 0,
              "ticks": ""
             }
            },
            "type": "scatterpolar"
           }
          ],
          "scatterpolargl": [
           {
            "marker": {
             "colorbar": {
              "outlinewidth": 0,
              "ticks": ""
             }
            },
            "type": "scatterpolargl"
           }
          ],
          "scatterternary": [
           {
            "marker": {
             "colorbar": {
              "outlinewidth": 0,
              "ticks": ""
             }
            },
            "type": "scatterternary"
           }
          ],
          "surface": [
           {
            "colorbar": {
             "outlinewidth": 0,
             "ticks": ""
            },
            "colorscale": [
             [
              0,
              "#0d0887"
             ],
             [
              0.1111111111111111,
              "#46039f"
             ],
             [
              0.2222222222222222,
              "#7201a8"
             ],
             [
              0.3333333333333333,
              "#9c179e"
             ],
             [
              0.4444444444444444,
              "#bd3786"
             ],
             [
              0.5555555555555556,
              "#d8576b"
             ],
             [
              0.6666666666666666,
              "#ed7953"
             ],
             [
              0.7777777777777778,
              "#fb9f3a"
             ],
             [
              0.8888888888888888,
              "#fdca26"
             ],
             [
              1,
              "#f0f921"
             ]
            ],
            "type": "surface"
           }
          ],
          "table": [
           {
            "cells": {
             "fill": {
              "color": "#506784"
             },
             "line": {
              "color": "rgb(17,17,17)"
             }
            },
            "header": {
             "fill": {
              "color": "#2a3f5f"
             },
             "line": {
              "color": "rgb(17,17,17)"
             }
            },
            "type": "table"
           }
          ]
         },
         "layout": {
          "annotationdefaults": {
           "arrowcolor": "#f2f5fa",
           "arrowhead": 0,
           "arrowwidth": 1
          },
          "autotypenumbers": "strict",
          "coloraxis": {
           "colorbar": {
            "outlinewidth": 0,
            "ticks": ""
           }
          },
          "colorscale": {
           "diverging": [
            [
             0,
             "#8e0152"
            ],
            [
             0.1,
             "#c51b7d"
            ],
            [
             0.2,
             "#de77ae"
            ],
            [
             0.3,
             "#f1b6da"
            ],
            [
             0.4,
             "#fde0ef"
            ],
            [
             0.5,
             "#f7f7f7"
            ],
            [
             0.6,
             "#e6f5d0"
            ],
            [
             0.7,
             "#b8e186"
            ],
            [
             0.8,
             "#7fbc41"
            ],
            [
             0.9,
             "#4d9221"
            ],
            [
             1,
             "#276419"
            ]
           ],
           "sequential": [
            [
             0,
             "#0d0887"
            ],
            [
             0.1111111111111111,
             "#46039f"
            ],
            [
             0.2222222222222222,
             "#7201a8"
            ],
            [
             0.3333333333333333,
             "#9c179e"
            ],
            [
             0.4444444444444444,
             "#bd3786"
            ],
            [
             0.5555555555555556,
             "#d8576b"
            ],
            [
             0.6666666666666666,
             "#ed7953"
            ],
            [
             0.7777777777777778,
             "#fb9f3a"
            ],
            [
             0.8888888888888888,
             "#fdca26"
            ],
            [
             1,
             "#f0f921"
            ]
           ],
           "sequentialminus": [
            [
             0,
             "#0d0887"
            ],
            [
             0.1111111111111111,
             "#46039f"
            ],
            [
             0.2222222222222222,
             "#7201a8"
            ],
            [
             0.3333333333333333,
             "#9c179e"
            ],
            [
             0.4444444444444444,
             "#bd3786"
            ],
            [
             0.5555555555555556,
             "#d8576b"
            ],
            [
             0.6666666666666666,
             "#ed7953"
            ],
            [
             0.7777777777777778,
             "#fb9f3a"
            ],
            [
             0.8888888888888888,
             "#fdca26"
            ],
            [
             1,
             "#f0f921"
            ]
           ]
          },
          "colorway": [
           "#636efa",
           "#EF553B",
           "#00cc96",
           "#ab63fa",
           "#FFA15A",
           "#19d3f3",
           "#FF6692",
           "#B6E880",
           "#FF97FF",
           "#FECB52"
          ],
          "font": {
           "color": "#f2f5fa"
          },
          "geo": {
           "bgcolor": "rgb(17,17,17)",
           "lakecolor": "rgb(17,17,17)",
           "landcolor": "rgb(17,17,17)",
           "showlakes": true,
           "showland": true,
           "subunitcolor": "#506784"
          },
          "hoverlabel": {
           "align": "left"
          },
          "hovermode": "closest",
          "mapbox": {
           "style": "dark"
          },
          "paper_bgcolor": "rgb(17,17,17)",
          "plot_bgcolor": "rgb(17,17,17)",
          "polar": {
           "angularaxis": {
            "gridcolor": "#506784",
            "linecolor": "#506784",
            "ticks": ""
           },
           "bgcolor": "rgb(17,17,17)",
           "radialaxis": {
            "gridcolor": "#506784",
            "linecolor": "#506784",
            "ticks": ""
           }
          },
          "scene": {
           "xaxis": {
            "backgroundcolor": "rgb(17,17,17)",
            "gridcolor": "#506784",
            "gridwidth": 2,
            "linecolor": "#506784",
            "showbackground": true,
            "ticks": "",
            "zerolinecolor": "#C8D4E3"
           },
           "yaxis": {
            "backgroundcolor": "rgb(17,17,17)",
            "gridcolor": "#506784",
            "gridwidth": 2,
            "linecolor": "#506784",
            "showbackground": true,
            "ticks": "",
            "zerolinecolor": "#C8D4E3"
           },
           "zaxis": {
            "backgroundcolor": "rgb(17,17,17)",
            "gridcolor": "#506784",
            "gridwidth": 2,
            "linecolor": "#506784",
            "showbackground": true,
            "ticks": "",
            "zerolinecolor": "#C8D4E3"
           }
          },
          "shapedefaults": {
           "line": {
            "color": "#f2f5fa"
           }
          },
          "sliderdefaults": {
           "bgcolor": "#C8D4E3",
           "bordercolor": "rgb(17,17,17)",
           "borderwidth": 1,
           "tickwidth": 0
          },
          "ternary": {
           "aaxis": {
            "gridcolor": "#506784",
            "linecolor": "#506784",
            "ticks": ""
           },
           "baxis": {
            "gridcolor": "#506784",
            "linecolor": "#506784",
            "ticks": ""
           },
           "bgcolor": "rgb(17,17,17)",
           "caxis": {
            "gridcolor": "#506784",
            "linecolor": "#506784",
            "ticks": ""
           }
          },
          "title": {
           "x": 0.05
          },
          "updatemenudefaults": {
           "bgcolor": "#506784",
           "borderwidth": 0
          },
          "xaxis": {
           "automargin": true,
           "gridcolor": "#283442",
           "linecolor": "#506784",
           "ticks": "",
           "title": {
            "standoff": 15
           },
           "zerolinecolor": "#283442",
           "zerolinewidth": 2
          },
          "yaxis": {
           "automargin": true,
           "gridcolor": "#283442",
           "linecolor": "#506784",
           "ticks": "",
           "title": {
            "standoff": 15
           },
           "zerolinecolor": "#283442",
           "zerolinewidth": 2
          }
         }
        },
        "title": {
         "text": "Arms transfers between countries"
        }
       }
      }
     },
     "metadata": {},
     "output_type": "display_data"
    }
   ],
   "source": [
    "fig = go.Figure()\n",
    "\n",
    "df = df[df['Year'] == 2023]\n",
    "df_zip = zip(df['ISO_Supplier'], df['ISO_Recipient'], df['sipri_TIV'])\n",
    "\n",
    "for iso_supplier, iso_recipient, value in df_zip:\n",
    "    hover_text = f\"Recipient: {df[df['ISO_Recipient'] == iso_recipient]['Recipient'].values[0]}<br>\" \\\n",
    "                 f\"Supplier: {df[df['ISO_Supplier'] == iso_supplier]['Supplier'].values[0]}<br>\" \\\n",
    "                 f\"SIPRI TIV: {value}\"\n",
    "    fig.add_trace(go.Scattergeo(\n",
    "                        locations=[iso_supplier, iso_recipient],\n",
    "                        locationmode='ISO-3',\n",
    "                        mode='lines',\n",
    "                        line=dict(width=2, color=\"red\"),\n",
    "                        hovertext=hover_text\n",
    "                        ))\n",
    "\n",
    "fig.update_layout(title=\"Arms transfers between countries\",\n",
    "                  margin={\"t\": 0, \"b\": 0, \"l\": 0, \"r\": 0, \"pad\": 0},\n",
    "                  template=\"plotly_dark\",\n",
    "                  showlegend=False)\n",
    "fig.update_geos(projection_type=\"orthographic\")\n",
    "\n",
    "fig.show()"
   ]
  }
 ],
 "metadata": {
  "kernelspec": {
   "display_name": "Python 3",
   "language": "python",
   "name": "python3"
  },
  "language_info": {
   "codemirror_mode": {
    "name": "ipython",
    "version": 3
   },
   "file_extension": ".py",
   "mimetype": "text/x-python",
   "name": "python",
   "nbconvert_exporter": "python",
   "pygments_lexer": "ipython3",
   "version": "3.10.6"
  }
 },
 "nbformat": 4,
 "nbformat_minor": 2
}
