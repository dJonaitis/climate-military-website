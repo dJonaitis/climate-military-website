{
 "cells": [
  {
   "cell_type": "markdown",
   "metadata": {},
   "source": [
    "# Military Emissions\n",
    "\n",
    "This notebook is responsible for working with data from the SIPRI Arms Transfer database.\n",
    "\n",
    "The value column corresponds to the SIPRI TIV value. It is a measure of military capability transferred."
   ]
  },
  {
   "cell_type": "code",
   "execution_count": 1,
   "metadata": {},
   "outputs": [],
   "source": [
    "import pandas as pd"
   ]
  },
  {
   "cell_type": "code",
   "execution_count": 2,
   "metadata": {},
   "outputs": [
    {
     "name": "stdout",
     "output_type": "stream",
     "text": [
      "29058\n"
     ]
    }
   ],
   "source": [
    "# Read the CSV file into a dataframe\n",
    "df = pd.read_csv('data/trade-register.csv')\n",
    "columns_to_drop = ['col4', 'Number ordered', 'col6', 'Weapon designation', 'Weapon description', 'Number delivered', 'col10', 'Year(s) of delivery', 'status', 'Comments', 'SIPRI TIV per unit', 'SIPRI TIV for total order']\n",
    "df.drop(columns=columns_to_drop, inplace=True)\n",
    "# Rename the columns\n",
    "df.columns=['Recipient', 'Supplier', 'Year', 'sipri_TIV']\n",
    "# I am recoding the Soviet Union as Russia because the Soviet Union no longer exists, and was a big player in our 1950-2023 dataset. Thus, maintaining that data is useful.\n",
    "df['Supplier'] = df['Supplier'].replace('Soviet Union', 'Russian Federation')\n",
    "df['Recipient'] = df['Recipient'].replace('Soviet Union', 'Russian Federation')\n",
    "# Display the head of the dataframe\n",
    "df.head()\n",
    "print(len(df['Recipient']))"
   ]
  },
  {
   "cell_type": "code",
   "execution_count": 3,
   "metadata": {},
   "outputs": [
    {
     "name": "stdout",
     "output_type": "stream",
     "text": [
      "24705\n",
      "['AFG' 'ALB' 'DZA' 'AGO' 'ATG' 'ARG' 'ARM' 'AUT' 'AUS' 'AZE' 'BHR' 'BGD'\n",
      " 'BRB' 'BHS' 'BDI' 'BEL' 'BEN' 'BFA' 'BTN' 'BLR' 'BLZ' 'BOL' 'BWA' 'BRA'\n",
      " 'BGR' 'CMR' 'CAN' 'CPV' 'CAF' 'TCD' 'CHL' 'CHN' 'KHM' 'COL' 'COM' 'COG'\n",
      " 'CRI' 'HRV' 'CUB' 'CYP' 'CZE' 'DNK' 'DJI' 'DOM' 'ECU' 'EGY' 'GNQ' 'ERI'\n",
      " 'EST' 'TLS' 'ETH' 'FIN' 'FJI' 'FRA' 'DEU' 'GAB' 'GMB' 'GNB' 'GEO' 'GHA'\n",
      " 'GRD' 'GRC' 'GTM' 'GIN' 'GUY' 'HTI' 'HND' 'HUN' 'ISL' 'IND' 'IDN' 'IRN'\n",
      " 'IRL' 'IRQ' 'ISR' 'ITA' 'JAM' 'JPN' 'JOR' 'KAZ' 'KEN' 'KIR' 'PRK' 'KOR'\n",
      " 'KWT' 'KGZ' 'LAO' 'LVA' 'LBN' 'LSO' 'LBR' 'LTU' 'LUX' 'LBY' 'MKD' 'MDG'\n",
      " 'MYS' 'MHL' 'MUS' 'MEX' 'MLI' 'MDV' 'MDA' 'MNG' 'MAR' 'MOZ' 'MRT' 'MLT'\n",
      " 'MNE' 'MWI' 'MMR' 'NAM' 'NPL' 'NLD' 'NIC' 'NGA' 'NER' 'NOR' 'NZL' 'OMN'\n",
      " 'PAK' 'PLW' 'PAN' 'PNG' 'PRY' 'PER' 'PHL' 'POL' 'PRT' 'QAT' 'ROU' 'RWA'\n",
      " 'ZAF' 'ESH' 'SLV' 'WSM' 'SAU' 'SEN' 'SRB' 'SYC' 'SLE' 'SGP' 'KNA' 'SVK'\n",
      " 'SVN' 'SLB' 'SOM' 'ESP' 'LKA' 'SSD' 'SDN' 'SUR' 'SWZ' 'SWE' 'CHE' 'SYR'\n",
      " 'TWN' 'TJK' 'TZA' 'THA' 'TGO' 'TON' 'TTO' 'TKM' 'TUN' 'TUV' 'UGA' 'GBR'\n",
      " 'UKR' 'URY' 'USA' 'RUS' 'UZB' 'VUT' 'VEN' 'VNM' 'YEM' 'ZMB' 'ZWE']\n"
     ]
    }
   ],
   "source": [
    "from functions import country_to_iso\n",
    "\n",
    "df['ISO_Recipient'] = df['Recipient'].apply(country_to_iso)\n",
    "df['ISO_Supplier'] = df['Supplier'].apply(country_to_iso)\n",
    "\n",
    "df.dropna(inplace=True)\n",
    "df.head()\n",
    "print(len(df['Recipient']))\n",
    "unique_iso_recipients = df['ISO_Recipient'].unique()\n",
    "print(unique_iso_recipients)"
   ]
  },
  {
   "cell_type": "code",
   "execution_count": 4,
   "metadata": {},
   "outputs": [
    {
     "data": {
      "text/plain": [
       "'Success.'"
      ]
     },
     "execution_count": 4,
     "metadata": {},
     "output_type": "execute_result"
    }
   ],
   "source": [
    "from functions import df_to_database\n",
    "\n",
    "df_to_database(df, 'tradeRegister')"
   ]
  },
  {
   "cell_type": "code",
   "execution_count": 5,
   "metadata": {},
   "outputs": [
    {
     "data": {
      "text/plain": [
       "count     81.000000\n",
       "mean     305.000000\n",
       "std      119.435861\n",
       "min        1.000000\n",
       "25%      257.000000\n",
       "50%      304.000000\n",
       "75%      387.000000\n",
       "max      560.000000\n",
       "Name: count, dtype: float64"
      ]
     },
     "execution_count": 5,
     "metadata": {},
     "output_type": "execute_result"
    }
   ],
   "source": [
    "year_counts = df['Year'].value_counts()\n",
    "# print(year_counts)\n",
    "year_counts.describe()"
   ]
  },
  {
   "cell_type": "markdown",
   "metadata": {},
   "source": [
    "# Visualisations\n",
    "This is mostly code that can then be transferred into Flask."
   ]
  },
  {
   "cell_type": "code",
   "execution_count": 6,
   "metadata": {},
   "outputs": [],
   "source": [
    "import geopandas as gpd\n",
    "\n",
    "import matplotlib.pyplot as plt\n",
    "import plotly.graph_objects as go"
   ]
  },
  {
   "cell_type": "code",
   "execution_count": 7,
   "metadata": {},
   "outputs": [
    {
     "data": {
      "application/vnd.plotly.v1+json": {
       "config": {
        "plotlyServerURL": "https://plot.ly"
       },
       "data": [
        {
         "hovertext": "Recipient: Albania<br>Supplier: United States<br>SIPRI TIV: 0.0",
         "line": {
          "color": "red",
          "width": 0
         },
         "locationmode": "ISO-3",
         "locations": [
          "USA",
          "ALB"
         ],
         "mode": "lines",
         "type": "scattergeo"
        },
        {
         "hovertext": "Recipient: Angola<br>Supplier: Canada<br>SIPRI TIV: 0.0",
         "line": {
          "color": "red",
          "width": 0
         },
         "locationmode": "ISO-3",
         "locations": [
          "CAN",
          "AGO"
         ],
         "mode": "lines",
         "type": "scattergeo"
        },
        {
         "hovertext": "Recipient: Angola<br>Supplier: France<br>SIPRI TIV: 11.0",
         "line": {
          "color": "red",
          "width": 0.22
         },
         "locationmode": "ISO-3",
         "locations": [
          "FRA",
          "AGO"
         ],
         "mode": "lines",
         "type": "scattergeo"
        },
        {
         "hovertext": "Recipient: Angola<br>Supplier: Spain<br>SIPRI TIV: 0.0",
         "line": {
          "color": "red",
          "width": 0
         },
         "locationmode": "ISO-3",
         "locations": [
          "ESP",
          "AGO"
         ],
         "mode": "lines",
         "type": "scattergeo"
        },
        {
         "hovertext": "Recipient: Angola<br>Supplier: Spain<br>SIPRI TIV: 0.0",
         "line": {
          "color": "red",
          "width": 0
         },
         "locationmode": "ISO-3",
         "locations": [
          "ESP",
          "AGO"
         ],
         "mode": "lines",
         "type": "scattergeo"
        },
        {
         "hovertext": "Recipient: Argentina<br>Supplier: United States<br>SIPRI TIV: 2.2",
         "line": {
          "color": "red",
          "width": 0.044000000000000004
         },
         "locationmode": "ISO-3",
         "locations": [
          "USA",
          "ARG"
         ],
         "mode": "lines",
         "type": "scattergeo"
        },
        {
         "hovertext": "Recipient: Argentina<br>Supplier: United States<br>SIPRI TIV: 11.2",
         "line": {
          "color": "red",
          "width": 0.22399999999999998
         },
         "locationmode": "ISO-3",
         "locations": [
          "USA",
          "ARG"
         ],
         "mode": "lines",
         "type": "scattergeo"
        },
        {
         "hovertext": "Recipient: Austria<br>Supplier: Italy<br>SIPRI TIV: 0.0",
         "line": {
          "color": "red",
          "width": 0
         },
         "locationmode": "ISO-3",
         "locations": [
          "ITA",
          "AUT"
         ],
         "mode": "lines",
         "type": "scattergeo"
        },
        {
         "hovertext": "Recipient: Australia<br>Supplier: France<br>SIPRI TIV: 0.0",
         "line": {
          "color": "red",
          "width": 0
         },
         "locationmode": "ISO-3",
         "locations": [
          "FRA",
          "AUS"
         ],
         "mode": "lines",
         "type": "scattergeo"
        },
        {
         "hovertext": "Recipient: Australia<br>Supplier: France<br>SIPRI TIV: 0.0",
         "line": {
          "color": "red",
          "width": 0
         },
         "locationmode": "ISO-3",
         "locations": [
          "FRA",
          "AUS"
         ],
         "mode": "lines",
         "type": "scattergeo"
        },
        {
         "hovertext": "Recipient: Australia<br>Supplier: France<br>SIPRI TIV: 0.0",
         "line": {
          "color": "red",
          "width": 0
         },
         "locationmode": "ISO-3",
         "locations": [
          "FRA",
          "AUS"
         ],
         "mode": "lines",
         "type": "scattergeo"
        },
        {
         "hovertext": "Recipient: Australia<br>Supplier: Germany<br>SIPRI TIV: 0.0",
         "line": {
          "color": "red",
          "width": 0
         },
         "locationmode": "ISO-3",
         "locations": [
          "DEU",
          "AUS"
         ],
         "mode": "lines",
         "type": "scattergeo"
        },
        {
         "hovertext": "Recipient: Australia<br>Supplier: Norway<br>SIPRI TIV: 0.0",
         "line": {
          "color": "red",
          "width": 0
         },
         "locationmode": "ISO-3",
         "locations": [
          "NOR",
          "AUS"
         ],
         "mode": "lines",
         "type": "scattergeo"
        },
        {
         "hovertext": "Recipient: Australia<br>Supplier: United Kingdom<br>SIPRI TIV: 0.0",
         "line": {
          "color": "red",
          "width": 0
         },
         "locationmode": "ISO-3",
         "locations": [
          "GBR",
          "AUS"
         ],
         "mode": "lines",
         "type": "scattergeo"
        },
        {
         "hovertext": "Recipient: Australia<br>Supplier: United States<br>SIPRI TIV: 0.0",
         "line": {
          "color": "red",
          "width": 0
         },
         "locationmode": "ISO-3",
         "locations": [
          "USA",
          "AUS"
         ],
         "mode": "lines",
         "type": "scattergeo"
        },
        {
         "hovertext": "Recipient: Australia<br>Supplier: United States<br>SIPRI TIV: 0.0",
         "line": {
          "color": "red",
          "width": 0
         },
         "locationmode": "ISO-3",
         "locations": [
          "USA",
          "AUS"
         ],
         "mode": "lines",
         "type": "scattergeo"
        },
        {
         "hovertext": "Recipient: Australia<br>Supplier: United States<br>SIPRI TIV: 0.0",
         "line": {
          "color": "red",
          "width": 0
         },
         "locationmode": "ISO-3",
         "locations": [
          "USA",
          "AUS"
         ],
         "mode": "lines",
         "type": "scattergeo"
        },
        {
         "hovertext": "Recipient: Australia<br>Supplier: United States<br>SIPRI TIV: 0.0",
         "line": {
          "color": "red",
          "width": 0
         },
         "locationmode": "ISO-3",
         "locations": [
          "USA",
          "AUS"
         ],
         "mode": "lines",
         "type": "scattergeo"
        },
        {
         "hovertext": "Recipient: Australia<br>Supplier: United States<br>SIPRI TIV: 24.0",
         "line": {
          "color": "red",
          "width": 0.48
         },
         "locationmode": "ISO-3",
         "locations": [
          "USA",
          "AUS"
         ],
         "mode": "lines",
         "type": "scattergeo"
        },
        {
         "hovertext": "Recipient: Australia<br>Supplier: United States<br>SIPRI TIV: 0.0",
         "line": {
          "color": "red",
          "width": 0
         },
         "locationmode": "ISO-3",
         "locations": [
          "USA",
          "AUS"
         ],
         "mode": "lines",
         "type": "scattergeo"
        },
        {
         "hovertext": "Recipient: Australia<br>Supplier: United States<br>SIPRI TIV: 0.0",
         "line": {
          "color": "red",
          "width": 0
         },
         "locationmode": "ISO-3",
         "locations": [
          "USA",
          "AUS"
         ],
         "mode": "lines",
         "type": "scattergeo"
        },
        {
         "hovertext": "Recipient: Australia<br>Supplier: United States<br>SIPRI TIV: 0.0",
         "line": {
          "color": "red",
          "width": 0
         },
         "locationmode": "ISO-3",
         "locations": [
          "USA",
          "AUS"
         ],
         "mode": "lines",
         "type": "scattergeo"
        },
        {
         "hovertext": "Recipient: Australia<br>Supplier: United States<br>SIPRI TIV: 0.0",
         "line": {
          "color": "red",
          "width": 0
         },
         "locationmode": "ISO-3",
         "locations": [
          "USA",
          "AUS"
         ],
         "mode": "lines",
         "type": "scattergeo"
        },
        {
         "hovertext": "Recipient: Australia<br>Supplier: United States<br>SIPRI TIV: 21.75",
         "line": {
          "color": "red",
          "width": 0.435
         },
         "locationmode": "ISO-3",
         "locations": [
          "USA",
          "AUS"
         ],
         "mode": "lines",
         "type": "scattergeo"
        },
        {
         "hovertext": "Recipient: Bahrain<br>Supplier: United States<br>SIPRI TIV: 2.7",
         "line": {
          "color": "red",
          "width": 0.054000000000000006
         },
         "locationmode": "ISO-3",
         "locations": [
          "USA",
          "BHR"
         ],
         "mode": "lines",
         "type": "scattergeo"
        },
        {
         "hovertext": "Recipient: Bangladesh<br>Supplier: Canada<br>SIPRI TIV: 0.0",
         "line": {
          "color": "red",
          "width": 0
         },
         "locationmode": "ISO-3",
         "locations": [
          "CAN",
          "BGD"
         ],
         "mode": "lines",
         "type": "scattergeo"
        },
        {
         "hovertext": "Recipient: Belgium<br>Supplier: France<br>SIPRI TIV: 0.0",
         "line": {
          "color": "red",
          "width": 0
         },
         "locationmode": "ISO-3",
         "locations": [
          "FRA",
          "BEL"
         ],
         "mode": "lines",
         "type": "scattergeo"
        },
        {
         "hovertext": "Recipient: Belgium<br>Supplier: United States<br>SIPRI TIV: 0.0",
         "line": {
          "color": "red",
          "width": 0
         },
         "locationmode": "ISO-3",
         "locations": [
          "USA",
          "BEL"
         ],
         "mode": "lines",
         "type": "scattergeo"
        },
        {
         "hovertext": "Recipient: Benin<br>Supplier: China<br>SIPRI TIV: 0.84",
         "line": {
          "color": "red",
          "width": 0.0168
         },
         "locationmode": "ISO-3",
         "locations": [
          "CHN",
          "BEN"
         ],
         "mode": "lines",
         "type": "scattergeo"
        },
        {
         "hovertext": "Recipient: Benin<br>Supplier: China<br>SIPRI TIV: 2.5",
         "line": {
          "color": "red",
          "width": 0.05
         },
         "locationmode": "ISO-3",
         "locations": [
          "CHN",
          "BEN"
         ],
         "mode": "lines",
         "type": "scattergeo"
        },
        {
         "hovertext": "Recipient: Benin<br>Supplier: Spain<br>SIPRI TIV: 0.72",
         "line": {
          "color": "red",
          "width": 0.0144
         },
         "locationmode": "ISO-3",
         "locations": [
          "ESP",
          "BEN"
         ],
         "mode": "lines",
         "type": "scattergeo"
        },
        {
         "hovertext": "Recipient: Burkina Faso<br>Supplier: Egypt<br>SIPRI TIV: 0.54",
         "line": {
          "color": "red",
          "width": 0.0108
         },
         "locationmode": "ISO-3",
         "locations": [
          "EGY",
          "BFA"
         ],
         "mode": "lines",
         "type": "scattergeo"
        },
        {
         "hovertext": "Recipient: Burkina Faso<br>Supplier: United States<br>SIPRI TIV: 0.75",
         "line": {
          "color": "red",
          "width": 0.015
         },
         "locationmode": "ISO-3",
         "locations": [
          "USA",
          "BFA"
         ],
         "mode": "lines",
         "type": "scattergeo"
        },
        {
         "hovertext": "Recipient: Belize<br>Supplier: United States<br>SIPRI TIV: 1.0",
         "line": {
          "color": "red",
          "width": 0.02
         },
         "locationmode": "ISO-3",
         "locations": [
          "USA",
          "BLZ"
         ],
         "mode": "lines",
         "type": "scattergeo"
        },
        {
         "hovertext": "Recipient: Brazil<br>Supplier: France<br>SIPRI TIV: 0.0",
         "line": {
          "color": "red",
          "width": 0
         },
         "locationmode": "ISO-3",
         "locations": [
          "FRA",
          "BRA"
         ],
         "mode": "lines",
         "type": "scattergeo"
        },
        {
         "hovertext": "Recipient: Brazil<br>Supplier: Ireland<br>SIPRI TIV: 46.0",
         "line": {
          "color": "red",
          "width": 0.92
         },
         "locationmode": "ISO-3",
         "locations": [
          "IRL",
          "BRA"
         ],
         "mode": "lines",
         "type": "scattergeo"
        },
        {
         "hovertext": "Recipient: Brazil<br>Supplier: Italy<br>SIPRI TIV: 0.0",
         "line": {
          "color": "red",
          "width": 0
         },
         "locationmode": "ISO-3",
         "locations": [
          "ITA",
          "BRA"
         ],
         "mode": "lines",
         "type": "scattergeo"
        },
        {
         "hovertext": "Recipient: Brazil<br>Supplier: Sweden<br>SIPRI TIV: 0.0",
         "line": {
          "color": "red",
          "width": 0
         },
         "locationmode": "ISO-3",
         "locations": [
          "SWE",
          "BRA"
         ],
         "mode": "lines",
         "type": "scattergeo"
        },
        {
         "hovertext": "Recipient: Bulgaria<br>Supplier: France<br>SIPRI TIV: 0.0",
         "line": {
          "color": "red",
          "width": 0
         },
         "locationmode": "ISO-3",
         "locations": [
          "FRA",
          "BGR"
         ],
         "mode": "lines",
         "type": "scattergeo"
        },
        {
         "hovertext": "Recipient: Bulgaria<br>Supplier: France<br>SIPRI TIV: 0.0",
         "line": {
          "color": "red",
          "width": 0
         },
         "locationmode": "ISO-3",
         "locations": [
          "FRA",
          "BGR"
         ],
         "mode": "lines",
         "type": "scattergeo"
        },
        {
         "hovertext": "Recipient: Bulgaria<br>Supplier: Poland<br>SIPRI TIV: 1.76",
         "line": {
          "color": "red",
          "width": 0.0352
         },
         "locationmode": "ISO-3",
         "locations": [
          "POL",
          "BGR"
         ],
         "mode": "lines",
         "type": "scattergeo"
        },
        {
         "hovertext": "Recipient: Bulgaria<br>Supplier: Sweden<br>SIPRI TIV: 0.0",
         "line": {
          "color": "red",
          "width": 0
         },
         "locationmode": "ISO-3",
         "locations": [
          "SWE",
          "BGR"
         ],
         "mode": "lines",
         "type": "scattergeo"
        },
        {
         "hovertext": "Recipient: Bulgaria<br>Supplier: United States<br>SIPRI TIV: 0.0",
         "line": {
          "color": "red",
          "width": 0
         },
         "locationmode": "ISO-3",
         "locations": [
          "USA",
          "BGR"
         ],
         "mode": "lines",
         "type": "scattergeo"
        },
        {
         "hovertext": "Recipient: Cameroon<br>Supplier: South Africa<br>SIPRI TIV: 3.0",
         "line": {
          "color": "red",
          "width": 0.06
         },
         "locationmode": "ISO-3",
         "locations": [
          "ZAF",
          "CMR"
         ],
         "mode": "lines",
         "type": "scattergeo"
        },
        {
         "hovertext": "Recipient: Cameroon<br>Supplier: United States<br>SIPRI TIV: 0.5",
         "line": {
          "color": "red",
          "width": 0.01
         },
         "locationmode": "ISO-3",
         "locations": [
          "USA",
          "CMR"
         ],
         "mode": "lines",
         "type": "scattergeo"
        },
        {
         "hovertext": "Recipient: Canada<br>Supplier: United States<br>SIPRI TIV: 0.0",
         "line": {
          "color": "red",
          "width": 0
         },
         "locationmode": "ISO-3",
         "locations": [
          "USA",
          "CAN"
         ],
         "mode": "lines",
         "type": "scattergeo"
        },
        {
         "hovertext": "Recipient: Chad<br>Supplier: Canada<br>SIPRI TIV: 1.5",
         "line": {
          "color": "red",
          "width": 0.03
         },
         "locationmode": "ISO-3",
         "locations": [
          "CAN",
          "TCD"
         ],
         "mode": "lines",
         "type": "scattergeo"
        },
        {
         "hovertext": "Recipient: Chile<br>Supplier: New Zealand<br>SIPRI TIV: 11.44",
         "line": {
          "color": "red",
          "width": 0.2288
         },
         "locationmode": "ISO-3",
         "locations": [
          "NZL",
          "CHL"
         ],
         "mode": "lines",
         "type": "scattergeo"
        },
        {
         "hovertext": "Recipient: Cambodia<br>Supplier: China<br>SIPRI TIV: 6.8",
         "line": {
          "color": "red",
          "width": 0.136
         },
         "locationmode": "ISO-3",
         "locations": [
          "CHN",
          "KHM"
         ],
         "mode": "lines",
         "type": "scattergeo"
        },
        {
         "hovertext": "Recipient: Cambodia<br>Supplier: China<br>SIPRI TIV: 47.0",
         "line": {
          "color": "red",
          "width": 0.94
         },
         "locationmode": "ISO-3",
         "locations": [
          "CHN",
          "KHM"
         ],
         "mode": "lines",
         "type": "scattergeo"
        },
        {
         "hovertext": "Recipient: Colombia<br>Supplier: Canada<br>SIPRI TIV: 0.0",
         "line": {
          "color": "red",
          "width": 0
         },
         "locationmode": "ISO-3",
         "locations": [
          "CAN",
          "COL"
         ],
         "mode": "lines",
         "type": "scattergeo"
        },
        {
         "hovertext": "Recipient: Colombia<br>Supplier: Israel<br>SIPRI TIV: 0.0",
         "line": {
          "color": "red",
          "width": 0
         },
         "locationmode": "ISO-3",
         "locations": [
          "ISR",
          "COL"
         ],
         "mode": "lines",
         "type": "scattergeo"
        },
        {
         "hovertext": "Recipient: Colombia<br>Supplier: Israel<br>SIPRI TIV: 0.0",
         "line": {
          "color": "red",
          "width": 0
         },
         "locationmode": "ISO-3",
         "locations": [
          "ISR",
          "COL"
         ],
         "mode": "lines",
         "type": "scattergeo"
        },
        {
         "hovertext": "Recipient: Colombia<br>Supplier: Israel<br>SIPRI TIV: 0.0",
         "line": {
          "color": "red",
          "width": 0
         },
         "locationmode": "ISO-3",
         "locations": [
          "ISR",
          "COL"
         ],
         "mode": "lines",
         "type": "scattergeo"
        },
        {
         "hovertext": "Recipient: Colombia<br>Supplier: Netherlands<br>SIPRI TIV: 0.0",
         "line": {
          "color": "red",
          "width": 0
         },
         "locationmode": "ISO-3",
         "locations": [
          "NLD",
          "COL"
         ],
         "mode": "lines",
         "type": "scattergeo"
        },
        {
         "hovertext": "Recipient: Colombia<br>Supplier: United States<br>SIPRI TIV: 0.0",
         "line": {
          "color": "red",
          "width": 0
         },
         "locationmode": "ISO-3",
         "locations": [
          "USA",
          "COL"
         ],
         "mode": "lines",
         "type": "scattergeo"
        },
        {
         "hovertext": "Recipient: Croatia<br>Supplier: France<br>SIPRI TIV: 0.0",
         "line": {
          "color": "red",
          "width": 0
         },
         "locationmode": "ISO-3",
         "locations": [
          "FRA",
          "HRV"
         ],
         "mode": "lines",
         "type": "scattergeo"
        },
        {
         "hovertext": "Recipient: Cyprus<br>Supplier: Germany<br>SIPRI TIV: 0.0",
         "line": {
          "color": "red",
          "width": 0
         },
         "locationmode": "ISO-3",
         "locations": [
          "DEU",
          "CYP"
         ],
         "mode": "lines",
         "type": "scattergeo"
        },
        {
         "hovertext": "Recipient: Cyprus<br>Supplier: Israel<br>SIPRI TIV: 0.0",
         "line": {
          "color": "red",
          "width": 0
         },
         "locationmode": "ISO-3",
         "locations": [
          "ISR",
          "CYP"
         ],
         "mode": "lines",
         "type": "scattergeo"
        },
        {
         "hovertext": "Recipient: Cyprus<br>Supplier: Israel<br>SIPRI TIV: 0.0",
         "line": {
          "color": "red",
          "width": 0
         },
         "locationmode": "ISO-3",
         "locations": [
          "ISR",
          "CYP"
         ],
         "mode": "lines",
         "type": "scattergeo"
        },
        {
         "hovertext": "Recipient: Czechia<br>Supplier: France<br>SIPRI TIV: 0.0",
         "line": {
          "color": "red",
          "width": 0
         },
         "locationmode": "ISO-3",
         "locations": [
          "FRA",
          "CZE"
         ],
         "mode": "lines",
         "type": "scattergeo"
        },
        {
         "hovertext": "Recipient: Czechia<br>Supplier: Germany<br>SIPRI TIV: 2.25",
         "line": {
          "color": "red",
          "width": 0.045
         },
         "locationmode": "ISO-3",
         "locations": [
          "DEU",
          "CZE"
         ],
         "mode": "lines",
         "type": "scattergeo"
        },
        {
         "hovertext": "Recipient: Czechia<br>Supplier: Germany<br>SIPRI TIV: 22.4",
         "line": {
          "color": "red",
          "width": 0.44799999999999995
         },
         "locationmode": "ISO-3",
         "locations": [
          "DEU",
          "CZE"
         ],
         "mode": "lines",
         "type": "scattergeo"
        },
        {
         "hovertext": "Recipient: Czechia<br>Supplier: Israel<br>SIPRI TIV: 0.0",
         "line": {
          "color": "red",
          "width": 0
         },
         "locationmode": "ISO-3",
         "locations": [
          "ISR",
          "CZE"
         ],
         "mode": "lines",
         "type": "scattergeo"
        },
        {
         "hovertext": "Recipient: Czechia<br>Supplier: United States<br>SIPRI TIV: 0.0",
         "line": {
          "color": "red",
          "width": 0
         },
         "locationmode": "ISO-3",
         "locations": [
          "USA",
          "CZE"
         ],
         "mode": "lines",
         "type": "scattergeo"
        },
        {
         "hovertext": "Recipient: Czechia<br>Supplier: United States<br>SIPRI TIV: 0.0",
         "line": {
          "color": "red",
          "width": 0
         },
         "locationmode": "ISO-3",
         "locations": [
          "USA",
          "CZE"
         ],
         "mode": "lines",
         "type": "scattergeo"
        },
        {
         "hovertext": "Recipient: Czechia<br>Supplier: United States<br>SIPRI TIV: 0.0",
         "line": {
          "color": "red",
          "width": 0
         },
         "locationmode": "ISO-3",
         "locations": [
          "USA",
          "CZE"
         ],
         "mode": "lines",
         "type": "scattergeo"
        },
        {
         "hovertext": "Recipient: Denmark<br>Supplier: Israel<br>SIPRI TIV: 1.25",
         "line": {
          "color": "red",
          "width": 0.025
         },
         "locationmode": "ISO-3",
         "locations": [
          "ISR",
          "DNK"
         ],
         "mode": "lines",
         "type": "scattergeo"
        },
        {
         "hovertext": "Recipient: Denmark<br>Supplier: Israel<br>SIPRI TIV: 2.2",
         "line": {
          "color": "red",
          "width": 0.044000000000000004
         },
         "locationmode": "ISO-3",
         "locations": [
          "ISR",
          "DNK"
         ],
         "mode": "lines",
         "type": "scattergeo"
        },
        {
         "hovertext": "Recipient: Dominican Republic<br>Supplier: Italy<br>SIPRI TIV: 0.28",
         "line": {
          "color": "red",
          "width": 0.005600000000000001
         },
         "locationmode": "ISO-3",
         "locations": [
          "ITA",
          "DOM"
         ],
         "mode": "lines",
         "type": "scattergeo"
        },
        {
         "hovertext": "Recipient: Dominican Republic<br>Supplier: Spain<br>SIPRI TIV: 3.36",
         "line": {
          "color": "red",
          "width": 0.0672
         },
         "locationmode": "ISO-3",
         "locations": [
          "ESP",
          "DOM"
         ],
         "mode": "lines",
         "type": "scattergeo"
        },
        {
         "hovertext": "Recipient: Dominican Republic<br>Supplier: United States<br>SIPRI TIV: 0.56",
         "line": {
          "color": "red",
          "width": 0.011200000000000002
         },
         "locationmode": "ISO-3",
         "locations": [
          "USA",
          "DOM"
         ],
         "mode": "lines",
         "type": "scattergeo"
        },
        {
         "hovertext": "Recipient: Dominican Republic<br>Supplier: United States<br>SIPRI TIV: 1.0",
         "line": {
          "color": "red",
          "width": 0.02
         },
         "locationmode": "ISO-3",
         "locations": [
          "USA",
          "DOM"
         ],
         "mode": "lines",
         "type": "scattergeo"
        },
        {
         "hovertext": "Recipient: Dominican Republic<br>Supplier: United States<br>SIPRI TIV: 7.44",
         "line": {
          "color": "red",
          "width": 0.14880000000000002
         },
         "locationmode": "ISO-3",
         "locations": [
          "USA",
          "DOM"
         ],
         "mode": "lines",
         "type": "scattergeo"
        },
        {
         "hovertext": "Recipient: Ecuador<br>Supplier: Chile<br>SIPRI TIV: 8.0",
         "line": {
          "color": "red",
          "width": 0.16
         },
         "locationmode": "ISO-3",
         "locations": [
          "CHL",
          "ECU"
         ],
         "mode": "lines",
         "type": "scattergeo"
        },
        {
         "hovertext": "Recipient: Ecuador<br>Supplier: Israel<br>SIPRI TIV: 0.0",
         "line": {
          "color": "red",
          "width": 0
         },
         "locationmode": "ISO-3",
         "locations": [
          "ISR",
          "ECU"
         ],
         "mode": "lines",
         "type": "scattergeo"
        },
        {
         "hovertext": "Recipient: Ecuador<br>Supplier: South Africa<br>SIPRI TIV: 1.6",
         "line": {
          "color": "red",
          "width": 0.032
         },
         "locationmode": "ISO-3",
         "locations": [
          "ZAF",
          "ECU"
         ],
         "mode": "lines",
         "type": "scattergeo"
        },
        {
         "hovertext": "Recipient: Ecuador<br>Supplier: United States<br>SIPRI TIV: 1.28",
         "line": {
          "color": "red",
          "width": 0.0256
         },
         "locationmode": "ISO-3",
         "locations": [
          "USA",
          "ECU"
         ],
         "mode": "lines",
         "type": "scattergeo"
        },
        {
         "hovertext": "Recipient: Ecuador<br>Supplier: United States<br>SIPRI TIV: 0.4",
         "line": {
          "color": "red",
          "width": 0.008
         },
         "locationmode": "ISO-3",
         "locations": [
          "USA",
          "ECU"
         ],
         "mode": "lines",
         "type": "scattergeo"
        },
        {
         "hovertext": "Recipient: Egypt<br>Supplier: France<br>SIPRI TIV: 3.0",
         "line": {
          "color": "red",
          "width": 0.06
         },
         "locationmode": "ISO-3",
         "locations": [
          "FRA",
          "EGY"
         ],
         "mode": "lines",
         "type": "scattergeo"
        },
        {
         "hovertext": "Recipient: Egypt<br>Supplier: South Korea<br>SIPRI TIV: 0.59",
         "line": {
          "color": "red",
          "width": 0.0118
         },
         "locationmode": "ISO-3",
         "locations": [
          "KOR",
          "EGY"
         ],
         "mode": "lines",
         "type": "scattergeo"
        },
        {
         "hovertext": "Recipient: Egypt<br>Supplier: South Korea<br>SIPRI TIV: 0.0",
         "line": {
          "color": "red",
          "width": 0
         },
         "locationmode": "ISO-3",
         "locations": [
          "KOR",
          "EGY"
         ],
         "mode": "lines",
         "type": "scattergeo"
        },
        {
         "hovertext": "Recipient: Egypt<br>Supplier: South Korea<br>SIPRI TIV: 4.34",
         "line": {
          "color": "red",
          "width": 0.0868
         },
         "locationmode": "ISO-3",
         "locations": [
          "KOR",
          "EGY"
         ],
         "mode": "lines",
         "type": "scattergeo"
        },
        {
         "hovertext": "Recipient: Egypt<br>Supplier: United States<br>SIPRI TIV: 0.0",
         "line": {
          "color": "red",
          "width": 0
         },
         "locationmode": "ISO-3",
         "locations": [
          "USA",
          "EGY"
         ],
         "mode": "lines",
         "type": "scattergeo"
        },
        {
         "hovertext": "Recipient: Egypt<br>Supplier: United States<br>SIPRI TIV: 0.0",
         "line": {
          "color": "red",
          "width": 0
         },
         "locationmode": "ISO-3",
         "locations": [
          "USA",
          "EGY"
         ],
         "mode": "lines",
         "type": "scattergeo"
        },
        {
         "hovertext": "Recipient: Egypt<br>Supplier: United States<br>SIPRI TIV: 0.0",
         "line": {
          "color": "red",
          "width": 0
         },
         "locationmode": "ISO-3",
         "locations": [
          "USA",
          "EGY"
         ],
         "mode": "lines",
         "type": "scattergeo"
        },
        {
         "hovertext": "Recipient: Egypt<br>Supplier: United States<br>SIPRI TIV: 13.5",
         "line": {
          "color": "red",
          "width": 0.27
         },
         "locationmode": "ISO-3",
         "locations": [
          "USA",
          "EGY"
         ],
         "mode": "lines",
         "type": "scattergeo"
        },
        {
         "hovertext": "Recipient: Egypt<br>Supplier: United States<br>SIPRI TIV: 0.0",
         "line": {
          "color": "red",
          "width": 0
         },
         "locationmode": "ISO-3",
         "locations": [
          "USA",
          "EGY"
         ],
         "mode": "lines",
         "type": "scattergeo"
        },
        {
         "hovertext": "Recipient: Estonia<br>Supplier: Poland<br>SIPRI TIV: 4.0",
         "line": {
          "color": "red",
          "width": 0.08
         },
         "locationmode": "ISO-3",
         "locations": [
          "POL",
          "EST"
         ],
         "mode": "lines",
         "type": "scattergeo"
        },
        {
         "hovertext": "Recipient: Estonia<br>Supplier: United States<br>SIPRI TIV: 0.0",
         "line": {
          "color": "red",
          "width": 0
         },
         "locationmode": "ISO-3",
         "locations": [
          "USA",
          "EST"
         ],
         "mode": "lines",
         "type": "scattergeo"
        },
        {
         "hovertext": "Recipient: Estonia<br>Supplier: United States<br>SIPRI TIV: 0.0",
         "line": {
          "color": "red",
          "width": 0
         },
         "locationmode": "ISO-3",
         "locations": [
          "USA",
          "EST"
         ],
         "mode": "lines",
         "type": "scattergeo"
        },
        {
         "hovertext": "Recipient: Estonia<br>Supplier: United States<br>SIPRI TIV: 0.0",
         "line": {
          "color": "red",
          "width": 0
         },
         "locationmode": "ISO-3",
         "locations": [
          "USA",
          "EST"
         ],
         "mode": "lines",
         "type": "scattergeo"
        },
        {
         "hovertext": "Recipient: Finland<br>Supplier: Israel<br>SIPRI TIV: 0.0",
         "line": {
          "color": "red",
          "width": 0
         },
         "locationmode": "ISO-3",
         "locations": [
          "ISR",
          "FIN"
         ],
         "mode": "lines",
         "type": "scattergeo"
        },
        {
         "hovertext": "Recipient: Finland<br>Supplier: Israel<br>SIPRI TIV: 0.0",
         "line": {
          "color": "red",
          "width": 0
         },
         "locationmode": "ISO-3",
         "locations": [
          "ISR",
          "FIN"
         ],
         "mode": "lines",
         "type": "scattergeo"
        },
        {
         "hovertext": "Recipient: Finland<br>Supplier: Israel<br>SIPRI TIV: 0.0",
         "line": {
          "color": "red",
          "width": 0
         },
         "locationmode": "ISO-3",
         "locations": [
          "ISR",
          "FIN"
         ],
         "mode": "lines",
         "type": "scattergeo"
        },
        {
         "hovertext": "Recipient: Finland<br>Supplier: South Korea<br>SIPRI TIV: 0.0",
         "line": {
          "color": "red",
          "width": 0
         },
         "locationmode": "ISO-3",
         "locations": [
          "KOR",
          "FIN"
         ],
         "mode": "lines",
         "type": "scattergeo"
        },
        {
         "hovertext": "Recipient: Finland<br>Supplier: Sweden<br>SIPRI TIV: 5.0",
         "line": {
          "color": "red",
          "width": 0.1
         },
         "locationmode": "ISO-3",
         "locations": [
          "SWE",
          "FIN"
         ],
         "mode": "lines",
         "type": "scattergeo"
        },
        {
         "hovertext": "Recipient: Finland<br>Supplier: United States<br>SIPRI TIV: 0.0",
         "line": {
          "color": "red",
          "width": 0
         },
         "locationmode": "ISO-3",
         "locations": [
          "USA",
          "FIN"
         ],
         "mode": "lines",
         "type": "scattergeo"
        },
        {
         "hovertext": "Recipient: Finland<br>Supplier: United States<br>SIPRI TIV: 0.0",
         "line": {
          "color": "red",
          "width": 0
         },
         "locationmode": "ISO-3",
         "locations": [
          "USA",
          "FIN"
         ],
         "mode": "lines",
         "type": "scattergeo"
        },
        {
         "hovertext": "Recipient: Germany<br>Supplier: France<br>SIPRI TIV: 0.0",
         "line": {
          "color": "red",
          "width": 0
         },
         "locationmode": "ISO-3",
         "locations": [
          "FRA",
          "DEU"
         ],
         "mode": "lines",
         "type": "scattergeo"
        },
        {
         "hovertext": "Recipient: Germany<br>Supplier: Italy<br>SIPRI TIV: 0.0",
         "line": {
          "color": "red",
          "width": 0
         },
         "locationmode": "ISO-3",
         "locations": [
          "ITA",
          "DEU"
         ],
         "mode": "lines",
         "type": "scattergeo"
        },
        {
         "hovertext": "Recipient: Germany<br>Supplier: Sweden<br>SIPRI TIV: 0.0",
         "line": {
          "color": "red",
          "width": 0
         },
         "locationmode": "ISO-3",
         "locations": [
          "SWE",
          "DEU"
         ],
         "mode": "lines",
         "type": "scattergeo"
        },
        {
         "hovertext": "Recipient: Germany<br>Supplier: United States<br>SIPRI TIV: 0.0",
         "line": {
          "color": "red",
          "width": 0
         },
         "locationmode": "ISO-3",
         "locations": [
          "USA",
          "DEU"
         ],
         "mode": "lines",
         "type": "scattergeo"
        },
        {
         "hovertext": "Recipient: Germany<br>Supplier: United States<br>SIPRI TIV: 0.0",
         "line": {
          "color": "red",
          "width": 0
         },
         "locationmode": "ISO-3",
         "locations": [
          "USA",
          "DEU"
         ],
         "mode": "lines",
         "type": "scattergeo"
        },
        {
         "hovertext": "Recipient: Germany<br>Supplier: United States<br>SIPRI TIV: 0.0",
         "line": {
          "color": "red",
          "width": 0
         },
         "locationmode": "ISO-3",
         "locations": [
          "USA",
          "DEU"
         ],
         "mode": "lines",
         "type": "scattergeo"
        },
        {
         "hovertext": "Recipient: Germany<br>Supplier: United States<br>SIPRI TIV: 0.0",
         "line": {
          "color": "red",
          "width": 0
         },
         "locationmode": "ISO-3",
         "locations": [
          "USA",
          "DEU"
         ],
         "mode": "lines",
         "type": "scattergeo"
        },
        {
         "hovertext": "Recipient: Germany<br>Supplier: United States<br>SIPRI TIV: 0.0",
         "line": {
          "color": "red",
          "width": 0
         },
         "locationmode": "ISO-3",
         "locations": [
          "USA",
          "DEU"
         ],
         "mode": "lines",
         "type": "scattergeo"
        },
        {
         "hovertext": "Recipient: Germany<br>Supplier: United States<br>SIPRI TIV: 0.0",
         "line": {
          "color": "red",
          "width": 0
         },
         "locationmode": "ISO-3",
         "locations": [
          "USA",
          "DEU"
         ],
         "mode": "lines",
         "type": "scattergeo"
        },
        {
         "hovertext": "Recipient: Georgia<br>Supplier: Poland<br>SIPRI TIV: 0.6",
         "line": {
          "color": "red",
          "width": 0.012
         },
         "locationmode": "ISO-3",
         "locations": [
          "POL",
          "GEO"
         ],
         "mode": "lines",
         "type": "scattergeo"
        },
        {
         "hovertext": "Recipient: Georgia<br>Supplier: United States<br>SIPRI TIV: 2.46",
         "line": {
          "color": "red",
          "width": 0.0492
         },
         "locationmode": "ISO-3",
         "locations": [
          "USA",
          "GEO"
         ],
         "mode": "lines",
         "type": "scattergeo"
        },
        {
         "hovertext": "Recipient: Georgia<br>Supplier: United States<br>SIPRI TIV: 0.0",
         "line": {
          "color": "red",
          "width": 0
         },
         "locationmode": "ISO-3",
         "locations": [
          "USA",
          "GEO"
         ],
         "mode": "lines",
         "type": "scattergeo"
        },
        {
         "hovertext": "Recipient: Ghana<br>Supplier: United Kingdom<br>SIPRI TIV: 4.48",
         "line": {
          "color": "red",
          "width": 0.08960000000000001
         },
         "locationmode": "ISO-3",
         "locations": [
          "GBR",
          "GHA"
         ],
         "mode": "lines",
         "type": "scattergeo"
        },
        {
         "hovertext": "Recipient: Greece<br>Supplier: France<br>SIPRI TIV: 0.0",
         "line": {
          "color": "red",
          "width": 0
         },
         "locationmode": "ISO-3",
         "locations": [
          "FRA",
          "GRC"
         ],
         "mode": "lines",
         "type": "scattergeo"
        },
        {
         "hovertext": "Recipient: Greece<br>Supplier: France<br>SIPRI TIV: 0.0",
         "line": {
          "color": "red",
          "width": 0
         },
         "locationmode": "ISO-3",
         "locations": [
          "FRA",
          "GRC"
         ],
         "mode": "lines",
         "type": "scattergeo"
        },
        {
         "hovertext": "Recipient: Greece<br>Supplier: France<br>SIPRI TIV: 0.0",
         "line": {
          "color": "red",
          "width": 0
         },
         "locationmode": "ISO-3",
         "locations": [
          "FRA",
          "GRC"
         ],
         "mode": "lines",
         "type": "scattergeo"
        },
        {
         "hovertext": "Recipient: Greece<br>Supplier: France<br>SIPRI TIV: 0.0",
         "line": {
          "color": "red",
          "width": 0
         },
         "locationmode": "ISO-3",
         "locations": [
          "FRA",
          "GRC"
         ],
         "mode": "lines",
         "type": "scattergeo"
        },
        {
         "hovertext": "Recipient: Greece<br>Supplier: France<br>SIPRI TIV: 0.0",
         "line": {
          "color": "red",
          "width": 0
         },
         "locationmode": "ISO-3",
         "locations": [
          "FRA",
          "GRC"
         ],
         "mode": "lines",
         "type": "scattergeo"
        },
        {
         "hovertext": "Recipient: Greece<br>Supplier: Germany<br>SIPRI TIV: 27.2",
         "line": {
          "color": "red",
          "width": 0.544
         },
         "locationmode": "ISO-3",
         "locations": [
          "DEU",
          "GRC"
         ],
         "mode": "lines",
         "type": "scattergeo"
        },
        {
         "hovertext": "Recipient: Greece<br>Supplier: Italy<br>SIPRI TIV: 0.0",
         "line": {
          "color": "red",
          "width": 0
         },
         "locationmode": "ISO-3",
         "locations": [
          "ITA",
          "GRC"
         ],
         "mode": "lines",
         "type": "scattergeo"
        },
        {
         "hovertext": "Recipient: Greece<br>Supplier: Italy<br>SIPRI TIV: 0.0",
         "line": {
          "color": "red",
          "width": 0
         },
         "locationmode": "ISO-3",
         "locations": [
          "ITA",
          "GRC"
         ],
         "mode": "lines",
         "type": "scattergeo"
        },
        {
         "hovertext": "Recipient: Greece<br>Supplier: United States<br>SIPRI TIV: 14.72",
         "line": {
          "color": "red",
          "width": 0.2944
         },
         "locationmode": "ISO-3",
         "locations": [
          "USA",
          "GRC"
         ],
         "mode": "lines",
         "type": "scattergeo"
        },
        {
         "hovertext": "Recipient: Guatemala<br>Supplier: United States<br>SIPRI TIV: 10.0",
         "line": {
          "color": "red",
          "width": 0.2
         },
         "locationmode": "ISO-3",
         "locations": [
          "USA",
          "GTM"
         ],
         "mode": "lines",
         "type": "scattergeo"
        },
        {
         "hovertext": "Recipient: Guinea<br>Supplier: France<br>SIPRI TIV: 0.0",
         "line": {
          "color": "red",
          "width": 0
         },
         "locationmode": "ISO-3",
         "locations": [
          "FRA",
          "GIN"
         ],
         "mode": "lines",
         "type": "scattergeo"
        },
        {
         "hovertext": "Recipient: Hungary<br>Supplier: Czechia<br>SIPRI TIV: 0.0",
         "line": {
          "color": "red",
          "width": 0
         },
         "locationmode": "ISO-3",
         "locations": [
          "CZE",
          "HUN"
         ],
         "mode": "lines",
         "type": "scattergeo"
        },
        {
         "hovertext": "Recipient: Hungary<br>Supplier: United States<br>SIPRI TIV: 0.0",
         "line": {
          "color": "red",
          "width": 0
         },
         "locationmode": "ISO-3",
         "locations": [
          "USA",
          "HUN"
         ],
         "mode": "lines",
         "type": "scattergeo"
        },
        {
         "hovertext": "Recipient: Hungary<br>Supplier: United States<br>SIPRI TIV: 0.0",
         "line": {
          "color": "red",
          "width": 0
         },
         "locationmode": "ISO-3",
         "locations": [
          "USA",
          "HUN"
         ],
         "mode": "lines",
         "type": "scattergeo"
        },
        {
         "hovertext": "Recipient: India<br>Supplier: Israel<br>SIPRI TIV: 13.0",
         "line": {
          "color": "red",
          "width": 0.26
         },
         "locationmode": "ISO-3",
         "locations": [
          "ISR",
          "IND"
         ],
         "mode": "lines",
         "type": "scattergeo"
        },
        {
         "hovertext": "Recipient: India<br>Supplier: Italy<br>SIPRI TIV: 0.0",
         "line": {
          "color": "red",
          "width": 0
         },
         "locationmode": "ISO-3",
         "locations": [
          "ITA",
          "IND"
         ],
         "mode": "lines",
         "type": "scattergeo"
        },
        {
         "hovertext": "Recipient: India<br>Supplier: United States<br>SIPRI TIV: 0.0",
         "line": {
          "color": "red",
          "width": 0
         },
         "locationmode": "ISO-3",
         "locations": [
          "USA",
          "IND"
         ],
         "mode": "lines",
         "type": "scattergeo"
        },
        {
         "hovertext": "Recipient: India<br>Supplier: United States<br>SIPRI TIV: 0.0",
         "line": {
          "color": "red",
          "width": 0
         },
         "locationmode": "ISO-3",
         "locations": [
          "USA",
          "IND"
         ],
         "mode": "lines",
         "type": "scattergeo"
        },
        {
         "hovertext": "Recipient: India<br>Supplier: United States<br>SIPRI TIV: 0.0",
         "line": {
          "color": "red",
          "width": 0
         },
         "locationmode": "ISO-3",
         "locations": [
          "USA",
          "IND"
         ],
         "mode": "lines",
         "type": "scattergeo"
        },
        {
         "hovertext": "Recipient: Indonesia<br>Supplier: France<br>SIPRI TIV: 0.0",
         "line": {
          "color": "red",
          "width": 0
         },
         "locationmode": "ISO-3",
         "locations": [
          "FRA",
          "IDN"
         ],
         "mode": "lines",
         "type": "scattergeo"
        },
        {
         "hovertext": "Recipient: Ireland<br>Supplier: Canada<br>SIPRI TIV: 1.5",
         "line": {
          "color": "red",
          "width": 0.03
         },
         "locationmode": "ISO-3",
         "locations": [
          "CAN",
          "IRL"
         ],
         "mode": "lines",
         "type": "scattergeo"
        },
        {
         "hovertext": "Recipient: Ireland<br>Supplier: New Zealand<br>SIPRI TIV: 11.2",
         "line": {
          "color": "red",
          "width": 0.22399999999999998
         },
         "locationmode": "ISO-3",
         "locations": [
          "NZL",
          "IRL"
         ],
         "mode": "lines",
         "type": "scattergeo"
        },
        {
         "hovertext": "Recipient: Ireland<br>Supplier: Spain<br>SIPRI TIV: 12.5",
         "line": {
          "color": "red",
          "width": 0.25
         },
         "locationmode": "ISO-3",
         "locations": [
          "ESP",
          "IRL"
         ],
         "mode": "lines",
         "type": "scattergeo"
        },
        {
         "hovertext": "Recipient: Iraq<br>Supplier: France<br>SIPRI TIV: 26.0",
         "line": {
          "color": "red",
          "width": 0.52
         },
         "locationmode": "ISO-3",
         "locations": [
          "FRA",
          "IRQ"
         ],
         "mode": "lines",
         "type": "scattergeo"
        },
        {
         "hovertext": "Recipient: Israel<br>Supplier: Germany<br>SIPRI TIV: 0.0",
         "line": {
          "color": "red",
          "width": 0
         },
         "locationmode": "ISO-3",
         "locations": [
          "DEU",
          "ISR"
         ],
         "mode": "lines",
         "type": "scattergeo"
        },
        {
         "hovertext": "Recipient: Israel<br>Supplier: United States<br>SIPRI TIV: 8.14",
         "line": {
          "color": "red",
          "width": 0.1628
         },
         "locationmode": "ISO-3",
         "locations": [
          "USA",
          "ISR"
         ],
         "mode": "lines",
         "type": "scattergeo"
        },
        {
         "hovertext": "Recipient: Italy<br>Supplier: Israel<br>SIPRI TIV: 0.0",
         "line": {
          "color": "red",
          "width": 0
         },
         "locationmode": "ISO-3",
         "locations": [
          "ISR",
          "ITA"
         ],
         "mode": "lines",
         "type": "scattergeo"
        },
        {
         "hovertext": "Recipient: Italy<br>Supplier: Israel<br>SIPRI TIV: 0.0",
         "line": {
          "color": "red",
          "width": 0
         },
         "locationmode": "ISO-3",
         "locations": [
          "ISR",
          "ITA"
         ],
         "mode": "lines",
         "type": "scattergeo"
        },
        {
         "hovertext": "Recipient: Italy<br>Supplier: United Kingdom<br>SIPRI TIV: 0.0",
         "line": {
          "color": "red",
          "width": 0
         },
         "locationmode": "ISO-3",
         "locations": [
          "GBR",
          "ITA"
         ],
         "mode": "lines",
         "type": "scattergeo"
        },
        {
         "hovertext": "Recipient: Italy<br>Supplier: United States<br>SIPRI TIV: 0.0",
         "line": {
          "color": "red",
          "width": 0
         },
         "locationmode": "ISO-3",
         "locations": [
          "USA",
          "ITA"
         ],
         "mode": "lines",
         "type": "scattergeo"
        },
        {
         "hovertext": "Recipient: Japan<br>Supplier: United States<br>SIPRI TIV: 0.0",
         "line": {
          "color": "red",
          "width": 0
         },
         "locationmode": "ISO-3",
         "locations": [
          "USA",
          "JPN"
         ],
         "mode": "lines",
         "type": "scattergeo"
        },
        {
         "hovertext": "Recipient: Japan<br>Supplier: United States<br>SIPRI TIV: 0.0",
         "line": {
          "color": "red",
          "width": 0
         },
         "locationmode": "ISO-3",
         "locations": [
          "USA",
          "JPN"
         ],
         "mode": "lines",
         "type": "scattergeo"
        },
        {
         "hovertext": "Recipient: Jordan<br>Supplier: France<br>SIPRI TIV: 0.0",
         "line": {
          "color": "red",
          "width": 0
         },
         "locationmode": "ISO-3",
         "locations": [
          "FRA",
          "JOR"
         ],
         "mode": "lines",
         "type": "scattergeo"
        },
        {
         "hovertext": "Recipient: Jordan<br>Supplier: United States<br>SIPRI TIV: 4.5",
         "line": {
          "color": "red",
          "width": 0.09
         },
         "locationmode": "ISO-3",
         "locations": [
          "USA",
          "JOR"
         ],
         "mode": "lines",
         "type": "scattergeo"
        },
        {
         "hovertext": "Recipient: Jordan<br>Supplier: United States<br>SIPRI TIV: 0.0",
         "line": {
          "color": "red",
          "width": 0
         },
         "locationmode": "ISO-3",
         "locations": [
          "USA",
          "JOR"
         ],
         "mode": "lines",
         "type": "scattergeo"
        },
        {
         "hovertext": "Recipient: Jordan<br>Supplier: United States<br>SIPRI TIV: 0.0",
         "line": {
          "color": "red",
          "width": 0
         },
         "locationmode": "ISO-3",
         "locations": [
          "USA",
          "JOR"
         ],
         "mode": "lines",
         "type": "scattergeo"
        },
        {
         "hovertext": "Recipient: Jordan<br>Supplier: United States<br>SIPRI TIV: 0.0",
         "line": {
          "color": "red",
          "width": 0
         },
         "locationmode": "ISO-3",
         "locations": [
          "USA",
          "JOR"
         ],
         "mode": "lines",
         "type": "scattergeo"
        },
        {
         "hovertext": "Recipient: Jordan<br>Supplier: United States<br>SIPRI TIV: 0.0",
         "line": {
          "color": "red",
          "width": 0
         },
         "locationmode": "ISO-3",
         "locations": [
          "USA",
          "JOR"
         ],
         "mode": "lines",
         "type": "scattergeo"
        },
        {
         "hovertext": "Recipient: Jordan<br>Supplier: United States<br>SIPRI TIV: 0.0",
         "line": {
          "color": "red",
          "width": 0
         },
         "locationmode": "ISO-3",
         "locations": [
          "USA",
          "JOR"
         ],
         "mode": "lines",
         "type": "scattergeo"
        },
        {
         "hovertext": "Recipient: Jordan<br>Supplier: United States<br>SIPRI TIV: 0.0",
         "line": {
          "color": "red",
          "width": 0
         },
         "locationmode": "ISO-3",
         "locations": [
          "USA",
          "JOR"
         ],
         "mode": "lines",
         "type": "scattergeo"
        },
        {
         "hovertext": "Recipient: Kazakhstan<br>Supplier: Canada<br>SIPRI TIV: 1.5",
         "line": {
          "color": "red",
          "width": 0.03
         },
         "locationmode": "ISO-3",
         "locations": [
          "CAN",
          "KAZ"
         ],
         "mode": "lines",
         "type": "scattergeo"
        },
        {
         "hovertext": "Recipient: Kazakhstan<br>Supplier: Czechia<br>SIPRI TIV: 5.2",
         "line": {
          "color": "red",
          "width": 0.10400000000000001
         },
         "locationmode": "ISO-3",
         "locations": [
          "CZE",
          "KAZ"
         ],
         "mode": "lines",
         "type": "scattergeo"
        },
        {
         "hovertext": "Recipient: Kazakhstan<br>Supplier: Spain<br>SIPRI TIV: 12.5",
         "line": {
          "color": "red",
          "width": 0.25
         },
         "locationmode": "ISO-3",
         "locations": [
          "ESP",
          "KAZ"
         ],
         "mode": "lines",
         "type": "scattergeo"
        },
        {
         "hovertext": "Recipient: South Korea<br>Supplier: United States<br>SIPRI TIV: 0.0",
         "line": {
          "color": "red",
          "width": 0
         },
         "locationmode": "ISO-3",
         "locations": [
          "USA",
          "KOR"
         ],
         "mode": "lines",
         "type": "scattergeo"
        },
        {
         "hovertext": "Recipient: South Korea<br>Supplier: United States<br>SIPRI TIV: 2.7",
         "line": {
          "color": "red",
          "width": 0.054000000000000006
         },
         "locationmode": "ISO-3",
         "locations": [
          "USA",
          "KOR"
         ],
         "mode": "lines",
         "type": "scattergeo"
        },
        {
         "hovertext": "Recipient: South Korea<br>Supplier: United States<br>SIPRI TIV: 0.0",
         "line": {
          "color": "red",
          "width": 0
         },
         "locationmode": "ISO-3",
         "locations": [
          "USA",
          "KOR"
         ],
         "mode": "lines",
         "type": "scattergeo"
        },
        {
         "hovertext": "Recipient: South Korea<br>Supplier: United States<br>SIPRI TIV: 0.0",
         "line": {
          "color": "red",
          "width": 0
         },
         "locationmode": "ISO-3",
         "locations": [
          "USA",
          "KOR"
         ],
         "mode": "lines",
         "type": "scattergeo"
        },
        {
         "hovertext": "Recipient: Kuwait<br>Supplier: United States<br>SIPRI TIV: 0.0",
         "line": {
          "color": "red",
          "width": 0
         },
         "locationmode": "ISO-3",
         "locations": [
          "USA",
          "KWT"
         ],
         "mode": "lines",
         "type": "scattergeo"
        },
        {
         "hovertext": "Recipient: Latvia<br>Supplier: Poland<br>SIPRI TIV: 0.0",
         "line": {
          "color": "red",
          "width": 0
         },
         "locationmode": "ISO-3",
         "locations": [
          "POL",
          "LVA"
         ],
         "mode": "lines",
         "type": "scattergeo"
        },
        {
         "hovertext": "Recipient: Latvia<br>Supplier: Sweden<br>SIPRI TIV: 15.0",
         "line": {
          "color": "red",
          "width": 0.3
         },
         "locationmode": "ISO-3",
         "locations": [
          "SWE",
          "LVA"
         ],
         "mode": "lines",
         "type": "scattergeo"
        },
        {
         "hovertext": "Recipient: Latvia<br>Supplier: Sweden<br>SIPRI TIV: 4.0",
         "line": {
          "color": "red",
          "width": 0.08
         },
         "locationmode": "ISO-3",
         "locations": [
          "SWE",
          "LVA"
         ],
         "mode": "lines",
         "type": "scattergeo"
        },
        {
         "hovertext": "Recipient: Lithuania<br>Supplier: France<br>SIPRI TIV: 0.0",
         "line": {
          "color": "red",
          "width": 0
         },
         "locationmode": "ISO-3",
         "locations": [
          "FRA",
          "LTU"
         ],
         "mode": "lines",
         "type": "scattergeo"
        },
        {
         "hovertext": "Recipient: Lithuania<br>Supplier: Germany<br>SIPRI TIV: 0.0",
         "line": {
          "color": "red",
          "width": 0
         },
         "locationmode": "ISO-3",
         "locations": [
          "DEU",
          "LTU"
         ],
         "mode": "lines",
         "type": "scattergeo"
        },
        {
         "hovertext": "Recipient: Lithuania<br>Supplier: Germany<br>SIPRI TIV: 2.0",
         "line": {
          "color": "red",
          "width": 0.04
         },
         "locationmode": "ISO-3",
         "locations": [
          "DEU",
          "LTU"
         ],
         "mode": "lines",
         "type": "scattergeo"
        },
        {
         "hovertext": "Recipient: Lithuania<br>Supplier: Spain<br>SIPRI TIV: 3.0",
         "line": {
          "color": "red",
          "width": 0.06
         },
         "locationmode": "ISO-3",
         "locations": [
          "ESP",
          "LTU"
         ],
         "mode": "lines",
         "type": "scattergeo"
        },
        {
         "hovertext": "Recipient: Lithuania<br>Supplier: Sweden<br>SIPRI TIV: 7.5",
         "line": {
          "color": "red",
          "width": 0.15
         },
         "locationmode": "ISO-3",
         "locations": [
          "SWE",
          "LTU"
         ],
         "mode": "lines",
         "type": "scattergeo"
        },
        {
         "hovertext": "Recipient: Lithuania<br>Supplier: United States<br>SIPRI TIV: 0.0",
         "line": {
          "color": "red",
          "width": 0
         },
         "locationmode": "ISO-3",
         "locations": [
          "USA",
          "LTU"
         ],
         "mode": "lines",
         "type": "scattergeo"
        },
        {
         "hovertext": "Recipient: Lithuania<br>Supplier: United States<br>SIPRI TIV: 0.0",
         "line": {
          "color": "red",
          "width": 0
         },
         "locationmode": "ISO-3",
         "locations": [
          "USA",
          "LTU"
         ],
         "mode": "lines",
         "type": "scattergeo"
        },
        {
         "hovertext": "Recipient: Lithuania<br>Supplier: United States<br>SIPRI TIV: 0.0",
         "line": {
          "color": "red",
          "width": 0
         },
         "locationmode": "ISO-3",
         "locations": [
          "USA",
          "LTU"
         ],
         "mode": "lines",
         "type": "scattergeo"
        },
        {
         "hovertext": "Recipient: Lithuania<br>Supplier: United States<br>SIPRI TIV: 0.0",
         "line": {
          "color": "red",
          "width": 0
         },
         "locationmode": "ISO-3",
         "locations": [
          "USA",
          "LTU"
         ],
         "mode": "lines",
         "type": "scattergeo"
        },
        {
         "hovertext": "Recipient: Lithuania<br>Supplier: United States<br>SIPRI TIV: 0.0",
         "line": {
          "color": "red",
          "width": 0
         },
         "locationmode": "ISO-3",
         "locations": [
          "USA",
          "LTU"
         ],
         "mode": "lines",
         "type": "scattergeo"
        },
        {
         "hovertext": "Recipient: Lithuania<br>Supplier: United States<br>SIPRI TIV: 0.0",
         "line": {
          "color": "red",
          "width": 0
         },
         "locationmode": "ISO-3",
         "locations": [
          "USA",
          "LTU"
         ],
         "mode": "lines",
         "type": "scattergeo"
        },
        {
         "hovertext": "Recipient: Luxembourg<br>Supplier: France<br>SIPRI TIV: 0.0",
         "line": {
          "color": "red",
          "width": 0
         },
         "locationmode": "ISO-3",
         "locations": [
          "FRA",
          "LUX"
         ],
         "mode": "lines",
         "type": "scattergeo"
        },
        {
         "hovertext": "Recipient: Luxembourg<br>Supplier: Switzerland<br>SIPRI TIV: 0.0",
         "line": {
          "color": "red",
          "width": 0
         },
         "locationmode": "ISO-3",
         "locations": [
          "CHE",
          "LUX"
         ],
         "mode": "lines",
         "type": "scattergeo"
        },
        {
         "hovertext": "Recipient: North Macedonia<br>Supplier: France<br>SIPRI TIV: 0.0",
         "line": {
          "color": "red",
          "width": 0
         },
         "locationmode": "ISO-3",
         "locations": [
          "FRA",
          "MKD"
         ],
         "mode": "lines",
         "type": "scattergeo"
        },
        {
         "hovertext": "Recipient: Malaysia<br>Supplier: United States<br>SIPRI TIV: 1.0",
         "line": {
          "color": "red",
          "width": 0.02
         },
         "locationmode": "ISO-3",
         "locations": [
          "USA",
          "MYS"
         ],
         "mode": "lines",
         "type": "scattergeo"
        },
        {
         "hovertext": "Recipient: Mali<br>Supplier: China<br>SIPRI TIV: 12.0",
         "line": {
          "color": "red",
          "width": 0.24
         },
         "locationmode": "ISO-3",
         "locations": [
          "CHN",
          "MLI"
         ],
         "mode": "lines",
         "type": "scattergeo"
        },
        {
         "hovertext": "Recipient: Mali<br>Supplier: Spain<br>SIPRI TIV: 1.12",
         "line": {
          "color": "red",
          "width": 0.022400000000000003
         },
         "locationmode": "ISO-3",
         "locations": [
          "ESP",
          "MLI"
         ],
         "mode": "lines",
         "type": "scattergeo"
        },
        {
         "hovertext": "Recipient: Moldova<br>Supplier: Germany<br>SIPRI TIV: 2.66",
         "line": {
          "color": "red",
          "width": 0.053200000000000004
         },
         "locationmode": "ISO-3",
         "locations": [
          "DEU",
          "MDA"
         ],
         "mode": "lines",
         "type": "scattergeo"
        },
        {
         "hovertext": "Recipient: Mongolia<br>Supplier: Australia<br>SIPRI TIV: 2.6",
         "line": {
          "color": "red",
          "width": 0.052000000000000005
         },
         "locationmode": "ISO-3",
         "locations": [
          "AUS",
          "MNG"
         ],
         "mode": "lines",
         "type": "scattergeo"
        },
        {
         "hovertext": "Recipient: Morocco<br>Supplier: China<br>SIPRI TIV: 8.0",
         "line": {
          "color": "red",
          "width": 0.16
         },
         "locationmode": "ISO-3",
         "locations": [
          "CHN",
          "MAR"
         ],
         "mode": "lines",
         "type": "scattergeo"
        },
        {
         "hovertext": "Recipient: Morocco<br>Supplier: Germany<br>SIPRI TIV: 18.0",
         "line": {
          "color": "red",
          "width": 0.36
         },
         "locationmode": "ISO-3",
         "locations": [
          "DEU",
          "MAR"
         ],
         "mode": "lines",
         "type": "scattergeo"
        },
        {
         "hovertext": "Recipient: Morocco<br>Supplier: Israel<br>SIPRI TIV: 67.5",
         "line": {
          "color": "red",
          "width": 1.35
         },
         "locationmode": "ISO-3",
         "locations": [
          "ISR",
          "MAR"
         ],
         "mode": "lines",
         "type": "scattergeo"
        },
        {
         "hovertext": "Recipient: Morocco<br>Supplier: Israel<br>SIPRI TIV: 47.0",
         "line": {
          "color": "red",
          "width": 0.94
         },
         "locationmode": "ISO-3",
         "locations": [
          "ISR",
          "MAR"
         ],
         "mode": "lines",
         "type": "scattergeo"
        },
        {
         "hovertext": "Recipient: Netherlands<br>Supplier: Finland<br>SIPRI TIV: 16.0",
         "line": {
          "color": "red",
          "width": 0.32
         },
         "locationmode": "ISO-3",
         "locations": [
          "FIN",
          "NLD"
         ],
         "mode": "lines",
         "type": "scattergeo"
        },
        {
         "hovertext": "Recipient: Netherlands<br>Supplier: Norway<br>SIPRI TIV: 0.0",
         "line": {
          "color": "red",
          "width": 0
         },
         "locationmode": "ISO-3",
         "locations": [
          "NOR",
          "NLD"
         ],
         "mode": "lines",
         "type": "scattergeo"
        },
        {
         "hovertext": "Recipient: Netherlands<br>Supplier: United States<br>SIPRI TIV: 0.0",
         "line": {
          "color": "red",
          "width": 0
         },
         "locationmode": "ISO-3",
         "locations": [
          "USA",
          "NLD"
         ],
         "mode": "lines",
         "type": "scattergeo"
        },
        {
         "hovertext": "Recipient: Netherlands<br>Supplier: United States<br>SIPRI TIV: 0.0",
         "line": {
          "color": "red",
          "width": 0
         },
         "locationmode": "ISO-3",
         "locations": [
          "USA",
          "NLD"
         ],
         "mode": "lines",
         "type": "scattergeo"
        },
        {
         "hovertext": "Recipient: Netherlands<br>Supplier: United States<br>SIPRI TIV: 0.0",
         "line": {
          "color": "red",
          "width": 0
         },
         "locationmode": "ISO-3",
         "locations": [
          "USA",
          "NLD"
         ],
         "mode": "lines",
         "type": "scattergeo"
        },
        {
         "hovertext": "Recipient: Netherlands<br>Supplier: United States<br>SIPRI TIV: 0.0",
         "line": {
          "color": "red",
          "width": 0
         },
         "locationmode": "ISO-3",
         "locations": [
          "USA",
          "NLD"
         ],
         "mode": "lines",
         "type": "scattergeo"
        },
        {
         "hovertext": "Recipient: Nigeria<br>Supplier: Austria<br>SIPRI TIV: 2.4",
         "line": {
          "color": "red",
          "width": 0.048
         },
         "locationmode": "ISO-3",
         "locations": [
          "AUT",
          "NGA"
         ],
         "mode": "lines",
         "type": "scattergeo"
        },
        {
         "hovertext": "Recipient: Nigeria<br>Supplier: China<br>SIPRI TIV: 2.0",
         "line": {
          "color": "red",
          "width": 0.04
         },
         "locationmode": "ISO-3",
         "locations": [
          "CHN",
          "NGA"
         ],
         "mode": "lines",
         "type": "scattergeo"
        },
        {
         "hovertext": "Recipient: Nigeria<br>Supplier: China<br>SIPRI TIV: 12.5",
         "line": {
          "color": "red",
          "width": 0.25
         },
         "locationmode": "ISO-3",
         "locations": [
          "CHN",
          "NGA"
         ],
         "mode": "lines",
         "type": "scattergeo"
        },
        {
         "hovertext": "Recipient: Nigeria<br>Supplier: China<br>SIPRI TIV: 7.5",
         "line": {
          "color": "red",
          "width": 0.15
         },
         "locationmode": "ISO-3",
         "locations": [
          "CHN",
          "NGA"
         ],
         "mode": "lines",
         "type": "scattergeo"
        },
        {
         "hovertext": "Recipient: Nigeria<br>Supplier: Italy<br>SIPRI TIV: 0.0",
         "line": {
          "color": "red",
          "width": 0
         },
         "locationmode": "ISO-3",
         "locations": [
          "ITA",
          "NGA"
         ],
         "mode": "lines",
         "type": "scattergeo"
        },
        {
         "hovertext": "Recipient: Nigeria<br>Supplier: Italy<br>SIPRI TIV: 2.75",
         "line": {
          "color": "red",
          "width": 0.055
         },
         "locationmode": "ISO-3",
         "locations": [
          "ITA",
          "NGA"
         ],
         "mode": "lines",
         "type": "scattergeo"
        },
        {
         "hovertext": "Recipient: Nigeria<br>Supplier: Saudi Arabia<br>SIPRI TIV: 2.7",
         "line": {
          "color": "red",
          "width": 0.054000000000000006
         },
         "locationmode": "ISO-3",
         "locations": [
          "SAU",
          "NGA"
         ],
         "mode": "lines",
         "type": "scattergeo"
        },
        {
         "hovertext": "Recipient: Nigeria<br>Supplier: United States<br>SIPRI TIV: 0.0",
         "line": {
          "color": "red",
          "width": 0
         },
         "locationmode": "ISO-3",
         "locations": [
          "USA",
          "NGA"
         ],
         "mode": "lines",
         "type": "scattergeo"
        },
        {
         "hovertext": "Recipient: Nigeria<br>Supplier: United States<br>SIPRI TIV: 2.0",
         "line": {
          "color": "red",
          "width": 0.04
         },
         "locationmode": "ISO-3",
         "locations": [
          "USA",
          "NGA"
         ],
         "mode": "lines",
         "type": "scattergeo"
        },
        {
         "hovertext": "Recipient: Nigeria<br>Supplier: United States<br>SIPRI TIV: 0.0",
         "line": {
          "color": "red",
          "width": 0
         },
         "locationmode": "ISO-3",
         "locations": [
          "USA",
          "NGA"
         ],
         "mode": "lines",
         "type": "scattergeo"
        },
        {
         "hovertext": "Recipient: Nigeria<br>Supplier: United States<br>SIPRI TIV: 2.85",
         "line": {
          "color": "red",
          "width": 0.057
         },
         "locationmode": "ISO-3",
         "locations": [
          "USA",
          "NGA"
         ],
         "mode": "lines",
         "type": "scattergeo"
        },
        {
         "hovertext": "Recipient: Niger<br>Supplier: France<br>SIPRI TIV: 0.68",
         "line": {
          "color": "red",
          "width": 0.013600000000000001
         },
         "locationmode": "ISO-3",
         "locations": [
          "FRA",
          "NER"
         ],
         "mode": "lines",
         "type": "scattergeo"
        },
        {
         "hovertext": "Recipient: Niger<br>Supplier: France<br>SIPRI TIV: 0.24",
         "line": {
          "color": "red",
          "width": 0.0048
         },
         "locationmode": "ISO-3",
         "locations": [
          "FRA",
          "NER"
         ],
         "mode": "lines",
         "type": "scattergeo"
        },
        {
         "hovertext": "Recipient: Niger<br>Supplier: Italy<br>SIPRI TIV: 4.0",
         "line": {
          "color": "red",
          "width": 0.08
         },
         "locationmode": "ISO-3",
         "locations": [
          "ITA",
          "NER"
         ],
         "mode": "lines",
         "type": "scattergeo"
        },
        {
         "hovertext": "Recipient: Niger<br>Supplier: South Africa<br>SIPRI TIV: 2.4",
         "line": {
          "color": "red",
          "width": 0.048
         },
         "locationmode": "ISO-3",
         "locations": [
          "ZAF",
          "NER"
         ],
         "mode": "lines",
         "type": "scattergeo"
        },
        {
         "hovertext": "Recipient: Norway<br>Supplier: Germany<br>SIPRI TIV: 0.0",
         "line": {
          "color": "red",
          "width": 0
         },
         "locationmode": "ISO-3",
         "locations": [
          "DEU",
          "NOR"
         ],
         "mode": "lines",
         "type": "scattergeo"
        },
        {
         "hovertext": "Recipient: Norway<br>Supplier: South Korea<br>SIPRI TIV: 0.0",
         "line": {
          "color": "red",
          "width": 0
         },
         "locationmode": "ISO-3",
         "locations": [
          "KOR",
          "NOR"
         ],
         "mode": "lines",
         "type": "scattergeo"
        },
        {
         "hovertext": "Recipient: Norway<br>Supplier: South Korea<br>SIPRI TIV: 0.0",
         "line": {
          "color": "red",
          "width": 0
         },
         "locationmode": "ISO-3",
         "locations": [
          "KOR",
          "NOR"
         ],
         "mode": "lines",
         "type": "scattergeo"
        },
        {
         "hovertext": "Recipient: Norway<br>Supplier: Netherlands<br>SIPRI TIV: 0.0",
         "line": {
          "color": "red",
          "width": 0
         },
         "locationmode": "ISO-3",
         "locations": [
          "NLD",
          "NOR"
         ],
         "mode": "lines",
         "type": "scattergeo"
        },
        {
         "hovertext": "Recipient: Norway<br>Supplier: Poland<br>SIPRI TIV: 4.0",
         "line": {
          "color": "red",
          "width": 0.08
         },
         "locationmode": "ISO-3",
         "locations": [
          "POL",
          "NOR"
         ],
         "mode": "lines",
         "type": "scattergeo"
        },
        {
         "hovertext": "Recipient: Norway<br>Supplier: United States<br>SIPRI TIV: 0.0",
         "line": {
          "color": "red",
          "width": 0
         },
         "locationmode": "ISO-3",
         "locations": [
          "USA",
          "NOR"
         ],
         "mode": "lines",
         "type": "scattergeo"
        },
        {
         "hovertext": "Recipient: Norway<br>Supplier: United States<br>SIPRI TIV: 0.0",
         "line": {
          "color": "red",
          "width": 0
         },
         "locationmode": "ISO-3",
         "locations": [
          "USA",
          "NOR"
         ],
         "mode": "lines",
         "type": "scattergeo"
        },
        {
         "hovertext": "Recipient: Norway<br>Supplier: United States<br>SIPRI TIV: 0.0",
         "line": {
          "color": "red",
          "width": 0
         },
         "locationmode": "ISO-3",
         "locations": [
          "USA",
          "NOR"
         ],
         "mode": "lines",
         "type": "scattergeo"
        },
        {
         "hovertext": "Recipient: Pakistan<br>Supplier: Lithuania<br>SIPRI TIV: 13.2",
         "line": {
          "color": "red",
          "width": 0.264
         },
         "locationmode": "ISO-3",
         "locations": [
          "LTU",
          "PAK"
         ],
         "mode": "lines",
         "type": "scattergeo"
        },
        {
         "hovertext": "Recipient: Pakistan<br>Supplier: Netherlands<br>SIPRI TIV: 0.0",
         "line": {
          "color": "red",
          "width": 0
         },
         "locationmode": "ISO-3",
         "locations": [
          "NLD",
          "PAK"
         ],
         "mode": "lines",
         "type": "scattergeo"
        },
        {
         "hovertext": "Recipient: Pakistan<br>Supplier: United States<br>SIPRI TIV: 0.0",
         "line": {
          "color": "red",
          "width": 0
         },
         "locationmode": "ISO-3",
         "locations": [
          "USA",
          "PAK"
         ],
         "mode": "lines",
         "type": "scattergeo"
        },
        {
         "hovertext": "Recipient: Pakistan<br>Supplier: United States<br>SIPRI TIV: 0.0",
         "line": {
          "color": "red",
          "width": 0
         },
         "locationmode": "ISO-3",
         "locations": [
          "USA",
          "PAK"
         ],
         "mode": "lines",
         "type": "scattergeo"
        },
        {
         "hovertext": "Recipient: Peru<br>Supplier: Spain<br>SIPRI TIV: 22.4",
         "line": {
          "color": "red",
          "width": 0.44799999999999995
         },
         "locationmode": "ISO-3",
         "locations": [
          "ESP",
          "PER"
         ],
         "mode": "lines",
         "type": "scattergeo"
        },
        {
         "hovertext": "Recipient: Peru<br>Supplier: United States<br>SIPRI TIV: 0.0",
         "line": {
          "color": "red",
          "width": 0
         },
         "locationmode": "ISO-3",
         "locations": [
          "USA",
          "PER"
         ],
         "mode": "lines",
         "type": "scattergeo"
        },
        {
         "hovertext": "Recipient: Peru<br>Supplier: United States<br>SIPRI TIV: 0.54",
         "line": {
          "color": "red",
          "width": 0.0108
         },
         "locationmode": "ISO-3",
         "locations": [
          "USA",
          "PER"
         ],
         "mode": "lines",
         "type": "scattergeo"
        },
        {
         "hovertext": "Recipient: Philippines<br>Supplier: Germany<br>SIPRI TIV: 0.0",
         "line": {
          "color": "red",
          "width": 0
         },
         "locationmode": "ISO-3",
         "locations": [
          "DEU",
          "PHL"
         ],
         "mode": "lines",
         "type": "scattergeo"
        },
        {
         "hovertext": "Recipient: Philippines<br>Supplier: Germany<br>SIPRI TIV: 0.0",
         "line": {
          "color": "red",
          "width": 0
         },
         "locationmode": "ISO-3",
         "locations": [
          "DEU",
          "PHL"
         ],
         "mode": "lines",
         "type": "scattergeo"
        },
        {
         "hovertext": "Recipient: Philippines<br>Supplier: India<br>SIPRI TIV: 0.0",
         "line": {
          "color": "red",
          "width": 0
         },
         "locationmode": "ISO-3",
         "locations": [
          "IND",
          "PHL"
         ],
         "mode": "lines",
         "type": "scattergeo"
        },
        {
         "hovertext": "Recipient: Philippines<br>Supplier: India<br>SIPRI TIV: 0.0",
         "line": {
          "color": "red",
          "width": 0
         },
         "locationmode": "ISO-3",
         "locations": [
          "IND",
          "PHL"
         ],
         "mode": "lines",
         "type": "scattergeo"
        },
        {
         "hovertext": "Recipient: Philippines<br>Supplier: Indonesia<br>SIPRI TIV: 0.0",
         "line": {
          "color": "red",
          "width": 0
         },
         "locationmode": "ISO-3",
         "locations": [
          "IDN",
          "PHL"
         ],
         "mode": "lines",
         "type": "scattergeo"
        },
        {
         "hovertext": "Recipient: Philippines<br>Supplier: Israel<br>SIPRI TIV: 0.0",
         "line": {
          "color": "red",
          "width": 0
         },
         "locationmode": "ISO-3",
         "locations": [
          "ISR",
          "PHL"
         ],
         "mode": "lines",
         "type": "scattergeo"
        },
        {
         "hovertext": "Recipient: Philippines<br>Supplier: South Korea<br>SIPRI TIV: 0.0",
         "line": {
          "color": "red",
          "width": 0
         },
         "locationmode": "ISO-3",
         "locations": [
          "KOR",
          "PHL"
         ],
         "mode": "lines",
         "type": "scattergeo"
        },
        {
         "hovertext": "Recipient: Philippines<br>Supplier: South Korea<br>SIPRI TIV: 0.0",
         "line": {
          "color": "red",
          "width": 0
         },
         "locationmode": "ISO-3",
         "locations": [
          "KOR",
          "PHL"
         ],
         "mode": "lines",
         "type": "scattergeo"
        },
        {
         "hovertext": "Recipient: Philippines<br>Supplier: United States<br>SIPRI TIV: 17.2",
         "line": {
          "color": "red",
          "width": 0.344
         },
         "locationmode": "ISO-3",
         "locations": [
          "USA",
          "PHL"
         ],
         "mode": "lines",
         "type": "scattergeo"
        },
        {
         "hovertext": "Recipient: Philippines<br>Supplier: United States<br>SIPRI TIV: 0.0",
         "line": {
          "color": "red",
          "width": 0
         },
         "locationmode": "ISO-3",
         "locations": [
          "USA",
          "PHL"
         ],
         "mode": "lines",
         "type": "scattergeo"
        },
        {
         "hovertext": "Recipient: Poland<br>Supplier: Germany<br>SIPRI TIV: 11.52",
         "line": {
          "color": "red",
          "width": 0.2304
         },
         "locationmode": "ISO-3",
         "locations": [
          "DEU",
          "POL"
         ],
         "mode": "lines",
         "type": "scattergeo"
        },
        {
         "hovertext": "Recipient: Poland<br>Supplier: Israel<br>SIPRI TIV: 24.0",
         "line": {
          "color": "red",
          "width": 0.48
         },
         "locationmode": "ISO-3",
         "locations": [
          "ISR",
          "POL"
         ],
         "mode": "lines",
         "type": "scattergeo"
        },
        {
         "hovertext": "Recipient: Poland<br>Supplier: Italy<br>SIPRI TIV: 19.5",
         "line": {
          "color": "red",
          "width": 0.39
         },
         "locationmode": "ISO-3",
         "locations": [
          "ITA",
          "POL"
         ],
         "mode": "lines",
         "type": "scattergeo"
        },
        {
         "hovertext": "Recipient: Poland<br>Supplier: South Korea<br>SIPRI TIV: 48.0",
         "line": {
          "color": "red",
          "width": 0.96
         },
         "locationmode": "ISO-3",
         "locations": [
          "KOR",
          "POL"
         ],
         "mode": "lines",
         "type": "scattergeo"
        },
        {
         "hovertext": "Recipient: Poland<br>Supplier: South Korea<br>SIPRI TIV: 197.4",
         "line": {
          "color": "red",
          "width": 3.948
         },
         "locationmode": "ISO-3",
         "locations": [
          "KOR",
          "POL"
         ],
         "mode": "lines",
         "type": "scattergeo"
        },
        {
         "hovertext": "Recipient: Poland<br>Supplier: South Korea<br>SIPRI TIV: 0.0",
         "line": {
          "color": "red",
          "width": 0
         },
         "locationmode": "ISO-3",
         "locations": [
          "KOR",
          "POL"
         ],
         "mode": "lines",
         "type": "scattergeo"
        },
        {
         "hovertext": "Recipient: Poland<br>Supplier: South Korea<br>SIPRI TIV: 133.0",
         "line": {
          "color": "red",
          "width": 2.66
         },
         "locationmode": "ISO-3",
         "locations": [
          "KOR",
          "POL"
         ],
         "mode": "lines",
         "type": "scattergeo"
        },
        {
         "hovertext": "Recipient: Poland<br>Supplier: South Korea<br>SIPRI TIV: 0.0",
         "line": {
          "color": "red",
          "width": 0
         },
         "locationmode": "ISO-3",
         "locations": [
          "KOR",
          "POL"
         ],
         "mode": "lines",
         "type": "scattergeo"
        },
        {
         "hovertext": "Recipient: Poland<br>Supplier: South Korea<br>SIPRI TIV: 19.8",
         "line": {
          "color": "red",
          "width": 0.396
         },
         "locationmode": "ISO-3",
         "locations": [
          "KOR",
          "POL"
         ],
         "mode": "lines",
         "type": "scattergeo"
        },
        {
         "hovertext": "Recipient: Poland<br>Supplier: South Korea<br>SIPRI TIV: 0.0",
         "line": {
          "color": "red",
          "width": 0
         },
         "locationmode": "ISO-3",
         "locations": [
          "KOR",
          "POL"
         ],
         "mode": "lines",
         "type": "scattergeo"
        },
        {
         "hovertext": "Recipient: Poland<br>Supplier: South Korea<br>SIPRI TIV: 312.48",
         "line": {
          "color": "red",
          "width": 6.2496
         },
         "locationmode": "ISO-3",
         "locations": [
          "KOR",
          "POL"
         ],
         "mode": "lines",
         "type": "scattergeo"
        },
        {
         "hovertext": "Recipient: Poland<br>Supplier: South Korea<br>SIPRI TIV: 0.0",
         "line": {
          "color": "red",
          "width": 0
         },
         "locationmode": "ISO-3",
         "locations": [
          "KOR",
          "POL"
         ],
         "mode": "lines",
         "type": "scattergeo"
        },
        {
         "hovertext": "Recipient: Poland<br>Supplier: South Korea<br>SIPRI TIV: 7.0",
         "line": {
          "color": "red",
          "width": 0.14
         },
         "locationmode": "ISO-3",
         "locations": [
          "KOR",
          "POL"
         ],
         "mode": "lines",
         "type": "scattergeo"
        },
        {
         "hovertext": "Recipient: Poland<br>Supplier: United Kingdom<br>SIPRI TIV: 0.0",
         "line": {
          "color": "red",
          "width": 0
         },
         "locationmode": "ISO-3",
         "locations": [
          "GBR",
          "POL"
         ],
         "mode": "lines",
         "type": "scattergeo"
        },
        {
         "hovertext": "Recipient: Poland<br>Supplier: United Kingdom<br>SIPRI TIV: 35.0",
         "line": {
          "color": "red",
          "width": 0.7
         },
         "locationmode": "ISO-3",
         "locations": [
          "GBR",
          "POL"
         ],
         "mode": "lines",
         "type": "scattergeo"
        },
        {
         "hovertext": "Recipient: Poland<br>Supplier: United Kingdom<br>SIPRI TIV: 0.0",
         "line": {
          "color": "red",
          "width": 0
         },
         "locationmode": "ISO-3",
         "locations": [
          "GBR",
          "POL"
         ],
         "mode": "lines",
         "type": "scattergeo"
        },
        {
         "hovertext": "Recipient: Poland<br>Supplier: United Kingdom<br>SIPRI TIV: 0.0",
         "line": {
          "color": "red",
          "width": 0
         },
         "locationmode": "ISO-3",
         "locations": [
          "GBR",
          "POL"
         ],
         "mode": "lines",
         "type": "scattergeo"
        },
        {
         "hovertext": "Recipient: Poland<br>Supplier: United States<br>SIPRI TIV: 0.0",
         "line": {
          "color": "red",
          "width": 0
         },
         "locationmode": "ISO-3",
         "locations": [
          "USA",
          "POL"
         ],
         "mode": "lines",
         "type": "scattergeo"
        },
        {
         "hovertext": "Recipient: Poland<br>Supplier: United States<br>SIPRI TIV: 26.4",
         "line": {
          "color": "red",
          "width": 0.528
         },
         "locationmode": "ISO-3",
         "locations": [
          "USA",
          "POL"
         ],
         "mode": "lines",
         "type": "scattergeo"
        },
        {
         "hovertext": "Recipient: Poland<br>Supplier: United States<br>SIPRI TIV: 0.0",
         "line": {
          "color": "red",
          "width": 0
         },
         "locationmode": "ISO-3",
         "locations": [
          "USA",
          "POL"
         ],
         "mode": "lines",
         "type": "scattergeo"
        },
        {
         "hovertext": "Recipient: Poland<br>Supplier: United States<br>SIPRI TIV: 2.0",
         "line": {
          "color": "red",
          "width": 0.04
         },
         "locationmode": "ISO-3",
         "locations": [
          "USA",
          "POL"
         ],
         "mode": "lines",
         "type": "scattergeo"
        },
        {
         "hovertext": "Recipient: Poland<br>Supplier: United States<br>SIPRI TIV: 0.36",
         "line": {
          "color": "red",
          "width": 0.0072
         },
         "locationmode": "ISO-3",
         "locations": [
          "USA",
          "POL"
         ],
         "mode": "lines",
         "type": "scattergeo"
        },
        {
         "hovertext": "Recipient: Poland<br>Supplier: United States<br>SIPRI TIV: 64.0",
         "line": {
          "color": "red",
          "width": 1.28
         },
         "locationmode": "ISO-3",
         "locations": [
          "USA",
          "POL"
         ],
         "mode": "lines",
         "type": "scattergeo"
        },
        {
         "hovertext": "Recipient: Poland<br>Supplier: United States<br>SIPRI TIV: 50.4",
         "line": {
          "color": "red",
          "width": 1.008
         },
         "locationmode": "ISO-3",
         "locations": [
          "USA",
          "POL"
         ],
         "mode": "lines",
         "type": "scattergeo"
        },
        {
         "hovertext": "Recipient: Poland<br>Supplier: United States<br>SIPRI TIV: 0.0",
         "line": {
          "color": "red",
          "width": 0
         },
         "locationmode": "ISO-3",
         "locations": [
          "USA",
          "POL"
         ],
         "mode": "lines",
         "type": "scattergeo"
        },
        {
         "hovertext": "Recipient: Poland<br>Supplier: United States<br>SIPRI TIV: 0.0",
         "line": {
          "color": "red",
          "width": 0
         },
         "locationmode": "ISO-3",
         "locations": [
          "USA",
          "POL"
         ],
         "mode": "lines",
         "type": "scattergeo"
        },
        {
         "hovertext": "Recipient: Poland<br>Supplier: United States<br>SIPRI TIV: 9.6",
         "line": {
          "color": "red",
          "width": 0.192
         },
         "locationmode": "ISO-3",
         "locations": [
          "USA",
          "POL"
         ],
         "mode": "lines",
         "type": "scattergeo"
        },
        {
         "hovertext": "Recipient: Poland<br>Supplier: United States<br>SIPRI TIV: 0.0",
         "line": {
          "color": "red",
          "width": 0
         },
         "locationmode": "ISO-3",
         "locations": [
          "USA",
          "POL"
         ],
         "mode": "lines",
         "type": "scattergeo"
        },
        {
         "hovertext": "Recipient: Poland<br>Supplier: United States<br>SIPRI TIV: 6.0",
         "line": {
          "color": "red",
          "width": 0.12
         },
         "locationmode": "ISO-3",
         "locations": [
          "USA",
          "POL"
         ],
         "mode": "lines",
         "type": "scattergeo"
        },
        {
         "hovertext": "Recipient: Poland<br>Supplier: United States<br>SIPRI TIV: 0.0",
         "line": {
          "color": "red",
          "width": 0
         },
         "locationmode": "ISO-3",
         "locations": [
          "USA",
          "POL"
         ],
         "mode": "lines",
         "type": "scattergeo"
        },
        {
         "hovertext": "Recipient: Portugal<br>Supplier: Italy<br>SIPRI TIV: 4.5",
         "line": {
          "color": "red",
          "width": 0.09
         },
         "locationmode": "ISO-3",
         "locations": [
          "ITA",
          "PRT"
         ],
         "mode": "lines",
         "type": "scattergeo"
        },
        {
         "hovertext": "Recipient: Portugal<br>Supplier: United States<br>SIPRI TIV: 0.0",
         "line": {
          "color": "red",
          "width": 0
         },
         "locationmode": "ISO-3",
         "locations": [
          "USA",
          "PRT"
         ],
         "mode": "lines",
         "type": "scattergeo"
        },
        {
         "hovertext": "Recipient: Romania<br>Supplier: Israel<br>SIPRI TIV: 0.0",
         "line": {
          "color": "red",
          "width": 0
         },
         "locationmode": "ISO-3",
         "locations": [
          "ISR",
          "ROU"
         ],
         "mode": "lines",
         "type": "scattergeo"
        },
        {
         "hovertext": "Recipient: Romania<br>Supplier: Norway<br>SIPRI TIV: 0.0",
         "line": {
          "color": "red",
          "width": 0
         },
         "locationmode": "ISO-3",
         "locations": [
          "NOR",
          "ROU"
         ],
         "mode": "lines",
         "type": "scattergeo"
        },
        {
         "hovertext": "Recipient: Romania<br>Supplier: Norway<br>SIPRI TIV: 34.2",
         "line": {
          "color": "red",
          "width": 0.684
         },
         "locationmode": "ISO-3",
         "locations": [
          "NOR",
          "ROU"
         ],
         "mode": "lines",
         "type": "scattergeo"
        },
        {
         "hovertext": "Recipient: Romania<br>Supplier: United States<br>SIPRI TIV: 11.2",
         "line": {
          "color": "red",
          "width": 0.22399999999999998
         },
         "locationmode": "ISO-3",
         "locations": [
          "USA",
          "ROU"
         ],
         "mode": "lines",
         "type": "scattergeo"
        },
        {
         "hovertext": "Recipient: Romania<br>Supplier: United States<br>SIPRI TIV: 5.94",
         "line": {
          "color": "red",
          "width": 0.1188
         },
         "locationmode": "ISO-3",
         "locations": [
          "USA",
          "ROU"
         ],
         "mode": "lines",
         "type": "scattergeo"
        },
        {
         "hovertext": "Recipient: Romania<br>Supplier: United States<br>SIPRI TIV: 0.0",
         "line": {
          "color": "red",
          "width": 0
         },
         "locationmode": "ISO-3",
         "locations": [
          "USA",
          "ROU"
         ],
         "mode": "lines",
         "type": "scattergeo"
        },
        {
         "hovertext": "Recipient: El Salvador<br>Supplier: Israel<br>SIPRI TIV: 0.7",
         "line": {
          "color": "red",
          "width": 0.013999999999999999
         },
         "locationmode": "ISO-3",
         "locations": [
          "ISR",
          "SLV"
         ],
         "mode": "lines",
         "type": "scattergeo"
        },
        {
         "hovertext": "Recipient: El Salvador<br>Supplier: United States<br>SIPRI TIV: 0.4",
         "line": {
          "color": "red",
          "width": 0.008
         },
         "locationmode": "ISO-3",
         "locations": [
          "USA",
          "SLV"
         ],
         "mode": "lines",
         "type": "scattergeo"
        },
        {
         "hovertext": "Recipient: El Salvador<br>Supplier: United States<br>SIPRI TIV: 0.55",
         "line": {
          "color": "red",
          "width": 0.011000000000000001
         },
         "locationmode": "ISO-3",
         "locations": [
          "USA",
          "SLV"
         ],
         "mode": "lines",
         "type": "scattergeo"
        },
        {
         "hovertext": "Recipient: Saudi Arabia<br>Supplier: South Korea<br>SIPRI TIV: 0.0",
         "line": {
          "color": "red",
          "width": 0
         },
         "locationmode": "ISO-3",
         "locations": [
          "KOR",
          "SAU"
         ],
         "mode": "lines",
         "type": "scattergeo"
        },
        {
         "hovertext": "Recipient: Saudi Arabia<br>Supplier: South Korea<br>SIPRI TIV: 0.0",
         "line": {
          "color": "red",
          "width": 0
         },
         "locationmode": "ISO-3",
         "locations": [
          "KOR",
          "SAU"
         ],
         "mode": "lines",
         "type": "scattergeo"
        },
        {
         "hovertext": "Recipient: Saudi Arabia<br>Supplier: South Korea<br>SIPRI TIV: 8.8",
         "line": {
          "color": "red",
          "width": 0.17600000000000002
         },
         "locationmode": "ISO-3",
         "locations": [
          "KOR",
          "SAU"
         ],
         "mode": "lines",
         "type": "scattergeo"
        },
        {
         "hovertext": "Recipient: Saudi Arabia<br>Supplier: United States<br>SIPRI TIV: 0.0",
         "line": {
          "color": "red",
          "width": 0
         },
         "locationmode": "ISO-3",
         "locations": [
          "USA",
          "SAU"
         ],
         "mode": "lines",
         "type": "scattergeo"
        },
        {
         "hovertext": "Recipient: Saudi Arabia<br>Supplier: United States<br>SIPRI TIV: 0.0",
         "line": {
          "color": "red",
          "width": 0
         },
         "locationmode": "ISO-3",
         "locations": [
          "USA",
          "SAU"
         ],
         "mode": "lines",
         "type": "scattergeo"
        },
        {
         "hovertext": "Recipient: Senegal<br>Supplier: China<br>SIPRI TIV: 0.7",
         "line": {
          "color": "red",
          "width": 0.013999999999999999
         },
         "locationmode": "ISO-3",
         "locations": [
          "CHN",
          "SEN"
         ],
         "mode": "lines",
         "type": "scattergeo"
        },
        {
         "hovertext": "Recipient: Senegal<br>Supplier: China<br>SIPRI TIV: 4.8",
         "line": {
          "color": "red",
          "width": 0.096
         },
         "locationmode": "ISO-3",
         "locations": [
          "CHN",
          "SEN"
         ],
         "mode": "lines",
         "type": "scattergeo"
        },
        {
         "hovertext": "Recipient: Senegal<br>Supplier: China<br>SIPRI TIV: 0.98",
         "line": {
          "color": "red",
          "width": 0.0196
         },
         "locationmode": "ISO-3",
         "locations": [
          "CHN",
          "SEN"
         ],
         "mode": "lines",
         "type": "scattergeo"
        },
        {
         "hovertext": "Recipient: Senegal<br>Supplier: France<br>SIPRI TIV: 0.0",
         "line": {
          "color": "red",
          "width": 0
         },
         "locationmode": "ISO-3",
         "locations": [
          "FRA",
          "SEN"
         ],
         "mode": "lines",
         "type": "scattergeo"
        },
        {
         "hovertext": "Recipient: Serbia<br>Supplier: Canada<br>SIPRI TIV: 3.0",
         "line": {
          "color": "red",
          "width": 0.06
         },
         "locationmode": "ISO-3",
         "locations": [
          "CAN",
          "SRB"
         ],
         "mode": "lines",
         "type": "scattergeo"
        },
        {
         "hovertext": "Recipient: Serbia<br>Supplier: China<br>SIPRI TIV: 2.0",
         "line": {
          "color": "red",
          "width": 0.04
         },
         "locationmode": "ISO-3",
         "locations": [
          "CHN",
          "SRB"
         ],
         "mode": "lines",
         "type": "scattergeo"
        },
        {
         "hovertext": "Recipient: Serbia<br>Supplier: Cyprus<br>SIPRI TIV: 39.6",
         "line": {
          "color": "red",
          "width": 0.792
         },
         "locationmode": "ISO-3",
         "locations": [
          "CYP",
          "SRB"
         ],
         "mode": "lines",
         "type": "scattergeo"
        },
        {
         "hovertext": "Recipient: Serbia<br>Supplier: Spain<br>SIPRI TIV: 25.0",
         "line": {
          "color": "red",
          "width": 0.5
         },
         "locationmode": "ISO-3",
         "locations": [
          "ESP",
          "SRB"
         ],
         "mode": "lines",
         "type": "scattergeo"
        },
        {
         "hovertext": "Recipient: Serbia<br>Supplier: United States<br>SIPRI TIV: 0.75",
         "line": {
          "color": "red",
          "width": 0.015
         },
         "locationmode": "ISO-3",
         "locations": [
          "USA",
          "SRB"
         ],
         "mode": "lines",
         "type": "scattergeo"
        },
        {
         "hovertext": "Recipient: Singapore<br>Supplier: Israel<br>SIPRI TIV: 0.25",
         "line": {
          "color": "red",
          "width": 0.005
         },
         "locationmode": "ISO-3",
         "locations": [
          "ISR",
          "SGP"
         ],
         "mode": "lines",
         "type": "scattergeo"
        },
        {
         "hovertext": "Recipient: Singapore<br>Supplier: United States<br>SIPRI TIV: 0.0",
         "line": {
          "color": "red",
          "width": 0
         },
         "locationmode": "ISO-3",
         "locations": [
          "USA",
          "SGP"
         ],
         "mode": "lines",
         "type": "scattergeo"
        },
        {
         "hovertext": "Recipient: Singapore<br>Supplier: United States<br>SIPRI TIV: 0.0",
         "line": {
          "color": "red",
          "width": 0
         },
         "locationmode": "ISO-3",
         "locations": [
          "USA",
          "SGP"
         ],
         "mode": "lines",
         "type": "scattergeo"
        },
        {
         "hovertext": "Recipient: Slovakia<br>Supplier: Finland<br>SIPRI TIV: 0.0",
         "line": {
          "color": "red",
          "width": 0
         },
         "locationmode": "ISO-3",
         "locations": [
          "FIN",
          "SVK"
         ],
         "mode": "lines",
         "type": "scattergeo"
        },
        {
         "hovertext": "Recipient: Slovakia<br>Supplier: Finland<br>SIPRI TIV: 0.0",
         "line": {
          "color": "red",
          "width": 0
         },
         "locationmode": "ISO-3",
         "locations": [
          "FIN",
          "SVK"
         ],
         "mode": "lines",
         "type": "scattergeo"
        },
        {
         "hovertext": "Recipient: Slovakia<br>Supplier: Germany<br>SIPRI TIV: 24.0",
         "line": {
          "color": "red",
          "width": 0.48
         },
         "locationmode": "ISO-3",
         "locations": [
          "DEU",
          "SVK"
         ],
         "mode": "lines",
         "type": "scattergeo"
        },
        {
         "hovertext": "Recipient: Slovakia<br>Supplier: Sweden<br>SIPRI TIV: 0.0",
         "line": {
          "color": "red",
          "width": 0
         },
         "locationmode": "ISO-3",
         "locations": [
          "SWE",
          "SVK"
         ],
         "mode": "lines",
         "type": "scattergeo"
        },
        {
         "hovertext": "Recipient: Slovakia<br>Supplier: Sweden<br>SIPRI TIV: 0.0",
         "line": {
          "color": "red",
          "width": 0
         },
         "locationmode": "ISO-3",
         "locations": [
          "SWE",
          "SVK"
         ],
         "mode": "lines",
         "type": "scattergeo"
        },
        {
         "hovertext": "Recipient: Slovenia<br>Supplier: United States<br>SIPRI TIV: 0.0",
         "line": {
          "color": "red",
          "width": 0
         },
         "locationmode": "ISO-3",
         "locations": [
          "USA",
          "SVN"
         ],
         "mode": "lines",
         "type": "scattergeo"
        },
        {
         "hovertext": "Recipient: Somalia<br>Supplier: Italy<br>SIPRI TIV: 4.0",
         "line": {
          "color": "red",
          "width": 0.08
         },
         "locationmode": "ISO-3",
         "locations": [
          "ITA",
          "SOM"
         ],
         "mode": "lines",
         "type": "scattergeo"
        },
        {
         "hovertext": "Recipient: Spain<br>Supplier: France<br>SIPRI TIV: 0.0",
         "line": {
          "color": "red",
          "width": 0
         },
         "locationmode": "ISO-3",
         "locations": [
          "FRA",
          "ESP"
         ],
         "mode": "lines",
         "type": "scattergeo"
        },
        {
         "hovertext": "Recipient: Spain<br>Supplier: Israel<br>SIPRI TIV: 36.0",
         "line": {
          "color": "red",
          "width": 0.72
         },
         "locationmode": "ISO-3",
         "locations": [
          "ISR",
          "ESP"
         ],
         "mode": "lines",
         "type": "scattergeo"
        },
        {
         "hovertext": "Recipient: Spain<br>Supplier: Israel<br>SIPRI TIV: 0.0",
         "line": {
          "color": "red",
          "width": 0
         },
         "locationmode": "ISO-3",
         "locations": [
          "ISR",
          "ESP"
         ],
         "mode": "lines",
         "type": "scattergeo"
        },
        {
         "hovertext": "Recipient: Spain<br>Supplier: United Kingdom<br>SIPRI TIV: 0.0",
         "line": {
          "color": "red",
          "width": 0
         },
         "locationmode": "ISO-3",
         "locations": [
          "GBR",
          "ESP"
         ],
         "mode": "lines",
         "type": "scattergeo"
        },
        {
         "hovertext": "Recipient: Spain<br>Supplier: United States<br>SIPRI TIV: 0.0",
         "line": {
          "color": "red",
          "width": 0
         },
         "locationmode": "ISO-3",
         "locations": [
          "USA",
          "ESP"
         ],
         "mode": "lines",
         "type": "scattergeo"
        },
        {
         "hovertext": "Recipient: Spain<br>Supplier: United States<br>SIPRI TIV: 0.0",
         "line": {
          "color": "red",
          "width": 0
         },
         "locationmode": "ISO-3",
         "locations": [
          "USA",
          "ESP"
         ],
         "mode": "lines",
         "type": "scattergeo"
        },
        {
         "hovertext": "Recipient: Spain<br>Supplier: United States<br>SIPRI TIV: 0.0",
         "line": {
          "color": "red",
          "width": 0
         },
         "locationmode": "ISO-3",
         "locations": [
          "USA",
          "ESP"
         ],
         "mode": "lines",
         "type": "scattergeo"
        },
        {
         "hovertext": "Recipient: Sri Lanka<br>Supplier: United States<br>SIPRI TIV: 0.0",
         "line": {
          "color": "red",
          "width": 0
         },
         "locationmode": "ISO-3",
         "locations": [
          "USA",
          "LKA"
         ],
         "mode": "lines",
         "type": "scattergeo"
        },
        {
         "hovertext": "Recipient: Sudan<br>Supplier: Belarus<br>SIPRI TIV: 0.8",
         "line": {
          "color": "red",
          "width": 0.016
         },
         "locationmode": "ISO-3",
         "locations": [
          "BLR",
          "SDN"
         ],
         "mode": "lines",
         "type": "scattergeo"
        },
        {
         "hovertext": "Recipient: Sweden<br>Supplier: Canada<br>SIPRI TIV: 0.0",
         "line": {
          "color": "red",
          "width": 0
         },
         "locationmode": "ISO-3",
         "locations": [
          "CAN",
          "SWE"
         ],
         "mode": "lines",
         "type": "scattergeo"
        },
        {
         "hovertext": "Recipient: Sweden<br>Supplier: Germany<br>SIPRI TIV: 0.0",
         "line": {
          "color": "red",
          "width": 0
         },
         "locationmode": "ISO-3",
         "locations": [
          "DEU",
          "SWE"
         ],
         "mode": "lines",
         "type": "scattergeo"
        },
        {
         "hovertext": "Recipient: Sweden<br>Supplier: United Kingdom<br>SIPRI TIV: 0.0",
         "line": {
          "color": "red",
          "width": 0
         },
         "locationmode": "ISO-3",
         "locations": [
          "GBR",
          "SWE"
         ],
         "mode": "lines",
         "type": "scattergeo"
        },
        {
         "hovertext": "Recipient: Taiwan<br>Supplier: United States<br>SIPRI TIV: 0.0",
         "line": {
          "color": "red",
          "width": 0
         },
         "locationmode": "ISO-3",
         "locations": [
          "USA",
          "TWN"
         ],
         "mode": "lines",
         "type": "scattergeo"
        },
        {
         "hovertext": "Recipient: Taiwan<br>Supplier: United States<br>SIPRI TIV: 0.0",
         "line": {
          "color": "red",
          "width": 0
         },
         "locationmode": "ISO-3",
         "locations": [
          "USA",
          "TWN"
         ],
         "mode": "lines",
         "type": "scattergeo"
        },
        {
         "hovertext": "Recipient: Taiwan<br>Supplier: United States<br>SIPRI TIV: 0.0",
         "line": {
          "color": "red",
          "width": 0
         },
         "locationmode": "ISO-3",
         "locations": [
          "USA",
          "TWN"
         ],
         "mode": "lines",
         "type": "scattergeo"
        },
        {
         "hovertext": "Recipient: Taiwan<br>Supplier: United States<br>SIPRI TIV: 0.0",
         "line": {
          "color": "red",
          "width": 0
         },
         "locationmode": "ISO-3",
         "locations": [
          "USA",
          "TWN"
         ],
         "mode": "lines",
         "type": "scattergeo"
        },
        {
         "hovertext": "Recipient: Thailand<br>Supplier: Austria<br>SIPRI TIV: 0.0",
         "line": {
          "color": "red",
          "width": 0
         },
         "locationmode": "ISO-3",
         "locations": [
          "AUT",
          "THA"
         ],
         "mode": "lines",
         "type": "scattergeo"
        },
        {
         "hovertext": "Recipient: Thailand<br>Supplier: Israel<br>SIPRI TIV: 0.0",
         "line": {
          "color": "red",
          "width": 0
         },
         "locationmode": "ISO-3",
         "locations": [
          "ISR",
          "THA"
         ],
         "mode": "lines",
         "type": "scattergeo"
        },
        {
         "hovertext": "Recipient: Thailand<br>Supplier: South Korea<br>SIPRI TIV: 0.0",
         "line": {
          "color": "red",
          "width": 0
         },
         "locationmode": "ISO-3",
         "locations": [
          "KOR",
          "THA"
         ],
         "mode": "lines",
         "type": "scattergeo"
        },
        {
         "hovertext": "Recipient: Thailand<br>Supplier: United States<br>SIPRI TIV: 0.0",
         "line": {
          "color": "red",
          "width": 0
         },
         "locationmode": "ISO-3",
         "locations": [
          "USA",
          "THA"
         ],
         "mode": "lines",
         "type": "scattergeo"
        },
        {
         "hovertext": "Recipient: Thailand<br>Supplier: United States<br>SIPRI TIV: 0.0",
         "line": {
          "color": "red",
          "width": 0
         },
         "locationmode": "ISO-3",
         "locations": [
          "USA",
          "THA"
         ],
         "mode": "lines",
         "type": "scattergeo"
        },
        {
         "hovertext": "Recipient: Thailand<br>Supplier: United States<br>SIPRI TIV: 0.0",
         "line": {
          "color": "red",
          "width": 0
         },
         "locationmode": "ISO-3",
         "locations": [
          "USA",
          "THA"
         ],
         "mode": "lines",
         "type": "scattergeo"
        },
        {
         "hovertext": "Recipient: Uganda<br>Supplier: Austria<br>SIPRI TIV: 1.0",
         "line": {
          "color": "red",
          "width": 0.02
         },
         "locationmode": "ISO-3",
         "locations": [
          "AUT",
          "UGA"
         ],
         "mode": "lines",
         "type": "scattergeo"
        },
        {
         "hovertext": "Recipient: United Kingdom<br>Supplier: Germany<br>SIPRI TIV: 0.0",
         "line": {
          "color": "red",
          "width": 0
         },
         "locationmode": "ISO-3",
         "locations": [
          "DEU",
          "GBR"
         ],
         "mode": "lines",
         "type": "scattergeo"
        },
        {
         "hovertext": "Recipient: United Kingdom<br>Supplier: Netherlands<br>SIPRI TIV: 0.0",
         "line": {
          "color": "red",
          "width": 0
         },
         "locationmode": "ISO-3",
         "locations": [
          "NLD",
          "GBR"
         ],
         "mode": "lines",
         "type": "scattergeo"
        },
        {
         "hovertext": "Recipient: United Kingdom<br>Supplier: Norway<br>SIPRI TIV: 0.0",
         "line": {
          "color": "red",
          "width": 0
         },
         "locationmode": "ISO-3",
         "locations": [
          "NOR",
          "GBR"
         ],
         "mode": "lines",
         "type": "scattergeo"
        },
        {
         "hovertext": "Recipient: United Kingdom<br>Supplier: Norway<br>SIPRI TIV: 8.0",
         "line": {
          "color": "red",
          "width": 0.16
         },
         "locationmode": "ISO-3",
         "locations": [
          "NOR",
          "GBR"
         ],
         "mode": "lines",
         "type": "scattergeo"
        },
        {
         "hovertext": "Recipient: United Kingdom<br>Supplier: Sweden<br>SIPRI TIV: 0.0",
         "line": {
          "color": "red",
          "width": 0
         },
         "locationmode": "ISO-3",
         "locations": [
          "SWE",
          "GBR"
         ],
         "mode": "lines",
         "type": "scattergeo"
        },
        {
         "hovertext": "Recipient: United Kingdom<br>Supplier: Sweden<br>SIPRI TIV: 5.0",
         "line": {
          "color": "red",
          "width": 0.1
         },
         "locationmode": "ISO-3",
         "locations": [
          "SWE",
          "GBR"
         ],
         "mode": "lines",
         "type": "scattergeo"
        },
        {
         "hovertext": "Recipient: United Kingdom<br>Supplier: United States<br>SIPRI TIV: 57.6",
         "line": {
          "color": "red",
          "width": 1.1520000000000001
         },
         "locationmode": "ISO-3",
         "locations": [
          "USA",
          "GBR"
         ],
         "mode": "lines",
         "type": "scattergeo"
        },
        {
         "hovertext": "Recipient: United Kingdom<br>Supplier: United States<br>SIPRI TIV: 24.0",
         "line": {
          "color": "red",
          "width": 0.48
         },
         "locationmode": "ISO-3",
         "locations": [
          "USA",
          "GBR"
         ],
         "mode": "lines",
         "type": "scattergeo"
        },
        {
         "hovertext": "Recipient: Ukraine<br>Supplier: Australia<br>SIPRI TIV: 16.8",
         "line": {
          "color": "red",
          "width": 0.336
         },
         "locationmode": "ISO-3",
         "locations": [
          "AUS",
          "UKR"
         ],
         "mode": "lines",
         "type": "scattergeo"
        },
        {
         "hovertext": "Recipient: Ukraine<br>Supplier: Australia<br>SIPRI TIV: 2.4",
         "line": {
          "color": "red",
          "width": 0.048
         },
         "locationmode": "ISO-3",
         "locations": [
          "AUS",
          "UKR"
         ],
         "mode": "lines",
         "type": "scattergeo"
        },
        {
         "hovertext": "Recipient: Ukraine<br>Supplier: Australia<br>SIPRI TIV: 3.92",
         "line": {
          "color": "red",
          "width": 0.0784
         },
         "locationmode": "ISO-3",
         "locations": [
          "AUS",
          "UKR"
         ],
         "mode": "lines",
         "type": "scattergeo"
        },
        {
         "hovertext": "Recipient: Ukraine<br>Supplier: Belgium<br>SIPRI TIV: 2.4",
         "line": {
          "color": "red",
          "width": 0.048
         },
         "locationmode": "ISO-3",
         "locations": [
          "BEL",
          "UKR"
         ],
         "mode": "lines",
         "type": "scattergeo"
        },
        {
         "hovertext": "Recipient: Ukraine<br>Supplier: Belgium<br>SIPRI TIV: 12.32",
         "line": {
          "color": "red",
          "width": 0.2464
         },
         "locationmode": "ISO-3",
         "locations": [
          "BEL",
          "UKR"
         ],
         "mode": "lines",
         "type": "scattergeo"
        },
        {
         "hovertext": "Recipient: Ukraine<br>Supplier: Belgium<br>SIPRI TIV: 13.6",
         "line": {
          "color": "red",
          "width": 0.272
         },
         "locationmode": "ISO-3",
         "locations": [
          "BEL",
          "UKR"
         ],
         "mode": "lines",
         "type": "scattergeo"
        },
        {
         "hovertext": "Recipient: Ukraine<br>Supplier: Belgium<br>SIPRI TIV: 0.2",
         "line": {
          "color": "red",
          "width": 0.004
         },
         "locationmode": "ISO-3",
         "locations": [
          "BEL",
          "UKR"
         ],
         "mode": "lines",
         "type": "scattergeo"
        },
        {
         "hovertext": "Recipient: Ukraine<br>Supplier: Belgium<br>SIPRI TIV: 0.48",
         "line": {
          "color": "red",
          "width": 0.0096
         },
         "locationmode": "ISO-3",
         "locations": [
          "BEL",
          "UKR"
         ],
         "mode": "lines",
         "type": "scattergeo"
        },
        {
         "hovertext": "Recipient: Ukraine<br>Supplier: Canada<br>SIPRI TIV: 0.8",
         "line": {
          "color": "red",
          "width": 0.016
         },
         "locationmode": "ISO-3",
         "locations": [
          "CAN",
          "UKR"
         ],
         "mode": "lines",
         "type": "scattergeo"
        },
        {
         "hovertext": "Recipient: Ukraine<br>Supplier: Canada<br>SIPRI TIV: 1.76",
         "line": {
          "color": "red",
          "width": 0.0352
         },
         "locationmode": "ISO-3",
         "locations": [
          "CAN",
          "UKR"
         ],
         "mode": "lines",
         "type": "scattergeo"
        },
        {
         "hovertext": "Recipient: Ukraine<br>Supplier: Canada<br>SIPRI TIV: 12.8",
         "line": {
          "color": "red",
          "width": 0.256
         },
         "locationmode": "ISO-3",
         "locations": [
          "CAN",
          "UKR"
         ],
         "mode": "lines",
         "type": "scattergeo"
        },
        {
         "hovertext": "Recipient: Ukraine<br>Supplier: Canada<br>SIPRI TIV: 14.43",
         "line": {
          "color": "red",
          "width": 0.28859999999999997
         },
         "locationmode": "ISO-3",
         "locations": [
          "CAN",
          "UKR"
         ],
         "mode": "lines",
         "type": "scattergeo"
        },
        {
         "hovertext": "Recipient: Ukraine<br>Supplier: Canada<br>SIPRI TIV: 112.0",
         "line": {
          "color": "red",
          "width": 2.24
         },
         "locationmode": "ISO-3",
         "locations": [
          "CAN",
          "UKR"
         ],
         "mode": "lines",
         "type": "scattergeo"
        },
        {
         "hovertext": "Recipient: Ukraine<br>Supplier: Canada<br>SIPRI TIV: 29.12",
         "line": {
          "color": "red",
          "width": 0.5824
         },
         "locationmode": "ISO-3",
         "locations": [
          "CAN",
          "UKR"
         ],
         "mode": "lines",
         "type": "scattergeo"
        },
        {
         "hovertext": "Recipient: Ukraine<br>Supplier: Canada<br>SIPRI TIV: 1.3",
         "line": {
          "color": "red",
          "width": 0.026000000000000002
         },
         "locationmode": "ISO-3",
         "locations": [
          "CAN",
          "UKR"
         ],
         "mode": "lines",
         "type": "scattergeo"
        },
        {
         "hovertext": "Recipient: Ukraine<br>Supplier: Canada<br>SIPRI TIV: 1.6",
         "line": {
          "color": "red",
          "width": 0.032
         },
         "locationmode": "ISO-3",
         "locations": [
          "CAN",
          "UKR"
         ],
         "mode": "lines",
         "type": "scattergeo"
        },
        {
         "hovertext": "Recipient: Ukraine<br>Supplier: Croatia<br>SIPRI TIV: 3.9",
         "line": {
          "color": "red",
          "width": 0.078
         },
         "locationmode": "ISO-3",
         "locations": [
          "HRV",
          "UKR"
         ],
         "mode": "lines",
         "type": "scattergeo"
        },
        {
         "hovertext": "Recipient: Ukraine<br>Supplier: Croatia<br>SIPRI TIV: 31.9",
         "line": {
          "color": "red",
          "width": 0.638
         },
         "locationmode": "ISO-3",
         "locations": [
          "HRV",
          "UKR"
         ],
         "mode": "lines",
         "type": "scattergeo"
        },
        {
         "hovertext": "Recipient: Ukraine<br>Supplier: Croatia<br>SIPRI TIV: 7.2",
         "line": {
          "color": "red",
          "width": 0.14400000000000002
         },
         "locationmode": "ISO-3",
         "locations": [
          "HRV",
          "UKR"
         ],
         "mode": "lines",
         "type": "scattergeo"
        },
        {
         "hovertext": "Recipient: Ukraine<br>Supplier: Croatia<br>SIPRI TIV: 0.28",
         "line": {
          "color": "red",
          "width": 0.005600000000000001
         },
         "locationmode": "ISO-3",
         "locations": [
          "HRV",
          "UKR"
         ],
         "mode": "lines",
         "type": "scattergeo"
        },
        {
         "hovertext": "Recipient: Ukraine<br>Supplier: Czechia<br>SIPRI TIV: 2.88",
         "line": {
          "color": "red",
          "width": 0.0576
         },
         "locationmode": "ISO-3",
         "locations": [
          "CZE",
          "UKR"
         ],
         "mode": "lines",
         "type": "scattergeo"
        },
        {
         "hovertext": "Recipient: Ukraine<br>Supplier: Czechia<br>SIPRI TIV: 27.0",
         "line": {
          "color": "red",
          "width": 0.54
         },
         "locationmode": "ISO-3",
         "locations": [
          "CZE",
          "UKR"
         ],
         "mode": "lines",
         "type": "scattergeo"
        },
        {
         "hovertext": "Recipient: Ukraine<br>Supplier: Czechia<br>SIPRI TIV: 20.16",
         "line": {
          "color": "red",
          "width": 0.4032
         },
         "locationmode": "ISO-3",
         "locations": [
          "CZE",
          "UKR"
         ],
         "mode": "lines",
         "type": "scattergeo"
        },
        {
         "hovertext": "Recipient: Ukraine<br>Supplier: Czechia<br>SIPRI TIV: 17.16",
         "line": {
          "color": "red",
          "width": 0.3432
         },
         "locationmode": "ISO-3",
         "locations": [
          "CZE",
          "UKR"
         ],
         "mode": "lines",
         "type": "scattergeo"
        },
        {
         "hovertext": "Recipient: Ukraine<br>Supplier: Czechia<br>SIPRI TIV: 5.16",
         "line": {
          "color": "red",
          "width": 0.1032
         },
         "locationmode": "ISO-3",
         "locations": [
          "CZE",
          "UKR"
         ],
         "mode": "lines",
         "type": "scattergeo"
        },
        {
         "hovertext": "Recipient: Ukraine<br>Supplier: Czechia<br>SIPRI TIV: 13.6",
         "line": {
          "color": "red",
          "width": 0.272
         },
         "locationmode": "ISO-3",
         "locations": [
          "CZE",
          "UKR"
         ],
         "mode": "lines",
         "type": "scattergeo"
        },
        {
         "hovertext": "Recipient: Ukraine<br>Supplier: Czechia<br>SIPRI TIV: 1.4",
         "line": {
          "color": "red",
          "width": 0.027999999999999997
         },
         "locationmode": "ISO-3",
         "locations": [
          "CZE",
          "UKR"
         ],
         "mode": "lines",
         "type": "scattergeo"
        },
        {
         "hovertext": "Recipient: Ukraine<br>Supplier: Czechia<br>SIPRI TIV: 1.2",
         "line": {
          "color": "red",
          "width": 0.024
         },
         "locationmode": "ISO-3",
         "locations": [
          "CZE",
          "UKR"
         ],
         "mode": "lines",
         "type": "scattergeo"
        },
        {
         "hovertext": "Recipient: Ukraine<br>Supplier: Czechia<br>SIPRI TIV: 7.6",
         "line": {
          "color": "red",
          "width": 0.152
         },
         "locationmode": "ISO-3",
         "locations": [
          "CZE",
          "UKR"
         ],
         "mode": "lines",
         "type": "scattergeo"
        },
        {
         "hovertext": "Recipient: Ukraine<br>Supplier: Czechia<br>SIPRI TIV: 6.96",
         "line": {
          "color": "red",
          "width": 0.1392
         },
         "locationmode": "ISO-3",
         "locations": [
          "CZE",
          "UKR"
         ],
         "mode": "lines",
         "type": "scattergeo"
        },
        {
         "hovertext": "Recipient: Ukraine<br>Supplier: Czechia<br>SIPRI TIV: 13.2",
         "line": {
          "color": "red",
          "width": 0.264
         },
         "locationmode": "ISO-3",
         "locations": [
          "CZE",
          "UKR"
         ],
         "mode": "lines",
         "type": "scattergeo"
        },
        {
         "hovertext": "Recipient: Ukraine<br>Supplier: Czechia<br>SIPRI TIV: 34.32",
         "line": {
          "color": "red",
          "width": 0.6864
         },
         "locationmode": "ISO-3",
         "locations": [
          "CZE",
          "UKR"
         ],
         "mode": "lines",
         "type": "scattergeo"
        },
        {
         "hovertext": "Recipient: Ukraine<br>Supplier: Czechia<br>SIPRI TIV: 20.8",
         "line": {
          "color": "red",
          "width": 0.41600000000000004
         },
         "locationmode": "ISO-3",
         "locations": [
          "CZE",
          "UKR"
         ],
         "mode": "lines",
         "type": "scattergeo"
        },
        {
         "hovertext": "Recipient: Ukraine<br>Supplier: Czechia<br>SIPRI TIV: 1.72",
         "line": {
          "color": "red",
          "width": 0.0344
         },
         "locationmode": "ISO-3",
         "locations": [
          "CZE",
          "UKR"
         ],
         "mode": "lines",
         "type": "scattergeo"
        },
        {
         "hovertext": "Recipient: Ukraine<br>Supplier: Czechia<br>SIPRI TIV: 1.52",
         "line": {
          "color": "red",
          "width": 0.0304
         },
         "locationmode": "ISO-3",
         "locations": [
          "CZE",
          "UKR"
         ],
         "mode": "lines",
         "type": "scattergeo"
        },
        {
         "hovertext": "Recipient: Ukraine<br>Supplier: Czechia<br>SIPRI TIV: 0.8",
         "line": {
          "color": "red",
          "width": 0.016
         },
         "locationmode": "ISO-3",
         "locations": [
          "CZE",
          "UKR"
         ],
         "mode": "lines",
         "type": "scattergeo"
        },
        {
         "hovertext": "Recipient: Ukraine<br>Supplier: Denmark<br>SIPRI TIV: 8.0",
         "line": {
          "color": "red",
          "width": 0.16
         },
         "locationmode": "ISO-3",
         "locations": [
          "DNK",
          "UKR"
         ],
         "mode": "lines",
         "type": "scattergeo"
        },
        {
         "hovertext": "Recipient: Ukraine<br>Supplier: Denmark<br>SIPRI TIV: 4.0",
         "line": {
          "color": "red",
          "width": 0.08
         },
         "locationmode": "ISO-3",
         "locations": [
          "DNK",
          "UKR"
         ],
         "mode": "lines",
         "type": "scattergeo"
        },
        {
         "hovertext": "Recipient: Ukraine<br>Supplier: Denmark<br>SIPRI TIV: 2.0",
         "line": {
          "color": "red",
          "width": 0.04
         },
         "locationmode": "ISO-3",
         "locations": [
          "DNK",
          "UKR"
         ],
         "mode": "lines",
         "type": "scattergeo"
        },
        {
         "hovertext": "Recipient: Ukraine<br>Supplier: Denmark<br>SIPRI TIV: 6.48",
         "line": {
          "color": "red",
          "width": 0.12960000000000002
         },
         "locationmode": "ISO-3",
         "locations": [
          "DNK",
          "UKR"
         ],
         "mode": "lines",
         "type": "scattergeo"
        },
        {
         "hovertext": "Recipient: Ukraine<br>Supplier: Estonia<br>SIPRI TIV: 4.34",
         "line": {
          "color": "red",
          "width": 0.0868
         },
         "locationmode": "ISO-3",
         "locations": [
          "EST",
          "UKR"
         ],
         "mode": "lines",
         "type": "scattergeo"
        },
        {
         "hovertext": "Recipient: Ukraine<br>Supplier: Estonia<br>SIPRI TIV: 9.6",
         "line": {
          "color": "red",
          "width": 0.192
         },
         "locationmode": "ISO-3",
         "locations": [
          "EST",
          "UKR"
         ],
         "mode": "lines",
         "type": "scattergeo"
        },
        {
         "hovertext": "Recipient: Ukraine<br>Supplier: Estonia<br>SIPRI TIV: 3.0",
         "line": {
          "color": "red",
          "width": 0.06
         },
         "locationmode": "ISO-3",
         "locations": [
          "EST",
          "UKR"
         ],
         "mode": "lines",
         "type": "scattergeo"
        },
        {
         "hovertext": "Recipient: Ukraine<br>Supplier: Estonia<br>SIPRI TIV: 3.0",
         "line": {
          "color": "red",
          "width": 0.06
         },
         "locationmode": "ISO-3",
         "locations": [
          "EST",
          "UKR"
         ],
         "mode": "lines",
         "type": "scattergeo"
        },
        {
         "hovertext": "Recipient: Ukraine<br>Supplier: Estonia<br>SIPRI TIV: 0.42",
         "line": {
          "color": "red",
          "width": 0.0084
         },
         "locationmode": "ISO-3",
         "locations": [
          "EST",
          "UKR"
         ],
         "mode": "lines",
         "type": "scattergeo"
        },
        {
         "hovertext": "Recipient: Ukraine<br>Supplier: Estonia<br>SIPRI TIV: 0.2",
         "line": {
          "color": "red",
          "width": 0.004
         },
         "locationmode": "ISO-3",
         "locations": [
          "EST",
          "UKR"
         ],
         "mode": "lines",
         "type": "scattergeo"
        },
        {
         "hovertext": "Recipient: Ukraine<br>Supplier: Finland<br>SIPRI TIV: 0.6",
         "line": {
          "color": "red",
          "width": 0.012
         },
         "locationmode": "ISO-3",
         "locations": [
          "FIN",
          "UKR"
         ],
         "mode": "lines",
         "type": "scattergeo"
        },
        {
         "hovertext": "Recipient: Ukraine<br>Supplier: France<br>SIPRI TIV: 14.4",
         "line": {
          "color": "red",
          "width": 0.28800000000000003
         },
         "locationmode": "ISO-3",
         "locations": [
          "FRA",
          "UKR"
         ],
         "mode": "lines",
         "type": "scattergeo"
        },
        {
         "hovertext": "Recipient: Ukraine<br>Supplier: France<br>SIPRI TIV: 7.92",
         "line": {
          "color": "red",
          "width": 0.15839999999999999
         },
         "locationmode": "ISO-3",
         "locations": [
          "FRA",
          "UKR"
         ],
         "mode": "lines",
         "type": "scattergeo"
        },
        {
         "hovertext": "Recipient: Ukraine<br>Supplier: France<br>SIPRI TIV: 20.33",
         "line": {
          "color": "red",
          "width": 0.40659999999999996
         },
         "locationmode": "ISO-3",
         "locations": [
          "FRA",
          "UKR"
         ],
         "mode": "lines",
         "type": "scattergeo"
        },
        {
         "hovertext": "Recipient: Ukraine<br>Supplier: France<br>SIPRI TIV: 16.0",
         "line": {
          "color": "red",
          "width": 0.32
         },
         "locationmode": "ISO-3",
         "locations": [
          "FRA",
          "UKR"
         ],
         "mode": "lines",
         "type": "scattergeo"
        },
        {
         "hovertext": "Recipient: Ukraine<br>Supplier: France<br>SIPRI TIV: 0.6",
         "line": {
          "color": "red",
          "width": 0.012
         },
         "locationmode": "ISO-3",
         "locations": [
          "FRA",
          "UKR"
         ],
         "mode": "lines",
         "type": "scattergeo"
        },
        {
         "hovertext": "Recipient: Ukraine<br>Supplier: France<br>SIPRI TIV: 1.92",
         "line": {
          "color": "red",
          "width": 0.0384
         },
         "locationmode": "ISO-3",
         "locations": [
          "FRA",
          "UKR"
         ],
         "mode": "lines",
         "type": "scattergeo"
        },
        {
         "hovertext": "Recipient: Ukraine<br>Supplier: France<br>SIPRI TIV: 2.82",
         "line": {
          "color": "red",
          "width": 0.0564
         },
         "locationmode": "ISO-3",
         "locations": [
          "FRA",
          "UKR"
         ],
         "mode": "lines",
         "type": "scattergeo"
        },
        {
         "hovertext": "Recipient: Ukraine<br>Supplier: France<br>SIPRI TIV: 1.8",
         "line": {
          "color": "red",
          "width": 0.036000000000000004
         },
         "locationmode": "ISO-3",
         "locations": [
          "FRA",
          "UKR"
         ],
         "mode": "lines",
         "type": "scattergeo"
        },
        {
         "hovertext": "Recipient: Ukraine<br>Supplier: France<br>SIPRI TIV: 1.2",
         "line": {
          "color": "red",
          "width": 0.024
         },
         "locationmode": "ISO-3",
         "locations": [
          "FRA",
          "UKR"
         ],
         "mode": "lines",
         "type": "scattergeo"
        },
        {
         "hovertext": "Recipient: Ukraine<br>Supplier: France<br>SIPRI TIV: 22.0",
         "line": {
          "color": "red",
          "width": 0.44
         },
         "locationmode": "ISO-3",
         "locations": [
          "FRA",
          "UKR"
         ],
         "mode": "lines",
         "type": "scattergeo"
        },
        {
         "hovertext": "Recipient: Ukraine<br>Supplier: France<br>SIPRI TIV: 5.7",
         "line": {
          "color": "red",
          "width": 0.114
         },
         "locationmode": "ISO-3",
         "locations": [
          "FRA",
          "UKR"
         ],
         "mode": "lines",
         "type": "scattergeo"
        },
        {
         "hovertext": "Recipient: Ukraine<br>Supplier: France<br>SIPRI TIV: 7.2",
         "line": {
          "color": "red",
          "width": 0.14400000000000002
         },
         "locationmode": "ISO-3",
         "locations": [
          "FRA",
          "UKR"
         ],
         "mode": "lines",
         "type": "scattergeo"
        },
        {
         "hovertext": "Recipient: Ukraine<br>Supplier: France<br>SIPRI TIV: 6.0",
         "line": {
          "color": "red",
          "width": 0.12
         },
         "locationmode": "ISO-3",
         "locations": [
          "FRA",
          "UKR"
         ],
         "mode": "lines",
         "type": "scattergeo"
        },
        {
         "hovertext": "Recipient: Ukraine<br>Supplier: Germany<br>SIPRI TIV: 5.6",
         "line": {
          "color": "red",
          "width": 0.11199999999999999
         },
         "locationmode": "ISO-3",
         "locations": [
          "DEU",
          "UKR"
         ],
         "mode": "lines",
         "type": "scattergeo"
        },
        {
         "hovertext": "Recipient: Ukraine<br>Supplier: Germany<br>SIPRI TIV: 8.4",
         "line": {
          "color": "red",
          "width": 0.168
         },
         "locationmode": "ISO-3",
         "locations": [
          "DEU",
          "UKR"
         ],
         "mode": "lines",
         "type": "scattergeo"
        },
        {
         "hovertext": "Recipient: Ukraine<br>Supplier: Germany<br>SIPRI TIV: 1.8",
         "line": {
          "color": "red",
          "width": 0.036000000000000004
         },
         "locationmode": "ISO-3",
         "locations": [
          "DEU",
          "UKR"
         ],
         "mode": "lines",
         "type": "scattergeo"
        },
        {
         "hovertext": "Recipient: Ukraine<br>Supplier: Germany<br>SIPRI TIV: 4.0",
         "line": {
          "color": "red",
          "width": 0.08
         },
         "locationmode": "ISO-3",
         "locations": [
          "DEU",
          "UKR"
         ],
         "mode": "lines",
         "type": "scattergeo"
        },
        {
         "hovertext": "Recipient: Ukraine<br>Supplier: Germany<br>SIPRI TIV: 4.0",
         "line": {
          "color": "red",
          "width": 0.08
         },
         "locationmode": "ISO-3",
         "locations": [
          "DEU",
          "UKR"
         ],
         "mode": "lines",
         "type": "scattergeo"
        },
        {
         "hovertext": "Recipient: Ukraine<br>Supplier: Germany<br>SIPRI TIV: 7.0",
         "line": {
          "color": "red",
          "width": 0.14
         },
         "locationmode": "ISO-3",
         "locations": [
          "DEU",
          "UKR"
         ],
         "mode": "lines",
         "type": "scattergeo"
        },
        {
         "hovertext": "Recipient: Ukraine<br>Supplier: Germany<br>SIPRI TIV: 187.2",
         "line": {
          "color": "red",
          "width": 3.7439999999999998
         },
         "locationmode": "ISO-3",
         "locations": [
          "DEU",
          "UKR"
         ],
         "mode": "lines",
         "type": "scattergeo"
        },
        {
         "hovertext": "Recipient: Ukraine<br>Supplier: Germany<br>SIPRI TIV: 9.41",
         "line": {
          "color": "red",
          "width": 0.1882
         },
         "locationmode": "ISO-3",
         "locations": [
          "DEU",
          "UKR"
         ],
         "mode": "lines",
         "type": "scattergeo"
        },
        {
         "hovertext": "Recipient: Ukraine<br>Supplier: Germany<br>SIPRI TIV: 52.5",
         "line": {
          "color": "red",
          "width": 1.05
         },
         "locationmode": "ISO-3",
         "locations": [
          "DEU",
          "UKR"
         ],
         "mode": "lines",
         "type": "scattergeo"
        },
        {
         "hovertext": "Recipient: Ukraine<br>Supplier: Germany<br>SIPRI TIV: 200.0",
         "line": {
          "color": "red",
          "width": 4
         },
         "locationmode": "ISO-3",
         "locations": [
          "DEU",
          "UKR"
         ],
         "mode": "lines",
         "type": "scattergeo"
        },
        {
         "hovertext": "Recipient: Ukraine<br>Supplier: Germany<br>SIPRI TIV: 36.0",
         "line": {
          "color": "red",
          "width": 0.72
         },
         "locationmode": "ISO-3",
         "locations": [
          "DEU",
          "UKR"
         ],
         "mode": "lines",
         "type": "scattergeo"
        },
        {
         "hovertext": "Recipient: Ukraine<br>Supplier: Germany<br>SIPRI TIV: 2.4",
         "line": {
          "color": "red",
          "width": 0.048
         },
         "locationmode": "ISO-3",
         "locations": [
          "DEU",
          "UKR"
         ],
         "mode": "lines",
         "type": "scattergeo"
        },
        {
         "hovertext": "Recipient: Ukraine<br>Supplier: Germany<br>SIPRI TIV: 61.2",
         "line": {
          "color": "red",
          "width": 1.224
         },
         "locationmode": "ISO-3",
         "locations": [
          "DEU",
          "UKR"
         ],
         "mode": "lines",
         "type": "scattergeo"
        },
        {
         "hovertext": "Recipient: Ukraine<br>Supplier: Germany<br>SIPRI TIV: 70.0",
         "line": {
          "color": "red",
          "width": 1.4
         },
         "locationmode": "ISO-3",
         "locations": [
          "DEU",
          "UKR"
         ],
         "mode": "lines",
         "type": "scattergeo"
        },
        {
         "hovertext": "Recipient: Ukraine<br>Supplier: Germany<br>SIPRI TIV: 25.2",
         "line": {
          "color": "red",
          "width": 0.504
         },
         "locationmode": "ISO-3",
         "locations": [
          "DEU",
          "UKR"
         ],
         "mode": "lines",
         "type": "scattergeo"
        },
        {
         "hovertext": "Recipient: Ukraine<br>Supplier: Germany<br>SIPRI TIV: 0.0",
         "line": {
          "color": "red",
          "width": 0
         },
         "locationmode": "ISO-3",
         "locations": [
          "DEU",
          "UKR"
         ],
         "mode": "lines",
         "type": "scattergeo"
        },
        {
         "hovertext": "Recipient: Ukraine<br>Supplier: Germany<br>SIPRI TIV: 1.6",
         "line": {
          "color": "red",
          "width": 0.032
         },
         "locationmode": "ISO-3",
         "locations": [
          "DEU",
          "UKR"
         ],
         "mode": "lines",
         "type": "scattergeo"
        },
        {
         "hovertext": "Recipient: Ukraine<br>Supplier: Germany<br>SIPRI TIV: 16.0",
         "line": {
          "color": "red",
          "width": 0.32
         },
         "locationmode": "ISO-3",
         "locations": [
          "DEU",
          "UKR"
         ],
         "mode": "lines",
         "type": "scattergeo"
        },
        {
         "hovertext": "Recipient: Ukraine<br>Supplier: Germany<br>SIPRI TIV: 43.2",
         "line": {
          "color": "red",
          "width": 0.8640000000000001
         },
         "locationmode": "ISO-3",
         "locations": [
          "DEU",
          "UKR"
         ],
         "mode": "lines",
         "type": "scattergeo"
        },
        {
         "hovertext": "Recipient: Ukraine<br>Supplier: Germany<br>SIPRI TIV: 0.8",
         "line": {
          "color": "red",
          "width": 0.016
         },
         "locationmode": "ISO-3",
         "locations": [
          "DEU",
          "UKR"
         ],
         "mode": "lines",
         "type": "scattergeo"
        },
        {
         "hovertext": "Recipient: Ukraine<br>Supplier: Germany<br>SIPRI TIV: 10.2",
         "line": {
          "color": "red",
          "width": 0.204
         },
         "locationmode": "ISO-3",
         "locations": [
          "DEU",
          "UKR"
         ],
         "mode": "lines",
         "type": "scattergeo"
        },
        {
         "hovertext": "Recipient: Ukraine<br>Supplier: Greece<br>SIPRI TIV: 14.4",
         "line": {
          "color": "red",
          "width": 0.28800000000000003
         },
         "locationmode": "ISO-3",
         "locations": [
          "GRC",
          "UKR"
         ],
         "mode": "lines",
         "type": "scattergeo"
        },
        {
         "hovertext": "Recipient: Ukraine<br>Supplier: Italy<br>SIPRI TIV: 40.0",
         "line": {
          "color": "red",
          "width": 0.8
         },
         "locationmode": "ISO-3",
         "locations": [
          "ITA",
          "UKR"
         ],
         "mode": "lines",
         "type": "scattergeo"
        },
        {
         "hovertext": "Recipient: Ukraine<br>Supplier: Italy<br>SIPRI TIV: 4.0",
         "line": {
          "color": "red",
          "width": 0.08
         },
         "locationmode": "ISO-3",
         "locations": [
          "ITA",
          "UKR"
         ],
         "mode": "lines",
         "type": "scattergeo"
        },
        {
         "hovertext": "Recipient: Ukraine<br>Supplier: Italy<br>SIPRI TIV: 0.6",
         "line": {
          "color": "red",
          "width": 0.012
         },
         "locationmode": "ISO-3",
         "locations": [
          "ITA",
          "UKR"
         ],
         "mode": "lines",
         "type": "scattergeo"
        },
        {
         "hovertext": "Recipient: Ukraine<br>Supplier: Italy<br>SIPRI TIV: 26.4",
         "line": {
          "color": "red",
          "width": 0.528
         },
         "locationmode": "ISO-3",
         "locations": [
          "ITA",
          "UKR"
         ],
         "mode": "lines",
         "type": "scattergeo"
        },
        {
         "hovertext": "Recipient: Ukraine<br>Supplier: Italy<br>SIPRI TIV: 2.0",
         "line": {
          "color": "red",
          "width": 0.04
         },
         "locationmode": "ISO-3",
         "locations": [
          "ITA",
          "UKR"
         ],
         "mode": "lines",
         "type": "scattergeo"
        },
        {
         "hovertext": "Recipient: Ukraine<br>Supplier: Italy<br>SIPRI TIV: 0.96",
         "line": {
          "color": "red",
          "width": 0.0192
         },
         "locationmode": "ISO-3",
         "locations": [
          "ITA",
          "UKR"
         ],
         "mode": "lines",
         "type": "scattergeo"
        },
        {
         "hovertext": "Recipient: Ukraine<br>Supplier: Italy<br>SIPRI TIV: 3.3",
         "line": {
          "color": "red",
          "width": 0.066
         },
         "locationmode": "ISO-3",
         "locations": [
          "ITA",
          "UKR"
         ],
         "mode": "lines",
         "type": "scattergeo"
        },
        {
         "hovertext": "Recipient: Ukraine<br>Supplier: Italy<br>SIPRI TIV: 10.8",
         "line": {
          "color": "red",
          "width": 0.21600000000000003
         },
         "locationmode": "ISO-3",
         "locations": [
          "ITA",
          "UKR"
         ],
         "mode": "lines",
         "type": "scattergeo"
        },
        {
         "hovertext": "Recipient: Ukraine<br>Supplier: Italy<br>SIPRI TIV: 5.0",
         "line": {
          "color": "red",
          "width": 0.1
         },
         "locationmode": "ISO-3",
         "locations": [
          "ITA",
          "UKR"
         ],
         "mode": "lines",
         "type": "scattergeo"
        },
        {
         "hovertext": "Recipient: Ukraine<br>Supplier: South Korea<br>SIPRI TIV: 2.95",
         "line": {
          "color": "red",
          "width": 0.059000000000000004
         },
         "locationmode": "ISO-3",
         "locations": [
          "KOR",
          "UKR"
         ],
         "mode": "lines",
         "type": "scattergeo"
        },
        {
         "hovertext": "Recipient: Ukraine<br>Supplier: Latvia<br>SIPRI TIV: 3.0",
         "line": {
          "color": "red",
          "width": 0.06
         },
         "locationmode": "ISO-3",
         "locations": [
          "LVA",
          "UKR"
         ],
         "mode": "lines",
         "type": "scattergeo"
        },
        {
         "hovertext": "Recipient: Ukraine<br>Supplier: Latvia<br>SIPRI TIV: 11.6",
         "line": {
          "color": "red",
          "width": 0.23199999999999998
         },
         "locationmode": "ISO-3",
         "locations": [
          "LVA",
          "UKR"
         ],
         "mode": "lines",
         "type": "scattergeo"
        },
        {
         "hovertext": "Recipient: Ukraine<br>Supplier: Latvia<br>SIPRI TIV: 0.88",
         "line": {
          "color": "red",
          "width": 0.0176
         },
         "locationmode": "ISO-3",
         "locations": [
          "LVA",
          "UKR"
         ],
         "mode": "lines",
         "type": "scattergeo"
        },
        {
         "hovertext": "Recipient: Ukraine<br>Supplier: Latvia<br>SIPRI TIV: 0.5",
         "line": {
          "color": "red",
          "width": 0.01
         },
         "locationmode": "ISO-3",
         "locations": [
          "LVA",
          "UKR"
         ],
         "mode": "lines",
         "type": "scattergeo"
        },
        {
         "hovertext": "Recipient: Ukraine<br>Supplier: Latvia<br>SIPRI TIV: 0.38",
         "line": {
          "color": "red",
          "width": 0.0076
         },
         "locationmode": "ISO-3",
         "locations": [
          "LVA",
          "UKR"
         ],
         "mode": "lines",
         "type": "scattergeo"
        },
        {
         "hovertext": "Recipient: Ukraine<br>Supplier: Latvia<br>SIPRI TIV: 0.64",
         "line": {
          "color": "red",
          "width": 0.0128
         },
         "locationmode": "ISO-3",
         "locations": [
          "LVA",
          "UKR"
         ],
         "mode": "lines",
         "type": "scattergeo"
        },
        {
         "hovertext": "Recipient: Ukraine<br>Supplier: Lithuania<br>SIPRI TIV: 3.0",
         "line": {
          "color": "red",
          "width": 0.06
         },
         "locationmode": "ISO-3",
         "locations": [
          "LTU",
          "UKR"
         ],
         "mode": "lines",
         "type": "scattergeo"
        },
        {
         "hovertext": "Recipient: Ukraine<br>Supplier: Lithuania<br>SIPRI TIV: 3.24",
         "line": {
          "color": "red",
          "width": 0.06480000000000001
         },
         "locationmode": "ISO-3",
         "locations": [
          "LTU",
          "UKR"
         ],
         "mode": "lines",
         "type": "scattergeo"
        },
        {
         "hovertext": "Recipient: Ukraine<br>Supplier: Lithuania<br>SIPRI TIV: 7.2",
         "line": {
          "color": "red",
          "width": 0.14400000000000002
         },
         "locationmode": "ISO-3",
         "locations": [
          "LTU",
          "UKR"
         ],
         "mode": "lines",
         "type": "scattergeo"
        },
        {
         "hovertext": "Recipient: Ukraine<br>Supplier: Lithuania<br>SIPRI TIV: 5.8",
         "line": {
          "color": "red",
          "width": 0.11599999999999999
         },
         "locationmode": "ISO-3",
         "locations": [
          "LTU",
          "UKR"
         ],
         "mode": "lines",
         "type": "scattergeo"
        },
        {
         "hovertext": "Recipient: Ukraine<br>Supplier: Lithuania<br>SIPRI TIV: 0.8",
         "line": {
          "color": "red",
          "width": 0.016
         },
         "locationmode": "ISO-3",
         "locations": [
          "LTU",
          "UKR"
         ],
         "mode": "lines",
         "type": "scattergeo"
        },
        {
         "hovertext": "Recipient: Ukraine<br>Supplier: Luxembourg<br>SIPRI TIV: 0.4",
         "line": {
          "color": "red",
          "width": 0.008
         },
         "locationmode": "ISO-3",
         "locations": [
          "LUX",
          "UKR"
         ],
         "mode": "lines",
         "type": "scattergeo"
        },
        {
         "hovertext": "Recipient: Ukraine<br>Supplier: North Macedonia<br>SIPRI TIV: 18.4",
         "line": {
          "color": "red",
          "width": 0.368
         },
         "locationmode": "ISO-3",
         "locations": [
          "MKD",
          "UKR"
         ],
         "mode": "lines",
         "type": "scattergeo"
        },
        {
         "hovertext": "Recipient: Ukraine<br>Supplier: North Macedonia<br>SIPRI TIV: 31.2",
         "line": {
          "color": "red",
          "width": 0.624
         },
         "locationmode": "ISO-3",
         "locations": [
          "MKD",
          "UKR"
         ],
         "mode": "lines",
         "type": "scattergeo"
        },
        {
         "hovertext": "Recipient: Ukraine<br>Supplier: Morocco<br>SIPRI TIV: 93.6",
         "line": {
          "color": "red",
          "width": 1.8719999999999999
         },
         "locationmode": "ISO-3",
         "locations": [
          "MAR",
          "UKR"
         ],
         "mode": "lines",
         "type": "scattergeo"
        },
        {
         "hovertext": "Recipient: Ukraine<br>Supplier: Netherlands<br>SIPRI TIV: 27.12",
         "line": {
          "color": "red",
          "width": 0.5424
         },
         "locationmode": "ISO-3",
         "locations": [
          "NLD",
          "UKR"
         ],
         "mode": "lines",
         "type": "scattergeo"
        },
        {
         "hovertext": "Recipient: Ukraine<br>Supplier: Netherlands<br>SIPRI TIV: 2.4",
         "line": {
          "color": "red",
          "width": 0.048
         },
         "locationmode": "ISO-3",
         "locations": [
          "NLD",
          "UKR"
         ],
         "mode": "lines",
         "type": "scattergeo"
        },
        {
         "hovertext": "Recipient: Ukraine<br>Supplier: Netherlands<br>SIPRI TIV: 1.0",
         "line": {
          "color": "red",
          "width": 0.02
         },
         "locationmode": "ISO-3",
         "locations": [
          "NLD",
          "UKR"
         ],
         "mode": "lines",
         "type": "scattergeo"
        },
        {
         "hovertext": "Recipient: Ukraine<br>Supplier: Netherlands<br>SIPRI TIV: 4.0",
         "line": {
          "color": "red",
          "width": 0.08
         },
         "locationmode": "ISO-3",
         "locations": [
          "NLD",
          "UKR"
         ],
         "mode": "lines",
         "type": "scattergeo"
        },
        {
         "hovertext": "Recipient: Ukraine<br>Supplier: Netherlands<br>SIPRI TIV: 16.0",
         "line": {
          "color": "red",
          "width": 0.32
         },
         "locationmode": "ISO-3",
         "locations": [
          "NLD",
          "UKR"
         ],
         "mode": "lines",
         "type": "scattergeo"
        },
        {
         "hovertext": "Recipient: Ukraine<br>Supplier: Netherlands<br>SIPRI TIV: 1.2",
         "line": {
          "color": "red",
          "width": 0.024
         },
         "locationmode": "ISO-3",
         "locations": [
          "NLD",
          "UKR"
         ],
         "mode": "lines",
         "type": "scattergeo"
        },
        {
         "hovertext": "Recipient: Ukraine<br>Supplier: Netherlands<br>SIPRI TIV: 14.4",
         "line": {
          "color": "red",
          "width": 0.28800000000000003
         },
         "locationmode": "ISO-3",
         "locations": [
          "NLD",
          "UKR"
         ],
         "mode": "lines",
         "type": "scattergeo"
        },
        {
         "hovertext": "Recipient: Ukraine<br>Supplier: Netherlands<br>SIPRI TIV: 0.4",
         "line": {
          "color": "red",
          "width": 0.008
         },
         "locationmode": "ISO-3",
         "locations": [
          "NLD",
          "UKR"
         ],
         "mode": "lines",
         "type": "scattergeo"
        },
        {
         "hovertext": "Recipient: Ukraine<br>Supplier: Netherlands<br>SIPRI TIV: 6.4",
         "line": {
          "color": "red",
          "width": 0.128
         },
         "locationmode": "ISO-3",
         "locations": [
          "NLD",
          "UKR"
         ],
         "mode": "lines",
         "type": "scattergeo"
        },
        {
         "hovertext": "Recipient: Ukraine<br>Supplier: Netherlands<br>SIPRI TIV: 6.0",
         "line": {
          "color": "red",
          "width": 0.12
         },
         "locationmode": "ISO-3",
         "locations": [
          "NLD",
          "UKR"
         ],
         "mode": "lines",
         "type": "scattergeo"
        },
        {
         "hovertext": "Recipient: Ukraine<br>Supplier: Norway<br>SIPRI TIV: 2.56",
         "line": {
          "color": "red",
          "width": 0.0512
         },
         "locationmode": "ISO-3",
         "locations": [
          "NOR",
          "UKR"
         ],
         "mode": "lines",
         "type": "scattergeo"
        },
        {
         "hovertext": "Recipient: Ukraine<br>Supplier: Norway<br>SIPRI TIV: 12.8",
         "line": {
          "color": "red",
          "width": 0.256
         },
         "locationmode": "ISO-3",
         "locations": [
          "NOR",
          "UKR"
         ],
         "mode": "lines",
         "type": "scattergeo"
        },
        {
         "hovertext": "Recipient: Ukraine<br>Supplier: Norway<br>SIPRI TIV: 0.84",
         "line": {
          "color": "red",
          "width": 0.0168
         },
         "locationmode": "ISO-3",
         "locations": [
          "NOR",
          "UKR"
         ],
         "mode": "lines",
         "type": "scattergeo"
        },
        {
         "hovertext": "Recipient: Ukraine<br>Supplier: Norway<br>SIPRI TIV: 10.12",
         "line": {
          "color": "red",
          "width": 0.2024
         },
         "locationmode": "ISO-3",
         "locations": [
          "NOR",
          "UKR"
         ],
         "mode": "lines",
         "type": "scattergeo"
        },
        {
         "hovertext": "Recipient: Ukraine<br>Supplier: Norway<br>SIPRI TIV: 3.6",
         "line": {
          "color": "red",
          "width": 0.07200000000000001
         },
         "locationmode": "ISO-3",
         "locations": [
          "NOR",
          "UKR"
         ],
         "mode": "lines",
         "type": "scattergeo"
        },
        {
         "hovertext": "Recipient: Ukraine<br>Supplier: Norway<br>SIPRI TIV: 30.0",
         "line": {
          "color": "red",
          "width": 0.6
         },
         "locationmode": "ISO-3",
         "locations": [
          "NOR",
          "UKR"
         ],
         "mode": "lines",
         "type": "scattergeo"
        },
        {
         "hovertext": "Recipient: Ukraine<br>Supplier: Norway<br>SIPRI TIV: 0.0",
         "line": {
          "color": "red",
          "width": 0
         },
         "locationmode": "ISO-3",
         "locations": [
          "NOR",
          "UKR"
         ],
         "mode": "lines",
         "type": "scattergeo"
        },
        {
         "hovertext": "Recipient: Ukraine<br>Supplier: Poland<br>SIPRI TIV: 28.8",
         "line": {
          "color": "red",
          "width": 0.5760000000000001
         },
         "locationmode": "ISO-3",
         "locations": [
          "POL",
          "UKR"
         ],
         "mode": "lines",
         "type": "scattergeo"
        },
        {
         "hovertext": "Recipient: Ukraine<br>Supplier: Poland<br>SIPRI TIV: 32.4",
         "line": {
          "color": "red",
          "width": 0.648
         },
         "locationmode": "ISO-3",
         "locations": [
          "POL",
          "UKR"
         ],
         "mode": "lines",
         "type": "scattergeo"
        },
        {
         "hovertext": "Recipient: Ukraine<br>Supplier: Poland<br>SIPRI TIV: 0.0",
         "line": {
          "color": "red",
          "width": 0
         },
         "locationmode": "ISO-3",
         "locations": [
          "POL",
          "UKR"
         ],
         "mode": "lines",
         "type": "scattergeo"
        },
        {
         "hovertext": "Recipient: Ukraine<br>Supplier: Poland<br>SIPRI TIV: 22.4",
         "line": {
          "color": "red",
          "width": 0.44799999999999995
         },
         "locationmode": "ISO-3",
         "locations": [
          "POL",
          "UKR"
         ],
         "mode": "lines",
         "type": "scattergeo"
        },
        {
         "hovertext": "Recipient: Ukraine<br>Supplier: Poland<br>SIPRI TIV: 80.0",
         "line": {
          "color": "red",
          "width": 1.6
         },
         "locationmode": "ISO-3",
         "locations": [
          "POL",
          "UKR"
         ],
         "mode": "lines",
         "type": "scattergeo"
        },
        {
         "hovertext": "Recipient: Ukraine<br>Supplier: Poland<br>SIPRI TIV: 25.6",
         "line": {
          "color": "red",
          "width": 0.512
         },
         "locationmode": "ISO-3",
         "locations": [
          "POL",
          "UKR"
         ],
         "mode": "lines",
         "type": "scattergeo"
        },
        {
         "hovertext": "Recipient: Ukraine<br>Supplier: Poland<br>SIPRI TIV: 280.8",
         "line": {
          "color": "red",
          "width": 5.6160000000000005
         },
         "locationmode": "ISO-3",
         "locations": [
          "POL",
          "UKR"
         ],
         "mode": "lines",
         "type": "scattergeo"
        },
        {
         "hovertext": "Recipient: Ukraine<br>Supplier: Poland<br>SIPRI TIV: 9.0",
         "line": {
          "color": "red",
          "width": 0.18
         },
         "locationmode": "ISO-3",
         "locations": [
          "POL",
          "UKR"
         ],
         "mode": "lines",
         "type": "scattergeo"
        },
        {
         "hovertext": "Recipient: Ukraine<br>Supplier: Portugal<br>SIPRI TIV: 0.0",
         "line": {
          "color": "red",
          "width": 0
         },
         "locationmode": "ISO-3",
         "locations": [
          "PRT",
          "UKR"
         ],
         "mode": "lines",
         "type": "scattergeo"
        },
        {
         "hovertext": "Recipient: Ukraine<br>Supplier: Portugal<br>SIPRI TIV: 4.7",
         "line": {
          "color": "red",
          "width": 0.094
         },
         "locationmode": "ISO-3",
         "locations": [
          "PRT",
          "UKR"
         ],
         "mode": "lines",
         "type": "scattergeo"
        },
        {
         "hovertext": "Recipient: Ukraine<br>Supplier: Portugal<br>SIPRI TIV: 0.18",
         "line": {
          "color": "red",
          "width": 0.0036
         },
         "locationmode": "ISO-3",
         "locations": [
          "PRT",
          "UKR"
         ],
         "mode": "lines",
         "type": "scattergeo"
        },
        {
         "hovertext": "Recipient: Ukraine<br>Supplier: Romania<br>SIPRI TIV: 2.0",
         "line": {
          "color": "red",
          "width": 0.04
         },
         "locationmode": "ISO-3",
         "locations": [
          "ROU",
          "UKR"
         ],
         "mode": "lines",
         "type": "scattergeo"
        },
        {
         "hovertext": "Recipient: Ukraine<br>Supplier: Slovakia<br>SIPRI TIV: 18.0",
         "line": {
          "color": "red",
          "width": 0.36
         },
         "locationmode": "ISO-3",
         "locations": [
          "SVK",
          "UKR"
         ],
         "mode": "lines",
         "type": "scattergeo"
        },
        {
         "hovertext": "Recipient: Ukraine<br>Supplier: Slovakia<br>SIPRI TIV: 10.8",
         "line": {
          "color": "red",
          "width": 0.21600000000000003
         },
         "locationmode": "ISO-3",
         "locations": [
          "SVK",
          "UKR"
         ],
         "mode": "lines",
         "type": "scattergeo"
        },
        {
         "hovertext": "Recipient: Ukraine<br>Supplier: Slovakia<br>SIPRI TIV: 3.2",
         "line": {
          "color": "red",
          "width": 0.064
         },
         "locationmode": "ISO-3",
         "locations": [
          "SVK",
          "UKR"
         ],
         "mode": "lines",
         "type": "scattergeo"
        },
        {
         "hovertext": "Recipient: Ukraine<br>Supplier: Slovakia<br>SIPRI TIV: 11.6",
         "line": {
          "color": "red",
          "width": 0.23199999999999998
         },
         "locationmode": "ISO-3",
         "locations": [
          "SVK",
          "UKR"
         ],
         "mode": "lines",
         "type": "scattergeo"
        },
        {
         "hovertext": "Recipient: Ukraine<br>Supplier: Slovakia<br>SIPRI TIV: 0.44",
         "line": {
          "color": "red",
          "width": 0.0088
         },
         "locationmode": "ISO-3",
         "locations": [
          "SVK",
          "UKR"
         ],
         "mode": "lines",
         "type": "scattergeo"
        },
        {
         "hovertext": "Recipient: Ukraine<br>Supplier: Slovakia<br>SIPRI TIV: 18.0",
         "line": {
          "color": "red",
          "width": 0.36
         },
         "locationmode": "ISO-3",
         "locations": [
          "SVK",
          "UKR"
         ],
         "mode": "lines",
         "type": "scattergeo"
        },
        {
         "hovertext": "Recipient: Ukraine<br>Supplier: Slovakia<br>SIPRI TIV: 10.56",
         "line": {
          "color": "red",
          "width": 0.2112
         },
         "locationmode": "ISO-3",
         "locations": [
          "SVK",
          "UKR"
         ],
         "mode": "lines",
         "type": "scattergeo"
        },
        {
         "hovertext": "Recipient: Ukraine<br>Supplier: Slovakia<br>SIPRI TIV: 2.64",
         "line": {
          "color": "red",
          "width": 0.0528
         },
         "locationmode": "ISO-3",
         "locations": [
          "SVK",
          "UKR"
         ],
         "mode": "lines",
         "type": "scattergeo"
        },
        {
         "hovertext": "Recipient: Ukraine<br>Supplier: Slovenia<br>SIPRI TIV: 25.2",
         "line": {
          "color": "red",
          "width": 0.504
         },
         "locationmode": "ISO-3",
         "locations": [
          "SVN",
          "UKR"
         ],
         "mode": "lines",
         "type": "scattergeo"
        },
        {
         "hovertext": "Recipient: Ukraine<br>Supplier: Slovenia<br>SIPRI TIV: 12.6",
         "line": {
          "color": "red",
          "width": 0.252
         },
         "locationmode": "ISO-3",
         "locations": [
          "SVN",
          "UKR"
         ],
         "mode": "lines",
         "type": "scattergeo"
        },
        {
         "hovertext": "Recipient: Ukraine<br>Supplier: Spain<br>SIPRI TIV: 1.8",
         "line": {
          "color": "red",
          "width": 0.036000000000000004
         },
         "locationmode": "ISO-3",
         "locations": [
          "ESP",
          "UKR"
         ],
         "mode": "lines",
         "type": "scattergeo"
        },
        {
         "hovertext": "Recipient: Ukraine<br>Supplier: Spain<br>SIPRI TIV: 16.0",
         "line": {
          "color": "red",
          "width": 0.32
         },
         "locationmode": "ISO-3",
         "locations": [
          "ESP",
          "UKR"
         ],
         "mode": "lines",
         "type": "scattergeo"
        },
        {
         "hovertext": "Recipient: Ukraine<br>Supplier: Spain<br>SIPRI TIV: 6.0",
         "line": {
          "color": "red",
          "width": 0.12
         },
         "locationmode": "ISO-3",
         "locations": [
          "ESP",
          "UKR"
         ],
         "mode": "lines",
         "type": "scattergeo"
        },
        {
         "hovertext": "Recipient: Ukraine<br>Supplier: Spain<br>SIPRI TIV: 1.7",
         "line": {
          "color": "red",
          "width": 0.034
         },
         "locationmode": "ISO-3",
         "locations": [
          "ESP",
          "UKR"
         ],
         "mode": "lines",
         "type": "scattergeo"
        },
        {
         "hovertext": "Recipient: Ukraine<br>Supplier: Spain<br>SIPRI TIV: 1.44",
         "line": {
          "color": "red",
          "width": 0.0288
         },
         "locationmode": "ISO-3",
         "locations": [
          "ESP",
          "UKR"
         ],
         "mode": "lines",
         "type": "scattergeo"
        },
        {
         "hovertext": "Recipient: Ukraine<br>Supplier: Spain<br>SIPRI TIV: 0.07",
         "line": {
          "color": "red",
          "width": 0.0014000000000000002
         },
         "locationmode": "ISO-3",
         "locations": [
          "ESP",
          "UKR"
         ],
         "mode": "lines",
         "type": "scattergeo"
        },
        {
         "hovertext": "Recipient: Ukraine<br>Supplier: Spain<br>SIPRI TIV: 8.0",
         "line": {
          "color": "red",
          "width": 0.16
         },
         "locationmode": "ISO-3",
         "locations": [
          "ESP",
          "UKR"
         ],
         "mode": "lines",
         "type": "scattergeo"
        },
        {
         "hovertext": "Recipient: Ukraine<br>Supplier: Sweden<br>SIPRI TIV: 0.8",
         "line": {
          "color": "red",
          "width": 0.016
         },
         "locationmode": "ISO-3",
         "locations": [
          "SWE",
          "UKR"
         ],
         "mode": "lines",
         "type": "scattergeo"
        },
        {
         "hovertext": "Recipient: Ukraine<br>Supplier: United Kingdom<br>SIPRI TIV: 12.0",
         "line": {
          "color": "red",
          "width": 0.24
         },
         "locationmode": "ISO-3",
         "locations": [
          "GBR",
          "UKR"
         ],
         "mode": "lines",
         "type": "scattergeo"
        },
        {
         "hovertext": "Recipient: Ukraine<br>Supplier: United Kingdom<br>SIPRI TIV: 3.2",
         "line": {
          "color": "red",
          "width": 0.064
         },
         "locationmode": "ISO-3",
         "locations": [
          "GBR",
          "UKR"
         ],
         "mode": "lines",
         "type": "scattergeo"
        },
        {
         "hovertext": "Recipient: Ukraine<br>Supplier: United Kingdom<br>SIPRI TIV: 25.6",
         "line": {
          "color": "red",
          "width": 0.512
         },
         "locationmode": "ISO-3",
         "locations": [
          "GBR",
          "UKR"
         ],
         "mode": "lines",
         "type": "scattergeo"
        },
        {
         "hovertext": "Recipient: Ukraine<br>Supplier: United Kingdom<br>SIPRI TIV: 13.5",
         "line": {
          "color": "red",
          "width": 0.27
         },
         "locationmode": "ISO-3",
         "locations": [
          "GBR",
          "UKR"
         ],
         "mode": "lines",
         "type": "scattergeo"
        },
        {
         "hovertext": "Recipient: Ukraine<br>Supplier: United Kingdom<br>SIPRI TIV: 48.0",
         "line": {
          "color": "red",
          "width": 0.96
         },
         "locationmode": "ISO-3",
         "locations": [
          "GBR",
          "UKR"
         ],
         "mode": "lines",
         "type": "scattergeo"
        },
        {
         "hovertext": "Recipient: Ukraine<br>Supplier: United Kingdom<br>SIPRI TIV: 10.0",
         "line": {
          "color": "red",
          "width": 0.2
         },
         "locationmode": "ISO-3",
         "locations": [
          "GBR",
          "UKR"
         ],
         "mode": "lines",
         "type": "scattergeo"
        },
        {
         "hovertext": "Recipient: Ukraine<br>Supplier: United Kingdom<br>SIPRI TIV: 1.8",
         "line": {
          "color": "red",
          "width": 0.036000000000000004
         },
         "locationmode": "ISO-3",
         "locations": [
          "GBR",
          "UKR"
         ],
         "mode": "lines",
         "type": "scattergeo"
        },
        {
         "hovertext": "Recipient: Ukraine<br>Supplier: United Kingdom<br>SIPRI TIV: 23.8",
         "line": {
          "color": "red",
          "width": 0.47600000000000003
         },
         "locationmode": "ISO-3",
         "locations": [
          "GBR",
          "UKR"
         ],
         "mode": "lines",
         "type": "scattergeo"
        },
        {
         "hovertext": "Recipient: Ukraine<br>Supplier: United Kingdom<br>SIPRI TIV: 8.4",
         "line": {
          "color": "red",
          "width": 0.168
         },
         "locationmode": "ISO-3",
         "locations": [
          "GBR",
          "UKR"
         ],
         "mode": "lines",
         "type": "scattergeo"
        },
        {
         "hovertext": "Recipient: Ukraine<br>Supplier: United Kingdom<br>SIPRI TIV: 12.0",
         "line": {
          "color": "red",
          "width": 0.24
         },
         "locationmode": "ISO-3",
         "locations": [
          "GBR",
          "UKR"
         ],
         "mode": "lines",
         "type": "scattergeo"
        },
        {
         "hovertext": "Recipient: Ukraine<br>Supplier: United Kingdom<br>SIPRI TIV: 3.96",
         "line": {
          "color": "red",
          "width": 0.07919999999999999
         },
         "locationmode": "ISO-3",
         "locations": [
          "GBR",
          "UKR"
         ],
         "mode": "lines",
         "type": "scattergeo"
        },
        {
         "hovertext": "Recipient: Ukraine<br>Supplier: United Kingdom<br>SIPRI TIV: 26.24",
         "line": {
          "color": "red",
          "width": 0.5247999999999999
         },
         "locationmode": "ISO-3",
         "locations": [
          "GBR",
          "UKR"
         ],
         "mode": "lines",
         "type": "scattergeo"
        },
        {
         "hovertext": "Recipient: Ukraine<br>Supplier: United Kingdom<br>SIPRI TIV: 2.4",
         "line": {
          "color": "red",
          "width": 0.048
         },
         "locationmode": "ISO-3",
         "locations": [
          "GBR",
          "UKR"
         ],
         "mode": "lines",
         "type": "scattergeo"
        },
        {
         "hovertext": "Recipient: Ukraine<br>Supplier: United Kingdom<br>SIPRI TIV: 14.4",
         "line": {
          "color": "red",
          "width": 0.28800000000000003
         },
         "locationmode": "ISO-3",
         "locations": [
          "GBR",
          "UKR"
         ],
         "mode": "lines",
         "type": "scattergeo"
        },
        {
         "hovertext": "Recipient: Ukraine<br>Supplier: United Kingdom<br>SIPRI TIV: 30.0",
         "line": {
          "color": "red",
          "width": 0.6
         },
         "locationmode": "ISO-3",
         "locations": [
          "GBR",
          "UKR"
         ],
         "mode": "lines",
         "type": "scattergeo"
        },
        {
         "hovertext": "Recipient: Ukraine<br>Supplier: United Kingdom<br>SIPRI TIV: 2.88",
         "line": {
          "color": "red",
          "width": 0.0576
         },
         "locationmode": "ISO-3",
         "locations": [
          "GBR",
          "UKR"
         ],
         "mode": "lines",
         "type": "scattergeo"
        },
        {
         "hovertext": "Recipient: Ukraine<br>Supplier: United Kingdom<br>SIPRI TIV: 1.28",
         "line": {
          "color": "red",
          "width": 0.0256
         },
         "locationmode": "ISO-3",
         "locations": [
          "GBR",
          "UKR"
         ],
         "mode": "lines",
         "type": "scattergeo"
        },
        {
         "hovertext": "Recipient: Ukraine<br>Supplier: United Kingdom<br>SIPRI TIV: 27.6",
         "line": {
          "color": "red",
          "width": 0.552
         },
         "locationmode": "ISO-3",
         "locations": [
          "GBR",
          "UKR"
         ],
         "mode": "lines",
         "type": "scattergeo"
        },
        {
         "hovertext": "Recipient: Ukraine<br>Supplier: United Kingdom<br>SIPRI TIV: 0.64",
         "line": {
          "color": "red",
          "width": 0.0128
         },
         "locationmode": "ISO-3",
         "locations": [
          "GBR",
          "UKR"
         ],
         "mode": "lines",
         "type": "scattergeo"
        },
        {
         "hovertext": "Recipient: Ukraine<br>Supplier: United Kingdom<br>SIPRI TIV: 8.1",
         "line": {
          "color": "red",
          "width": 0.162
         },
         "locationmode": "ISO-3",
         "locations": [
          "GBR",
          "UKR"
         ],
         "mode": "lines",
         "type": "scattergeo"
        },
        {
         "hovertext": "Recipient: Ukraine<br>Supplier: United Kingdom<br>SIPRI TIV: 4.0",
         "line": {
          "color": "red",
          "width": 0.08
         },
         "locationmode": "ISO-3",
         "locations": [
          "GBR",
          "UKR"
         ],
         "mode": "lines",
         "type": "scattergeo"
        },
        {
         "hovertext": "Recipient: Ukraine<br>Supplier: United Kingdom<br>SIPRI TIV: 1.4",
         "line": {
          "color": "red",
          "width": 0.027999999999999997
         },
         "locationmode": "ISO-3",
         "locations": [
          "GBR",
          "UKR"
         ],
         "mode": "lines",
         "type": "scattergeo"
        },
        {
         "hovertext": "Recipient: Ukraine<br>Supplier: United Kingdom<br>SIPRI TIV: 8.5",
         "line": {
          "color": "red",
          "width": 0.17
         },
         "locationmode": "ISO-3",
         "locations": [
          "GBR",
          "UKR"
         ],
         "mode": "lines",
         "type": "scattergeo"
        },
        {
         "hovertext": "Recipient: Ukraine<br>Supplier: United Kingdom<br>SIPRI TIV: 1.6",
         "line": {
          "color": "red",
          "width": 0.032
         },
         "locationmode": "ISO-3",
         "locations": [
          "GBR",
          "UKR"
         ],
         "mode": "lines",
         "type": "scattergeo"
        },
        {
         "hovertext": "Recipient: Ukraine<br>Supplier: United Kingdom<br>SIPRI TIV: 64.8",
         "line": {
          "color": "red",
          "width": 1.296
         },
         "locationmode": "ISO-3",
         "locations": [
          "GBR",
          "UKR"
         ],
         "mode": "lines",
         "type": "scattergeo"
        },
        {
         "hovertext": "Recipient: Ukraine<br>Supplier: United Kingdom<br>SIPRI TIV: 4.8",
         "line": {
          "color": "red",
          "width": 0.096
         },
         "locationmode": "ISO-3",
         "locations": [
          "GBR",
          "UKR"
         ],
         "mode": "lines",
         "type": "scattergeo"
        },
        {
         "hovertext": "Recipient: Ukraine<br>Supplier: United States<br>SIPRI TIV: 11.0",
         "line": {
          "color": "red",
          "width": 0.22
         },
         "locationmode": "ISO-3",
         "locations": [
          "USA",
          "UKR"
         ],
         "mode": "lines",
         "type": "scattergeo"
        },
        {
         "hovertext": "Recipient: Ukraine<br>Supplier: United States<br>SIPRI TIV: 60.0",
         "line": {
          "color": "red",
          "width": 1.2
         },
         "locationmode": "ISO-3",
         "locations": [
          "USA",
          "UKR"
         ],
         "mode": "lines",
         "type": "scattergeo"
        },
        {
         "hovertext": "Recipient: Ukraine<br>Supplier: United States<br>SIPRI TIV: 48.0",
         "line": {
          "color": "red",
          "width": 0.96
         },
         "locationmode": "ISO-3",
         "locations": [
          "USA",
          "UKR"
         ],
         "mode": "lines",
         "type": "scattergeo"
        },
        {
         "hovertext": "Recipient: Ukraine<br>Supplier: United States<br>SIPRI TIV: 0.0",
         "line": {
          "color": "red",
          "width": 0
         },
         "locationmode": "ISO-3",
         "locations": [
          "USA",
          "UKR"
         ],
         "mode": "lines",
         "type": "scattergeo"
        },
        {
         "hovertext": "Recipient: Ukraine<br>Supplier: United States<br>SIPRI TIV: 28.8",
         "line": {
          "color": "red",
          "width": 0.5760000000000001
         },
         "locationmode": "ISO-3",
         "locations": [
          "USA",
          "UKR"
         ],
         "mode": "lines",
         "type": "scattergeo"
        },
        {
         "hovertext": "Recipient: Ukraine<br>Supplier: United States<br>SIPRI TIV: 3.0",
         "line": {
          "color": "red",
          "width": 0.06
         },
         "locationmode": "ISO-3",
         "locations": [
          "USA",
          "UKR"
         ],
         "mode": "lines",
         "type": "scattergeo"
        },
        {
         "hovertext": "Recipient: Ukraine<br>Supplier: United States<br>SIPRI TIV: 0.0",
         "line": {
          "color": "red",
          "width": 0
         },
         "locationmode": "ISO-3",
         "locations": [
          "USA",
          "UKR"
         ],
         "mode": "lines",
         "type": "scattergeo"
        },
        {
         "hovertext": "Recipient: Ukraine<br>Supplier: United States<br>SIPRI TIV: 3.02",
         "line": {
          "color": "red",
          "width": 0.0604
         },
         "locationmode": "ISO-3",
         "locations": [
          "USA",
          "UKR"
         ],
         "mode": "lines",
         "type": "scattergeo"
        },
        {
         "hovertext": "Recipient: Ukraine<br>Supplier: United States<br>SIPRI TIV: 16.0",
         "line": {
          "color": "red",
          "width": 0.32
         },
         "locationmode": "ISO-3",
         "locations": [
          "USA",
          "UKR"
         ],
         "mode": "lines",
         "type": "scattergeo"
        },
        {
         "hovertext": "Recipient: Ukraine<br>Supplier: United States<br>SIPRI TIV: 5.18",
         "line": {
          "color": "red",
          "width": 0.1036
         },
         "locationmode": "ISO-3",
         "locations": [
          "USA",
          "UKR"
         ],
         "mode": "lines",
         "type": "scattergeo"
        },
        {
         "hovertext": "Recipient: Ukraine<br>Supplier: United States<br>SIPRI TIV: 112.0",
         "line": {
          "color": "red",
          "width": 2.24
         },
         "locationmode": "ISO-3",
         "locations": [
          "USA",
          "UKR"
         ],
         "mode": "lines",
         "type": "scattergeo"
        },
        {
         "hovertext": "Recipient: Ukraine<br>Supplier: United States<br>SIPRI TIV: 7.2",
         "line": {
          "color": "red",
          "width": 0.14400000000000002
         },
         "locationmode": "ISO-3",
         "locations": [
          "USA",
          "UKR"
         ],
         "mode": "lines",
         "type": "scattergeo"
        },
        {
         "hovertext": "Recipient: Ukraine<br>Supplier: United States<br>SIPRI TIV: 624.0",
         "line": {
          "color": "red",
          "width": 12.48
         },
         "locationmode": "ISO-3",
         "locations": [
          "USA",
          "UKR"
         ],
         "mode": "lines",
         "type": "scattergeo"
        },
        {
         "hovertext": "Recipient: Ukraine<br>Supplier: United States<br>SIPRI TIV: 8.8",
         "line": {
          "color": "red",
          "width": 0.17600000000000002
         },
         "locationmode": "ISO-3",
         "locations": [
          "USA",
          "UKR"
         ],
         "mode": "lines",
         "type": "scattergeo"
        },
        {
         "hovertext": "Recipient: Ukraine<br>Supplier: United States<br>SIPRI TIV: 8.36",
         "line": {
          "color": "red",
          "width": 0.1672
         },
         "locationmode": "ISO-3",
         "locations": [
          "USA",
          "UKR"
         ],
         "mode": "lines",
         "type": "scattergeo"
        },
        {
         "hovertext": "Recipient: Ukraine<br>Supplier: United States<br>SIPRI TIV: 23.4",
         "line": {
          "color": "red",
          "width": 0.46799999999999997
         },
         "locationmode": "ISO-3",
         "locations": [
          "USA",
          "UKR"
         ],
         "mode": "lines",
         "type": "scattergeo"
        },
        {
         "hovertext": "Recipient: Ukraine<br>Supplier: United States<br>SIPRI TIV: 19.5",
         "line": {
          "color": "red",
          "width": 0.39
         },
         "locationmode": "ISO-3",
         "locations": [
          "USA",
          "UKR"
         ],
         "mode": "lines",
         "type": "scattergeo"
        },
        {
         "hovertext": "Recipient: Ukraine<br>Supplier: United States<br>SIPRI TIV: 156.0",
         "line": {
          "color": "red",
          "width": 3.12
         },
         "locationmode": "ISO-3",
         "locations": [
          "USA",
          "UKR"
         ],
         "mode": "lines",
         "type": "scattergeo"
        },
        {
         "hovertext": "Recipient: Ukraine<br>Supplier: United States<br>SIPRI TIV: 3.0",
         "line": {
          "color": "red",
          "width": 0.06
         },
         "locationmode": "ISO-3",
         "locations": [
          "USA",
          "UKR"
         ],
         "mode": "lines",
         "type": "scattergeo"
        },
        {
         "hovertext": "Recipient: Ukraine<br>Supplier: United States<br>SIPRI TIV: 17.28",
         "line": {
          "color": "red",
          "width": 0.3456
         },
         "locationmode": "ISO-3",
         "locations": [
          "USA",
          "UKR"
         ],
         "mode": "lines",
         "type": "scattergeo"
        },
        {
         "hovertext": "Recipient: Ukraine<br>Supplier: United States<br>SIPRI TIV: 9.72",
         "line": {
          "color": "red",
          "width": 0.19440000000000002
         },
         "locationmode": "ISO-3",
         "locations": [
          "USA",
          "UKR"
         ],
         "mode": "lines",
         "type": "scattergeo"
        },
        {
         "hovertext": "Recipient: Ukraine<br>Supplier: United States<br>SIPRI TIV: 48.0",
         "line": {
          "color": "red",
          "width": 0.96
         },
         "locationmode": "ISO-3",
         "locations": [
          "USA",
          "UKR"
         ],
         "mode": "lines",
         "type": "scattergeo"
        },
        {
         "hovertext": "Recipient: Ukraine<br>Supplier: United States<br>SIPRI TIV: 49.6",
         "line": {
          "color": "red",
          "width": 0.992
         },
         "locationmode": "ISO-3",
         "locations": [
          "USA",
          "UKR"
         ],
         "mode": "lines",
         "type": "scattergeo"
        },
        {
         "hovertext": "Recipient: Ukraine<br>Supplier: United States<br>SIPRI TIV: 133.92",
         "line": {
          "color": "red",
          "width": 2.6784
         },
         "locationmode": "ISO-3",
         "locations": [
          "USA",
          "UKR"
         ],
         "mode": "lines",
         "type": "scattergeo"
        },
        {
         "hovertext": "Recipient: Ukraine<br>Supplier: United States<br>SIPRI TIV: 56.32",
         "line": {
          "color": "red",
          "width": 1.1264
         },
         "locationmode": "ISO-3",
         "locations": [
          "USA",
          "UKR"
         ],
         "mode": "lines",
         "type": "scattergeo"
        },
        {
         "hovertext": "Recipient: Ukraine<br>Supplier: United States<br>SIPRI TIV: 29.95",
         "line": {
          "color": "red",
          "width": 0.599
         },
         "locationmode": "ISO-3",
         "locations": [
          "USA",
          "UKR"
         ],
         "mode": "lines",
         "type": "scattergeo"
        },
        {
         "hovertext": "Recipient: Ukraine<br>Supplier: United States<br>SIPRI TIV: 58.0",
         "line": {
          "color": "red",
          "width": 1.16
         },
         "locationmode": "ISO-3",
         "locations": [
          "USA",
          "UKR"
         ],
         "mode": "lines",
         "type": "scattergeo"
        },
        {
         "hovertext": "Recipient: Ukraine<br>Supplier: United States<br>SIPRI TIV: 6.8",
         "line": {
          "color": "red",
          "width": 0.136
         },
         "locationmode": "ISO-3",
         "locations": [
          "USA",
          "UKR"
         ],
         "mode": "lines",
         "type": "scattergeo"
        },
        {
         "hovertext": "Recipient: Ukraine<br>Supplier: United States<br>SIPRI TIV: 65.0",
         "line": {
          "color": "red",
          "width": 1.3
         },
         "locationmode": "ISO-3",
         "locations": [
          "USA",
          "UKR"
         ],
         "mode": "lines",
         "type": "scattergeo"
        },
        {
         "hovertext": "Recipient: Ukraine<br>Supplier: United States<br>SIPRI TIV: 8.0",
         "line": {
          "color": "red",
          "width": 0.16
         },
         "locationmode": "ISO-3",
         "locations": [
          "USA",
          "UKR"
         ],
         "mode": "lines",
         "type": "scattergeo"
        },
        {
         "hovertext": "Recipient: Ukraine<br>Supplier: United States<br>SIPRI TIV: 20.0",
         "line": {
          "color": "red",
          "width": 0.4
         },
         "locationmode": "ISO-3",
         "locations": [
          "USA",
          "UKR"
         ],
         "mode": "lines",
         "type": "scattergeo"
        },
        {
         "hovertext": "Recipient: Ukraine<br>Supplier: United States<br>SIPRI TIV: 22.0",
         "line": {
          "color": "red",
          "width": 0.44
         },
         "locationmode": "ISO-3",
         "locations": [
          "USA",
          "UKR"
         ],
         "mode": "lines",
         "type": "scattergeo"
        },
        {
         "hovertext": "Recipient: Ukraine<br>Supplier: United States<br>SIPRI TIV: 270.0",
         "line": {
          "color": "red",
          "width": 5.4
         },
         "locationmode": "ISO-3",
         "locations": [
          "USA",
          "UKR"
         ],
         "mode": "lines",
         "type": "scattergeo"
        },
        {
         "hovertext": "Recipient: Ukraine<br>Supplier: United States<br>SIPRI TIV: 26.46",
         "line": {
          "color": "red",
          "width": 0.5292
         },
         "locationmode": "ISO-3",
         "locations": [
          "USA",
          "UKR"
         ],
         "mode": "lines",
         "type": "scattergeo"
        },
        {
         "hovertext": "Recipient: Ukraine<br>Supplier: United States<br>SIPRI TIV: 0.48",
         "line": {
          "color": "red",
          "width": 0.0096
         },
         "locationmode": "ISO-3",
         "locations": [
          "USA",
          "UKR"
         ],
         "mode": "lines",
         "type": "scattergeo"
        },
        {
         "hovertext": "Recipient: Ukraine<br>Supplier: United States<br>SIPRI TIV: 65.6",
         "line": {
          "color": "red",
          "width": 1.3119999999999998
         },
         "locationmode": "ISO-3",
         "locations": [
          "USA",
          "UKR"
         ],
         "mode": "lines",
         "type": "scattergeo"
        },
        {
         "hovertext": "Recipient: Ukraine<br>Supplier: United States<br>SIPRI TIV: 150.0",
         "line": {
          "color": "red",
          "width": 3
         },
         "locationmode": "ISO-3",
         "locations": [
          "USA",
          "UKR"
         ],
         "mode": "lines",
         "type": "scattergeo"
        },
        {
         "hovertext": "Recipient: Ukraine<br>Supplier: United States<br>SIPRI TIV: 42.0",
         "line": {
          "color": "red",
          "width": 0.84
         },
         "locationmode": "ISO-3",
         "locations": [
          "USA",
          "UKR"
         ],
         "mode": "lines",
         "type": "scattergeo"
        },
        {
         "hovertext": "Recipient: Ukraine<br>Supplier: United States<br>SIPRI TIV: 22.8",
         "line": {
          "color": "red",
          "width": 0.456
         },
         "locationmode": "ISO-3",
         "locations": [
          "USA",
          "UKR"
         ],
         "mode": "lines",
         "type": "scattergeo"
        },
        {
         "hovertext": "Recipient: Ukraine<br>Supplier: United States<br>SIPRI TIV: 72.0",
         "line": {
          "color": "red",
          "width": 1.44
         },
         "locationmode": "ISO-3",
         "locations": [
          "USA",
          "UKR"
         ],
         "mode": "lines",
         "type": "scattergeo"
        },
        {
         "hovertext": "Recipient: Ukraine<br>Supplier: United States<br>SIPRI TIV: 56.8",
         "line": {
          "color": "red",
          "width": 1.136
         },
         "locationmode": "ISO-3",
         "locations": [
          "USA",
          "UKR"
         ],
         "mode": "lines",
         "type": "scattergeo"
        },
        {
         "hovertext": "Recipient: Ukraine<br>Supplier: United States<br>SIPRI TIV: 0.55",
         "line": {
          "color": "red",
          "width": 0.011000000000000001
         },
         "locationmode": "ISO-3",
         "locations": [
          "USA",
          "UKR"
         ],
         "mode": "lines",
         "type": "scattergeo"
        },
        {
         "hovertext": "Recipient: Ukraine<br>Supplier: United States<br>SIPRI TIV: 3.12",
         "line": {
          "color": "red",
          "width": 0.062400000000000004
         },
         "locationmode": "ISO-3",
         "locations": [
          "USA",
          "UKR"
         ],
         "mode": "lines",
         "type": "scattergeo"
        },
        {
         "hovertext": "Recipient: Uruguay<br>Supplier: South Korea<br>SIPRI TIV: 4.8",
         "line": {
          "color": "red",
          "width": 0.096
         },
         "locationmode": "ISO-3",
         "locations": [
          "KOR",
          "URY"
         ],
         "mode": "lines",
         "type": "scattergeo"
        },
        {
         "hovertext": "Recipient: United States<br>Supplier: Canada<br>SIPRI TIV: 0.0",
         "line": {
          "color": "red",
          "width": 0
         },
         "locationmode": "ISO-3",
         "locations": [
          "CAN",
          "USA"
         ],
         "mode": "lines",
         "type": "scattergeo"
        },
        {
         "hovertext": "Recipient: United States<br>Supplier: France<br>SIPRI TIV: 0.0",
         "line": {
          "color": "red",
          "width": 0
         },
         "locationmode": "ISO-3",
         "locations": [
          "FRA",
          "USA"
         ],
         "mode": "lines",
         "type": "scattergeo"
        },
        {
         "hovertext": "Recipient: United States<br>Supplier: Germany<br>SIPRI TIV: 0.0",
         "line": {
          "color": "red",
          "width": 0
         },
         "locationmode": "ISO-3",
         "locations": [
          "DEU",
          "USA"
         ],
         "mode": "lines",
         "type": "scattergeo"
        },
        {
         "hovertext": "Recipient: United States<br>Supplier: Latvia<br>SIPRI TIV: 0.0",
         "line": {
          "color": "red",
          "width": 0
         },
         "locationmode": "ISO-3",
         "locations": [
          "LVA",
          "USA"
         ],
         "mode": "lines",
         "type": "scattergeo"
        },
        {
         "hovertext": "Recipient: United States<br>Supplier: Norway<br>SIPRI TIV: 0.0",
         "line": {
          "color": "red",
          "width": 0
         },
         "locationmode": "ISO-3",
         "locations": [
          "NOR",
          "USA"
         ],
         "mode": "lines",
         "type": "scattergeo"
        },
        {
         "hovertext": "Recipient: Venezuela<br>Supplier: Iran<br>SIPRI TIV: 6.25",
         "line": {
          "color": "red",
          "width": 0.125
         },
         "locationmode": "ISO-3",
         "locations": [
          "IRN",
          "VEN"
         ],
         "mode": "lines",
         "type": "scattergeo"
        },
        {
         "hovertext": "Recipient: Venezuela<br>Supplier: Iran<br>SIPRI TIV: 45.0",
         "line": {
          "color": "red",
          "width": 0.9
         },
         "locationmode": "ISO-3",
         "locations": [
          "IRN",
          "VEN"
         ],
         "mode": "lines",
         "type": "scattergeo"
        },
        {
         "hovertext": "Recipient: Viet Nam<br>Supplier: United States<br>SIPRI TIV: 0.0",
         "line": {
          "color": "red",
          "width": 0
         },
         "locationmode": "ISO-3",
         "locations": [
          "USA",
          "VNM"
         ],
         "mode": "lines",
         "type": "scattergeo"
        }
       ],
       "layout": {
        "geo": {
         "projection": {
          "type": "orthographic"
         }
        },
        "margin": {
         "b": 0,
         "l": 0,
         "pad": 0,
         "r": 0,
         "t": 0
        },
        "showlegend": false,
        "template": {
         "data": {
          "bar": [
           {
            "error_x": {
             "color": "#f2f5fa"
            },
            "error_y": {
             "color": "#f2f5fa"
            },
            "marker": {
             "line": {
              "color": "rgb(17,17,17)",
              "width": 0.5
             },
             "pattern": {
              "fillmode": "overlay",
              "size": 10,
              "solidity": 0.2
             }
            },
            "type": "bar"
           }
          ],
          "barpolar": [
           {
            "marker": {
             "line": {
              "color": "rgb(17,17,17)",
              "width": 0.5
             },
             "pattern": {
              "fillmode": "overlay",
              "size": 10,
              "solidity": 0.2
             }
            },
            "type": "barpolar"
           }
          ],
          "carpet": [
           {
            "aaxis": {
             "endlinecolor": "#A2B1C6",
             "gridcolor": "#506784",
             "linecolor": "#506784",
             "minorgridcolor": "#506784",
             "startlinecolor": "#A2B1C6"
            },
            "baxis": {
             "endlinecolor": "#A2B1C6",
             "gridcolor": "#506784",
             "linecolor": "#506784",
             "minorgridcolor": "#506784",
             "startlinecolor": "#A2B1C6"
            },
            "type": "carpet"
           }
          ],
          "choropleth": [
           {
            "colorbar": {
             "outlinewidth": 0,
             "ticks": ""
            },
            "type": "choropleth"
           }
          ],
          "contour": [
           {
            "colorbar": {
             "outlinewidth": 0,
             "ticks": ""
            },
            "colorscale": [
             [
              0,
              "#0d0887"
             ],
             [
              0.1111111111111111,
              "#46039f"
             ],
             [
              0.2222222222222222,
              "#7201a8"
             ],
             [
              0.3333333333333333,
              "#9c179e"
             ],
             [
              0.4444444444444444,
              "#bd3786"
             ],
             [
              0.5555555555555556,
              "#d8576b"
             ],
             [
              0.6666666666666666,
              "#ed7953"
             ],
             [
              0.7777777777777778,
              "#fb9f3a"
             ],
             [
              0.8888888888888888,
              "#fdca26"
             ],
             [
              1,
              "#f0f921"
             ]
            ],
            "type": "contour"
           }
          ],
          "contourcarpet": [
           {
            "colorbar": {
             "outlinewidth": 0,
             "ticks": ""
            },
            "type": "contourcarpet"
           }
          ],
          "heatmap": [
           {
            "colorbar": {
             "outlinewidth": 0,
             "ticks": ""
            },
            "colorscale": [
             [
              0,
              "#0d0887"
             ],
             [
              0.1111111111111111,
              "#46039f"
             ],
             [
              0.2222222222222222,
              "#7201a8"
             ],
             [
              0.3333333333333333,
              "#9c179e"
             ],
             [
              0.4444444444444444,
              "#bd3786"
             ],
             [
              0.5555555555555556,
              "#d8576b"
             ],
             [
              0.6666666666666666,
              "#ed7953"
             ],
             [
              0.7777777777777778,
              "#fb9f3a"
             ],
             [
              0.8888888888888888,
              "#fdca26"
             ],
             [
              1,
              "#f0f921"
             ]
            ],
            "type": "heatmap"
           }
          ],
          "heatmapgl": [
           {
            "colorbar": {
             "outlinewidth": 0,
             "ticks": ""
            },
            "colorscale": [
             [
              0,
              "#0d0887"
             ],
             [
              0.1111111111111111,
              "#46039f"
             ],
             [
              0.2222222222222222,
              "#7201a8"
             ],
             [
              0.3333333333333333,
              "#9c179e"
             ],
             [
              0.4444444444444444,
              "#bd3786"
             ],
             [
              0.5555555555555556,
              "#d8576b"
             ],
             [
              0.6666666666666666,
              "#ed7953"
             ],
             [
              0.7777777777777778,
              "#fb9f3a"
             ],
             [
              0.8888888888888888,
              "#fdca26"
             ],
             [
              1,
              "#f0f921"
             ]
            ],
            "type": "heatmapgl"
           }
          ],
          "histogram": [
           {
            "marker": {
             "pattern": {
              "fillmode": "overlay",
              "size": 10,
              "solidity": 0.2
             }
            },
            "type": "histogram"
           }
          ],
          "histogram2d": [
           {
            "colorbar": {
             "outlinewidth": 0,
             "ticks": ""
            },
            "colorscale": [
             [
              0,
              "#0d0887"
             ],
             [
              0.1111111111111111,
              "#46039f"
             ],
             [
              0.2222222222222222,
              "#7201a8"
             ],
             [
              0.3333333333333333,
              "#9c179e"
             ],
             [
              0.4444444444444444,
              "#bd3786"
             ],
             [
              0.5555555555555556,
              "#d8576b"
             ],
             [
              0.6666666666666666,
              "#ed7953"
             ],
             [
              0.7777777777777778,
              "#fb9f3a"
             ],
             [
              0.8888888888888888,
              "#fdca26"
             ],
             [
              1,
              "#f0f921"
             ]
            ],
            "type": "histogram2d"
           }
          ],
          "histogram2dcontour": [
           {
            "colorbar": {
             "outlinewidth": 0,
             "ticks": ""
            },
            "colorscale": [
             [
              0,
              "#0d0887"
             ],
             [
              0.1111111111111111,
              "#46039f"
             ],
             [
              0.2222222222222222,
              "#7201a8"
             ],
             [
              0.3333333333333333,
              "#9c179e"
             ],
             [
              0.4444444444444444,
              "#bd3786"
             ],
             [
              0.5555555555555556,
              "#d8576b"
             ],
             [
              0.6666666666666666,
              "#ed7953"
             ],
             [
              0.7777777777777778,
              "#fb9f3a"
             ],
             [
              0.8888888888888888,
              "#fdca26"
             ],
             [
              1,
              "#f0f921"
             ]
            ],
            "type": "histogram2dcontour"
           }
          ],
          "mesh3d": [
           {
            "colorbar": {
             "outlinewidth": 0,
             "ticks": ""
            },
            "type": "mesh3d"
           }
          ],
          "parcoords": [
           {
            "line": {
             "colorbar": {
              "outlinewidth": 0,
              "ticks": ""
             }
            },
            "type": "parcoords"
           }
          ],
          "pie": [
           {
            "automargin": true,
            "type": "pie"
           }
          ],
          "scatter": [
           {
            "marker": {
             "line": {
              "color": "#283442"
             }
            },
            "type": "scatter"
           }
          ],
          "scatter3d": [
           {
            "line": {
             "colorbar": {
              "outlinewidth": 0,
              "ticks": ""
             }
            },
            "marker": {
             "colorbar": {
              "outlinewidth": 0,
              "ticks": ""
             }
            },
            "type": "scatter3d"
           }
          ],
          "scattercarpet": [
           {
            "marker": {
             "colorbar": {
              "outlinewidth": 0,
              "ticks": ""
             }
            },
            "type": "scattercarpet"
           }
          ],
          "scattergeo": [
           {
            "marker": {
             "colorbar": {
              "outlinewidth": 0,
              "ticks": ""
             }
            },
            "type": "scattergeo"
           }
          ],
          "scattergl": [
           {
            "marker": {
             "line": {
              "color": "#283442"
             }
            },
            "type": "scattergl"
           }
          ],
          "scattermapbox": [
           {
            "marker": {
             "colorbar": {
              "outlinewidth": 0,
              "ticks": ""
             }
            },
            "type": "scattermapbox"
           }
          ],
          "scatterpolar": [
           {
            "marker": {
             "colorbar": {
              "outlinewidth": 0,
              "ticks": ""
             }
            },
            "type": "scatterpolar"
           }
          ],
          "scatterpolargl": [
           {
            "marker": {
             "colorbar": {
              "outlinewidth": 0,
              "ticks": ""
             }
            },
            "type": "scatterpolargl"
           }
          ],
          "scatterternary": [
           {
            "marker": {
             "colorbar": {
              "outlinewidth": 0,
              "ticks": ""
             }
            },
            "type": "scatterternary"
           }
          ],
          "surface": [
           {
            "colorbar": {
             "outlinewidth": 0,
             "ticks": ""
            },
            "colorscale": [
             [
              0,
              "#0d0887"
             ],
             [
              0.1111111111111111,
              "#46039f"
             ],
             [
              0.2222222222222222,
              "#7201a8"
             ],
             [
              0.3333333333333333,
              "#9c179e"
             ],
             [
              0.4444444444444444,
              "#bd3786"
             ],
             [
              0.5555555555555556,
              "#d8576b"
             ],
             [
              0.6666666666666666,
              "#ed7953"
             ],
             [
              0.7777777777777778,
              "#fb9f3a"
             ],
             [
              0.8888888888888888,
              "#fdca26"
             ],
             [
              1,
              "#f0f921"
             ]
            ],
            "type": "surface"
           }
          ],
          "table": [
           {
            "cells": {
             "fill": {
              "color": "#506784"
             },
             "line": {
              "color": "rgb(17,17,17)"
             }
            },
            "header": {
             "fill": {
              "color": "#2a3f5f"
             },
             "line": {
              "color": "rgb(17,17,17)"
             }
            },
            "type": "table"
           }
          ]
         },
         "layout": {
          "annotationdefaults": {
           "arrowcolor": "#f2f5fa",
           "arrowhead": 0,
           "arrowwidth": 1
          },
          "autotypenumbers": "strict",
          "coloraxis": {
           "colorbar": {
            "outlinewidth": 0,
            "ticks": ""
           }
          },
          "colorscale": {
           "diverging": [
            [
             0,
             "#8e0152"
            ],
            [
             0.1,
             "#c51b7d"
            ],
            [
             0.2,
             "#de77ae"
            ],
            [
             0.3,
             "#f1b6da"
            ],
            [
             0.4,
             "#fde0ef"
            ],
            [
             0.5,
             "#f7f7f7"
            ],
            [
             0.6,
             "#e6f5d0"
            ],
            [
             0.7,
             "#b8e186"
            ],
            [
             0.8,
             "#7fbc41"
            ],
            [
             0.9,
             "#4d9221"
            ],
            [
             1,
             "#276419"
            ]
           ],
           "sequential": [
            [
             0,
             "#0d0887"
            ],
            [
             0.1111111111111111,
             "#46039f"
            ],
            [
             0.2222222222222222,
             "#7201a8"
            ],
            [
             0.3333333333333333,
             "#9c179e"
            ],
            [
             0.4444444444444444,
             "#bd3786"
            ],
            [
             0.5555555555555556,
             "#d8576b"
            ],
            [
             0.6666666666666666,
             "#ed7953"
            ],
            [
             0.7777777777777778,
             "#fb9f3a"
            ],
            [
             0.8888888888888888,
             "#fdca26"
            ],
            [
             1,
             "#f0f921"
            ]
           ],
           "sequentialminus": [
            [
             0,
             "#0d0887"
            ],
            [
             0.1111111111111111,
             "#46039f"
            ],
            [
             0.2222222222222222,
             "#7201a8"
            ],
            [
             0.3333333333333333,
             "#9c179e"
            ],
            [
             0.4444444444444444,
             "#bd3786"
            ],
            [
             0.5555555555555556,
             "#d8576b"
            ],
            [
             0.6666666666666666,
             "#ed7953"
            ],
            [
             0.7777777777777778,
             "#fb9f3a"
            ],
            [
             0.8888888888888888,
             "#fdca26"
            ],
            [
             1,
             "#f0f921"
            ]
           ]
          },
          "colorway": [
           "#636efa",
           "#EF553B",
           "#00cc96",
           "#ab63fa",
           "#FFA15A",
           "#19d3f3",
           "#FF6692",
           "#B6E880",
           "#FF97FF",
           "#FECB52"
          ],
          "font": {
           "color": "#f2f5fa"
          },
          "geo": {
           "bgcolor": "rgb(17,17,17)",
           "lakecolor": "rgb(17,17,17)",
           "landcolor": "rgb(17,17,17)",
           "showlakes": true,
           "showland": true,
           "subunitcolor": "#506784"
          },
          "hoverlabel": {
           "align": "left"
          },
          "hovermode": "closest",
          "mapbox": {
           "style": "dark"
          },
          "paper_bgcolor": "rgb(17,17,17)",
          "plot_bgcolor": "rgb(17,17,17)",
          "polar": {
           "angularaxis": {
            "gridcolor": "#506784",
            "linecolor": "#506784",
            "ticks": ""
           },
           "bgcolor": "rgb(17,17,17)",
           "radialaxis": {
            "gridcolor": "#506784",
            "linecolor": "#506784",
            "ticks": ""
           }
          },
          "scene": {
           "xaxis": {
            "backgroundcolor": "rgb(17,17,17)",
            "gridcolor": "#506784",
            "gridwidth": 2,
            "linecolor": "#506784",
            "showbackground": true,
            "ticks": "",
            "zerolinecolor": "#C8D4E3"
           },
           "yaxis": {
            "backgroundcolor": "rgb(17,17,17)",
            "gridcolor": "#506784",
            "gridwidth": 2,
            "linecolor": "#506784",
            "showbackground": true,
            "ticks": "",
            "zerolinecolor": "#C8D4E3"
           },
           "zaxis": {
            "backgroundcolor": "rgb(17,17,17)",
            "gridcolor": "#506784",
            "gridwidth": 2,
            "linecolor": "#506784",
            "showbackground": true,
            "ticks": "",
            "zerolinecolor": "#C8D4E3"
           }
          },
          "shapedefaults": {
           "line": {
            "color": "#f2f5fa"
           }
          },
          "sliderdefaults": {
           "bgcolor": "#C8D4E3",
           "bordercolor": "rgb(17,17,17)",
           "borderwidth": 1,
           "tickwidth": 0
          },
          "ternary": {
           "aaxis": {
            "gridcolor": "#506784",
            "linecolor": "#506784",
            "ticks": ""
           },
           "baxis": {
            "gridcolor": "#506784",
            "linecolor": "#506784",
            "ticks": ""
           },
           "bgcolor": "rgb(17,17,17)",
           "caxis": {
            "gridcolor": "#506784",
            "linecolor": "#506784",
            "ticks": ""
           }
          },
          "title": {
           "x": 0.05
          },
          "updatemenudefaults": {
           "bgcolor": "#506784",
           "borderwidth": 0
          },
          "xaxis": {
           "automargin": true,
           "gridcolor": "#283442",
           "linecolor": "#506784",
           "ticks": "",
           "title": {
            "standoff": 15
           },
           "zerolinecolor": "#283442",
           "zerolinewidth": 2
          },
          "yaxis": {
           "automargin": true,
           "gridcolor": "#283442",
           "linecolor": "#506784",
           "ticks": "",
           "title": {
            "standoff": 15
           },
           "zerolinecolor": "#283442",
           "zerolinewidth": 2
          }
         }
        },
        "title": {
         "text": "Arms transfers between countries"
        }
       }
      }
     },
     "metadata": {},
     "output_type": "display_data"
    }
   ],
   "source": [
    "fig = go.Figure()\n",
    "\n",
    "df = df[df['Year'] == 2022]\n",
    "df_zip = zip(df['ISO_Supplier'], df['ISO_Recipient'], df['sipri_TIV'])\n",
    "\n",
    "for iso_supplier, iso_recipient, value in df_zip:\n",
    "    hover_text = f\"Recipient: {df[df['ISO_Recipient'] == iso_recipient]['Recipient'].values[0]}<br>\" \\\n",
    "                 f\"Supplier: {df[df['ISO_Supplier'] == iso_supplier]['Supplier'].values[0]}<br>\" \\\n",
    "                 f\"SIPRI TIV: {value}\"\n",
    "    fig.add_trace(go.Scattergeo(\n",
    "                        locations=[iso_supplier, iso_recipient],\n",
    "                        locationmode='ISO-3',\n",
    "                        mode='lines',\n",
    "                        line=dict(width=value/50, color=\"red\"),\n",
    "                        hovertext=hover_text\n",
    "                        ))\n",
    "\n",
    "fig.update_layout(title=\"Arms transfers between countries\",\n",
    "                  margin={\"t\": 0, \"b\": 0, \"l\": 0, \"r\": 0, \"pad\": 0},\n",
    "                  template=\"plotly_dark\",\n",
    "                  showlegend=False)\n",
    "fig.update_geos(projection_type=\"orthographic\")\n",
    "\n",
    "fig.show()"
   ]
  }
 ],
 "metadata": {
  "kernelspec": {
   "display_name": "Python 3",
   "language": "python",
   "name": "python3"
  },
  "language_info": {
   "codemirror_mode": {
    "name": "ipython",
    "version": 3
   },
   "file_extension": ".py",
   "mimetype": "text/x-python",
   "name": "python",
   "nbconvert_exporter": "python",
   "pygments_lexer": "ipython3",
   "version": "3.10.6"
  }
 },
 "nbformat": 4,
 "nbformat_minor": 2
}
