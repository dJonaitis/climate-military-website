{
 "cells": [
  {
   "cell_type": "code",
   "execution_count": 1,
   "metadata": {},
   "outputs": [],
   "source": [
    "import sqlite3\n",
    "import pandas as pd\n",
    "import numpy as np\n",
    "import seaborn as sns\n",
    "import matplotlib.pyplot as plt\n",
    "import pycountry\n",
    "import csv\n",
    "\n",
    "conn = sqlite3.connect('./data/countryDatabase.db')\n",
    "cur = conn.cursor()"
   ]
  },
  {
   "cell_type": "markdown",
   "metadata": {},
   "source": [
    "# Create all the tables\n",
    "The below code will create all the tables that correspond to the relevant csv files. \n",
    "\n",
    "The time range for this data is 2000-2022 on account of data availability.\n",
    "\n",
    "The SQL files are not present in the data, but if you run all the code, the SQL will be auto generated in the `data` folder."
   ]
  },
  {
   "cell_type": "code",
   "execution_count": 2,
   "metadata": {},
   "outputs": [],
   "source": [
    "# greenhouse gas data \n",
    "# units are in millions of metric tons of greenhouse gases\n",
    "cur.execute(\"CREATE TABLE greenhouseGas(ISO_country)\")\n",
    "\n",
    "for year in range(2000, 2022 + 1):\n",
    "    conn.execute('ALTER TABLE greenhouseGas ADD COLUMN \"{}\" FLOAT'.format(year))"
   ]
  },
  {
   "cell_type": "code",
   "execution_count": 3,
   "metadata": {},
   "outputs": [],
   "source": [
    "# military spending data \n",
    "# units are in percentage of GDP\n",
    "cur.execute(\"CREATE TABLE militarySpending(ISO_country)\")\n",
    "\n",
    "for year in range(2000, 2022 + 1):\n",
    "    conn.execute('ALTER TABLE militarySpending ADD COLUMN \"{}\" FLOAT'.format(year))"
   ]
  },
  {
   "cell_type": "code",
   "execution_count": 4,
   "metadata": {},
   "outputs": [],
   "source": [
    "# military spending data\n",
    "# units are in USD\n",
    "cur.execute(\"CREATE TABLE militarySpendingUSD(ISO_country)\")\n",
    "\n",
    "for year in range(2000, 2022 + 1):\n",
    "    conn.execute('ALTER TABLE militarySpendingUSD ADD COLUMN \"{}\" FLOAT'.format(year))"
   ]
  },
  {
   "cell_type": "code",
   "execution_count": 5,
   "metadata": {},
   "outputs": [],
   "source": [
    "# population data\n",
    "cur.execute(\"CREATE TABLE population(ISO_country)\")\n",
    "\n",
    "for year in range(2000, 2022 + 1):\n",
    "    conn.execute('ALTER TABLE population ADD COLUMN \"{}\" FLOAT'.format(year))"
   ]
  },
  {
   "cell_type": "markdown",
   "metadata": {},
   "source": [
    "# Preparing & Cleaning Data\n",
    "The below code will clean the data into a proper format and prepare it for insertion into the SQL tables."
   ]
  },
  {
   "cell_type": "code",
   "execution_count": 6,
   "metadata": {},
   "outputs": [
    {
     "name": "stdout",
     "output_type": "stream",
     "text": [
      "Length of dataframe: 209\n",
      "Index(['ISO_country', '2000', '2001', '2002', '2003', '2004', '2005', '2006',\n",
      "       '2007', '2008', '2009', '2010', '2011', '2012', '2013', '2014', '2015',\n",
      "       '2016', '2017', '2018', '2019', '2020', '2021', '2022'],\n",
      "      dtype='object')\n"
     ]
    },
    {
     "data": {
      "text/html": [
       "<div>\n",
       "<style scoped>\n",
       "    .dataframe tbody tr th:only-of-type {\n",
       "        vertical-align: middle;\n",
       "    }\n",
       "\n",
       "    .dataframe tbody tr th {\n",
       "        vertical-align: top;\n",
       "    }\n",
       "\n",
       "    .dataframe thead th {\n",
       "        text-align: right;\n",
       "    }\n",
       "</style>\n",
       "<table border=\"1\" class=\"dataframe\">\n",
       "  <thead>\n",
       "    <tr style=\"text-align: right;\">\n",
       "      <th></th>\n",
       "      <th>ISO_country</th>\n",
       "      <th>2000</th>\n",
       "      <th>2001</th>\n",
       "      <th>2002</th>\n",
       "      <th>2003</th>\n",
       "      <th>2004</th>\n",
       "      <th>2005</th>\n",
       "      <th>2006</th>\n",
       "      <th>2007</th>\n",
       "      <th>2008</th>\n",
       "      <th>...</th>\n",
       "      <th>2013</th>\n",
       "      <th>2014</th>\n",
       "      <th>2015</th>\n",
       "      <th>2016</th>\n",
       "      <th>2017</th>\n",
       "      <th>2018</th>\n",
       "      <th>2019</th>\n",
       "      <th>2020</th>\n",
       "      <th>2021</th>\n",
       "      <th>2022</th>\n",
       "    </tr>\n",
       "  </thead>\n",
       "  <tbody>\n",
       "    <tr>\n",
       "      <th>40</th>\n",
       "      <td>CHN</td>\n",
       "      <td>5079.996777</td>\n",
       "      <td>5295.214492</td>\n",
       "      <td>5629.884873</td>\n",
       "      <td>6349.302251</td>\n",
       "      <td>7227.178765</td>\n",
       "      <td>8102.437217</td>\n",
       "      <td>8902.651599</td>\n",
       "      <td>9515.877756</td>\n",
       "      <td>9741.563585</td>\n",
       "      <td>...</td>\n",
       "      <td>12777.858230</td>\n",
       "      <td>12942.777130</td>\n",
       "      <td>12772.459600</td>\n",
       "      <td>12799.810270</td>\n",
       "      <td>13062.499690</td>\n",
       "      <td>13649.331320</td>\n",
       "      <td>13958.930190</td>\n",
       "      <td>14232.311930</td>\n",
       "      <td>14985.606710</td>\n",
       "      <td>15037.299140</td>\n",
       "    </tr>\n",
       "    <tr>\n",
       "      <th>202</th>\n",
       "      <td>USA</td>\n",
       "      <td>6525.394520</td>\n",
       "      <td>6406.295840</td>\n",
       "      <td>6487.102239</td>\n",
       "      <td>6517.858735</td>\n",
       "      <td>6739.835223</td>\n",
       "      <td>6685.153433</td>\n",
       "      <td>6581.822659</td>\n",
       "      <td>6727.961642</td>\n",
       "      <td>6524.704979</td>\n",
       "      <td>...</td>\n",
       "      <td>6085.387589</td>\n",
       "      <td>6124.910997</td>\n",
       "      <td>6052.126607</td>\n",
       "      <td>5758.076490</td>\n",
       "      <td>5779.375022</td>\n",
       "      <td>5982.678836</td>\n",
       "      <td>5906.576649</td>\n",
       "      <td>5238.855260</td>\n",
       "      <td>5574.159784</td>\n",
       "      <td>5705.461724</td>\n",
       "    </tr>\n",
       "    <tr>\n",
       "      <th>89</th>\n",
       "      <td>IND</td>\n",
       "      <td>1698.776935</td>\n",
       "      <td>1949.562561</td>\n",
       "      <td>1978.908675</td>\n",
       "      <td>2033.684184</td>\n",
       "      <td>2139.614557</td>\n",
       "      <td>2210.073028</td>\n",
       "      <td>2315.079715</td>\n",
       "      <td>2461.312367</td>\n",
       "      <td>2572.199557</td>\n",
       "      <td>...</td>\n",
       "      <td>3122.521147</td>\n",
       "      <td>3296.155226</td>\n",
       "      <td>3327.305337</td>\n",
       "      <td>3412.413105</td>\n",
       "      <td>3561.890963</td>\n",
       "      <td>3725.084963</td>\n",
       "      <td>3699.008400</td>\n",
       "      <td>3485.249112</td>\n",
       "      <td>3719.871227</td>\n",
       "      <td>3908.064862</td>\n",
       "    </tr>\n",
       "    <tr>\n",
       "      <th>26</th>\n",
       "      <td>BRA</td>\n",
       "      <td>1976.481688</td>\n",
       "      <td>2057.138838</td>\n",
       "      <td>2090.928084</td>\n",
       "      <td>2122.145720</td>\n",
       "      <td>2174.697827</td>\n",
       "      <td>2186.993494</td>\n",
       "      <td>2185.128555</td>\n",
       "      <td>2215.189862</td>\n",
       "      <td>2230.379749</td>\n",
       "      <td>...</td>\n",
       "      <td>1553.014360</td>\n",
       "      <td>1592.007730</td>\n",
       "      <td>1582.368553</td>\n",
       "      <td>1679.764116</td>\n",
       "      <td>1698.102046</td>\n",
       "      <td>1664.058627</td>\n",
       "      <td>1679.018165</td>\n",
       "      <td>1682.619816</td>\n",
       "      <td>1758.302512</td>\n",
       "      <td>1741.006778</td>\n",
       "    </tr>\n",
       "    <tr>\n",
       "      <th>157</th>\n",
       "      <td>RUS</td>\n",
       "      <td>1406.480603</td>\n",
       "      <td>1389.507593</td>\n",
       "      <td>1342.812786</td>\n",
       "      <td>1369.443428</td>\n",
       "      <td>1394.473047</td>\n",
       "      <td>1414.500243</td>\n",
       "      <td>1472.141210</td>\n",
       "      <td>1453.499096</td>\n",
       "      <td>1444.594104</td>\n",
       "      <td>...</td>\n",
       "      <td>1417.626201</td>\n",
       "      <td>1366.815483</td>\n",
       "      <td>1433.899965</td>\n",
       "      <td>1404.472045</td>\n",
       "      <td>1464.529719</td>\n",
       "      <td>1548.254793</td>\n",
       "      <td>1569.302544</td>\n",
       "      <td>1489.256273</td>\n",
       "      <td>1631.684988</td>\n",
       "      <td>1608.969791</td>\n",
       "    </tr>\n",
       "    <tr>\n",
       "      <th>90</th>\n",
       "      <td>IDN</td>\n",
       "      <td>1065.281135</td>\n",
       "      <td>904.184261</td>\n",
       "      <td>1411.476619</td>\n",
       "      <td>1079.155591</td>\n",
       "      <td>1446.310373</td>\n",
       "      <td>1176.670769</td>\n",
       "      <td>1620.146413</td>\n",
       "      <td>1057.492559</td>\n",
       "      <td>1054.709044</td>\n",
       "      <td>...</td>\n",
       "      <td>1685.539620</td>\n",
       "      <td>2075.511010</td>\n",
       "      <td>2124.513977</td>\n",
       "      <td>1472.516821</td>\n",
       "      <td>1501.118163</td>\n",
       "      <td>1776.238704</td>\n",
       "      <td>2066.570888</td>\n",
       "      <td>1605.091840</td>\n",
       "      <td>1438.155277</td>\n",
       "      <td>1433.148620</td>\n",
       "    </tr>\n",
       "    <tr>\n",
       "      <th>98</th>\n",
       "      <td>JPN</td>\n",
       "      <td>1288.444851</td>\n",
       "      <td>1262.069820</td>\n",
       "      <td>1284.366020</td>\n",
       "      <td>1279.689455</td>\n",
       "      <td>1274.503007</td>\n",
       "      <td>1287.941781</td>\n",
       "      <td>1271.457581</td>\n",
       "      <td>1310.764900</td>\n",
       "      <td>1247.783006</td>\n",
       "      <td>...</td>\n",
       "      <td>1340.222469</td>\n",
       "      <td>1294.318582</td>\n",
       "      <td>1261.263057</td>\n",
       "      <td>1247.434831</td>\n",
       "      <td>1230.071926</td>\n",
       "      <td>1186.494825</td>\n",
       "      <td>1156.633780</td>\n",
       "      <td>1092.931404</td>\n",
       "      <td>1115.993092</td>\n",
       "      <td>1123.624162</td>\n",
       "    </tr>\n",
       "    <tr>\n",
       "      <th>91</th>\n",
       "      <td>IRN</td>\n",
       "      <td>505.186889</td>\n",
       "      <td>487.684249</td>\n",
       "      <td>507.005615</td>\n",
       "      <td>556.022628</td>\n",
       "      <td>596.384497</td>\n",
       "      <td>639.288094</td>\n",
       "      <td>687.656961</td>\n",
       "      <td>720.054224</td>\n",
       "      <td>726.696879</td>\n",
       "      <td>...</td>\n",
       "      <td>833.512844</td>\n",
       "      <td>858.441488</td>\n",
       "      <td>857.021547</td>\n",
       "      <td>904.905109</td>\n",
       "      <td>937.980030</td>\n",
       "      <td>950.886170</td>\n",
       "      <td>915.886881</td>\n",
       "      <td>901.613634</td>\n",
       "      <td>936.625753</td>\n",
       "      <td>952.044593</td>\n",
       "    </tr>\n",
       "    <tr>\n",
       "      <th>125</th>\n",
       "      <td>MEX</td>\n",
       "      <td>662.224390</td>\n",
       "      <td>567.650045</td>\n",
       "      <td>578.050954</td>\n",
       "      <td>608.397681</td>\n",
       "      <td>617.041183</td>\n",
       "      <td>643.622055</td>\n",
       "      <td>668.238364</td>\n",
       "      <td>682.584696</td>\n",
       "      <td>692.541293</td>\n",
       "      <td>...</td>\n",
       "      <td>809.487688</td>\n",
       "      <td>795.877777</td>\n",
       "      <td>805.438928</td>\n",
       "      <td>814.874440</td>\n",
       "      <td>819.306113</td>\n",
       "      <td>796.229438</td>\n",
       "      <td>808.125513</td>\n",
       "      <td>756.060201</td>\n",
       "      <td>781.875150</td>\n",
       "      <td>836.004316</td>\n",
       "    </tr>\n",
       "    <tr>\n",
       "      <th>163</th>\n",
       "      <td>SAU</td>\n",
       "      <td>355.024041</td>\n",
       "      <td>367.948642</td>\n",
       "      <td>388.571077</td>\n",
       "      <td>414.769908</td>\n",
       "      <td>437.923904</td>\n",
       "      <td>466.493645</td>\n",
       "      <td>491.246215</td>\n",
       "      <td>513.948661</td>\n",
       "      <td>551.765287</td>\n",
       "      <td>...</td>\n",
       "      <td>696.018485</td>\n",
       "      <td>739.747159</td>\n",
       "      <td>771.903726</td>\n",
       "      <td>777.262898</td>\n",
       "      <td>774.572566</td>\n",
       "      <td>758.472592</td>\n",
       "      <td>761.485078</td>\n",
       "      <td>755.368856</td>\n",
       "      <td>779.973162</td>\n",
       "      <td>810.511607</td>\n",
       "    </tr>\n",
       "  </tbody>\n",
       "</table>\n",
       "<p>10 rows × 24 columns</p>\n",
       "</div>"
      ],
      "text/plain": [
       "    ISO_country         2000         2001         2002         2003  \\\n",
       "40          CHN  5079.996777  5295.214492  5629.884873  6349.302251   \n",
       "202         USA  6525.394520  6406.295840  6487.102239  6517.858735   \n",
       "89          IND  1698.776935  1949.562561  1978.908675  2033.684184   \n",
       "26          BRA  1976.481688  2057.138838  2090.928084  2122.145720   \n",
       "157         RUS  1406.480603  1389.507593  1342.812786  1369.443428   \n",
       "90          IDN  1065.281135   904.184261  1411.476619  1079.155591   \n",
       "98          JPN  1288.444851  1262.069820  1284.366020  1279.689455   \n",
       "91          IRN   505.186889   487.684249   507.005615   556.022628   \n",
       "125         MEX   662.224390   567.650045   578.050954   608.397681   \n",
       "163         SAU   355.024041   367.948642   388.571077   414.769908   \n",
       "\n",
       "            2004         2005         2006         2007         2008  ...  \\\n",
       "40   7227.178765  8102.437217  8902.651599  9515.877756  9741.563585  ...   \n",
       "202  6739.835223  6685.153433  6581.822659  6727.961642  6524.704979  ...   \n",
       "89   2139.614557  2210.073028  2315.079715  2461.312367  2572.199557  ...   \n",
       "26   2174.697827  2186.993494  2185.128555  2215.189862  2230.379749  ...   \n",
       "157  1394.473047  1414.500243  1472.141210  1453.499096  1444.594104  ...   \n",
       "90   1446.310373  1176.670769  1620.146413  1057.492559  1054.709044  ...   \n",
       "98   1274.503007  1287.941781  1271.457581  1310.764900  1247.783006  ...   \n",
       "91    596.384497   639.288094   687.656961   720.054224   726.696879  ...   \n",
       "125   617.041183   643.622055   668.238364   682.584696   692.541293  ...   \n",
       "163   437.923904   466.493645   491.246215   513.948661   551.765287  ...   \n",
       "\n",
       "             2013          2014          2015          2016          2017  \\\n",
       "40   12777.858230  12942.777130  12772.459600  12799.810270  13062.499690   \n",
       "202   6085.387589   6124.910997   6052.126607   5758.076490   5779.375022   \n",
       "89    3122.521147   3296.155226   3327.305337   3412.413105   3561.890963   \n",
       "26    1553.014360   1592.007730   1582.368553   1679.764116   1698.102046   \n",
       "157   1417.626201   1366.815483   1433.899965   1404.472045   1464.529719   \n",
       "90    1685.539620   2075.511010   2124.513977   1472.516821   1501.118163   \n",
       "98    1340.222469   1294.318582   1261.263057   1247.434831   1230.071926   \n",
       "91     833.512844    858.441488    857.021547    904.905109    937.980030   \n",
       "125    809.487688    795.877777    805.438928    814.874440    819.306113   \n",
       "163    696.018485    739.747159    771.903726    777.262898    774.572566   \n",
       "\n",
       "             2018          2019          2020          2021          2022  \n",
       "40   13649.331320  13958.930190  14232.311930  14985.606710  15037.299140  \n",
       "202   5982.678836   5906.576649   5238.855260   5574.159784   5705.461724  \n",
       "89    3725.084963   3699.008400   3485.249112   3719.871227   3908.064862  \n",
       "26    1664.058627   1679.018165   1682.619816   1758.302512   1741.006778  \n",
       "157   1548.254793   1569.302544   1489.256273   1631.684988   1608.969791  \n",
       "90    1776.238704   2066.570888   1605.091840   1438.155277   1433.148620  \n",
       "98    1186.494825   1156.633780   1092.931404   1115.993092   1123.624162  \n",
       "91     950.886170    915.886881    901.613634    936.625753    952.044593  \n",
       "125    796.229438    808.125513    756.060201    781.875150    836.004316  \n",
       "163    758.472592    761.485078    755.368856    779.973162    810.511607  \n",
       "\n",
       "[10 rows x 24 columns]"
      ]
     },
     "execution_count": 6,
     "metadata": {},
     "output_type": "execute_result"
    }
   ],
   "source": [
    "# greenhouse gas data\n",
    "# change the below file path to fit your file structure\n",
    "ccDF = pd.read_csv('./data/greenhouse_gas_data.csv', sep=';')\n",
    "ccDF = ccDF.drop(['Country', 'ISO2', 'Source', 'CTS_Code', 'CTS_Name', 'CTS_Full_Descriptor', 'ObjectId', 'Industry', 'F2023', 'F2024', 'F2025', 'F2026', 'F2027', 'F2028', 'F2029', 'F2030'], axis=1) # remove irrelevant columns\n",
    "for col in range(1970, 2000): # drop columns that are outside time range (2000-2022)\n",
    "    ccDF = ccDF.drop(f\"F{col}\", axis=1)\n",
    "for col in range(2000, 2023): # rename columns from format \"F2000\" to \"2000\"\n",
    "    ccDF = ccDF.rename(columns={f\"F{col}\": str(col)})\n",
    "# the dataset contains data for various different kinds of gases, we're interested in the aggregate that is labelled as \"greenhouse gasses\"\n",
    "# keep only greenhouse gas net data\n",
    "ccDF = ccDF[(ccDF['Indicator'] == 'Total GHG emissions including land-use, land-use change and forestry') & (ccDF['Gas_Type'] == 'Greenhouse gas')]\n",
    "ccDF = ccDF.drop(['Indicator', 'Gas_Type', 'Unit', 'Scale'], axis=1)\n",
    "ccDF = ccDF.rename(columns={\"ISO3\": \"ISO_country\"})\n",
    "ccDF.reset_index(inplace=True)\n",
    "ccDF.drop(columns=['index'], inplace=True)\n",
    "ccDF = ccDF[(ccDF['ISO_country'] != 'NA605') & (ccDF['ISO_country'] != 'OCETMP')]\n",
    "ccDF = ccDF.sort_values('2022', ascending=False) # sort in descending order of 2022\n",
    "\n",
    "# print length of data, columns and head to check that it is all correct\n",
    "print(f\"Length of dataframe: {len(ccDF.index)}\")\n",
    "print(ccDF.columns)\n",
    "ccDF.head(10)\n",
    "\n"
   ]
  },
  {
   "cell_type": "code",
   "execution_count": 7,
   "metadata": {},
   "outputs": [
    {
     "name": "stdout",
     "output_type": "stream",
     "text": [
      "Length of dataframe: 237\n",
      "Index(['ISO_country', '2000', '2001', '2002', '2003', '2004', '2005', '2006',\n",
      "       '2007', '2008', '2009', '2010', '2011', '2012', '2013', '2014', '2015',\n",
      "       '2016', '2017', '2018', '2019', '2020', '2021', '2022'],\n",
      "      dtype='object', name='Time')\n"
     ]
    },
    {
     "name": "stderr",
     "output_type": "stream",
     "text": [
      "/var/folders/zp/r_synnss3dnc2lgwfbyr07h80000gn/T/ipykernel_18420/1804657599.py:3: DtypeWarning: Columns (2) have mixed types. Specify dtype option on import or set low_memory=False.\n",
      "  popDF = pd.read_csv('./data/un_demographics.csv')\n"
     ]
    },
    {
     "data": {
      "text/html": [
       "<div>\n",
       "<style scoped>\n",
       "    .dataframe tbody tr th:only-of-type {\n",
       "        vertical-align: middle;\n",
       "    }\n",
       "\n",
       "    .dataframe tbody tr th {\n",
       "        vertical-align: top;\n",
       "    }\n",
       "\n",
       "    .dataframe thead th {\n",
       "        text-align: right;\n",
       "    }\n",
       "</style>\n",
       "<table border=\"1\" class=\"dataframe\">\n",
       "  <thead>\n",
       "    <tr style=\"text-align: right;\">\n",
       "      <th>Time</th>\n",
       "      <th>ISO_country</th>\n",
       "      <th>2000</th>\n",
       "      <th>2001</th>\n",
       "      <th>2002</th>\n",
       "      <th>2003</th>\n",
       "      <th>2004</th>\n",
       "      <th>2005</th>\n",
       "      <th>2006</th>\n",
       "      <th>2007</th>\n",
       "      <th>2008</th>\n",
       "      <th>...</th>\n",
       "      <th>2013</th>\n",
       "      <th>2014</th>\n",
       "      <th>2015</th>\n",
       "      <th>2016</th>\n",
       "      <th>2017</th>\n",
       "      <th>2018</th>\n",
       "      <th>2019</th>\n",
       "      <th>2020</th>\n",
       "      <th>2021</th>\n",
       "      <th>2022</th>\n",
       "    </tr>\n",
       "  </thead>\n",
       "  <tbody>\n",
       "    <tr>\n",
       "      <th>38</th>\n",
       "      <td>CHN</td>\n",
       "      <td>1.259610e+09</td>\n",
       "      <td>1.268588e+09</td>\n",
       "      <td>1.276891e+09</td>\n",
       "      <td>1.284961e+09</td>\n",
       "      <td>1.292786e+09</td>\n",
       "      <td>1.300848e+09</td>\n",
       "      <td>1.308927e+09</td>\n",
       "      <td>1.317246e+09</td>\n",
       "      <td>1.325781e+09</td>\n",
       "      <td>...</td>\n",
       "      <td>1.371616e+09</td>\n",
       "      <td>1.380585e+09</td>\n",
       "      <td>1.389795e+09</td>\n",
       "      <td>1.397636e+09</td>\n",
       "      <td>1.406143e+09</td>\n",
       "      <td>1.414409e+09</td>\n",
       "      <td>1.419730e+09</td>\n",
       "      <td>1.423998e+09</td>\n",
       "      <td>1.425862e+09</td>\n",
       "      <td>1.425925e+09</td>\n",
       "    </tr>\n",
       "    <tr>\n",
       "      <th>97</th>\n",
       "      <td>IND</td>\n",
       "      <td>1.050012e+09</td>\n",
       "      <td>1.069256e+09</td>\n",
       "      <td>1.088686e+09</td>\n",
       "      <td>1.107940e+09</td>\n",
       "      <td>1.126890e+09</td>\n",
       "      <td>1.145639e+09</td>\n",
       "      <td>1.163639e+09</td>\n",
       "      <td>1.181109e+09</td>\n",
       "      <td>1.198275e+09</td>\n",
       "      <td>...</td>\n",
       "      <td>1.282874e+09</td>\n",
       "      <td>1.299390e+09</td>\n",
       "      <td>1.315103e+09</td>\n",
       "      <td>1.330630e+09</td>\n",
       "      <td>1.346642e+09</td>\n",
       "      <td>1.361749e+09</td>\n",
       "      <td>1.376258e+09</td>\n",
       "      <td>1.389966e+09</td>\n",
       "      <td>1.402808e+09</td>\n",
       "      <td>1.412320e+09</td>\n",
       "    </tr>\n",
       "    <tr>\n",
       "      <th>221</th>\n",
       "      <td>USA</td>\n",
       "      <td>2.808166e+08</td>\n",
       "      <td>2.839805e+08</td>\n",
       "      <td>2.869605e+08</td>\n",
       "      <td>2.897400e+08</td>\n",
       "      <td>2.924796e+08</td>\n",
       "      <td>2.954161e+08</td>\n",
       "      <td>2.982692e+08</td>\n",
       "      <td>3.012370e+08</td>\n",
       "      <td>3.042498e+08</td>\n",
       "      <td>...</td>\n",
       "      <td>3.180311e+08</td>\n",
       "      <td>3.207193e+08</td>\n",
       "      <td>3.233486e+08</td>\n",
       "      <td>3.258669e+08</td>\n",
       "      <td>3.285535e+08</td>\n",
       "      <td>3.310290e+08</td>\n",
       "      <td>3.332511e+08</td>\n",
       "      <td>3.353882e+08</td>\n",
       "      <td>3.364958e+08</td>\n",
       "      <td>3.374995e+08</td>\n",
       "    </tr>\n",
       "    <tr>\n",
       "      <th>95</th>\n",
       "      <td>IDN</td>\n",
       "      <td>2.125441e+08</td>\n",
       "      <td>2.156007e+08</td>\n",
       "      <td>2.186241e+08</td>\n",
       "      <td>2.216060e+08</td>\n",
       "      <td>2.245542e+08</td>\n",
       "      <td>2.273230e+08</td>\n",
       "      <td>2.302873e+08</td>\n",
       "      <td>2.333076e+08</td>\n",
       "      <td>2.364090e+08</td>\n",
       "      <td>...</td>\n",
       "      <td>2.517798e+08</td>\n",
       "      <td>2.547720e+08</td>\n",
       "      <td>2.576875e+08</td>\n",
       "      <td>2.604964e+08</td>\n",
       "      <td>2.632039e+08</td>\n",
       "      <td>2.657938e+08</td>\n",
       "      <td>2.683399e+08</td>\n",
       "      <td>2.708258e+08</td>\n",
       "      <td>2.728901e+08</td>\n",
       "      <td>2.746163e+08</td>\n",
       "    </tr>\n",
       "    <tr>\n",
       "      <th>163</th>\n",
       "      <td>PAK</td>\n",
       "      <td>1.518225e+08</td>\n",
       "      <td>1.569174e+08</td>\n",
       "      <td>1.615181e+08</td>\n",
       "      <td>1.650075e+08</td>\n",
       "      <td>1.687458e+08</td>\n",
       "      <td>1.725514e+08</td>\n",
       "      <td>1.761928e+08</td>\n",
       "      <td>1.799472e+08</td>\n",
       "      <td>1.839019e+08</td>\n",
       "      <td>...</td>\n",
       "      <td>2.038308e+08</td>\n",
       "      <td>2.068443e+08</td>\n",
       "      <td>2.096590e+08</td>\n",
       "      <td>2.122796e+08</td>\n",
       "      <td>2.147700e+08</td>\n",
       "      <td>2.179893e+08</td>\n",
       "      <td>2.214737e+08</td>\n",
       "      <td>2.251129e+08</td>\n",
       "      <td>2.292806e+08</td>\n",
       "      <td>2.335236e+08</td>\n",
       "    </tr>\n",
       "    <tr>\n",
       "      <th>154</th>\n",
       "      <td>NGA</td>\n",
       "      <td>1.212355e+08</td>\n",
       "      <td>1.244685e+08</td>\n",
       "      <td>1.278369e+08</td>\n",
       "      <td>1.313292e+08</td>\n",
       "      <td>1.349104e+08</td>\n",
       "      <td>1.386033e+08</td>\n",
       "      <td>1.423782e+08</td>\n",
       "      <td>1.462814e+08</td>\n",
       "      <td>1.503067e+08</td>\n",
       "      <td>...</td>\n",
       "      <td>1.723969e+08</td>\n",
       "      <td>1.770554e+08</td>\n",
       "      <td>1.817027e+08</td>\n",
       "      <td>1.862889e+08</td>\n",
       "      <td>1.910450e+08</td>\n",
       "      <td>1.959469e+08</td>\n",
       "      <td>2.008284e+08</td>\n",
       "      <td>2.057806e+08</td>\n",
       "      <td>2.108742e+08</td>\n",
       "      <td>2.159284e+08</td>\n",
       "    </tr>\n",
       "    <tr>\n",
       "      <th>29</th>\n",
       "      <td>BRA</td>\n",
       "      <td>1.746927e+08</td>\n",
       "      <td>1.770548e+08</td>\n",
       "      <td>1.793690e+08</td>\n",
       "      <td>1.815844e+08</td>\n",
       "      <td>1.836742e+08</td>\n",
       "      <td>1.857699e+08</td>\n",
       "      <td>1.878247e+08</td>\n",
       "      <td>1.898166e+08</td>\n",
       "      <td>1.917423e+08</td>\n",
       "      <td>...</td>\n",
       "      <td>2.008590e+08</td>\n",
       "      <td>2.025845e+08</td>\n",
       "      <td>2.043348e+08</td>\n",
       "      <td>2.060416e+08</td>\n",
       "      <td>2.076776e+08</td>\n",
       "      <td>2.093324e+08</td>\n",
       "      <td>2.110008e+08</td>\n",
       "      <td>2.125649e+08</td>\n",
       "      <td>2.138277e+08</td>\n",
       "      <td>2.148248e+08</td>\n",
       "    </tr>\n",
       "    <tr>\n",
       "      <th>19</th>\n",
       "      <td>BGD</td>\n",
       "      <td>1.279756e+08</td>\n",
       "      <td>1.304111e+08</td>\n",
       "      <td>1.329299e+08</td>\n",
       "      <td>1.353498e+08</td>\n",
       "      <td>1.376566e+08</td>\n",
       "      <td>1.399228e+08</td>\n",
       "      <td>1.419024e+08</td>\n",
       "      <td>1.433553e+08</td>\n",
       "      <td>1.449166e+08</td>\n",
       "      <td>...</td>\n",
       "      <td>1.530540e+08</td>\n",
       "      <td>1.550063e+08</td>\n",
       "      <td>1.569163e+08</td>\n",
       "      <td>1.587437e+08</td>\n",
       "      <td>1.608255e+08</td>\n",
       "      <td>1.627625e+08</td>\n",
       "      <td>1.646055e+08</td>\n",
       "      <td>1.664270e+08</td>\n",
       "      <td>1.684149e+08</td>\n",
       "      <td>1.702976e+08</td>\n",
       "    </tr>\n",
       "    <tr>\n",
       "      <th>179</th>\n",
       "      <td>RUS</td>\n",
       "      <td>1.471298e+08</td>\n",
       "      <td>1.465599e+08</td>\n",
       "      <td>1.459111e+08</td>\n",
       "      <td>1.452691e+08</td>\n",
       "      <td>1.446243e+08</td>\n",
       "      <td>1.440830e+08</td>\n",
       "      <td>1.435171e+08</td>\n",
       "      <td>1.431602e+08</td>\n",
       "      <td>1.430752e+08</td>\n",
       "      <td>...</td>\n",
       "      <td>1.437855e+08</td>\n",
       "      <td>1.441283e+08</td>\n",
       "      <td>1.444419e+08</td>\n",
       "      <td>1.448949e+08</td>\n",
       "      <td>1.453234e+08</td>\n",
       "      <td>1.455817e+08</td>\n",
       "      <td>1.457229e+08</td>\n",
       "      <td>1.457617e+08</td>\n",
       "      <td>1.454730e+08</td>\n",
       "      <td>1.447325e+08</td>\n",
       "    </tr>\n",
       "    <tr>\n",
       "      <th>134</th>\n",
       "      <td>MEX</td>\n",
       "      <td>9.711212e+07</td>\n",
       "      <td>9.863476e+07</td>\n",
       "      <td>1.001538e+08</td>\n",
       "      <td>1.016803e+08</td>\n",
       "      <td>1.031783e+08</td>\n",
       "      <td>1.047133e+08</td>\n",
       "      <td>1.061715e+08</td>\n",
       "      <td>1.076021e+08</td>\n",
       "      <td>1.090039e+08</td>\n",
       "      <td>...</td>\n",
       "      <td>1.165419e+08</td>\n",
       "      <td>1.180395e+08</td>\n",
       "      <td>1.194723e+08</td>\n",
       "      <td>1.208275e+08</td>\n",
       "      <td>1.222110e+08</td>\n",
       "      <td>1.234676e+08</td>\n",
       "      <td>1.245602e+08</td>\n",
       "      <td>1.256105e+08</td>\n",
       "      <td>1.263861e+08</td>\n",
       "      <td>1.270241e+08</td>\n",
       "    </tr>\n",
       "  </tbody>\n",
       "</table>\n",
       "<p>10 rows × 24 columns</p>\n",
       "</div>"
      ],
      "text/plain": [
       "Time ISO_country          2000          2001          2002          2003  \\\n",
       "38           CHN  1.259610e+09  1.268588e+09  1.276891e+09  1.284961e+09   \n",
       "97           IND  1.050012e+09  1.069256e+09  1.088686e+09  1.107940e+09   \n",
       "221          USA  2.808166e+08  2.839805e+08  2.869605e+08  2.897400e+08   \n",
       "95           IDN  2.125441e+08  2.156007e+08  2.186241e+08  2.216060e+08   \n",
       "163          PAK  1.518225e+08  1.569174e+08  1.615181e+08  1.650075e+08   \n",
       "154          NGA  1.212355e+08  1.244685e+08  1.278369e+08  1.313292e+08   \n",
       "29           BRA  1.746927e+08  1.770548e+08  1.793690e+08  1.815844e+08   \n",
       "19           BGD  1.279756e+08  1.304111e+08  1.329299e+08  1.353498e+08   \n",
       "179          RUS  1.471298e+08  1.465599e+08  1.459111e+08  1.452691e+08   \n",
       "134          MEX  9.711212e+07  9.863476e+07  1.001538e+08  1.016803e+08   \n",
       "\n",
       "Time          2004          2005          2006          2007          2008  \\\n",
       "38    1.292786e+09  1.300848e+09  1.308927e+09  1.317246e+09  1.325781e+09   \n",
       "97    1.126890e+09  1.145639e+09  1.163639e+09  1.181109e+09  1.198275e+09   \n",
       "221   2.924796e+08  2.954161e+08  2.982692e+08  3.012370e+08  3.042498e+08   \n",
       "95    2.245542e+08  2.273230e+08  2.302873e+08  2.333076e+08  2.364090e+08   \n",
       "163   1.687458e+08  1.725514e+08  1.761928e+08  1.799472e+08  1.839019e+08   \n",
       "154   1.349104e+08  1.386033e+08  1.423782e+08  1.462814e+08  1.503067e+08   \n",
       "29    1.836742e+08  1.857699e+08  1.878247e+08  1.898166e+08  1.917423e+08   \n",
       "19    1.376566e+08  1.399228e+08  1.419024e+08  1.433553e+08  1.449166e+08   \n",
       "179   1.446243e+08  1.440830e+08  1.435171e+08  1.431602e+08  1.430752e+08   \n",
       "134   1.031783e+08  1.047133e+08  1.061715e+08  1.076021e+08  1.090039e+08   \n",
       "\n",
       "Time  ...          2013          2014          2015          2016  \\\n",
       "38    ...  1.371616e+09  1.380585e+09  1.389795e+09  1.397636e+09   \n",
       "97    ...  1.282874e+09  1.299390e+09  1.315103e+09  1.330630e+09   \n",
       "221   ...  3.180311e+08  3.207193e+08  3.233486e+08  3.258669e+08   \n",
       "95    ...  2.517798e+08  2.547720e+08  2.576875e+08  2.604964e+08   \n",
       "163   ...  2.038308e+08  2.068443e+08  2.096590e+08  2.122796e+08   \n",
       "154   ...  1.723969e+08  1.770554e+08  1.817027e+08  1.862889e+08   \n",
       "29    ...  2.008590e+08  2.025845e+08  2.043348e+08  2.060416e+08   \n",
       "19    ...  1.530540e+08  1.550063e+08  1.569163e+08  1.587437e+08   \n",
       "179   ...  1.437855e+08  1.441283e+08  1.444419e+08  1.448949e+08   \n",
       "134   ...  1.165419e+08  1.180395e+08  1.194723e+08  1.208275e+08   \n",
       "\n",
       "Time          2017          2018          2019          2020          2021  \\\n",
       "38    1.406143e+09  1.414409e+09  1.419730e+09  1.423998e+09  1.425862e+09   \n",
       "97    1.346642e+09  1.361749e+09  1.376258e+09  1.389966e+09  1.402808e+09   \n",
       "221   3.285535e+08  3.310290e+08  3.332511e+08  3.353882e+08  3.364958e+08   \n",
       "95    2.632039e+08  2.657938e+08  2.683399e+08  2.708258e+08  2.728901e+08   \n",
       "163   2.147700e+08  2.179893e+08  2.214737e+08  2.251129e+08  2.292806e+08   \n",
       "154   1.910450e+08  1.959469e+08  2.008284e+08  2.057806e+08  2.108742e+08   \n",
       "29    2.076776e+08  2.093324e+08  2.110008e+08  2.125649e+08  2.138277e+08   \n",
       "19    1.608255e+08  1.627625e+08  1.646055e+08  1.664270e+08  1.684149e+08   \n",
       "179   1.453234e+08  1.455817e+08  1.457229e+08  1.457617e+08  1.454730e+08   \n",
       "134   1.222110e+08  1.234676e+08  1.245602e+08  1.256105e+08  1.263861e+08   \n",
       "\n",
       "Time          2022  \n",
       "38    1.425925e+09  \n",
       "97    1.412320e+09  \n",
       "221   3.374995e+08  \n",
       "95    2.746163e+08  \n",
       "163   2.335236e+08  \n",
       "154   2.159284e+08  \n",
       "29    2.148248e+08  \n",
       "19    1.702976e+08  \n",
       "179   1.447325e+08  \n",
       "134   1.270241e+08  \n",
       "\n",
       "[10 rows x 24 columns]"
      ]
     },
     "execution_count": 7,
     "metadata": {},
     "output_type": "execute_result"
    }
   ],
   "source": [
    "# population data\n",
    "# change the below file path to fit your file structure\n",
    "popDF = pd.read_csv('./data/un_demographics.csv')\n",
    "popDF = popDF.dropna(subset=['ISO3_code'])\n",
    "\n",
    "popDF = popDF[['ISO3_code', 'Time', 'TPopulation1Jan']] # only select the total population on the first of january on a year\n",
    "popDF = popDF.pivot_table(index='ISO3_code', columns='Time', values='TPopulation1Jan') # reshape the dataframe to have years as columns\n",
    "for year in range(1950, 2102): # drop all columns not within our time range (this dataset also contains projections up to 2102)\n",
    "    if year >= 2000 and year <= 2022:\n",
    "        pass\n",
    "    else:\n",
    "        popDF = popDF.drop(year, axis=1)\n",
    "popDF.reset_index(inplace=True)\n",
    "popDF.rename(columns={'ISO3_code':'ISO_country'}, inplace=True)\n",
    "popDF = popDF.rename(\n",
    "    {2000: '2000', 2001: '2001', 2002: '2002', 2003: '2003', 2004: '2004', 2005: '2005', 2006: '2006', 2007: '2007', 2008: '2008', 2008: '2008', 2009: '2009', 2010: '2010', 2011: '2011', 2012: '2012', 2013: '2013', 2014: '2014', 2015: '2015', 2016: '2016', 2017: '2017', 2018: '2018', 2019: '2019', 2020: '2020', 2021: '2021', 2022: '2022'}\n",
    "    , axis=1)\n",
    "popDF = popDF.sort_values('2022', ascending=False) # sort in descending order of 2022\n",
    "popDF[popDF.select_dtypes(include=['number']).columns] *= 1000\n",
    "popDF = popDF.round(0) # round all values to 0 decimal places\n",
    "\n",
    "\n",
    "\n",
    "# print length of data, columns and head to check that it is all correct\n",
    "print(f\"Length of dataframe: {len(popDF.index)}\")\n",
    "print(popDF.columns)\n",
    "popDF.head(10)"
   ]
  },
  {
   "cell_type": "code",
   "execution_count": 8,
   "metadata": {},
   "outputs": [
    {
     "name": "stdout",
     "output_type": "stream",
     "text": [
      "Length of dataframe: 174\n",
      "Index(['2000', '2001', '2002', '2003', '2004', '2005', '2006', '2007', '2008',\n",
      "       '2009', '2010', '2011', '2012', '2013', '2014', '2015', '2016', '2017',\n",
      "       '2018', '2019', '2020', '2021', '2022', 'ISO_country'],\n",
      "      dtype='object')\n"
     ]
    },
    {
     "data": {
      "text/html": [
       "<div>\n",
       "<style scoped>\n",
       "    .dataframe tbody tr th:only-of-type {\n",
       "        vertical-align: middle;\n",
       "    }\n",
       "\n",
       "    .dataframe tbody tr th {\n",
       "        vertical-align: top;\n",
       "    }\n",
       "\n",
       "    .dataframe thead th {\n",
       "        text-align: right;\n",
       "    }\n",
       "</style>\n",
       "<table border=\"1\" class=\"dataframe\">\n",
       "  <thead>\n",
       "    <tr style=\"text-align: right;\">\n",
       "      <th></th>\n",
       "      <th>2000</th>\n",
       "      <th>2001</th>\n",
       "      <th>2002</th>\n",
       "      <th>2003</th>\n",
       "      <th>2004</th>\n",
       "      <th>2005</th>\n",
       "      <th>2006</th>\n",
       "      <th>2007</th>\n",
       "      <th>2008</th>\n",
       "      <th>2009</th>\n",
       "      <th>...</th>\n",
       "      <th>2014</th>\n",
       "      <th>2015</th>\n",
       "      <th>2016</th>\n",
       "      <th>2017</th>\n",
       "      <th>2018</th>\n",
       "      <th>2019</th>\n",
       "      <th>2020</th>\n",
       "      <th>2021</th>\n",
       "      <th>2022</th>\n",
       "      <th>ISO_country</th>\n",
       "    </tr>\n",
       "  </thead>\n",
       "  <tbody>\n",
       "    <tr>\n",
       "      <th>135</th>\n",
       "      <td>2.150</td>\n",
       "      <td>1.890</td>\n",
       "      <td>1.980</td>\n",
       "      <td>2.120</td>\n",
       "      <td>1.97</td>\n",
       "      <td>2.41</td>\n",
       "      <td>2.390</td>\n",
       "      <td>2.470</td>\n",
       "      <td>2.300</td>\n",
       "      <td>1.91</td>\n",
       "      <td>...</td>\n",
       "      <td>2.25</td>\n",
       "      <td>3.250</td>\n",
       "      <td>3.150</td>\n",
       "      <td>2.880</td>\n",
       "      <td>3.190</td>\n",
       "      <td>3.520</td>\n",
       "      <td>3.810</td>\n",
       "      <td>3.23</td>\n",
       "      <td>33.55</td>\n",
       "      <td>UKR</td>\n",
       "    </tr>\n",
       "    <tr>\n",
       "      <th>136</th>\n",
       "      <td>1.565</td>\n",
       "      <td>1.400</td>\n",
       "      <td>1.430</td>\n",
       "      <td>1.515</td>\n",
       "      <td>1.43</td>\n",
       "      <td>1.63</td>\n",
       "      <td>1.590</td>\n",
       "      <td>1.685</td>\n",
       "      <td>1.585</td>\n",
       "      <td>1.37</td>\n",
       "      <td>...</td>\n",
       "      <td>1.50</td>\n",
       "      <td>1.975</td>\n",
       "      <td>1.940</td>\n",
       "      <td>1.820</td>\n",
       "      <td>1.970</td>\n",
       "      <td>2.135</td>\n",
       "      <td>2.345</td>\n",
       "      <td>2.05</td>\n",
       "      <td>17.16</td>\n",
       "      <td>None</td>\n",
       "    </tr>\n",
       "    <tr>\n",
       "      <th>168</th>\n",
       "      <td>10.530</td>\n",
       "      <td>11.420</td>\n",
       "      <td>9.760</td>\n",
       "      <td>8.690</td>\n",
       "      <td>8.08</td>\n",
       "      <td>7.73</td>\n",
       "      <td>7.850</td>\n",
       "      <td>8.530</td>\n",
       "      <td>7.350</td>\n",
       "      <td>9.62</td>\n",
       "      <td>...</td>\n",
       "      <td>10.68</td>\n",
       "      <td>13.330</td>\n",
       "      <td>9.870</td>\n",
       "      <td>10.220</td>\n",
       "      <td>9.140</td>\n",
       "      <td>8.130</td>\n",
       "      <td>9.180</td>\n",
       "      <td>7.58</td>\n",
       "      <td>7.42</td>\n",
       "      <td>SAU</td>\n",
       "    </tr>\n",
       "    <tr>\n",
       "      <th>167</th>\n",
       "      <td>8.810</td>\n",
       "      <td>9.810</td>\n",
       "      <td>3.930</td>\n",
       "      <td>3.330</td>\n",
       "      <td>2.43</td>\n",
       "      <td>1.99</td>\n",
       "      <td>1.750</td>\n",
       "      <td>1.960</td>\n",
       "      <td>2.010</td>\n",
       "      <td>1.99</td>\n",
       "      <td>...</td>\n",
       "      <td>9.77</td>\n",
       "      <td>11.450</td>\n",
       "      <td>10.215</td>\n",
       "      <td>9.315</td>\n",
       "      <td>8.705</td>\n",
       "      <td>7.785</td>\n",
       "      <td>8.605</td>\n",
       "      <td>6.45</td>\n",
       "      <td>6.96</td>\n",
       "      <td>QAT</td>\n",
       "    </tr>\n",
       "    <tr>\n",
       "      <th>47</th>\n",
       "      <td>1.625</td>\n",
       "      <td>1.565</td>\n",
       "      <td>1.465</td>\n",
       "      <td>1.370</td>\n",
       "      <td>1.41</td>\n",
       "      <td>1.46</td>\n",
       "      <td>1.145</td>\n",
       "      <td>1.075</td>\n",
       "      <td>1.720</td>\n",
       "      <td>1.64</td>\n",
       "      <td>...</td>\n",
       "      <td>1.82</td>\n",
       "      <td>1.670</td>\n",
       "      <td>1.840</td>\n",
       "      <td>1.870</td>\n",
       "      <td>1.960</td>\n",
       "      <td>3.150</td>\n",
       "      <td>2.840</td>\n",
       "      <td>3.11</td>\n",
       "      <td>5.44</td>\n",
       "      <td>TGO</td>\n",
       "    </tr>\n",
       "    <tr>\n",
       "      <th>166</th>\n",
       "      <td>7.090</td>\n",
       "      <td>8.200</td>\n",
       "      <td>8.100</td>\n",
       "      <td>7.960</td>\n",
       "      <td>7.86</td>\n",
       "      <td>7.71</td>\n",
       "      <td>7.100</td>\n",
       "      <td>6.720</td>\n",
       "      <td>4.960</td>\n",
       "      <td>6.07</td>\n",
       "      <td>...</td>\n",
       "      <td>8.86</td>\n",
       "      <td>9.570</td>\n",
       "      <td>10.560</td>\n",
       "      <td>8.410</td>\n",
       "      <td>8.270</td>\n",
       "      <td>7.440</td>\n",
       "      <td>8.030</td>\n",
       "      <td>6.56</td>\n",
       "      <td>5.17</td>\n",
       "      <td>OMN</td>\n",
       "    </tr>\n",
       "    <tr>\n",
       "      <th>165</th>\n",
       "      <td>5.390</td>\n",
       "      <td>5.450</td>\n",
       "      <td>4.750</td>\n",
       "      <td>4.680</td>\n",
       "      <td>4.51</td>\n",
       "      <td>4.48</td>\n",
       "      <td>4.580</td>\n",
       "      <td>4.630</td>\n",
       "      <td>4.000</td>\n",
       "      <td>4.02</td>\n",
       "      <td>...</td>\n",
       "      <td>4.68</td>\n",
       "      <td>4.490</td>\n",
       "      <td>5.060</td>\n",
       "      <td>4.510</td>\n",
       "      <td>4.850</td>\n",
       "      <td>4.240</td>\n",
       "      <td>3.030</td>\n",
       "      <td>3.37</td>\n",
       "      <td>4.85</td>\n",
       "      <td>LBN</td>\n",
       "    </tr>\n",
       "    <tr>\n",
       "      <th>163</th>\n",
       "      <td>6.260</td>\n",
       "      <td>5.890</td>\n",
       "      <td>5.450</td>\n",
       "      <td>6.000</td>\n",
       "      <td>5.14</td>\n",
       "      <td>4.80</td>\n",
       "      <td>4.660</td>\n",
       "      <td>5.850</td>\n",
       "      <td>5.990</td>\n",
       "      <td>6.39</td>\n",
       "      <td>...</td>\n",
       "      <td>4.20</td>\n",
       "      <td>4.190</td>\n",
       "      <td>4.440</td>\n",
       "      <td>4.680</td>\n",
       "      <td>4.560</td>\n",
       "      <td>4.570</td>\n",
       "      <td>4.700</td>\n",
       "      <td>4.81</td>\n",
       "      <td>4.84</td>\n",
       "      <td>JOR</td>\n",
       "    </tr>\n",
       "    <tr>\n",
       "      <th>0</th>\n",
       "      <td>3.430</td>\n",
       "      <td>3.820</td>\n",
       "      <td>3.700</td>\n",
       "      <td>3.250</td>\n",
       "      <td>3.28</td>\n",
       "      <td>2.83</td>\n",
       "      <td>2.640</td>\n",
       "      <td>2.920</td>\n",
       "      <td>3.020</td>\n",
       "      <td>3.85</td>\n",
       "      <td>...</td>\n",
       "      <td>5.55</td>\n",
       "      <td>6.270</td>\n",
       "      <td>6.380</td>\n",
       "      <td>5.920</td>\n",
       "      <td>5.480</td>\n",
       "      <td>6.000</td>\n",
       "      <td>6.690</td>\n",
       "      <td>5.59</td>\n",
       "      <td>4.78</td>\n",
       "      <td>DZA</td>\n",
       "    </tr>\n",
       "    <tr>\n",
       "      <th>130</th>\n",
       "      <td>2.270</td>\n",
       "      <td>2.310</td>\n",
       "      <td>2.240</td>\n",
       "      <td>2.430</td>\n",
       "      <td>2.63</td>\n",
       "      <td>2.30</td>\n",
       "      <td>3.420</td>\n",
       "      <td>2.860</td>\n",
       "      <td>3.290</td>\n",
       "      <td>3.33</td>\n",
       "      <td>...</td>\n",
       "      <td>4.56</td>\n",
       "      <td>5.460</td>\n",
       "      <td>3.690</td>\n",
       "      <td>3.760</td>\n",
       "      <td>3.560</td>\n",
       "      <td>3.870</td>\n",
       "      <td>5.390</td>\n",
       "      <td>5.27</td>\n",
       "      <td>4.55</td>\n",
       "      <td>AZE</td>\n",
       "    </tr>\n",
       "  </tbody>\n",
       "</table>\n",
       "<p>10 rows × 24 columns</p>\n",
       "</div>"
      ],
      "text/plain": [
       "       2000    2001   2002   2003  2004  2005   2006   2007   2008  2009  ...  \\\n",
       "135   2.150   1.890  1.980  2.120  1.97  2.41  2.390  2.470  2.300  1.91  ...   \n",
       "136   1.565   1.400  1.430  1.515  1.43  1.63  1.590  1.685  1.585  1.37  ...   \n",
       "168  10.530  11.420  9.760  8.690  8.08  7.73  7.850  8.530  7.350  9.62  ...   \n",
       "167   8.810   9.810  3.930  3.330  2.43  1.99  1.750  1.960  2.010  1.99  ...   \n",
       "47    1.625   1.565  1.465  1.370  1.41  1.46  1.145  1.075  1.720  1.64  ...   \n",
       "166   7.090   8.200  8.100  7.960  7.86  7.71  7.100  6.720  4.960  6.07  ...   \n",
       "165   5.390   5.450  4.750  4.680  4.51  4.48  4.580  4.630  4.000  4.02  ...   \n",
       "163   6.260   5.890  5.450  6.000  5.14  4.80  4.660  5.850  5.990  6.39  ...   \n",
       "0     3.430   3.820  3.700  3.250  3.28  2.83  2.640  2.920  3.020  3.85  ...   \n",
       "130   2.270   2.310  2.240  2.430  2.63  2.30  3.420  2.860  3.290  3.33  ...   \n",
       "\n",
       "      2014    2015    2016    2017   2018   2019   2020  2021   2022  \\\n",
       "135   2.25   3.250   3.150   2.880  3.190  3.520  3.810  3.23  33.55   \n",
       "136   1.50   1.975   1.940   1.820  1.970  2.135  2.345  2.05  17.16   \n",
       "168  10.68  13.330   9.870  10.220  9.140  8.130  9.180  7.58   7.42   \n",
       "167   9.77  11.450  10.215   9.315  8.705  7.785  8.605  6.45   6.96   \n",
       "47    1.82   1.670   1.840   1.870  1.960  3.150  2.840  3.11   5.44   \n",
       "166   8.86   9.570  10.560   8.410  8.270  7.440  8.030  6.56   5.17   \n",
       "165   4.68   4.490   5.060   4.510  4.850  4.240  3.030  3.37   4.85   \n",
       "163   4.20   4.190   4.440   4.680  4.560  4.570  4.700  4.81   4.84   \n",
       "0     5.55   6.270   6.380   5.920  5.480  6.000  6.690  5.59   4.78   \n",
       "130   4.56   5.460   3.690   3.760  3.560  3.870  5.390  5.27   4.55   \n",
       "\n",
       "     ISO_country  \n",
       "135          UKR  \n",
       "136         None  \n",
       "168          SAU  \n",
       "167          QAT  \n",
       "47           TGO  \n",
       "166          OMN  \n",
       "165          LBN  \n",
       "163          JOR  \n",
       "0            DZA  \n",
       "130          AZE  \n",
       "\n",
       "[10 rows x 24 columns]"
      ]
     },
     "execution_count": 8,
     "metadata": {},
     "output_type": "execute_result"
    }
   ],
   "source": [
    "# this function gets a country name and turns it into the ISO3 standard. It can then be mapped onto the dataframe.\n",
    "\n",
    "def country_to_iso(country_name):\n",
    "    try:\n",
    "        return pycountry.countries.lookup(country_name).alpha_3\n",
    "    except LookupError:\n",
    "        return None\n",
    "    \n",
    "# military spending data (GDP%)\n",
    "# change the below file path to fit your file structure\n",
    "milDF = pd.read_csv('./data/sipri_gdp_2000-2023.csv')\n",
    "milDF = milDF.replace('...', None) # recode NaNs\n",
    "cols = milDF.columns\n",
    "milDF.iloc[:, 1:] = milDF.iloc[:, 1:].applymap(lambda x: x.replace('%', '') if x is not None else x) # remove % signs\n",
    "milDF[cols[1:]] = milDF[cols[1:]].apply(pd.to_numeric, errors='coerce')\n",
    "milDF = milDF.interpolate(method='linear', axis=0, limit_direction=\"forward\") # interpolate the missing values\n",
    "milDF['ISO_country'] = milDF['Country'].apply(country_to_iso)\n",
    "milDF = milDF.drop('Country', axis=1)\n",
    "milDF = milDF.sort_values('2022', ascending=False) # sort in descending order of 2022\n",
    "\n",
    "# print length of data, columns and head to check that it is all correct\n",
    "print(f\"Length of dataframe: {len(milDF.index)}\")\n",
    "print(milDF.columns)\n",
    "milDF.head(10)\n",
    "\n"
   ]
  },
  {
   "cell_type": "code",
   "execution_count": 9,
   "metadata": {},
   "outputs": [
    {
     "name": "stdout",
     "output_type": "stream",
     "text": [
      "Length of dataframe: 174\n",
      "Index(['2000', '2001', '2002', '2003', '2004', '2005', '2006', '2007', '2008',\n",
      "       '2009', '2010', '2011', '2012', '2013', '2014', '2015', '2016', '2017',\n",
      "       '2018', '2019', '2020', '2021', '2022', 'ISO_country'],\n",
      "      dtype='object')\n"
     ]
    },
    {
     "data": {
      "text/html": [
       "<div>\n",
       "<style scoped>\n",
       "    .dataframe tbody tr th:only-of-type {\n",
       "        vertical-align: middle;\n",
       "    }\n",
       "\n",
       "    .dataframe tbody tr th {\n",
       "        vertical-align: top;\n",
       "    }\n",
       "\n",
       "    .dataframe thead th {\n",
       "        text-align: right;\n",
       "    }\n",
       "</style>\n",
       "<table border=\"1\" class=\"dataframe\">\n",
       "  <thead>\n",
       "    <tr style=\"text-align: right;\">\n",
       "      <th></th>\n",
       "      <th>2000</th>\n",
       "      <th>2001</th>\n",
       "      <th>2002</th>\n",
       "      <th>2003</th>\n",
       "      <th>2004</th>\n",
       "      <th>2005</th>\n",
       "      <th>2006</th>\n",
       "      <th>2007</th>\n",
       "      <th>2008</th>\n",
       "      <th>2009</th>\n",
       "      <th>...</th>\n",
       "      <th>2014</th>\n",
       "      <th>2015</th>\n",
       "      <th>2016</th>\n",
       "      <th>2017</th>\n",
       "      <th>2018</th>\n",
       "      <th>2019</th>\n",
       "      <th>2020</th>\n",
       "      <th>2021</th>\n",
       "      <th>2022</th>\n",
       "      <th>ISO_country</th>\n",
       "    </tr>\n",
       "  </thead>\n",
       "  <tbody>\n",
       "    <tr>\n",
       "      <th>65</th>\n",
       "      <td>503680.10</td>\n",
       "      <td>507770.80</td>\n",
       "      <td>570129.60</td>\n",
       "      <td>648901.60</td>\n",
       "      <td>707251.00</td>\n",
       "      <td>739826.20</td>\n",
       "      <td>750486.90</td>\n",
       "      <td>770512.7</td>\n",
       "      <td>826562.7</td>\n",
       "      <td>891604.50</td>\n",
       "      <td>...</td>\n",
       "      <td>741463.5</td>\n",
       "      <td>724625.9</td>\n",
       "      <td>722402.3</td>\n",
       "      <td>714959.10</td>\n",
       "      <td>736477.50</td>\n",
       "      <td>778326.9</td>\n",
       "      <td>814965.20</td>\n",
       "      <td>806230.20</td>\n",
       "      <td>811591.2</td>\n",
       "      <td>USA</td>\n",
       "    </tr>\n",
       "    <tr>\n",
       "      <th>87</th>\n",
       "      <td>45586.10</td>\n",
       "      <td>54052.90</td>\n",
       "      <td>62082.20</td>\n",
       "      <td>67187.90</td>\n",
       "      <td>74005.60</td>\n",
       "      <td>81267.80</td>\n",
       "      <td>93544.50</td>\n",
       "      <td>102829.8</td>\n",
       "      <td>112507.1</td>\n",
       "      <td>136520.50</td>\n",
       "      <td>...</td>\n",
       "      <td>197998.8</td>\n",
       "      <td>213542.4</td>\n",
       "      <td>225835.1</td>\n",
       "      <td>239724.30</td>\n",
       "      <td>253766.40</td>\n",
       "      <td>266129.3</td>\n",
       "      <td>278673.30</td>\n",
       "      <td>285930.50</td>\n",
       "      <td>297999.0</td>\n",
       "      <td>CHN</td>\n",
       "    </tr>\n",
       "    <tr>\n",
       "      <th>83</th>\n",
       "      <td>30792.60</td>\n",
       "      <td>31865.10</td>\n",
       "      <td>31766.50</td>\n",
       "      <td>32475.70</td>\n",
       "      <td>37723.50</td>\n",
       "      <td>40146.30</td>\n",
       "      <td>40471.50</td>\n",
       "      <td>40960.4</td>\n",
       "      <td>46459.4</td>\n",
       "      <td>54698.70</td>\n",
       "      <td>...</td>\n",
       "      <td>57867.1</td>\n",
       "      <td>58416.9</td>\n",
       "      <td>64374.7</td>\n",
       "      <td>68909.50</td>\n",
       "      <td>71336.20</td>\n",
       "      <td>76372.3</td>\n",
       "      <td>76835.60</td>\n",
       "      <td>76348.50</td>\n",
       "      <td>80955.8</td>\n",
       "      <td>IND</td>\n",
       "    </tr>\n",
       "    <tr>\n",
       "      <th>168</th>\n",
       "      <td>32860.60</td>\n",
       "      <td>35001.70</td>\n",
       "      <td>30722.90</td>\n",
       "      <td>30941.30</td>\n",
       "      <td>34334.00</td>\n",
       "      <td>41461.50</td>\n",
       "      <td>47230.60</td>\n",
       "      <td>54403.8</td>\n",
       "      <td>53395.8</td>\n",
       "      <td>54873.50</td>\n",
       "      <td>...</td>\n",
       "      <td>88476.4</td>\n",
       "      <td>94375.2</td>\n",
       "      <td>67526.2</td>\n",
       "      <td>75291.70</td>\n",
       "      <td>77882.10</td>\n",
       "      <td>69685.9</td>\n",
       "      <td>66536.00</td>\n",
       "      <td>63194.70</td>\n",
       "      <td>73041.5</td>\n",
       "      <td>SAU</td>\n",
       "    </tr>\n",
       "    <tr>\n",
       "      <th>134</th>\n",
       "      <td>22839.80</td>\n",
       "      <td>24683.00</td>\n",
       "      <td>27343.60</td>\n",
       "      <td>28670.80</td>\n",
       "      <td>29967.10</td>\n",
       "      <td>34054.90</td>\n",
       "      <td>37693.60</td>\n",
       "      <td>41029.6</td>\n",
       "      <td>45082.3</td>\n",
       "      <td>47299.80</td>\n",
       "      <td>...</td>\n",
       "      <td>67075.1</td>\n",
       "      <td>72293.5</td>\n",
       "      <td>77501.7</td>\n",
       "      <td>62801.20</td>\n",
       "      <td>60435.00</td>\n",
       "      <td>63143.9</td>\n",
       "      <td>64627.40</td>\n",
       "      <td>65907.70</td>\n",
       "      <td>71981.1</td>\n",
       "      <td>RUS</td>\n",
       "    </tr>\n",
       "    <tr>\n",
       "      <th>156</th>\n",
       "      <td>54375.00</td>\n",
       "      <td>56528.50</td>\n",
       "      <td>59889.10</td>\n",
       "      <td>64153.20</td>\n",
       "      <td>64949.30</td>\n",
       "      <td>65556.50</td>\n",
       "      <td>65857.20</td>\n",
       "      <td>67650.2</td>\n",
       "      <td>70611.9</td>\n",
       "      <td>71743.30</td>\n",
       "      <td>...</td>\n",
       "      <td>62696.4</td>\n",
       "      <td>60286.3</td>\n",
       "      <td>60076.1</td>\n",
       "      <td>60185.90</td>\n",
       "      <td>60638.90</td>\n",
       "      <td>63157.8</td>\n",
       "      <td>64161.10</td>\n",
       "      <td>67500.70</td>\n",
       "      <td>69998.7</td>\n",
       "      <td>GBR</td>\n",
       "    </tr>\n",
       "    <tr>\n",
       "      <th>143</th>\n",
       "      <td>46431.40</td>\n",
       "      <td>45668.20</td>\n",
       "      <td>45792.40</td>\n",
       "      <td>45166.60</td>\n",
       "      <td>43783.00</td>\n",
       "      <td>36489.50</td>\n",
       "      <td>42138.70</td>\n",
       "      <td>42203.2</td>\n",
       "      <td>43201.0</td>\n",
       "      <td>44837.10</td>\n",
       "      <td>...</td>\n",
       "      <td>43670.6</td>\n",
       "      <td>44420.5</td>\n",
       "      <td>46348.1</td>\n",
       "      <td>47677.50</td>\n",
       "      <td>48993.20</td>\n",
       "      <td>53742.5</td>\n",
       "      <td>57056.10</td>\n",
       "      <td>56513.10</td>\n",
       "      <td>57807.7</td>\n",
       "      <td>DEU</td>\n",
       "    </tr>\n",
       "    <tr>\n",
       "      <th>142</th>\n",
       "      <td>48554.40</td>\n",
       "      <td>48404.70</td>\n",
       "      <td>49399.20</td>\n",
       "      <td>50889.30</td>\n",
       "      <td>52278.60</td>\n",
       "      <td>51207.10</td>\n",
       "      <td>51443.00</td>\n",
       "      <td>51423.6</td>\n",
       "      <td>51049.9</td>\n",
       "      <td>54826.90</td>\n",
       "      <td>...</td>\n",
       "      <td>50435.8</td>\n",
       "      <td>51815.5</td>\n",
       "      <td>53824.5</td>\n",
       "      <td>54532.60</td>\n",
       "      <td>53187.30</td>\n",
       "      <td>54066.0</td>\n",
       "      <td>55623.20</td>\n",
       "      <td>56647.00</td>\n",
       "      <td>56999.7</td>\n",
       "      <td>FRA</td>\n",
       "    </tr>\n",
       "    <tr>\n",
       "      <th>88</th>\n",
       "      <td>45779.80</td>\n",
       "      <td>46581.20</td>\n",
       "      <td>46813.20</td>\n",
       "      <td>46872.40</td>\n",
       "      <td>46685.20</td>\n",
       "      <td>46600.80</td>\n",
       "      <td>46006.90</td>\n",
       "      <td>45408.9</td>\n",
       "      <td>44971.9</td>\n",
       "      <td>45814.40</td>\n",
       "      <td>...</td>\n",
       "      <td>46335.4</td>\n",
       "      <td>47149.4</td>\n",
       "      <td>46869.3</td>\n",
       "      <td>46559.20</td>\n",
       "      <td>48903.00</td>\n",
       "      <td>50293.9</td>\n",
       "      <td>49862.80</td>\n",
       "      <td>50957.50</td>\n",
       "      <td>53946.5</td>\n",
       "      <td>JPN</td>\n",
       "    </tr>\n",
       "    <tr>\n",
       "      <th>89</th>\n",
       "      <td>33963.55</td>\n",
       "      <td>34680.95</td>\n",
       "      <td>35110.85</td>\n",
       "      <td>35538.35</td>\n",
       "      <td>35976.45</td>\n",
       "      <td>36964.25</td>\n",
       "      <td>37159.75</td>\n",
       "      <td>37501.9</td>\n",
       "      <td>38251.4</td>\n",
       "      <td>39663.85</td>\n",
       "      <td>...</td>\n",
       "      <td>41975.1</td>\n",
       "      <td>43112.7</td>\n",
       "      <td>43462.2</td>\n",
       "      <td>43675.55</td>\n",
       "      <td>45881.85</td>\n",
       "      <td>48303.7</td>\n",
       "      <td>49306.55</td>\n",
       "      <td>50915.65</td>\n",
       "      <td>51782.4</td>\n",
       "      <td>None</td>\n",
       "    </tr>\n",
       "  </tbody>\n",
       "</table>\n",
       "<p>10 rows × 24 columns</p>\n",
       "</div>"
      ],
      "text/plain": [
       "          2000       2001       2002       2003       2004       2005  \\\n",
       "65   503680.10  507770.80  570129.60  648901.60  707251.00  739826.20   \n",
       "87    45586.10   54052.90   62082.20   67187.90   74005.60   81267.80   \n",
       "83    30792.60   31865.10   31766.50   32475.70   37723.50   40146.30   \n",
       "168   32860.60   35001.70   30722.90   30941.30   34334.00   41461.50   \n",
       "134   22839.80   24683.00   27343.60   28670.80   29967.10   34054.90   \n",
       "156   54375.00   56528.50   59889.10   64153.20   64949.30   65556.50   \n",
       "143   46431.40   45668.20   45792.40   45166.60   43783.00   36489.50   \n",
       "142   48554.40   48404.70   49399.20   50889.30   52278.60   51207.10   \n",
       "88    45779.80   46581.20   46813.20   46872.40   46685.20   46600.80   \n",
       "89    33963.55   34680.95   35110.85   35538.35   35976.45   36964.25   \n",
       "\n",
       "          2006      2007      2008       2009  ...      2014      2015  \\\n",
       "65   750486.90  770512.7  826562.7  891604.50  ...  741463.5  724625.9   \n",
       "87    93544.50  102829.8  112507.1  136520.50  ...  197998.8  213542.4   \n",
       "83    40471.50   40960.4   46459.4   54698.70  ...   57867.1   58416.9   \n",
       "168   47230.60   54403.8   53395.8   54873.50  ...   88476.4   94375.2   \n",
       "134   37693.60   41029.6   45082.3   47299.80  ...   67075.1   72293.5   \n",
       "156   65857.20   67650.2   70611.9   71743.30  ...   62696.4   60286.3   \n",
       "143   42138.70   42203.2   43201.0   44837.10  ...   43670.6   44420.5   \n",
       "142   51443.00   51423.6   51049.9   54826.90  ...   50435.8   51815.5   \n",
       "88    46006.90   45408.9   44971.9   45814.40  ...   46335.4   47149.4   \n",
       "89    37159.75   37501.9   38251.4   39663.85  ...   41975.1   43112.7   \n",
       "\n",
       "         2016       2017       2018      2019       2020       2021      2022  \\\n",
       "65   722402.3  714959.10  736477.50  778326.9  814965.20  806230.20  811591.2   \n",
       "87   225835.1  239724.30  253766.40  266129.3  278673.30  285930.50  297999.0   \n",
       "83    64374.7   68909.50   71336.20   76372.3   76835.60   76348.50   80955.8   \n",
       "168   67526.2   75291.70   77882.10   69685.9   66536.00   63194.70   73041.5   \n",
       "134   77501.7   62801.20   60435.00   63143.9   64627.40   65907.70   71981.1   \n",
       "156   60076.1   60185.90   60638.90   63157.8   64161.10   67500.70   69998.7   \n",
       "143   46348.1   47677.50   48993.20   53742.5   57056.10   56513.10   57807.7   \n",
       "142   53824.5   54532.60   53187.30   54066.0   55623.20   56647.00   56999.7   \n",
       "88    46869.3   46559.20   48903.00   50293.9   49862.80   50957.50   53946.5   \n",
       "89    43462.2   43675.55   45881.85   48303.7   49306.55   50915.65   51782.4   \n",
       "\n",
       "     ISO_country  \n",
       "65           USA  \n",
       "87           CHN  \n",
       "83           IND  \n",
       "168          SAU  \n",
       "134          RUS  \n",
       "156          GBR  \n",
       "143          DEU  \n",
       "142          FRA  \n",
       "88           JPN  \n",
       "89          None  \n",
       "\n",
       "[10 rows x 24 columns]"
      ]
     },
     "execution_count": 9,
     "metadata": {},
     "output_type": "execute_result"
    }
   ],
   "source": [
    "# military spending data (USD)\n",
    "# change the below file path to fit your file structure\n",
    "milDF_USD = pd.read_csv('./data/sipri_2022usd_data_2000-2023.csv')\n",
    "milDF_USD = milDF_USD.replace('...', None)\n",
    "cols = milDF_USD.columns\n",
    "milDF_USD[cols[1:]] = milDF_USD[cols[1:]].apply(pd.to_numeric, errors='coerce')\n",
    "milDF_USD = milDF_USD.interpolate(method='linear', axis=0, limit_direction=\"forward\") # interpolate the missing values \n",
    "milDF_USD['ISO_country'] = milDF_USD['Country'].apply(country_to_iso)\n",
    "milDF_USD = milDF_USD.drop('Country', axis=1)\n",
    "milDF_USD = milDF_USD.sort_values('2022', ascending=False) # sort in descending order of 2022\n",
    "\n",
    "# print length of data, columns and head to check that it is all correct\n",
    "print(f\"Length of dataframe: {len(milDF_USD.index)}\")\n",
    "print(milDF_USD.columns)\n",
    "milDF_USD.head(10)"
   ]
  },
  {
   "cell_type": "markdown",
   "metadata": {},
   "source": [
    "# Inserting Data"
   ]
  },
  {
   "cell_type": "code",
   "execution_count": 10,
   "metadata": {},
   "outputs": [],
   "source": [
    "tables = ['greenhouseGas', 'militarySpending', 'militarySpendingUSD', 'population']\n",
    "dataframes = [ccDF, milDF, milDF_USD, popDF]\n",
    "\n",
    "for index, table in enumerate(tables):\n",
    "    tableName = table\n",
    "    dataframe = dataframes[index]\n",
    "    for index, row in dataframe.iterrows():\n",
    "        ISO_country = row['ISO_country']\n",
    "        cur.execute(f\"INSERT INTO {tableName} VALUES (?, ?, ?, ?, ?, ?, ?, ?, ?, ?, ?, ?, ?, ?, ?, ?, ?, ?, ?, ?, ?, ?, ?, ?)\", (ISO_country, row['2000'], row['2001'], row['2002'], row['2003'], row['2004'], row['2005'], row['2006'], row['2007'], row['2008'], row['2009'], row['2010'], row['2011'], row['2012'], row['2013'], row['2014'], row['2015'], row['2016'], row['2017'], row['2018'], row['2019'], row['2020'], row['2021'], row['2022']))"
   ]
  },
  {
   "cell_type": "code",
   "execution_count": 11,
   "metadata": {},
   "outputs": [],
   "source": [
    "conn.commit()\n",
    "conn.close()"
   ]
  },
  {
   "cell_type": "markdown",
   "metadata": {},
   "source": [
    "# Visualising Data\n",
    "The visualisations are not yet complete.\n"
   ]
  },
  {
   "cell_type": "markdown",
   "metadata": {},
   "source": [
    "## Maps"
   ]
  },
  {
   "cell_type": "code",
   "execution_count": 12,
   "metadata": {},
   "outputs": [],
   "source": [
    "annex1 = ['AUS', 'AUT', 'BLR', 'BEL', 'BGR', 'CAN', 'HRV', 'CYP', 'CZE', 'DNK', 'EST', 'EUU', 'FIN', 'FRA', 'DEU', 'GRC', 'HUN', 'ISL', 'IRL', 'ITA', 'JPN', 'LVA', 'LIE', 'LTU', 'LUX', 'MLT', 'MCO', 'NLD', 'NZL', 'NOR', 'POL', 'PRT', 'ROU', 'RUS', 'SVK', 'SVN', 'ESP', 'SWE', 'CHE', 'TUR', 'UKR', 'GBR', 'USA']\n"
   ]
  },
  {
   "cell_type": "code",
   "execution_count": 13,
   "metadata": {},
   "outputs": [],
   "source": [
    "emissionsCapitaDF =  ccDF.set_index('ISO_country') / popDF.set_index('ISO_country')\n",
    "emissionsCapitaDF.reset_index(inplace=True)\n",
    "\n",
    "\n",
    "emissionsCapitaDF = emissionsCapitaDF.interpolate()\n",
    "emissionsCapitaDF = emissionsCapitaDF.sort_values(by='2022', ascending=False)\n"
   ]
  },
  {
   "cell_type": "code",
   "execution_count": 14,
   "metadata": {},
   "outputs": [
    {
     "data": {
      "application/vnd.plotly.v1+json": {
       "config": {
        "plotlyServerURL": "https://plot.ly"
       },
       "data": [
        {
         "hovertemplate": "ISO_country=ISL<br>Year=%{x}<br>Value=%{y}<extra></extra>",
         "legendgroup": "ISL",
         "line": {
          "color": "#636efa",
          "dash": "solid"
         },
         "marker": {
          "symbol": "circle"
         },
         "mode": "lines",
         "name": "ISL",
         "orientation": "v",
         "showlegend": true,
         "type": "scatter",
         "x": [
          "2000",
          "2001",
          "2002",
          "2003",
          "2004",
          "2005",
          "2006",
          "2007",
          "2008",
          "2009",
          "2010",
          "2011",
          "2012",
          "2013",
          "2014",
          "2015",
          "2016",
          "2017",
          "2018",
          "2019",
          "2020",
          "2021",
          "2022"
         ],
         "xaxis": "x",
         "y": [
          0.000049259716250859306,
          0.000048183533431113994,
          0.000048031510207496655,
          0.00004758583346031834,
          0.00004760377539934125,
          0.000046601624306233775,
          0.00004769548472633999,
          0.00004717091823049771,
          0.000047348057291254295,
          0.00004577908625948229,
          0.00004561623547617999,
          0.00004474386327414193,
          0.00004455269498446127,
          0.000044221049786876033,
          0.00004361772759069265,
          0.0000433536181156274,
          0.000042648300708000766,
          0.000042045982202190906,
          0.000040954454131689815,
          0.000039568519718148195,
          0.00003826601490366142,
          0.00003810337654946639,
          0.00003931720005811576
         ],
         "yaxis": "y"
        },
        {
         "hovertemplate": "ISO_country=AUS<br>Year=%{x}<br>Value=%{y}<extra></extra>",
         "legendgroup": "AUS",
         "line": {
          "color": "#EF553B",
          "dash": "solid"
         },
         "marker": {
          "symbol": "circle"
         },
         "mode": "lines",
         "name": "AUS",
         "orientation": "v",
         "showlegend": true,
         "type": "scatter",
         "x": [
          "2000",
          "2001",
          "2002",
          "2003",
          "2004",
          "2005",
          "2006",
          "2007",
          "2008",
          "2009",
          "2010",
          "2011",
          "2012",
          "2013",
          "2014",
          "2015",
          "2016",
          "2017",
          "2018",
          "2019",
          "2020",
          "2021",
          "2022"
         ],
         "xaxis": "x",
         "y": [
          0.000029118543178119096,
          0.00002971109524349863,
          0.00002933742722454708,
          0.000029630202119500003,
          0.00002901993392523022,
          0.00003012604415739818,
          0.000030369677950874167,
          0.000030449520344142956,
          0.00002934812209181269,
          0.000028835350165310038,
          0.00002733856001965506,
          0.000025977888049485848,
          0.000024892189833830802,
          0.000023755839829132556,
          0.000023339629803275607,
          0.00002254973741445,
          0.00002122300429996456,
          0.000020834932266518775,
          0.000020763935851346637,
          0.00001996838030952603,
          0.000018960006587019295,
          0.000018126650739601397,
          0.000018118202197659425
         ],
         "yaxis": "y"
        },
        {
         "hovertemplate": "ISO_country=CAN<br>Year=%{x}<br>Value=%{y}<extra></extra>",
         "legendgroup": "CAN",
         "line": {
          "color": "#00cc96",
          "dash": "solid"
         },
         "marker": {
          "symbol": "circle"
         },
         "mode": "lines",
         "name": "CAN",
         "orientation": "v",
         "showlegend": true,
         "type": "scatter",
         "x": [
          "2000",
          "2001",
          "2002",
          "2003",
          "2004",
          "2005",
          "2006",
          "2007",
          "2008",
          "2009",
          "2010",
          "2011",
          "2012",
          "2013",
          "2014",
          "2015",
          "2016",
          "2017",
          "2018",
          "2019",
          "2020",
          "2021",
          "2022"
         ],
         "xaxis": "x",
         "y": [
          0.00002232871852231835,
          0.000021525187299238854,
          0.000022580330203175916,
          0.00002297730825257069,
          0.000022803282721310286,
          0.000022665665290923233,
          0.000021808229796040952,
          0.00002236570275720875,
          0.00002147672120451598,
          0.000019181505384017958,
          0.00002023780298411256,
          0.000020482874525063614,
          0.000020148346193415414,
          0.000020164950222299132,
          0.000019317426824211285,
          0.000020328885509468563,
          0.000019329652787565242,
          0.00001916049041153996,
          0.000019392411103859383,
          0.000018903622440212774,
          0.000017092980087097297,
          0.000017178849416470816,
          0.000017502826816623484
         ],
         "yaxis": "y"
        },
        {
         "hovertemplate": "ISO_country=USA<br>Year=%{x}<br>Value=%{y}<extra></extra>",
         "legendgroup": "USA",
         "line": {
          "color": "#ab63fa",
          "dash": "solid"
         },
         "marker": {
          "symbol": "circle"
         },
         "mode": "lines",
         "name": "USA",
         "orientation": "v",
         "showlegend": true,
         "type": "scatter",
         "x": [
          "2000",
          "2001",
          "2002",
          "2003",
          "2004",
          "2005",
          "2006",
          "2007",
          "2008",
          "2009",
          "2010",
          "2011",
          "2012",
          "2013",
          "2014",
          "2015",
          "2016",
          "2017",
          "2018",
          "2019",
          "2020",
          "2021",
          "2022"
         ],
         "xaxis": "x",
         "y": [
          0.000023237208528966485,
          0.000022558930168161804,
          0.00002260625453106777,
          0.000022495543521747382,
          0.000023043775470554716,
          0.000022629615648472655,
          0.000022066718233727726,
          0.000022334447625461555,
          0.000021445222643407178,
          0.0000198983633382544,
          0.000020339959469487272,
          0.000019550475755012874,
          0.000018644589312203525,
          0.000019134570570595006,
          0.000019097420578839473,
          0.000018717030925807556,
          0.000017670025296554583,
          0.000017590362651726397,
          0.000018072976512762757,
          0.00001772410232352629,
          0.00001562027127498729,
          0.00001656531908429434,
          0.00001690509787127701
         ],
         "yaxis": "y"
        },
        {
         "hovertemplate": "ISO_country=IRL<br>Year=%{x}<br>Value=%{y}<extra></extra>",
         "legendgroup": "IRL",
         "line": {
          "color": "#FFA15A",
          "dash": "solid"
         },
         "marker": {
          "symbol": "circle"
         },
         "mode": "lines",
         "name": "IRL",
         "orientation": "v",
         "showlegend": true,
         "type": "scatter",
         "x": [
          "2000",
          "2001",
          "2002",
          "2003",
          "2004",
          "2005",
          "2006",
          "2007",
          "2008",
          "2009",
          "2010",
          "2011",
          "2012",
          "2013",
          "2014",
          "2015",
          "2016",
          "2017",
          "2018",
          "2019",
          "2020",
          "2021",
          "2022"
         ],
         "xaxis": "x",
         "y": [
          0.00002058777735286336,
          0.000021136172465490384,
          0.000020267728707310728,
          0.000020181679114721952,
          0.000019283938308076255,
          0.000019450892211024495,
          0.000018859498755480896,
          0.000017774875384028997,
          0.000017070011799878583,
          0.000015402719287762906,
          0.000015525635932806968,
          0.000014339898679841131,
          0.000014366207270744673,
          0.000014426725213997763,
          0.00001413240445622199,
          0.00001464654597485954,
          0.00001472132829614505,
          0.000014944858814123417,
          0.000014576710492393872,
          0.000013935197860514276,
          0.000013420864474320589,
          0.000013981443034697464,
          0.000014144950090773105
         ],
         "yaxis": "y"
        },
        {
         "hovertemplate": "ISO_country=CZE<br>Year=%{x}<br>Value=%{y}<extra></extra>",
         "legendgroup": "CZE",
         "line": {
          "color": "#19d3f3",
          "dash": "solid"
         },
         "marker": {
          "symbol": "circle"
         },
         "mode": "lines",
         "name": "CZE",
         "orientation": "v",
         "showlegend": true,
         "type": "scatter",
         "x": [
          "2000",
          "2001",
          "2002",
          "2003",
          "2004",
          "2005",
          "2006",
          "2007",
          "2008",
          "2009",
          "2010",
          "2011",
          "2012",
          "2013",
          "2014",
          "2015",
          "2016",
          "2017",
          "2018",
          "2019",
          "2020",
          "2021",
          "2022"
         ],
         "xaxis": "x",
         "y": [
          0.000013859496184243648,
          0.000013841491696566795,
          0.000013486812597445776,
          0.000013842205814563957,
          0.000013931559791809664,
          0.000013694996966303327,
          0.000013900881213949422,
          0.000014078140901107884,
          0.000013410311680323813,
          0.000012447359926065526,
          0.000012734152109191904,
          0.000012494386280054837,
          0.000012078650616740332,
          0.000011615278986338591,
          0.00001141707307375255,
          0.000011549460708182323,
          0.000011779313335472813,
          0.000012008535314226885,
          0.000012357545217074712,
          0.000012453731812896392,
          0.000011797392765985592,
          0.00001204224329807803,
          0.00001209474556096901
         ],
         "yaxis": "y"
        },
        {
         "hovertemplate": "ISO_country=LUX<br>Year=%{x}<br>Value=%{y}<extra></extra>",
         "legendgroup": "LUX",
         "line": {
          "color": "#FF6692",
          "dash": "solid"
         },
         "marker": {
          "symbol": "circle"
         },
         "mode": "lines",
         "name": "LUX",
         "orientation": "v",
         "showlegend": true,
         "type": "scatter",
         "x": [
          "2000",
          "2001",
          "2002",
          "2003",
          "2004",
          "2005",
          "2006",
          "2007",
          "2008",
          "2009",
          "2010",
          "2011",
          "2012",
          "2013",
          "2014",
          "2015",
          "2016",
          "2017",
          "2018",
          "2019",
          "2020",
          "2021",
          "2022"
         ],
         "xaxis": "x",
         "y": [
          0.00002083130212449165,
          0.00002173038163877929,
          0.000023246917457241364,
          0.00002407617517938646,
          0.00002664804116591297,
          0.00002692794877302144,
          0.000026287908445146014,
          0.00002484692485772567,
          0.000024182922765236085,
          0.000022577927650840543,
          0.000023767916126527078,
          0.000022901589205280164,
          0.00002177147737283062,
          0.000020045293072062992,
          0.00001884515021295184,
          0.000017656635633415614,
          0.00001666561339950286,
          0.00001671469109355476,
          0.000017133420033590327,
          0.000016889474446419174,
          0.000013694345854117453,
          0.000013827946262919082,
          0.000012005875604498681
         ],
         "yaxis": "y"
        },
        {
         "hovertemplate": "ISO_country=EST<br>Year=%{x}<br>Value=%{y}<extra></extra>",
         "legendgroup": "EST",
         "line": {
          "color": "#B6E880",
          "dash": "solid"
         },
         "marker": {
          "symbol": "circle"
         },
         "mode": "lines",
         "name": "EST",
         "orientation": "v",
         "showlegend": true,
         "type": "scatter",
         "x": [
          "2000",
          "2001",
          "2002",
          "2003",
          "2004",
          "2005",
          "2006",
          "2007",
          "2008",
          "2009",
          "2010",
          "2011",
          "2012",
          "2013",
          "2014",
          "2015",
          "2016",
          "2017",
          "2018",
          "2019",
          "2020",
          "2021",
          "2022"
         ],
         "xaxis": "x",
         "y": [
          0.000008944712948352042,
          0.000009139026234494762,
          0.000009007377972307258,
          0.000010709346622208809,
          0.000010532472801185154,
          0.000011879433998785626,
          0.000010297575764531145,
          0.000013330572154123412,
          0.00001085522086871016,
          0.00000857362268874659,
          0.000011527646777810276,
          0.00001174782853511424,
          0.0000121820831604032,
          0.000014317815911029371,
          0.000015593425140808193,
          0.0000128871276941645,
          0.00001457852356811022,
          0.000015882250969567402,
          0.00001668866821445247,
          0.000011635154163311299,
          0.000010265881929386058,
          0.000011449559784088156,
          0.000011160534739379331
         ],
         "yaxis": "y"
        },
        {
         "hovertemplate": "ISO_country=RUS<br>Year=%{x}<br>Value=%{y}<extra></extra>",
         "legendgroup": "RUS",
         "line": {
          "color": "#FF97FF",
          "dash": "solid"
         },
         "marker": {
          "symbol": "circle"
         },
         "mode": "lines",
         "name": "RUS",
         "orientation": "v",
         "showlegend": true,
         "type": "scatter",
         "x": [
          "2000",
          "2001",
          "2002",
          "2003",
          "2004",
          "2005",
          "2006",
          "2007",
          "2008",
          "2009",
          "2010",
          "2011",
          "2012",
          "2013",
          "2014",
          "2015",
          "2016",
          "2017",
          "2018",
          "2019",
          "2020",
          "2021",
          "2022"
         ],
         "xaxis": "x",
         "y": [
          0.000009559456599417527,
          0.000009480816169698463,
          0.00000920294853687259,
          0.000009426940707462787,
          0.000009642037017010693,
          0.000009817262997101398,
          0.000010257598140921782,
          0.000010152955760215802,
          0.000010096747476714937,
          0.000008617403690273478,
          0.000009143299906160316,
          0.00000986586855922136,
          0.000009947236345468647,
          0.000009859315749287715,
          0.0000094833263218709,
          0.000009927177171620944,
          0.000009693038815799445,
          0.000010077728357808757,
          0.000010634956583649694,
          0.000010769085959098675,
          0.00001021706422902159,
          0.000011216411672945976,
          0.00001111685083260765
         ],
         "yaxis": "y"
        },
        {
         "hovertemplate": "ISO_country=NZL<br>Year=%{x}<br>Value=%{y}<extra></extra>",
         "legendgroup": "NZL",
         "line": {
          "color": "#FECB52",
          "dash": "solid"
         },
         "marker": {
          "symbol": "circle"
         },
         "mode": "lines",
         "name": "NZL",
         "orientation": "v",
         "showlegend": true,
         "type": "scatter",
         "x": [
          "2000",
          "2001",
          "2002",
          "2003",
          "2004",
          "2005",
          "2006",
          "2007",
          "2008",
          "2009",
          "2010",
          "2011",
          "2012",
          "2013",
          "2014",
          "2015",
          "2016",
          "2017",
          "2018",
          "2019",
          "2020",
          "2021",
          "2022"
         ],
         "xaxis": "x",
         "y": [
          0.000012398446206908754,
          0.000012927004832466895,
          0.000013119180688761012,
          0.000013133657174345188,
          0.000012883813797631191,
          0.000013645187885166966,
          0.000013980902382018169,
          0.000013717703589398253,
          0.000011699757550631735,
          0.000011227749034813986,
          0.000011037512631858057,
          0.000010822666623615611,
          0.000011872979122446612,
          0.000011724747010071777,
          0.000011722908725392055,
          0.000011498045026395851,
          0.000010922401863499886,
          0.000011422848305606324,
          0.000011376456854902747,
          0.000011408430267406878,
          0.00001070720976600797,
          0.000010891190669674913,
          0.000010382469343592675
         ],
         "yaxis": "y"
        },
        {
         "hovertemplate": "ISO_country=POL<br>Year=%{x}<br>Value=%{y}<extra></extra>",
         "legendgroup": "POL",
         "line": {
          "color": "#636efa",
          "dash": "solid"
         },
         "marker": {
          "symbol": "circle"
         },
         "mode": "lines",
         "name": "POL",
         "orientation": "v",
         "showlegend": true,
         "type": "scatter",
         "x": [
          "2000",
          "2001",
          "2002",
          "2003",
          "2004",
          "2005",
          "2006",
          "2007",
          "2008",
          "2009",
          "2010",
          "2011",
          "2012",
          "2013",
          "2014",
          "2015",
          "2016",
          "2017",
          "2018",
          "2019",
          "2020",
          "2021",
          "2022"
         ],
         "xaxis": "x",
         "y": [
          0.000009374421862573644,
          0.000009457880538775521,
          0.000008971382038156079,
          0.000009267452352340064,
          0.000009120678195056164,
          0.000009140311982806092,
          0.000009677923196980272,
          0.000009847620525920814,
          0.000009685174589596708,
          0.00000921541829255278,
          0.000009701315393540944,
          0.000009513980450717483,
          0.000009296694228119963,
          0.000009137103460574498,
          0.000009007152392433107,
          0.00000918369224939878,
          0.000009288822885062751,
          0.000009644318725965237,
          0.000009660528321758653,
          0.000009558534456513236,
          0.00000915730793046597,
          0.000009884209310319948,
          0.000009765932304694624
         ],
         "yaxis": "y"
        },
        {
         "hovertemplate": "ISO_country=NLD<br>Year=%{x}<br>Value=%{y}<extra></extra>",
         "legendgroup": "NLD",
         "line": {
          "color": "#EF553B",
          "dash": "solid"
         },
         "marker": {
          "symbol": "circle"
         },
         "mode": "lines",
         "name": "NLD",
         "orientation": "v",
         "showlegend": true,
         "type": "scatter",
         "x": [
          "2000",
          "2001",
          "2002",
          "2003",
          "2004",
          "2005",
          "2006",
          "2007",
          "2008",
          "2009",
          "2010",
          "2011",
          "2012",
          "2013",
          "2014",
          "2015",
          "2016",
          "2017",
          "2018",
          "2019",
          "2020",
          "2021",
          "2022"
         ],
         "xaxis": "x",
         "y": [
          0.000014199704495378637,
          0.000014198523479172633,
          0.000013980564524032001,
          0.000013983742450437455,
          0.00001400541414194413,
          0.000013581369192382728,
          0.000013212591565104282,
          0.000013050439736355036,
          0.000012989295116278773,
          0.00001258702499286075,
          0.000013232236324222423,
          0.000012340412506415587,
          0.00001203674039048765,
          0.000011932230322238324,
          0.000011384986935487687,
          0.000011731002139912311,
          0.000011694332640634222,
          0.000011422426978222832,
          0.000011070468248225183,
          0.000010685184197915454,
          0.000009683225275634906,
          0.000009816669788773447,
          0.000009127938569227372
         ],
         "yaxis": "y"
        },
        {
         "hovertemplate": "ISO_country=DEU<br>Year=%{x}<br>Value=%{y}<extra></extra>",
         "legendgroup": "DEU",
         "line": {
          "color": "#00cc96",
          "dash": "solid"
         },
         "marker": {
          "symbol": "circle"
         },
         "mode": "lines",
         "name": "DEU",
         "orientation": "v",
         "showlegend": true,
         "type": "scatter",
         "x": [
          "2000",
          "2001",
          "2002",
          "2003",
          "2004",
          "2005",
          "2006",
          "2007",
          "2008",
          "2009",
          "2010",
          "2011",
          "2012",
          "2013",
          "2014",
          "2015",
          "2016",
          "2017",
          "2018",
          "2019",
          "2020",
          "2021",
          "2022"
         ],
         "xaxis": "x",
         "y": [
          0.000012741053087262954,
          0.000012805288434063155,
          0.000012939981173281295,
          0.000012845892956160698,
          0.000012562682501607404,
          0.000012207411300300979,
          0.000012215837366881576,
          0.000011923053780526362,
          0.000011853938629507569,
          0.000010919071238008307,
          0.000011424172091111656,
          0.000011031146873030407,
          0.00001098125397313724,
          0.000011226035287787484,
          0.000010804248965740809,
          0.000010788739648332474,
          0.000010753441154410742,
          0.000010544428803293498,
          0.000010117486033065955,
          0.000009474747566282169,
          0.000008814628438857802,
          0.000009152052818600528,
          0.00000905384898129065
         ],
         "yaxis": "y"
        },
        {
         "hovertemplate": "ISO_country=JPN<br>Year=%{x}<br>Value=%{y}<extra></extra>",
         "legendgroup": "JPN",
         "line": {
          "color": "#ab63fa",
          "dash": "solid"
         },
         "marker": {
          "symbol": "circle"
         },
         "mode": "lines",
         "name": "JPN",
         "orientation": "v",
         "showlegend": true,
         "type": "scatter",
         "x": [
          "2000",
          "2001",
          "2002",
          "2003",
          "2004",
          "2005",
          "2006",
          "2007",
          "2008",
          "2009",
          "2010",
          "2011",
          "2012",
          "2013",
          "2014",
          "2015",
          "2016",
          "2017",
          "2018",
          "2019",
          "2020",
          "2021",
          "2022"
         ],
         "xaxis": "x",
         "y": [
          0.000010172070731925908,
          0.000009942037817514144,
          0.000010098114933819076,
          0.000010043490666430377,
          0.000009989059141399874,
          0.000010081524401969111,
          0.000009945378308687057,
          0.000010243530277014888,
          0.000009744301805644183,
          0.000009203203892277543,
          0.000009588893557707165,
          0.000010002347050770715,
          0.000010327127332758869,
          0.000010489145278440737,
          0.000010144713455109532,
          0.000009902515480621788,
          0.000009811974892302543,
          0.0000096967688353352,
          0.00000938154539103618,
          0.000009176677483315036,
          0.000008705649907198957,
          0.000008931749589871288,
          0.000009041192803474717
         ],
         "yaxis": "y"
        },
        {
         "hovertemplate": "ISO_country=BEL<br>Year=%{x}<br>Value=%{y}<extra></extra>",
         "legendgroup": "BEL",
         "line": {
          "color": "#FFA15A",
          "dash": "solid"
         },
         "marker": {
          "symbol": "circle"
         },
         "mode": "lines",
         "name": "BEL",
         "orientation": "v",
         "showlegend": true,
         "type": "scatter",
         "x": [
          "2000",
          "2001",
          "2002",
          "2003",
          "2004",
          "2005",
          "2006",
          "2007",
          "2008",
          "2009",
          "2010",
          "2011",
          "2012",
          "2013",
          "2014",
          "2015",
          "2016",
          "2017",
          "2018",
          "2019",
          "2020",
          "2021",
          "2022"
         ],
         "xaxis": "x",
         "y": [
          0.00001436593730205778,
          0.000014170837048407624,
          0.00001405806847068447,
          0.000014036506557884566,
          0.000014073585680885128,
          0.000013692244102819787,
          0.000013356578793814252,
          0.000012956114423156708,
          0.00001286969767867393,
          0.00001162719188976261,
          0.00001228747138236409,
          0.000011248649877345683,
          0.000010920273942949395,
          0.000010796968725260114,
          0.000010222720179623409,
          0.000010524889282582522,
          0.000010330454392878722,
          0.000010232901504811944,
          0.000010236384572642565,
          0.000010094010050468372,
          0.00000925667036036666,
          0.000009542642538179407,
          0.00000890200502908808
         ],
         "yaxis": "y"
        },
        {
         "hovertemplate": "ISO_country=FIN<br>Year=%{x}<br>Value=%{y}<extra></extra>",
         "legendgroup": "FIN",
         "line": {
          "color": "#19d3f3",
          "dash": "solid"
         },
         "marker": {
          "symbol": "circle"
         },
         "mode": "lines",
         "name": "FIN",
         "orientation": "v",
         "showlegend": true,
         "type": "scatter",
         "x": [
          "2000",
          "2001",
          "2002",
          "2003",
          "2004",
          "2005",
          "2006",
          "2007",
          "2008",
          "2009",
          "2010",
          "2011",
          "2012",
          "2013",
          "2014",
          "2015",
          "2016",
          "2017",
          "2018",
          "2019",
          "2020",
          "2021",
          "2022"
         ],
         "xaxis": "x",
         "y": [
          0.000008488666624124378,
          0.000009356248226001734,
          0.00000956906417856549,
          0.000010906825738689763,
          0.000009869737239637765,
          0.000007523441717623877,
          0.000008920984658339864,
          0.000010393215612375502,
          0.000008321559049104639,
          0.00000530717208400258,
          0.000008906350807691123,
          0.00000756316047208111,
          0.0000061779850028345794,
          0.000007482007495352031,
          0.00000659435091301333,
          0.000006673277932503232,
          0.000007770086291371792,
          0.000007670835366235918,
          0.000009496507544624913,
          0.000008013094597577538,
          0.000006669111341368616,
          0.000008403394146542624,
          0.000008076783442750914
         ],
         "yaxis": "y"
        },
        {
         "hovertemplate": "ISO_country=DNK<br>Year=%{x}<br>Value=%{y}<extra></extra>",
         "legendgroup": "DNK",
         "line": {
          "color": "#FF6692",
          "dash": "solid"
         },
         "marker": {
          "symbol": "circle"
         },
         "mode": "lines",
         "name": "DNK",
         "orientation": "v",
         "showlegend": true,
         "type": "scatter",
         "x": [
          "2000",
          "2001",
          "2002",
          "2003",
          "2004",
          "2005",
          "2006",
          "2007",
          "2008",
          "2009",
          "2010",
          "2011",
          "2012",
          "2013",
          "2014",
          "2015",
          "2016",
          "2017",
          "2018",
          "2019",
          "2020",
          "2021",
          "2022"
         ],
         "xaxis": "x",
         "y": [
          0.000014608989312183092,
          0.000014783602663344866,
          0.00001482273432869395,
          0.000015680865271152263,
          0.000014480442190607081,
          0.0000136256182005004,
          0.000015025666055315359,
          0.00001417423788198426,
          0.000013202606394671684,
          0.000012516867089634743,
          0.000012352794772977648,
          0.000011261216085541275,
          0.0000103110874378758,
          0.000010506447150690023,
          0.000009848559097588684,
          0.000009131257659488708,
          0.000009641171783238242,
          0.000009208108245553482,
          0.000009482506698950037,
          0.000008637239164376685,
          0.000008195418892272257,
          0.000008213662384273686,
          0.000007976874374251979
         ],
         "yaxis": "y"
        },
        {
         "hovertemplate": "ISO_country=BGR<br>Year=%{x}<br>Value=%{y}<extra></extra>",
         "legendgroup": "BGR",
         "line": {
          "color": "#B6E880",
          "dash": "solid"
         },
         "marker": {
          "symbol": "circle"
         },
         "mode": "lines",
         "name": "BGR",
         "orientation": "v",
         "showlegend": true,
         "type": "scatter",
         "x": [
          "2000",
          "2001",
          "2002",
          "2003",
          "2004",
          "2005",
          "2006",
          "2007",
          "2008",
          "2009",
          "2010",
          "2011",
          "2012",
          "2013",
          "2014",
          "2015",
          "2016",
          "2017",
          "2018",
          "2019",
          "2020",
          "2021",
          "2022"
         ],
         "xaxis": "x",
         "y": [
          0.000004925365837188143,
          0.000005658564351157077,
          0.000005344426483513395,
          0.000006057838322701388,
          0.00000589036552335818,
          0.000005835954544764659,
          0.000006393143616588364,
          0.0000068096965195065265,
          0.000006895315248016052,
          0.000005762253497646243,
          0.000006213034329288358,
          0.000007399085531298888,
          0.000006840797073079754,
          0.000006343180990249261,
          0.000006635105072336517,
          0.0000071476145448344,
          0.000006599859855349448,
          0.0000069353312214779985,
          0.0000063710597938582655,
          0.000006257919471309752,
          0.000005461302980598228,
          0.00000640901907636571,
          0.000007154476281315572
         ],
         "yaxis": "y"
        },
        {
         "hovertemplate": "ISO_country=GRC<br>Year=%{x}<br>Value=%{y}<extra></extra>",
         "legendgroup": "GRC",
         "line": {
          "color": "#FF97FF",
          "dash": "solid"
         },
         "marker": {
          "symbol": "circle"
         },
         "mode": "lines",
         "name": "GRC",
         "orientation": "v",
         "showlegend": true,
         "type": "scatter",
         "x": [
          "2000",
          "2001",
          "2002",
          "2003",
          "2004",
          "2005",
          "2006",
          "2007",
          "2008",
          "2009",
          "2010",
          "2011",
          "2012",
          "2013",
          "2014",
          "2015",
          "2016",
          "2017",
          "2018",
          "2019",
          "2020",
          "2021",
          "2022"
         ],
         "xaxis": "x",
         "y": [
          0.000011266214507213294,
          0.000011314044493923337,
          0.000011252711687254632,
          0.000011602157201272968,
          0.000011653220230834329,
          0.000011984987409072143,
          0.000011670975242256748,
          0.000012033250654860706,
          0.00001165495776947995,
          0.000011010908111416295,
          0.000010480608064750927,
          0.000010223529274601762,
          0.000009954878533687291,
          0.00000925455531290764,
          0.000009112418067791962,
          0.000008463343699614337,
          0.00000818444101838141,
          0.000008579993912867175,
          0.000008245482916221114,
          0.000007614813812778521,
          0.000006643867181253465,
          0.000006870698149758451,
          0.0000071475669304485125
         ],
         "yaxis": "y"
        },
        {
         "hovertemplate": "ISO_country=AUT<br>Year=%{x}<br>Value=%{y}<extra></extra>",
         "legendgroup": "AUT",
         "line": {
          "color": "#FECB52",
          "dash": "solid"
         },
         "marker": {
          "symbol": "circle"
         },
         "mode": "lines",
         "name": "AUT",
         "orientation": "v",
         "showlegend": true,
         "type": "scatter",
         "x": [
          "2000",
          "2001",
          "2002",
          "2003",
          "2004",
          "2005",
          "2006",
          "2007",
          "2008",
          "2009",
          "2010",
          "2011",
          "2012",
          "2013",
          "2014",
          "2015",
          "2016",
          "2017",
          "2018",
          "2019",
          "2020",
          "2021",
          "2022"
         ],
         "xaxis": "x",
         "y": [
          0.000008276074522349593,
          0.000006854411677053641,
          0.00000905318191828841,
          0.000009411239377985238,
          0.000008460493041170796,
          0.000009029902589048775,
          0.000009809903708157957,
          0.00000984956426142431,
          0.000008940753717663646,
          0.000008634018068613941,
          0.000007760774252015574,
          0.000008002971557606606,
          0.000008789282845747542,
          0.000008739775570321016,
          0.000008102367667106827,
          0.000008410620619995622,
          0.000008357118303613248,
          0.000008978218545175168,
          0.000009482517832181625,
          0.000009257482012463802,
          0.000007703971828894072,
          0.000007517975062505273,
          0.000007042103283015944
         ],
         "yaxis": "y"
        },
        {
         "hovertemplate": "ISO_country=CYP<br>Year=%{x}<br>Value=%{y}<extra></extra>",
         "legendgroup": "CYP",
         "line": {
          "color": "#636efa",
          "dash": "solid"
         },
         "marker": {
          "symbol": "circle"
         },
         "mode": "lines",
         "name": "CYP",
         "orientation": "v",
         "showlegend": true,
         "type": "scatter",
         "x": [
          "2000",
          "2001",
          "2002",
          "2003",
          "2004",
          "2005",
          "2006",
          "2007",
          "2008",
          "2009",
          "2010",
          "2011",
          "2012",
          "2013",
          "2014",
          "2015",
          "2016",
          "2017",
          "2018",
          "2019",
          "2020",
          "2021",
          "2022"
         ],
         "xaxis": "x",
         "y": [
          0.00000868240514105836,
          0.00000844570016644467,
          0.000008508076684210418,
          0.000008736302640326957,
          0.000008778815686426013,
          0.000008756642464236793,
          0.000008838079570772215,
          0.000009034284487965246,
          0.00000902433074421048,
          0.000008633459419838625,
          0.000008202634728181746,
          0.00000777486549783071,
          0.0000072362029224474185,
          0.000006558942918513661,
          0.0000068217327909727165,
          0.00000680661250799441,
          0.00000720671382592974,
          0.000007195107995734988,
          0.000007017363373695281,
          0.0000070212006095294115,
          0.000006648611229086594,
          0.00000679190936327838,
          0.000006855275309523046
         ],
         "yaxis": "y"
        },
        {
         "hovertemplate": "ISO_country=ITA<br>Year=%{x}<br>Value=%{y}<extra></extra>",
         "legendgroup": "ITA",
         "line": {
          "color": "#EF553B",
          "dash": "solid"
         },
         "marker": {
          "symbol": "circle"
         },
         "mode": "lines",
         "name": "ITA",
         "orientation": "v",
         "showlegend": true,
         "type": "scatter",
         "x": [
          "2000",
          "2001",
          "2002",
          "2003",
          "2004",
          "2005",
          "2006",
          "2007",
          "2008",
          "2009",
          "2010",
          "2011",
          "2012",
          "2013",
          "2014",
          "2015",
          "2016",
          "2017",
          "2018",
          "2019",
          "2020",
          "2021",
          "2022"
         ],
         "xaxis": "x",
         "y": [
          0.00000944336101521292,
          0.000009291819506286031,
          0.000009316293484328486,
          0.000009763054944924708,
          0.000009678034872158205,
          0.000009609101423284419,
          0.000009381353295651435,
          0.000009645284731407099,
          0.000009043341825725128,
          0.000008005131891186885,
          0.000008064184232380048,
          0.000007941237083221752,
          0.000007762589402245019,
          0.0000068839251437612875,
          0.000006514969540337356,
          0.00000665829618849052,
          0.000006638367955736791,
          0.000006884536890374347,
          0.000006474281133190916,
          0.000006352916034157168,
          0.000005901417066474527,
          0.000006563976223954415,
          0.000006619929244884082
         ],
         "yaxis": "y"
        },
        {
         "hovertemplate": "ISO_country=LVA<br>Year=%{x}<br>Value=%{y}<extra></extra>",
         "legendgroup": "LVA",
         "line": {
          "color": "#00cc96",
          "dash": "solid"
         },
         "marker": {
          "symbol": "circle"
         },
         "mode": "lines",
         "name": "LVA",
         "orientation": "v",
         "showlegend": true,
         "type": "scatter",
         "x": [
          "2000",
          "2001",
          "2002",
          "2003",
          "2004",
          "2005",
          "2006",
          "2007",
          "2008",
          "2009",
          "2010",
          "2011",
          "2012",
          "2013",
          "2014",
          "2015",
          "2016",
          "2017",
          "2018",
          "2019",
          "2020",
          "2021",
          "2022"
         ],
         "xaxis": "x",
         "y": [
          -9.12740514347721e-7,
          -8.902159837212581e-7,
          -1.8602301491550952e-7,
          7.467639943651093e-8,
          0.0000016794005415154533,
          0.0000020200574517280403,
          0.0000019035825255148615,
          0.00000232897668990217,
          0.0000019663784624903524,
          0.0000030217591308532326,
          0.000004402056803465326,
          0.000003885680401597236,
          0.0000031817306300115877,
          0.0000038046644766898953,
          0.00000573779018601636,
          0.000005183737163266856,
          0.000004309667489651325,
          0.0000036250866676746434,
          0.000005192128530261736,
          0.00000430007243438929,
          0.0000056217596804603924,
          0.000006651203931399256,
          0.000006520061510668046
         ],
         "yaxis": "y"
        },
        {
         "hovertemplate": "ISO_country=GBR<br>Year=%{x}<br>Value=%{y}<extra></extra>",
         "legendgroup": "GBR",
         "line": {
          "color": "#ab63fa",
          "dash": "solid"
         },
         "marker": {
          "symbol": "circle"
         },
         "mode": "lines",
         "name": "GBR",
         "orientation": "v",
         "showlegend": true,
         "type": "scatter",
         "x": [
          "2000",
          "2001",
          "2002",
          "2003",
          "2004",
          "2005",
          "2006",
          "2007",
          "2008",
          "2009",
          "2010",
          "2011",
          "2012",
          "2013",
          "2014",
          "2015",
          "2016",
          "2017",
          "2018",
          "2019",
          "2020",
          "2021",
          "2022"
         ],
         "xaxis": "x",
         "y": [
          0.000012404332124702532,
          0.000012398828894381195,
          0.00001197453368594026,
          0.000012008323173955615,
          0.000011875267298806184,
          0.000011656451435974917,
          0.000011451529400451056,
          0.000011163905240426279,
          0.000010718796549973048,
          0.000009716320100164513,
          0.000009857264215169194,
          0.000009044343313867212,
          0.000009225241787090778,
          0.000008927572682681836,
          0.000008227266906542594,
          0.00000790118090844327,
          0.0000074592347981315585,
          0.00000723331802636129,
          0.00000706400408313675,
          0.000006812219985291447,
          0.000006107801607780619,
          0.000006392424067827527,
          0.000006329596984492978
         ],
         "yaxis": "y"
        },
        {
         "hovertemplate": "ISO_country=TUR<br>Year=%{x}<br>Value=%{y}<extra></extra>",
         "legendgroup": "TUR",
         "line": {
          "color": "#FFA15A",
          "dash": "solid"
         },
         "marker": {
          "symbol": "circle"
         },
         "mode": "lines",
         "name": "TUR",
         "orientation": "v",
         "showlegend": true,
         "type": "scatter",
         "x": [
          "2000",
          "2001",
          "2002",
          "2003",
          "2004",
          "2005",
          "2006",
          "2007",
          "2008",
          "2009",
          "2010",
          "2011",
          "2012",
          "2013",
          "2014",
          "2015",
          "2016",
          "2017",
          "2018",
          "2019",
          "2020",
          "2021",
          "2022"
         ],
         "xaxis": "x",
         "y": [
          0.00000362526482824486,
          0.000003234616069134978,
          0.0000032987535654627325,
          0.000003516799090354975,
          0.0000036345367946212626,
          0.0000038935949607311874,
          0.000004142123712063183,
          0.000004565750809729261,
          0.000004519140712284135,
          0.0000045190392001405365,
          0.000004495210193053639,
          0.000004789578598144099,
          0.0000050182375374413226,
          0.0000047903467432973665,
          0.000004951006051838255,
          0.00000509133589127686,
          0.000005326474439963181,
          0.00000554947624134604,
          0.000005496005781566578,
          0.0000053620351069966865,
          0.000005570263865725352,
          0.000006117356563302406,
          0.000006294093247687466
         ],
         "yaxis": "y"
        },
        {
         "hovertemplate": "ISO_country=UKR<br>Year=%{x}<br>Value=%{y}<extra></extra>",
         "legendgroup": "UKR",
         "line": {
          "color": "#19d3f3",
          "dash": "solid"
         },
         "marker": {
          "symbol": "circle"
         },
         "mode": "lines",
         "name": "UKR",
         "orientation": "v",
         "showlegend": true,
         "type": "scatter",
         "x": [
          "2000",
          "2001",
          "2002",
          "2003",
          "2004",
          "2005",
          "2006",
          "2007",
          "2008",
          "2009",
          "2010",
          "2011",
          "2012",
          "2013",
          "2014",
          "2015",
          "2016",
          "2017",
          "2018",
          "2019",
          "2020",
          "2021",
          "2022"
         ],
         "xaxis": "x",
         "y": [
          0.00000824188965459604,
          0.000008803837097560367,
          0.000008633762236704917,
          0.000008764915279438894,
          0.00000913383160322272,
          0.000009198451492603873,
          0.000009580165641442919,
          0.000009665818006943733,
          0.000009781318717777224,
          0.000008388740164377624,
          0.000008697450991995449,
          0.000009589735280081432,
          0.000009300813285517742,
          0.000009435319046127125,
          0.000008456913894176459,
          0.000007519592494949843,
          0.000008055886585507802,
          0.000007521160290973596,
          0.000008180922432585615,
          0.000008059176847990874,
          0.000007195836336707159,
          0.000007805336834166349,
          0.000006288645569675169
         ],
         "yaxis": "y"
        },
        {
         "hovertemplate": "ISO_country=FRA<br>Year=%{x}<br>Value=%{y}<extra></extra>",
         "legendgroup": "FRA",
         "line": {
          "color": "#FF6692",
          "dash": "solid"
         },
         "marker": {
          "symbol": "circle"
         },
         "mode": "lines",
         "name": "FRA",
         "orientation": "v",
         "showlegend": true,
         "type": "scatter",
         "x": [
          "2000",
          "2001",
          "2002",
          "2003",
          "2004",
          "2005",
          "2006",
          "2007",
          "2008",
          "2009",
          "2010",
          "2011",
          "2012",
          "2013",
          "2014",
          "2015",
          "2016",
          "2017",
          "2018",
          "2019",
          "2020",
          "2021",
          "2022"
         ],
         "xaxis": "x",
         "y": [
          0.00000899293432682788,
          0.000008811425131598918,
          0.000008532977438852105,
          0.00000844735268911301,
          0.000008375997139181104,
          0.000008316869714080118,
          0.000008088788256219228,
          0.00000789742693380297,
          0.000007765603218748589,
          0.000007548523649622431,
          0.0000075262437196932456,
          0.000007065906537115735,
          0.00000698032528463005,
          0.0000069779322159894906,
          0.000006532938388446361,
          0.000006626681420965442,
          0.000006752590665150942,
          0.000006952136913207734,
          0.000006634440751091455,
          0.0000065337048567075966,
          0.0000058176825040150326,
          0.000006234547763580568,
          0.000006039879914576925
         ],
         "yaxis": "y"
        },
        {
         "hovertemplate": "ISO_country=SVN<br>Year=%{x}<br>Value=%{y}<extra></extra>",
         "legendgroup": "SVN",
         "line": {
          "color": "#B6E880",
          "dash": "solid"
         },
         "marker": {
          "symbol": "circle"
         },
         "mode": "lines",
         "name": "SVN",
         "orientation": "v",
         "showlegend": true,
         "type": "scatter",
         "x": [
          "2000",
          "2001",
          "2002",
          "2003",
          "2004",
          "2005",
          "2006",
          "2007",
          "2008",
          "2009",
          "2010",
          "2011",
          "2012",
          "2013",
          "2014",
          "2015",
          "2016",
          "2017",
          "2018",
          "2019",
          "2020",
          "2021",
          "2022"
         ],
         "xaxis": "x",
         "y": [
          0.000006299045725255556,
          0.000006921170943208831,
          0.00000650543351203823,
          0.000006477496287867153,
          0.000006593876336833992,
          0.000006676899086558286,
          0.0000067356448163704984,
          0.000006642611149125211,
          0.000007091170663065446,
          0.000006016501072374888,
          0.00000613189836546838,
          0.000006105282598033038,
          0.000005816317615115335,
          0.0000062899653321976974,
          0.000008385942330070026,
          0.000008514412671210609,
          0.000008968624168266163,
          0.00000896583816466753,
          0.000008892927726196631,
          0.000006551740071702461,
          0.000006045762418653355,
          0.000006117970769644601,
          0.000005956810975054593
         ],
         "yaxis": "y"
        },
        {
         "hovertemplate": "ISO_country=SVK<br>Year=%{x}<br>Value=%{y}<extra></extra>",
         "legendgroup": "SVK",
         "line": {
          "color": "#FF97FF",
          "dash": "solid"
         },
         "marker": {
          "symbol": "circle"
         },
         "mode": "lines",
         "name": "SVK",
         "orientation": "v",
         "showlegend": true,
         "type": "scatter",
         "x": [
          "2000",
          "2001",
          "2002",
          "2003",
          "2004",
          "2005",
          "2006",
          "2007",
          "2008",
          "2009",
          "2010",
          "2011",
          "2012",
          "2013",
          "2014",
          "2015",
          "2016",
          "2017",
          "2018",
          "2019",
          "2020",
          "2021",
          "2022"
         ],
         "xaxis": "x",
         "y": [
          0.000007352492401735938,
          0.000007902912897554857,
          0.000007557758361608405,
          0.000007683045404614104,
          0.000007814831974624956,
          0.000008532853779613012,
          0.000007912908430621564,
          0.000007672809978150713,
          0.000007971998881207596,
          0.000007214596972247053,
          0.000007512834225996905,
          0.000007267902372402696,
          0.000006611329783150796,
          0.000006405402011285072,
          0.000006437383802305991,
          0.0000064686053333382516,
          0.000006532773795973258,
          0.000006743586462159548,
          0.000006886857106901369,
          0.000006311703133187628,
          0.0000053971245404533024,
          0.00000614695441867558,
          0.000005947544044556098
         ],
         "yaxis": "y"
        },
        {
         "hovertemplate": "ISO_country=NOR<br>Year=%{x}<br>Value=%{y}<extra></extra>",
         "legendgroup": "NOR",
         "line": {
          "color": "#FECB52",
          "dash": "solid"
         },
         "marker": {
          "symbol": "circle"
         },
         "mode": "lines",
         "name": "NOR",
         "orientation": "v",
         "showlegend": true,
         "type": "scatter",
         "x": [
          "2000",
          "2001",
          "2002",
          "2003",
          "2004",
          "2005",
          "2006",
          "2007",
          "2008",
          "2009",
          "2010",
          "2011",
          "2012",
          "2013",
          "2014",
          "2015",
          "2016",
          "2017",
          "2018",
          "2019",
          "2020",
          "2021",
          "2022"
         ],
         "xaxis": "x",
         "y": [
          0.000007851519209630793,
          0.000007651513051753608,
          0.0000071366918791392705,
          0.000006911177394444888,
          0.000007044275555025462,
          0.000007360377537637196,
          0.000006896431774809983,
          0.0000071725447037440435,
          0.000006509980880655014,
          0.0000052235336848276705,
          0.000006351085559700011,
          0.000005811409304742478,
          0.0000063642372854163,
          0.00000622375228805898,
          0.00000694186896303913,
          0.000007887518718010113,
          0.000007648362991405392,
          0.000007603213993751744,
          0.000007397924168973108,
          0.0000066492285312357725,
          0.000005551738813011659,
          0.0000061506006706946925,
          0.000005883131736419668
         ],
         "yaxis": "y"
        },
        {
         "hovertemplate": "ISO_country=ESP<br>Year=%{x}<br>Value=%{y}<extra></extra>",
         "legendgroup": "ESP",
         "line": {
          "color": "#636efa",
          "dash": "solid"
         },
         "marker": {
          "symbol": "circle"
         },
         "mode": "lines",
         "name": "ESP",
         "orientation": "v",
         "showlegend": true,
         "type": "scatter",
         "x": [
          "2000",
          "2001",
          "2002",
          "2003",
          "2004",
          "2005",
          "2006",
          "2007",
          "2008",
          "2009",
          "2010",
          "2011",
          "2012",
          "2013",
          "2014",
          "2015",
          "2016",
          "2017",
          "2018",
          "2019",
          "2020",
          "2021",
          "2022"
         ],
         "xaxis": "x",
         "y": [
          0.000008352065372212933,
          0.000008234141075505637,
          0.000008664751591479488,
          0.000008683707077548748,
          0.000008887897151402969,
          0.000009089982483124932,
          0.000008738956345555263,
          0.000008889611978403999,
          0.000007984710615726151,
          0.000007086746256758299,
          0.000006672146409647325,
          0.000006658867643514513,
          0.000006537077556689191,
          0.0000059916821857025145,
          0.000006011576274133659,
          0.0000062176507308999865,
          0.000005956717661520444,
          0.0000062122333248912665,
          0.000006056270721825177,
          0.0000056318482451181785,
          0.0000048154521088273185,
          0.0000051486803652332205,
          0.000005527640831415533
         ],
         "yaxis": "y"
        },
        {
         "hovertemplate": "ISO_country=HUN<br>Year=%{x}<br>Value=%{y}<extra></extra>",
         "legendgroup": "HUN",
         "line": {
          "color": "#EF553B",
          "dash": "solid"
         },
         "marker": {
          "symbol": "circle"
         },
         "mode": "lines",
         "name": "HUN",
         "orientation": "v",
         "showlegend": true,
         "type": "scatter",
         "x": [
          "2000",
          "2001",
          "2002",
          "2003",
          "2004",
          "2005",
          "2006",
          "2007",
          "2008",
          "2009",
          "2010",
          "2011",
          "2012",
          "2013",
          "2014",
          "2015",
          "2016",
          "2017",
          "2018",
          "2019",
          "2020",
          "2021",
          "2022"
         ],
         "xaxis": "x",
         "y": [
          0.000007268349747436548,
          0.000007298588874277437,
          0.0000072181293006100284,
          0.000007293386099631545,
          0.000007292571889578147,
          0.000007031982409250098,
          0.000007112992823965036,
          0.00000692253222390965,
          0.0000065651700349660315,
          0.00000611688842570323,
          0.000006166545480324651,
          0.0000060816327744137375,
          0.0000057117470074057845,
          0.000005504995493621951,
          0.000005451440352404285,
          0.000005729608927574848,
          0.000005910045196235678,
          0.000006089696150628281,
          0.000006155067954128151,
          0.000006072516965569346,
          0.000005713903608144015,
          0.000005856514414463019,
          0.000005487101423980293
         ],
         "yaxis": "y"
        },
        {
         "hovertemplate": "ISO_country=PRT<br>Year=%{x}<br>Value=%{y}<extra></extra>",
         "legendgroup": "PRT",
         "line": {
          "color": "#00cc96",
          "dash": "solid"
         },
         "marker": {
          "symbol": "circle"
         },
         "mode": "lines",
         "name": "PRT",
         "orientation": "v",
         "showlegend": true,
         "type": "scatter",
         "x": [
          "2000",
          "2001",
          "2002",
          "2003",
          "2004",
          "2005",
          "2006",
          "2007",
          "2008",
          "2009",
          "2010",
          "2011",
          "2012",
          "2013",
          "2014",
          "2015",
          "2016",
          "2017",
          "2018",
          "2019",
          "2020",
          "2021",
          "2022"
         ],
         "xaxis": "x",
         "y": [
          0.000007775847746070255,
          0.000007062844182414162,
          0.000007483517398209887,
          0.000008164939442227418,
          0.000007578986394145998,
          0.000008477152602829289,
          0.000007504251939176783,
          0.000007120777370274938,
          0.000006314874631111545,
          0.000005928284855919558,
          0.0000058732116694917355,
          0.000006079163708571865,
          0.000006082234421370048,
          0.000006040591809369607,
          0.000005583186819316075,
          0.000006135618423721673,
          0.000006440767455215738,
          0.000008904513104161672,
          0.000006180709111659361,
          0.0000057403302579880045,
          0.000005120641615264664,
          0.0000048295057566607215,
          0.000005060120323214184
         ],
         "yaxis": "y"
        },
        {
         "hovertemplate": "ISO_country=CHE<br>Year=%{x}<br>Value=%{y}<extra></extra>",
         "legendgroup": "CHE",
         "line": {
          "color": "#ab63fa",
          "dash": "solid"
         },
         "marker": {
          "symbol": "circle"
         },
         "mode": "lines",
         "name": "CHE",
         "orientation": "v",
         "showlegend": true,
         "type": "scatter",
         "x": [
          "2000",
          "2001",
          "2002",
          "2003",
          "2004",
          "2005",
          "2006",
          "2007",
          "2008",
          "2009",
          "2010",
          "2011",
          "2012",
          "2013",
          "2014",
          "2015",
          "2016",
          "2017",
          "2018",
          "2019",
          "2020",
          "2021",
          "2022"
         ],
         "xaxis": "x",
         "y": [
          0.000008245638273142603,
          0.000007565990731757373,
          0.000007061107390759911,
          0.000007154762558455789,
          0.000007176581854700075,
          0.0000071766987052997075,
          0.000007220112928490032,
          0.000007058289347749852,
          0.0000070024624219318415,
          0.000006567637306160196,
          0.00000674533527144169,
          0.000006374184267515276,
          0.000006280759857037314,
          0.000006415937747260786,
          0.000006047313841022026,
          0.00000569406531203411,
          0.000005666536835690775,
          0.000005524376945837944,
          0.000005375429189962143,
          0.000005226149719371413,
          0.0000049166686678833535,
          0.000004983648134917272,
          0.0000048980529470898705
         ],
         "yaxis": "y"
        },
        {
         "hovertemplate": "ISO_country=BLR<br>Year=%{x}<br>Value=%{y}<extra></extra>",
         "legendgroup": "BLR",
         "line": {
          "color": "#FFA15A",
          "dash": "solid"
         },
         "marker": {
          "symbol": "circle"
         },
         "mode": "lines",
         "name": "BLR",
         "orientation": "v",
         "showlegend": true,
         "type": "scatter",
         "x": [
          "2000",
          "2001",
          "2002",
          "2003",
          "2004",
          "2005",
          "2006",
          "2007",
          "2008",
          "2009",
          "2010",
          "2011",
          "2012",
          "2013",
          "2014",
          "2015",
          "2016",
          "2017",
          "2018",
          "2019",
          "2020",
          "2021",
          "2022"
         ],
         "xaxis": "x",
         "y": [
          0.000004523512461892438,
          0.0000045063818304593605,
          0.0000046221469507641224,
          0.0000050900900068406626,
          0.000005239888368624074,
          0.000005263457260587537,
          0.000005356760912464992,
          0.000004986603558512999,
          0.000005316423006015809,
          0.000004810245720688195,
          0.000004693444000642785,
          0.000004742498918475039,
          0.000005052079260304266,
          0.000004997946108337431,
          0.000004929226631202754,
          0.000004589160148593807,
          0.000004889350547780013,
          0.0000053839716107795055,
          0.000005388362939780296,
          0.000005849284891819858,
          0.00000543335270287559,
          0.000005091889688133072,
          0.000004887472144728666
         ],
         "yaxis": "y"
        },
        {
         "hovertemplate": "ISO_country=LIE<br>Year=%{x}<br>Value=%{y}<extra></extra>",
         "legendgroup": "LIE",
         "line": {
          "color": "#19d3f3",
          "dash": "solid"
         },
         "marker": {
          "symbol": "circle"
         },
         "mode": "lines",
         "name": "LIE",
         "orientation": "v",
         "showlegend": true,
         "type": "scatter",
         "x": [
          "2000",
          "2001",
          "2002",
          "2003",
          "2004",
          "2005",
          "2006",
          "2007",
          "2008",
          "2009",
          "2010",
          "2011",
          "2012",
          "2013",
          "2014",
          "2015",
          "2016",
          "2017",
          "2018",
          "2019",
          "2020",
          "2021",
          "2022"
         ],
         "xaxis": "x",
         "y": [
          0.000008296378231872583,
          0.000007500566594412332,
          0.000007645817712837335,
          0.000007990841481787834,
          0.000007991546106767402,
          0.000007939572784534556,
          0.000008112315197375991,
          0.000007474656454330012,
          0.000008038275938315002,
          0.000007482592005629838,
          0.000006962402076820009,
          0.000006668527090041079,
          0.000006870420385144429,
          0.00000677712793584113,
          0.000005880900113660965,
          0.000005650141027362315,
          0.000005292551389148363,
          0.000005436084741721855,
          0.000005356410050753412,
          0.0000052254957871396896,
          0.0000047974096145383,
          0.0000047283611346861096,
          0.000004783379758138586
         ],
         "yaxis": "y"
        },
        {
         "hovertemplate": "ISO_country=LTU<br>Year=%{x}<br>Value=%{y}<extra></extra>",
         "legendgroup": "LTU",
         "line": {
          "color": "#FF6692",
          "dash": "solid"
         },
         "marker": {
          "symbol": "circle"
         },
         "mode": "lines",
         "name": "LTU",
         "orientation": "v",
         "showlegend": true,
         "type": "scatter",
         "x": [
          "2000",
          "2001",
          "2002",
          "2003",
          "2004",
          "2005",
          "2006",
          "2007",
          "2008",
          "2009",
          "2010",
          "2011",
          "2012",
          "2013",
          "2014",
          "2015",
          "2016",
          "2017",
          "2018",
          "2019",
          "2020",
          "2021",
          "2022"
         ],
         "xaxis": "x",
         "y": [
          0.000002737567617689213,
          0.000003587862942359646,
          0.000004002808088064078,
          0.000004319678316196675,
          0.000004765950625107357,
          0.0000053483527160407375,
          0.000005646115875008811,
          0.000005788591901031407,
          0.000005378339129936711,
          0.000003884772664020159,
          0.0000032429502545808574,
          0.000003338470801948354,
          0.0000034950849203116456,
          0.0000033635987322109116,
          0.0000036336464057936164,
          0.000004051930517107052,
          0.000004390405984732245,
          0.0000046770074969740425,
          0.000004941074709972944,
          0.000004964879542991462,
          0.000004723398201629113,
          0.000004996565536382122,
          0.000004692119690768269
         ],
         "yaxis": "y"
        },
        {
         "hovertemplate": "ISO_country=HRV<br>Year=%{x}<br>Value=%{y}<extra></extra>",
         "legendgroup": "HRV",
         "line": {
          "color": "#B6E880",
          "dash": "solid"
         },
         "marker": {
          "symbol": "circle"
         },
         "mode": "lines",
         "name": "HRV",
         "orientation": "v",
         "showlegend": true,
         "type": "scatter",
         "x": [
          "2000",
          "2001",
          "2002",
          "2003",
          "2004",
          "2005",
          "2006",
          "2007",
          "2008",
          "2009",
          "2010",
          "2011",
          "2012",
          "2013",
          "2014",
          "2015",
          "2016",
          "2017",
          "2018",
          "2019",
          "2020",
          "2021",
          "2022"
         ],
         "xaxis": "x",
         "y": [
          0.0000041416796022565536,
          0.000004181822449437929,
          0.000004380038713211823,
          0.0000049131724655519735,
          0.000004866322412216025,
          0.000004938533513882843,
          0.000005086330674368952,
          0.000005685757689020212,
          0.0000054391131338934786,
          0.000004930631614042228,
          0.000004863503888804593,
          0.000005101914552651877,
          0.000004820349658063347,
          0.000004337787258969458,
          0.000004224145032719423,
          0.00000442820149591836,
          0.000004512129726860399,
          0.000004945219577806358,
          0.000004572958976616014,
          0.0000045993178328649626,
          0.000004432959545175166,
          0.000004570628905886102,
          0.000004646419238384122
         ],
         "yaxis": "y"
        },
        {
         "hovertemplate": "ISO_country=MLT<br>Year=%{x}<br>Value=%{y}<extra></extra>",
         "legendgroup": "MLT",
         "line": {
          "color": "#FF97FF",
          "dash": "solid"
         },
         "marker": {
          "symbol": "circle"
         },
         "mode": "lines",
         "name": "MLT",
         "orientation": "v",
         "showlegend": true,
         "type": "scatter",
         "x": [
          "2000",
          "2001",
          "2002",
          "2003",
          "2004",
          "2005",
          "2006",
          "2007",
          "2008",
          "2009",
          "2010",
          "2011",
          "2012",
          "2013",
          "2014",
          "2015",
          "2016",
          "2017",
          "2018",
          "2019",
          "2020",
          "2021",
          "2022"
         ],
         "xaxis": "x",
         "y": [
          0.000006902194489359187,
          0.000007544686470071565,
          0.0000076028246251366,
          0.000008107273280768758,
          0.00000778401248321029,
          0.000007317151730064525,
          0.00000742573901369743,
          0.000007625049420780004,
          0.000007348730535613005,
          0.0000069929783453114095,
          0.0000071346881356908235,
          0.000007033072434454615,
          0.000007327550340874712,
          0.000006454724635507635,
          0.000006346890208971581,
          0.000004709991811507325,
          0.000003990266196737921,
          0.000004286084659638096,
          0.000004198179557897252,
          0.000004331433657374104,
          0.000004160440989413161,
          0.000004095511683466988,
          0.000004095879453392815
         ],
         "yaxis": "y"
        },
        {
         "hovertemplate": "ISO_country=MCO<br>Year=%{x}<br>Value=%{y}<extra></extra>",
         "legendgroup": "MCO",
         "line": {
          "color": "#FECB52",
          "dash": "solid"
         },
         "marker": {
          "symbol": "circle"
         },
         "mode": "lines",
         "name": "MCO",
         "orientation": "v",
         "showlegend": true,
         "type": "scatter",
         "x": [
          "2000",
          "2001",
          "2002",
          "2003",
          "2004",
          "2005",
          "2006",
          "2007",
          "2008",
          "2009",
          "2010",
          "2011",
          "2012",
          "2013",
          "2014",
          "2015",
          "2016",
          "2017",
          "2018",
          "2019",
          "2020",
          "2021",
          "2022"
         ],
         "xaxis": "x",
         "y": [
          0.0000020955372290865824,
          0.000002111609002595281,
          0.0000021692466288313557,
          0.000002251159929113056,
          0.0000023423368711975933,
          0.0000024244558446628555,
          0.000002431782912509458,
          0.0000024362423181319407,
          0.000002450616268040141,
          0.0000024363980562080497,
          0.0000026573129692108645,
          0.000002908798240580788,
          0.00000292239999891239,
          0.000002865794296592649,
          0.0000029938157072671275,
          0.000003086361718386585,
          0.000003229016688877694,
          0.0000033019343730880327,
          0.000003449689332990773,
          0.000003572205101093718,
          0.00000347697191616948,
          0.000003701031912207847,
          0.000003565531248315392
         ],
         "yaxis": "y"
        },
        {
         "hovertemplate": "ISO_country=ROU<br>Year=%{x}<br>Value=%{y}<extra></extra>",
         "legendgroup": "ROU",
         "line": {
          "color": "#636efa",
          "dash": "solid"
         },
         "marker": {
          "symbol": "circle"
         },
         "mode": "lines",
         "name": "ROU",
         "orientation": "v",
         "showlegend": true,
         "type": "scatter",
         "x": [
          "2000",
          "2001",
          "2002",
          "2003",
          "2004",
          "2005",
          "2006",
          "2007",
          "2008",
          "2009",
          "2010",
          "2011",
          "2012",
          "2013",
          "2014",
          "2015",
          "2016",
          "2017",
          "2018",
          "2019",
          "2020",
          "2021",
          "2022"
         ],
         "xaxis": "x",
         "y": [
          0.000004973646295766415,
          0.000005127765880207159,
          0.000005341240386025761,
          0.000005626402328031968,
          0.000005603074097324723,
          0.000005561167534048089,
          0.000005679541413523693,
          0.0000058585675445664915,
          0.000005733024272058184,
          0.0000048644278137039025,
          0.0000043833255332944145,
          0.00000470532937832019,
          0.000004500058447073916,
          0.00000391789678714314,
          0.0000033450827200702304,
          0.0000033469040294398365,
          0.0000031606988729251804,
          0.0000034354733064638347,
          0.0000036138148298483115,
          0.000003453203823650375,
          0.0000031621413739441235,
          0.0000034105157822534577,
          0.0000033112478577201737
         ],
         "yaxis": "y"
        },
        {
         "hovertemplate": "ISO_country=SWE<br>Year=%{x}<br>Value=%{y}<extra></extra>",
         "legendgroup": "SWE",
         "line": {
          "color": "#EF553B",
          "dash": "solid"
         },
         "marker": {
          "symbol": "circle"
         },
         "mode": "lines",
         "name": "SWE",
         "orientation": "v",
         "showlegend": true,
         "type": "scatter",
         "x": [
          "2000",
          "2001",
          "2002",
          "2003",
          "2004",
          "2005",
          "2006",
          "2007",
          "2008",
          "2009",
          "2010",
          "2011",
          "2012",
          "2013",
          "2014",
          "2015",
          "2016",
          "2017",
          "2018",
          "2019",
          "2020",
          "2021",
          "2022"
         ],
         "xaxis": "x",
         "y": [
          0.0000021471902594405354,
          0.000002128803097139417,
          0.000002303243397484883,
          0.0000026443383735818464,
          0.0000028278574492116415,
          0.000002441921513253139,
          0.0000016163489303771437,
          0.0000017114328879738488,
          0.0000014687627262731003,
          0.000001016306859267742,
          0.0000013929653695783965,
          8.304554469607939e-7,
          5.141306474184747e-7,
          5.268959142591966e-7,
          4.98072693805063e-7,
          6.275199484072503e-7,
          7.322183076861076e-7,
          0.0000012740542271086975,
          0.0000015083943964526004,
          0.0000011003265018534075,
          3.712935374939906e-7,
          4.797935072396985e-7,
          4.7350578345829285e-7
         ],
         "yaxis": "y"
        }
       ],
       "layout": {
        "legend": {
         "title": {
          "text": "ISO_country"
         },
         "tracegroupgap": 0
        },
        "margin": {
         "t": 60
        },
        "template": {
         "data": {
          "bar": [
           {
            "error_x": {
             "color": "#2a3f5f"
            },
            "error_y": {
             "color": "#2a3f5f"
            },
            "marker": {
             "line": {
              "color": "#E5ECF6",
              "width": 0.5
             },
             "pattern": {
              "fillmode": "overlay",
              "size": 10,
              "solidity": 0.2
             }
            },
            "type": "bar"
           }
          ],
          "barpolar": [
           {
            "marker": {
             "line": {
              "color": "#E5ECF6",
              "width": 0.5
             },
             "pattern": {
              "fillmode": "overlay",
              "size": 10,
              "solidity": 0.2
             }
            },
            "type": "barpolar"
           }
          ],
          "carpet": [
           {
            "aaxis": {
             "endlinecolor": "#2a3f5f",
             "gridcolor": "white",
             "linecolor": "white",
             "minorgridcolor": "white",
             "startlinecolor": "#2a3f5f"
            },
            "baxis": {
             "endlinecolor": "#2a3f5f",
             "gridcolor": "white",
             "linecolor": "white",
             "minorgridcolor": "white",
             "startlinecolor": "#2a3f5f"
            },
            "type": "carpet"
           }
          ],
          "choropleth": [
           {
            "colorbar": {
             "outlinewidth": 0,
             "ticks": ""
            },
            "type": "choropleth"
           }
          ],
          "contour": [
           {
            "colorbar": {
             "outlinewidth": 0,
             "ticks": ""
            },
            "colorscale": [
             [
              0,
              "#0d0887"
             ],
             [
              0.1111111111111111,
              "#46039f"
             ],
             [
              0.2222222222222222,
              "#7201a8"
             ],
             [
              0.3333333333333333,
              "#9c179e"
             ],
             [
              0.4444444444444444,
              "#bd3786"
             ],
             [
              0.5555555555555556,
              "#d8576b"
             ],
             [
              0.6666666666666666,
              "#ed7953"
             ],
             [
              0.7777777777777778,
              "#fb9f3a"
             ],
             [
              0.8888888888888888,
              "#fdca26"
             ],
             [
              1,
              "#f0f921"
             ]
            ],
            "type": "contour"
           }
          ],
          "contourcarpet": [
           {
            "colorbar": {
             "outlinewidth": 0,
             "ticks": ""
            },
            "type": "contourcarpet"
           }
          ],
          "heatmap": [
           {
            "colorbar": {
             "outlinewidth": 0,
             "ticks": ""
            },
            "colorscale": [
             [
              0,
              "#0d0887"
             ],
             [
              0.1111111111111111,
              "#46039f"
             ],
             [
              0.2222222222222222,
              "#7201a8"
             ],
             [
              0.3333333333333333,
              "#9c179e"
             ],
             [
              0.4444444444444444,
              "#bd3786"
             ],
             [
              0.5555555555555556,
              "#d8576b"
             ],
             [
              0.6666666666666666,
              "#ed7953"
             ],
             [
              0.7777777777777778,
              "#fb9f3a"
             ],
             [
              0.8888888888888888,
              "#fdca26"
             ],
             [
              1,
              "#f0f921"
             ]
            ],
            "type": "heatmap"
           }
          ],
          "heatmapgl": [
           {
            "colorbar": {
             "outlinewidth": 0,
             "ticks": ""
            },
            "colorscale": [
             [
              0,
              "#0d0887"
             ],
             [
              0.1111111111111111,
              "#46039f"
             ],
             [
              0.2222222222222222,
              "#7201a8"
             ],
             [
              0.3333333333333333,
              "#9c179e"
             ],
             [
              0.4444444444444444,
              "#bd3786"
             ],
             [
              0.5555555555555556,
              "#d8576b"
             ],
             [
              0.6666666666666666,
              "#ed7953"
             ],
             [
              0.7777777777777778,
              "#fb9f3a"
             ],
             [
              0.8888888888888888,
              "#fdca26"
             ],
             [
              1,
              "#f0f921"
             ]
            ],
            "type": "heatmapgl"
           }
          ],
          "histogram": [
           {
            "marker": {
             "pattern": {
              "fillmode": "overlay",
              "size": 10,
              "solidity": 0.2
             }
            },
            "type": "histogram"
           }
          ],
          "histogram2d": [
           {
            "colorbar": {
             "outlinewidth": 0,
             "ticks": ""
            },
            "colorscale": [
             [
              0,
              "#0d0887"
             ],
             [
              0.1111111111111111,
              "#46039f"
             ],
             [
              0.2222222222222222,
              "#7201a8"
             ],
             [
              0.3333333333333333,
              "#9c179e"
             ],
             [
              0.4444444444444444,
              "#bd3786"
             ],
             [
              0.5555555555555556,
              "#d8576b"
             ],
             [
              0.6666666666666666,
              "#ed7953"
             ],
             [
              0.7777777777777778,
              "#fb9f3a"
             ],
             [
              0.8888888888888888,
              "#fdca26"
             ],
             [
              1,
              "#f0f921"
             ]
            ],
            "type": "histogram2d"
           }
          ],
          "histogram2dcontour": [
           {
            "colorbar": {
             "outlinewidth": 0,
             "ticks": ""
            },
            "colorscale": [
             [
              0,
              "#0d0887"
             ],
             [
              0.1111111111111111,
              "#46039f"
             ],
             [
              0.2222222222222222,
              "#7201a8"
             ],
             [
              0.3333333333333333,
              "#9c179e"
             ],
             [
              0.4444444444444444,
              "#bd3786"
             ],
             [
              0.5555555555555556,
              "#d8576b"
             ],
             [
              0.6666666666666666,
              "#ed7953"
             ],
             [
              0.7777777777777778,
              "#fb9f3a"
             ],
             [
              0.8888888888888888,
              "#fdca26"
             ],
             [
              1,
              "#f0f921"
             ]
            ],
            "type": "histogram2dcontour"
           }
          ],
          "mesh3d": [
           {
            "colorbar": {
             "outlinewidth": 0,
             "ticks": ""
            },
            "type": "mesh3d"
           }
          ],
          "parcoords": [
           {
            "line": {
             "colorbar": {
              "outlinewidth": 0,
              "ticks": ""
             }
            },
            "type": "parcoords"
           }
          ],
          "pie": [
           {
            "automargin": true,
            "type": "pie"
           }
          ],
          "scatter": [
           {
            "fillpattern": {
             "fillmode": "overlay",
             "size": 10,
             "solidity": 0.2
            },
            "type": "scatter"
           }
          ],
          "scatter3d": [
           {
            "line": {
             "colorbar": {
              "outlinewidth": 0,
              "ticks": ""
             }
            },
            "marker": {
             "colorbar": {
              "outlinewidth": 0,
              "ticks": ""
             }
            },
            "type": "scatter3d"
           }
          ],
          "scattercarpet": [
           {
            "marker": {
             "colorbar": {
              "outlinewidth": 0,
              "ticks": ""
             }
            },
            "type": "scattercarpet"
           }
          ],
          "scattergeo": [
           {
            "marker": {
             "colorbar": {
              "outlinewidth": 0,
              "ticks": ""
             }
            },
            "type": "scattergeo"
           }
          ],
          "scattergl": [
           {
            "marker": {
             "colorbar": {
              "outlinewidth": 0,
              "ticks": ""
             }
            },
            "type": "scattergl"
           }
          ],
          "scattermapbox": [
           {
            "marker": {
             "colorbar": {
              "outlinewidth": 0,
              "ticks": ""
             }
            },
            "type": "scattermapbox"
           }
          ],
          "scatterpolar": [
           {
            "marker": {
             "colorbar": {
              "outlinewidth": 0,
              "ticks": ""
             }
            },
            "type": "scatterpolar"
           }
          ],
          "scatterpolargl": [
           {
            "marker": {
             "colorbar": {
              "outlinewidth": 0,
              "ticks": ""
             }
            },
            "type": "scatterpolargl"
           }
          ],
          "scatterternary": [
           {
            "marker": {
             "colorbar": {
              "outlinewidth": 0,
              "ticks": ""
             }
            },
            "type": "scatterternary"
           }
          ],
          "surface": [
           {
            "colorbar": {
             "outlinewidth": 0,
             "ticks": ""
            },
            "colorscale": [
             [
              0,
              "#0d0887"
             ],
             [
              0.1111111111111111,
              "#46039f"
             ],
             [
              0.2222222222222222,
              "#7201a8"
             ],
             [
              0.3333333333333333,
              "#9c179e"
             ],
             [
              0.4444444444444444,
              "#bd3786"
             ],
             [
              0.5555555555555556,
              "#d8576b"
             ],
             [
              0.6666666666666666,
              "#ed7953"
             ],
             [
              0.7777777777777778,
              "#fb9f3a"
             ],
             [
              0.8888888888888888,
              "#fdca26"
             ],
             [
              1,
              "#f0f921"
             ]
            ],
            "type": "surface"
           }
          ],
          "table": [
           {
            "cells": {
             "fill": {
              "color": "#EBF0F8"
             },
             "line": {
              "color": "white"
             }
            },
            "header": {
             "fill": {
              "color": "#C8D4E3"
             },
             "line": {
              "color": "white"
             }
            },
            "type": "table"
           }
          ]
         },
         "layout": {
          "annotationdefaults": {
           "arrowcolor": "#2a3f5f",
           "arrowhead": 0,
           "arrowwidth": 1
          },
          "autotypenumbers": "strict",
          "coloraxis": {
           "colorbar": {
            "outlinewidth": 0,
            "ticks": ""
           }
          },
          "colorscale": {
           "diverging": [
            [
             0,
             "#8e0152"
            ],
            [
             0.1,
             "#c51b7d"
            ],
            [
             0.2,
             "#de77ae"
            ],
            [
             0.3,
             "#f1b6da"
            ],
            [
             0.4,
             "#fde0ef"
            ],
            [
             0.5,
             "#f7f7f7"
            ],
            [
             0.6,
             "#e6f5d0"
            ],
            [
             0.7,
             "#b8e186"
            ],
            [
             0.8,
             "#7fbc41"
            ],
            [
             0.9,
             "#4d9221"
            ],
            [
             1,
             "#276419"
            ]
           ],
           "sequential": [
            [
             0,
             "#0d0887"
            ],
            [
             0.1111111111111111,
             "#46039f"
            ],
            [
             0.2222222222222222,
             "#7201a8"
            ],
            [
             0.3333333333333333,
             "#9c179e"
            ],
            [
             0.4444444444444444,
             "#bd3786"
            ],
            [
             0.5555555555555556,
             "#d8576b"
            ],
            [
             0.6666666666666666,
             "#ed7953"
            ],
            [
             0.7777777777777778,
             "#fb9f3a"
            ],
            [
             0.8888888888888888,
             "#fdca26"
            ],
            [
             1,
             "#f0f921"
            ]
           ],
           "sequentialminus": [
            [
             0,
             "#0d0887"
            ],
            [
             0.1111111111111111,
             "#46039f"
            ],
            [
             0.2222222222222222,
             "#7201a8"
            ],
            [
             0.3333333333333333,
             "#9c179e"
            ],
            [
             0.4444444444444444,
             "#bd3786"
            ],
            [
             0.5555555555555556,
             "#d8576b"
            ],
            [
             0.6666666666666666,
             "#ed7953"
            ],
            [
             0.7777777777777778,
             "#fb9f3a"
            ],
            [
             0.8888888888888888,
             "#fdca26"
            ],
            [
             1,
             "#f0f921"
            ]
           ]
          },
          "colorway": [
           "#636efa",
           "#EF553B",
           "#00cc96",
           "#ab63fa",
           "#FFA15A",
           "#19d3f3",
           "#FF6692",
           "#B6E880",
           "#FF97FF",
           "#FECB52"
          ],
          "font": {
           "color": "#2a3f5f"
          },
          "geo": {
           "bgcolor": "white",
           "lakecolor": "white",
           "landcolor": "#E5ECF6",
           "showlakes": true,
           "showland": true,
           "subunitcolor": "white"
          },
          "hoverlabel": {
           "align": "left"
          },
          "hovermode": "closest",
          "mapbox": {
           "style": "light"
          },
          "paper_bgcolor": "white",
          "plot_bgcolor": "#E5ECF6",
          "polar": {
           "angularaxis": {
            "gridcolor": "white",
            "linecolor": "white",
            "ticks": ""
           },
           "bgcolor": "#E5ECF6",
           "radialaxis": {
            "gridcolor": "white",
            "linecolor": "white",
            "ticks": ""
           }
          },
          "scene": {
           "xaxis": {
            "backgroundcolor": "#E5ECF6",
            "gridcolor": "white",
            "gridwidth": 2,
            "linecolor": "white",
            "showbackground": true,
            "ticks": "",
            "zerolinecolor": "white"
           },
           "yaxis": {
            "backgroundcolor": "#E5ECF6",
            "gridcolor": "white",
            "gridwidth": 2,
            "linecolor": "white",
            "showbackground": true,
            "ticks": "",
            "zerolinecolor": "white"
           },
           "zaxis": {
            "backgroundcolor": "#E5ECF6",
            "gridcolor": "white",
            "gridwidth": 2,
            "linecolor": "white",
            "showbackground": true,
            "ticks": "",
            "zerolinecolor": "white"
           }
          },
          "shapedefaults": {
           "line": {
            "color": "#2a3f5f"
           }
          },
          "ternary": {
           "aaxis": {
            "gridcolor": "white",
            "linecolor": "white",
            "ticks": ""
           },
           "baxis": {
            "gridcolor": "white",
            "linecolor": "white",
            "ticks": ""
           },
           "bgcolor": "#E5ECF6",
           "caxis": {
            "gridcolor": "white",
            "linecolor": "white",
            "ticks": ""
           }
          },
          "title": {
           "x": 0.05
          },
          "xaxis": {
           "automargin": true,
           "gridcolor": "white",
           "linecolor": "white",
           "ticks": "",
           "title": {
            "standoff": 15
           },
           "zerolinecolor": "white",
           "zerolinewidth": 2
          },
          "yaxis": {
           "automargin": true,
           "gridcolor": "white",
           "linecolor": "white",
           "ticks": "",
           "title": {
            "standoff": 15
           },
           "zerolinecolor": "white",
           "zerolinewidth": 2
          }
         }
        },
        "xaxis": {
         "anchor": "y",
         "domain": [
          0,
          1
         ],
         "title": {
          "text": "Year"
         }
        },
        "yaxis": {
         "anchor": "x",
         "domain": [
          0,
          1
         ],
         "title": {
          "text": "Value"
         }
        }
       }
      }
     },
     "metadata": {},
     "output_type": "display_data"
    }
   ],
   "source": [
    "emissionsCapitaDF = emissionsCapitaDF[emissionsCapitaDF['ISO_country'].isin(annex1)]\n",
    "melted_df = emissionsCapitaDF.melt(id_vars=['ISO_country'], var_name='Year', value_name='Value')\n",
    "melted_df = melted_df.drop(melted_df[melted_df['ISO_country'] == 'FLK'].index)\n",
    "import plotly.express as px\n",
    "\n",
    "fig = px.line(melted_df, x='Year', y='Value', color='ISO_country')\n",
    "fig.show()\n",
    "\n"
   ]
  },
  {
   "cell_type": "code",
   "execution_count": 15,
   "metadata": {},
   "outputs": [
    {
     "data": {
      "application/vnd.plotly.v1+json": {
       "config": {
        "plotlyServerURL": "https://plot.ly"
       },
       "data": [
        {
         "hovertemplate": "ISO_country=World<br>Year=%{x}<br>Value=%{y}<extra></extra>",
         "legendgroup": "World",
         "line": {
          "color": "#636efa",
          "dash": "solid"
         },
         "marker": {
          "symbol": "circle"
         },
         "mode": "lines",
         "name": "World",
         "orientation": "v",
         "showlegend": true,
         "type": "scatter",
         "x": [
          "2000",
          "2001",
          "2002",
          "2003",
          "2004",
          "2005",
          "2006",
          "2007",
          "2008",
          "2009",
          "2010",
          "2011",
          "2012",
          "2013",
          "2014",
          "2015",
          "2016",
          "2017",
          "2018",
          "2019",
          "2020",
          "2021",
          "2022"
         ],
         "xaxis": "x",
         "y": [
          36865.273643468,
          37045.641995588,
          38251.721924694,
          39382.82585488,
          41442.95635711601,
          42474.771415215,
          44028.682099296995,
          44800.09872771899,
          44948.640985849,
          44888.664067426995,
          46573.182356361,
          47195.039982494,
          47896.483839329,
          48733.32288924201,
          49469.193833597994,
          49556.992703564,
          49301.507712677,
          50160.96043968,
          51507.94909144899,
          51936.227456032,
          49834.641130157994,
          51981.00217614601,
          52506.754208524995
         ],
         "yaxis": "y"
        }
       ],
       "layout": {
        "legend": {
         "title": {
          "text": "ISO_country"
         },
         "tracegroupgap": 0
        },
        "margin": {
         "t": 60
        },
        "template": {
         "data": {
          "bar": [
           {
            "error_x": {
             "color": "#2a3f5f"
            },
            "error_y": {
             "color": "#2a3f5f"
            },
            "marker": {
             "line": {
              "color": "#E5ECF6",
              "width": 0.5
             },
             "pattern": {
              "fillmode": "overlay",
              "size": 10,
              "solidity": 0.2
             }
            },
            "type": "bar"
           }
          ],
          "barpolar": [
           {
            "marker": {
             "line": {
              "color": "#E5ECF6",
              "width": 0.5
             },
             "pattern": {
              "fillmode": "overlay",
              "size": 10,
              "solidity": 0.2
             }
            },
            "type": "barpolar"
           }
          ],
          "carpet": [
           {
            "aaxis": {
             "endlinecolor": "#2a3f5f",
             "gridcolor": "white",
             "linecolor": "white",
             "minorgridcolor": "white",
             "startlinecolor": "#2a3f5f"
            },
            "baxis": {
             "endlinecolor": "#2a3f5f",
             "gridcolor": "white",
             "linecolor": "white",
             "minorgridcolor": "white",
             "startlinecolor": "#2a3f5f"
            },
            "type": "carpet"
           }
          ],
          "choropleth": [
           {
            "colorbar": {
             "outlinewidth": 0,
             "ticks": ""
            },
            "type": "choropleth"
           }
          ],
          "contour": [
           {
            "colorbar": {
             "outlinewidth": 0,
             "ticks": ""
            },
            "colorscale": [
             [
              0,
              "#0d0887"
             ],
             [
              0.1111111111111111,
              "#46039f"
             ],
             [
              0.2222222222222222,
              "#7201a8"
             ],
             [
              0.3333333333333333,
              "#9c179e"
             ],
             [
              0.4444444444444444,
              "#bd3786"
             ],
             [
              0.5555555555555556,
              "#d8576b"
             ],
             [
              0.6666666666666666,
              "#ed7953"
             ],
             [
              0.7777777777777778,
              "#fb9f3a"
             ],
             [
              0.8888888888888888,
              "#fdca26"
             ],
             [
              1,
              "#f0f921"
             ]
            ],
            "type": "contour"
           }
          ],
          "contourcarpet": [
           {
            "colorbar": {
             "outlinewidth": 0,
             "ticks": ""
            },
            "type": "contourcarpet"
           }
          ],
          "heatmap": [
           {
            "colorbar": {
             "outlinewidth": 0,
             "ticks": ""
            },
            "colorscale": [
             [
              0,
              "#0d0887"
             ],
             [
              0.1111111111111111,
              "#46039f"
             ],
             [
              0.2222222222222222,
              "#7201a8"
             ],
             [
              0.3333333333333333,
              "#9c179e"
             ],
             [
              0.4444444444444444,
              "#bd3786"
             ],
             [
              0.5555555555555556,
              "#d8576b"
             ],
             [
              0.6666666666666666,
              "#ed7953"
             ],
             [
              0.7777777777777778,
              "#fb9f3a"
             ],
             [
              0.8888888888888888,
              "#fdca26"
             ],
             [
              1,
              "#f0f921"
             ]
            ],
            "type": "heatmap"
           }
          ],
          "heatmapgl": [
           {
            "colorbar": {
             "outlinewidth": 0,
             "ticks": ""
            },
            "colorscale": [
             [
              0,
              "#0d0887"
             ],
             [
              0.1111111111111111,
              "#46039f"
             ],
             [
              0.2222222222222222,
              "#7201a8"
             ],
             [
              0.3333333333333333,
              "#9c179e"
             ],
             [
              0.4444444444444444,
              "#bd3786"
             ],
             [
              0.5555555555555556,
              "#d8576b"
             ],
             [
              0.6666666666666666,
              "#ed7953"
             ],
             [
              0.7777777777777778,
              "#fb9f3a"
             ],
             [
              0.8888888888888888,
              "#fdca26"
             ],
             [
              1,
              "#f0f921"
             ]
            ],
            "type": "heatmapgl"
           }
          ],
          "histogram": [
           {
            "marker": {
             "pattern": {
              "fillmode": "overlay",
              "size": 10,
              "solidity": 0.2
             }
            },
            "type": "histogram"
           }
          ],
          "histogram2d": [
           {
            "colorbar": {
             "outlinewidth": 0,
             "ticks": ""
            },
            "colorscale": [
             [
              0,
              "#0d0887"
             ],
             [
              0.1111111111111111,
              "#46039f"
             ],
             [
              0.2222222222222222,
              "#7201a8"
             ],
             [
              0.3333333333333333,
              "#9c179e"
             ],
             [
              0.4444444444444444,
              "#bd3786"
             ],
             [
              0.5555555555555556,
              "#d8576b"
             ],
             [
              0.6666666666666666,
              "#ed7953"
             ],
             [
              0.7777777777777778,
              "#fb9f3a"
             ],
             [
              0.8888888888888888,
              "#fdca26"
             ],
             [
              1,
              "#f0f921"
             ]
            ],
            "type": "histogram2d"
           }
          ],
          "histogram2dcontour": [
           {
            "colorbar": {
             "outlinewidth": 0,
             "ticks": ""
            },
            "colorscale": [
             [
              0,
              "#0d0887"
             ],
             [
              0.1111111111111111,
              "#46039f"
             ],
             [
              0.2222222222222222,
              "#7201a8"
             ],
             [
              0.3333333333333333,
              "#9c179e"
             ],
             [
              0.4444444444444444,
              "#bd3786"
             ],
             [
              0.5555555555555556,
              "#d8576b"
             ],
             [
              0.6666666666666666,
              "#ed7953"
             ],
             [
              0.7777777777777778,
              "#fb9f3a"
             ],
             [
              0.8888888888888888,
              "#fdca26"
             ],
             [
              1,
              "#f0f921"
             ]
            ],
            "type": "histogram2dcontour"
           }
          ],
          "mesh3d": [
           {
            "colorbar": {
             "outlinewidth": 0,
             "ticks": ""
            },
            "type": "mesh3d"
           }
          ],
          "parcoords": [
           {
            "line": {
             "colorbar": {
              "outlinewidth": 0,
              "ticks": ""
             }
            },
            "type": "parcoords"
           }
          ],
          "pie": [
           {
            "automargin": true,
            "type": "pie"
           }
          ],
          "scatter": [
           {
            "fillpattern": {
             "fillmode": "overlay",
             "size": 10,
             "solidity": 0.2
            },
            "type": "scatter"
           }
          ],
          "scatter3d": [
           {
            "line": {
             "colorbar": {
              "outlinewidth": 0,
              "ticks": ""
             }
            },
            "marker": {
             "colorbar": {
              "outlinewidth": 0,
              "ticks": ""
             }
            },
            "type": "scatter3d"
           }
          ],
          "scattercarpet": [
           {
            "marker": {
             "colorbar": {
              "outlinewidth": 0,
              "ticks": ""
             }
            },
            "type": "scattercarpet"
           }
          ],
          "scattergeo": [
           {
            "marker": {
             "colorbar": {
              "outlinewidth": 0,
              "ticks": ""
             }
            },
            "type": "scattergeo"
           }
          ],
          "scattergl": [
           {
            "marker": {
             "colorbar": {
              "outlinewidth": 0,
              "ticks": ""
             }
            },
            "type": "scattergl"
           }
          ],
          "scattermapbox": [
           {
            "marker": {
             "colorbar": {
              "outlinewidth": 0,
              "ticks": ""
             }
            },
            "type": "scattermapbox"
           }
          ],
          "scatterpolar": [
           {
            "marker": {
             "colorbar": {
              "outlinewidth": 0,
              "ticks": ""
             }
            },
            "type": "scatterpolar"
           }
          ],
          "scatterpolargl": [
           {
            "marker": {
             "colorbar": {
              "outlinewidth": 0,
              "ticks": ""
             }
            },
            "type": "scatterpolargl"
           }
          ],
          "scatterternary": [
           {
            "marker": {
             "colorbar": {
              "outlinewidth": 0,
              "ticks": ""
             }
            },
            "type": "scatterternary"
           }
          ],
          "surface": [
           {
            "colorbar": {
             "outlinewidth": 0,
             "ticks": ""
            },
            "colorscale": [
             [
              0,
              "#0d0887"
             ],
             [
              0.1111111111111111,
              "#46039f"
             ],
             [
              0.2222222222222222,
              "#7201a8"
             ],
             [
              0.3333333333333333,
              "#9c179e"
             ],
             [
              0.4444444444444444,
              "#bd3786"
             ],
             [
              0.5555555555555556,
              "#d8576b"
             ],
             [
              0.6666666666666666,
              "#ed7953"
             ],
             [
              0.7777777777777778,
              "#fb9f3a"
             ],
             [
              0.8888888888888888,
              "#fdca26"
             ],
             [
              1,
              "#f0f921"
             ]
            ],
            "type": "surface"
           }
          ],
          "table": [
           {
            "cells": {
             "fill": {
              "color": "#EBF0F8"
             },
             "line": {
              "color": "white"
             }
            },
            "header": {
             "fill": {
              "color": "#C8D4E3"
             },
             "line": {
              "color": "white"
             }
            },
            "type": "table"
           }
          ]
         },
         "layout": {
          "annotationdefaults": {
           "arrowcolor": "#2a3f5f",
           "arrowhead": 0,
           "arrowwidth": 1
          },
          "autotypenumbers": "strict",
          "coloraxis": {
           "colorbar": {
            "outlinewidth": 0,
            "ticks": ""
           }
          },
          "colorscale": {
           "diverging": [
            [
             0,
             "#8e0152"
            ],
            [
             0.1,
             "#c51b7d"
            ],
            [
             0.2,
             "#de77ae"
            ],
            [
             0.3,
             "#f1b6da"
            ],
            [
             0.4,
             "#fde0ef"
            ],
            [
             0.5,
             "#f7f7f7"
            ],
            [
             0.6,
             "#e6f5d0"
            ],
            [
             0.7,
             "#b8e186"
            ],
            [
             0.8,
             "#7fbc41"
            ],
            [
             0.9,
             "#4d9221"
            ],
            [
             1,
             "#276419"
            ]
           ],
           "sequential": [
            [
             0,
             "#0d0887"
            ],
            [
             0.1111111111111111,
             "#46039f"
            ],
            [
             0.2222222222222222,
             "#7201a8"
            ],
            [
             0.3333333333333333,
             "#9c179e"
            ],
            [
             0.4444444444444444,
             "#bd3786"
            ],
            [
             0.5555555555555556,
             "#d8576b"
            ],
            [
             0.6666666666666666,
             "#ed7953"
            ],
            [
             0.7777777777777778,
             "#fb9f3a"
            ],
            [
             0.8888888888888888,
             "#fdca26"
            ],
            [
             1,
             "#f0f921"
            ]
           ],
           "sequentialminus": [
            [
             0,
             "#0d0887"
            ],
            [
             0.1111111111111111,
             "#46039f"
            ],
            [
             0.2222222222222222,
             "#7201a8"
            ],
            [
             0.3333333333333333,
             "#9c179e"
            ],
            [
             0.4444444444444444,
             "#bd3786"
            ],
            [
             0.5555555555555556,
             "#d8576b"
            ],
            [
             0.6666666666666666,
             "#ed7953"
            ],
            [
             0.7777777777777778,
             "#fb9f3a"
            ],
            [
             0.8888888888888888,
             "#fdca26"
            ],
            [
             1,
             "#f0f921"
            ]
           ]
          },
          "colorway": [
           "#636efa",
           "#EF553B",
           "#00cc96",
           "#ab63fa",
           "#FFA15A",
           "#19d3f3",
           "#FF6692",
           "#B6E880",
           "#FF97FF",
           "#FECB52"
          ],
          "font": {
           "color": "#2a3f5f"
          },
          "geo": {
           "bgcolor": "white",
           "lakecolor": "white",
           "landcolor": "#E5ECF6",
           "showlakes": true,
           "showland": true,
           "subunitcolor": "white"
          },
          "hoverlabel": {
           "align": "left"
          },
          "hovermode": "closest",
          "mapbox": {
           "style": "light"
          },
          "paper_bgcolor": "white",
          "plot_bgcolor": "#E5ECF6",
          "polar": {
           "angularaxis": {
            "gridcolor": "white",
            "linecolor": "white",
            "ticks": ""
           },
           "bgcolor": "#E5ECF6",
           "radialaxis": {
            "gridcolor": "white",
            "linecolor": "white",
            "ticks": ""
           }
          },
          "scene": {
           "xaxis": {
            "backgroundcolor": "#E5ECF6",
            "gridcolor": "white",
            "gridwidth": 2,
            "linecolor": "white",
            "showbackground": true,
            "ticks": "",
            "zerolinecolor": "white"
           },
           "yaxis": {
            "backgroundcolor": "#E5ECF6",
            "gridcolor": "white",
            "gridwidth": 2,
            "linecolor": "white",
            "showbackground": true,
            "ticks": "",
            "zerolinecolor": "white"
           },
           "zaxis": {
            "backgroundcolor": "#E5ECF6",
            "gridcolor": "white",
            "gridwidth": 2,
            "linecolor": "white",
            "showbackground": true,
            "ticks": "",
            "zerolinecolor": "white"
           }
          },
          "shapedefaults": {
           "line": {
            "color": "#2a3f5f"
           }
          },
          "ternary": {
           "aaxis": {
            "gridcolor": "white",
            "linecolor": "white",
            "ticks": ""
           },
           "baxis": {
            "gridcolor": "white",
            "linecolor": "white",
            "ticks": ""
           },
           "bgcolor": "#E5ECF6",
           "caxis": {
            "gridcolor": "white",
            "linecolor": "white",
            "ticks": ""
           }
          },
          "title": {
           "x": 0.05
          },
          "xaxis": {
           "automargin": true,
           "gridcolor": "white",
           "linecolor": "white",
           "ticks": "",
           "title": {
            "standoff": 15
           },
           "zerolinecolor": "white",
           "zerolinewidth": 2
          },
          "yaxis": {
           "automargin": true,
           "gridcolor": "white",
           "linecolor": "white",
           "ticks": "",
           "title": {
            "standoff": 15
           },
           "zerolinecolor": "white",
           "zerolinewidth": 2
          }
         }
        },
        "xaxis": {
         "anchor": "y",
         "domain": [
          0,
          1
         ],
         "title": {
          "text": "Year"
         }
        },
        "yaxis": {
         "anchor": "x",
         "domain": [
          0,
          1
         ],
         "title": {
          "text": "Value"
         }
        }
       }
      }
     },
     "metadata": {},
     "output_type": "display_data"
    }
   ],
   "source": [
    "ccWorld = pd.DataFrame(ccDF.sum(axis=0)).T\n",
    "ccWorld['ISO_country'] = 'World'\n",
    "ccWorld = ccWorld.reset_index(drop=True)\n",
    "ccWorld_melted = ccWorld.melt(id_vars=['ISO_country'], var_name='Year', value_name='Value')\n",
    "# y - millions of metric tons of GHG\n",
    "fig = px.line(ccWorld_melted, x='Year', y='Value', color='ISO_country')\n",
    "fig.show()\n",
    "\n"
   ]
  },
  {
   "cell_type": "code",
   "execution_count": 16,
   "metadata": {},
   "outputs": [
    {
     "data": {
      "application/vnd.plotly.v1+json": {
       "config": {
        "plotlyServerURL": "https://plot.ly"
       },
       "data": [
        {
         "hovertemplate": "ISO_country=World<br>Year=%{x}<br>Value=%{y}<extra></extra>",
         "legendgroup": "World",
         "line": {
          "color": "#636efa",
          "dash": "solid"
         },
         "marker": {
          "symbol": "circle"
         },
         "mode": "lines",
         "name": "World",
         "orientation": "v",
         "showlegend": true,
         "type": "scatter",
         "x": [
          "2000",
          "2001",
          "2002",
          "2003",
          "2004",
          "2005",
          "2006",
          "2007",
          "2008",
          "2009",
          "2010",
          "2011",
          "2012",
          "2013",
          "2014",
          "2015",
          "2016",
          "2017",
          "2018",
          "2019",
          "2020",
          "2021",
          "2022"
         ],
         "xaxis": "x",
         "y": [
          6107942028,
          6189855922,
          6271638043,
          6353176677,
          6434620053,
          6516882903,
          6599469335,
          6683363101,
          6768533988,
          6854660556,
          6941951260,
          7029254950,
          7116995900,
          7206399942,
          7294786798,
          7383240040,
          7469955033,
          7556993443,
          7642651364,
          7724928292,
          7804973773,
          7876931987,
          7941658316
         ],
         "yaxis": "y"
        }
       ],
       "layout": {
        "legend": {
         "title": {
          "text": "ISO_country"
         },
         "tracegroupgap": 0
        },
        "margin": {
         "t": 60
        },
        "template": {
         "data": {
          "bar": [
           {
            "error_x": {
             "color": "#2a3f5f"
            },
            "error_y": {
             "color": "#2a3f5f"
            },
            "marker": {
             "line": {
              "color": "#E5ECF6",
              "width": 0.5
             },
             "pattern": {
              "fillmode": "overlay",
              "size": 10,
              "solidity": 0.2
             }
            },
            "type": "bar"
           }
          ],
          "barpolar": [
           {
            "marker": {
             "line": {
              "color": "#E5ECF6",
              "width": 0.5
             },
             "pattern": {
              "fillmode": "overlay",
              "size": 10,
              "solidity": 0.2
             }
            },
            "type": "barpolar"
           }
          ],
          "carpet": [
           {
            "aaxis": {
             "endlinecolor": "#2a3f5f",
             "gridcolor": "white",
             "linecolor": "white",
             "minorgridcolor": "white",
             "startlinecolor": "#2a3f5f"
            },
            "baxis": {
             "endlinecolor": "#2a3f5f",
             "gridcolor": "white",
             "linecolor": "white",
             "minorgridcolor": "white",
             "startlinecolor": "#2a3f5f"
            },
            "type": "carpet"
           }
          ],
          "choropleth": [
           {
            "colorbar": {
             "outlinewidth": 0,
             "ticks": ""
            },
            "type": "choropleth"
           }
          ],
          "contour": [
           {
            "colorbar": {
             "outlinewidth": 0,
             "ticks": ""
            },
            "colorscale": [
             [
              0,
              "#0d0887"
             ],
             [
              0.1111111111111111,
              "#46039f"
             ],
             [
              0.2222222222222222,
              "#7201a8"
             ],
             [
              0.3333333333333333,
              "#9c179e"
             ],
             [
              0.4444444444444444,
              "#bd3786"
             ],
             [
              0.5555555555555556,
              "#d8576b"
             ],
             [
              0.6666666666666666,
              "#ed7953"
             ],
             [
              0.7777777777777778,
              "#fb9f3a"
             ],
             [
              0.8888888888888888,
              "#fdca26"
             ],
             [
              1,
              "#f0f921"
             ]
            ],
            "type": "contour"
           }
          ],
          "contourcarpet": [
           {
            "colorbar": {
             "outlinewidth": 0,
             "ticks": ""
            },
            "type": "contourcarpet"
           }
          ],
          "heatmap": [
           {
            "colorbar": {
             "outlinewidth": 0,
             "ticks": ""
            },
            "colorscale": [
             [
              0,
              "#0d0887"
             ],
             [
              0.1111111111111111,
              "#46039f"
             ],
             [
              0.2222222222222222,
              "#7201a8"
             ],
             [
              0.3333333333333333,
              "#9c179e"
             ],
             [
              0.4444444444444444,
              "#bd3786"
             ],
             [
              0.5555555555555556,
              "#d8576b"
             ],
             [
              0.6666666666666666,
              "#ed7953"
             ],
             [
              0.7777777777777778,
              "#fb9f3a"
             ],
             [
              0.8888888888888888,
              "#fdca26"
             ],
             [
              1,
              "#f0f921"
             ]
            ],
            "type": "heatmap"
           }
          ],
          "heatmapgl": [
           {
            "colorbar": {
             "outlinewidth": 0,
             "ticks": ""
            },
            "colorscale": [
             [
              0,
              "#0d0887"
             ],
             [
              0.1111111111111111,
              "#46039f"
             ],
             [
              0.2222222222222222,
              "#7201a8"
             ],
             [
              0.3333333333333333,
              "#9c179e"
             ],
             [
              0.4444444444444444,
              "#bd3786"
             ],
             [
              0.5555555555555556,
              "#d8576b"
             ],
             [
              0.6666666666666666,
              "#ed7953"
             ],
             [
              0.7777777777777778,
              "#fb9f3a"
             ],
             [
              0.8888888888888888,
              "#fdca26"
             ],
             [
              1,
              "#f0f921"
             ]
            ],
            "type": "heatmapgl"
           }
          ],
          "histogram": [
           {
            "marker": {
             "pattern": {
              "fillmode": "overlay",
              "size": 10,
              "solidity": 0.2
             }
            },
            "type": "histogram"
           }
          ],
          "histogram2d": [
           {
            "colorbar": {
             "outlinewidth": 0,
             "ticks": ""
            },
            "colorscale": [
             [
              0,
              "#0d0887"
             ],
             [
              0.1111111111111111,
              "#46039f"
             ],
             [
              0.2222222222222222,
              "#7201a8"
             ],
             [
              0.3333333333333333,
              "#9c179e"
             ],
             [
              0.4444444444444444,
              "#bd3786"
             ],
             [
              0.5555555555555556,
              "#d8576b"
             ],
             [
              0.6666666666666666,
              "#ed7953"
             ],
             [
              0.7777777777777778,
              "#fb9f3a"
             ],
             [
              0.8888888888888888,
              "#fdca26"
             ],
             [
              1,
              "#f0f921"
             ]
            ],
            "type": "histogram2d"
           }
          ],
          "histogram2dcontour": [
           {
            "colorbar": {
             "outlinewidth": 0,
             "ticks": ""
            },
            "colorscale": [
             [
              0,
              "#0d0887"
             ],
             [
              0.1111111111111111,
              "#46039f"
             ],
             [
              0.2222222222222222,
              "#7201a8"
             ],
             [
              0.3333333333333333,
              "#9c179e"
             ],
             [
              0.4444444444444444,
              "#bd3786"
             ],
             [
              0.5555555555555556,
              "#d8576b"
             ],
             [
              0.6666666666666666,
              "#ed7953"
             ],
             [
              0.7777777777777778,
              "#fb9f3a"
             ],
             [
              0.8888888888888888,
              "#fdca26"
             ],
             [
              1,
              "#f0f921"
             ]
            ],
            "type": "histogram2dcontour"
           }
          ],
          "mesh3d": [
           {
            "colorbar": {
             "outlinewidth": 0,
             "ticks": ""
            },
            "type": "mesh3d"
           }
          ],
          "parcoords": [
           {
            "line": {
             "colorbar": {
              "outlinewidth": 0,
              "ticks": ""
             }
            },
            "type": "parcoords"
           }
          ],
          "pie": [
           {
            "automargin": true,
            "type": "pie"
           }
          ],
          "scatter": [
           {
            "fillpattern": {
             "fillmode": "overlay",
             "size": 10,
             "solidity": 0.2
            },
            "type": "scatter"
           }
          ],
          "scatter3d": [
           {
            "line": {
             "colorbar": {
              "outlinewidth": 0,
              "ticks": ""
             }
            },
            "marker": {
             "colorbar": {
              "outlinewidth": 0,
              "ticks": ""
             }
            },
            "type": "scatter3d"
           }
          ],
          "scattercarpet": [
           {
            "marker": {
             "colorbar": {
              "outlinewidth": 0,
              "ticks": ""
             }
            },
            "type": "scattercarpet"
           }
          ],
          "scattergeo": [
           {
            "marker": {
             "colorbar": {
              "outlinewidth": 0,
              "ticks": ""
             }
            },
            "type": "scattergeo"
           }
          ],
          "scattergl": [
           {
            "marker": {
             "colorbar": {
              "outlinewidth": 0,
              "ticks": ""
             }
            },
            "type": "scattergl"
           }
          ],
          "scattermapbox": [
           {
            "marker": {
             "colorbar": {
              "outlinewidth": 0,
              "ticks": ""
             }
            },
            "type": "scattermapbox"
           }
          ],
          "scatterpolar": [
           {
            "marker": {
             "colorbar": {
              "outlinewidth": 0,
              "ticks": ""
             }
            },
            "type": "scatterpolar"
           }
          ],
          "scatterpolargl": [
           {
            "marker": {
             "colorbar": {
              "outlinewidth": 0,
              "ticks": ""
             }
            },
            "type": "scatterpolargl"
           }
          ],
          "scatterternary": [
           {
            "marker": {
             "colorbar": {
              "outlinewidth": 0,
              "ticks": ""
             }
            },
            "type": "scatterternary"
           }
          ],
          "surface": [
           {
            "colorbar": {
             "outlinewidth": 0,
             "ticks": ""
            },
            "colorscale": [
             [
              0,
              "#0d0887"
             ],
             [
              0.1111111111111111,
              "#46039f"
             ],
             [
              0.2222222222222222,
              "#7201a8"
             ],
             [
              0.3333333333333333,
              "#9c179e"
             ],
             [
              0.4444444444444444,
              "#bd3786"
             ],
             [
              0.5555555555555556,
              "#d8576b"
             ],
             [
              0.6666666666666666,
              "#ed7953"
             ],
             [
              0.7777777777777778,
              "#fb9f3a"
             ],
             [
              0.8888888888888888,
              "#fdca26"
             ],
             [
              1,
              "#f0f921"
             ]
            ],
            "type": "surface"
           }
          ],
          "table": [
           {
            "cells": {
             "fill": {
              "color": "#EBF0F8"
             },
             "line": {
              "color": "white"
             }
            },
            "header": {
             "fill": {
              "color": "#C8D4E3"
             },
             "line": {
              "color": "white"
             }
            },
            "type": "table"
           }
          ]
         },
         "layout": {
          "annotationdefaults": {
           "arrowcolor": "#2a3f5f",
           "arrowhead": 0,
           "arrowwidth": 1
          },
          "autotypenumbers": "strict",
          "coloraxis": {
           "colorbar": {
            "outlinewidth": 0,
            "ticks": ""
           }
          },
          "colorscale": {
           "diverging": [
            [
             0,
             "#8e0152"
            ],
            [
             0.1,
             "#c51b7d"
            ],
            [
             0.2,
             "#de77ae"
            ],
            [
             0.3,
             "#f1b6da"
            ],
            [
             0.4,
             "#fde0ef"
            ],
            [
             0.5,
             "#f7f7f7"
            ],
            [
             0.6,
             "#e6f5d0"
            ],
            [
             0.7,
             "#b8e186"
            ],
            [
             0.8,
             "#7fbc41"
            ],
            [
             0.9,
             "#4d9221"
            ],
            [
             1,
             "#276419"
            ]
           ],
           "sequential": [
            [
             0,
             "#0d0887"
            ],
            [
             0.1111111111111111,
             "#46039f"
            ],
            [
             0.2222222222222222,
             "#7201a8"
            ],
            [
             0.3333333333333333,
             "#9c179e"
            ],
            [
             0.4444444444444444,
             "#bd3786"
            ],
            [
             0.5555555555555556,
             "#d8576b"
            ],
            [
             0.6666666666666666,
             "#ed7953"
            ],
            [
             0.7777777777777778,
             "#fb9f3a"
            ],
            [
             0.8888888888888888,
             "#fdca26"
            ],
            [
             1,
             "#f0f921"
            ]
           ],
           "sequentialminus": [
            [
             0,
             "#0d0887"
            ],
            [
             0.1111111111111111,
             "#46039f"
            ],
            [
             0.2222222222222222,
             "#7201a8"
            ],
            [
             0.3333333333333333,
             "#9c179e"
            ],
            [
             0.4444444444444444,
             "#bd3786"
            ],
            [
             0.5555555555555556,
             "#d8576b"
            ],
            [
             0.6666666666666666,
             "#ed7953"
            ],
            [
             0.7777777777777778,
             "#fb9f3a"
            ],
            [
             0.8888888888888888,
             "#fdca26"
            ],
            [
             1,
             "#f0f921"
            ]
           ]
          },
          "colorway": [
           "#636efa",
           "#EF553B",
           "#00cc96",
           "#ab63fa",
           "#FFA15A",
           "#19d3f3",
           "#FF6692",
           "#B6E880",
           "#FF97FF",
           "#FECB52"
          ],
          "font": {
           "color": "#2a3f5f"
          },
          "geo": {
           "bgcolor": "white",
           "lakecolor": "white",
           "landcolor": "#E5ECF6",
           "showlakes": true,
           "showland": true,
           "subunitcolor": "white"
          },
          "hoverlabel": {
           "align": "left"
          },
          "hovermode": "closest",
          "mapbox": {
           "style": "light"
          },
          "paper_bgcolor": "white",
          "plot_bgcolor": "#E5ECF6",
          "polar": {
           "angularaxis": {
            "gridcolor": "white",
            "linecolor": "white",
            "ticks": ""
           },
           "bgcolor": "#E5ECF6",
           "radialaxis": {
            "gridcolor": "white",
            "linecolor": "white",
            "ticks": ""
           }
          },
          "scene": {
           "xaxis": {
            "backgroundcolor": "#E5ECF6",
            "gridcolor": "white",
            "gridwidth": 2,
            "linecolor": "white",
            "showbackground": true,
            "ticks": "",
            "zerolinecolor": "white"
           },
           "yaxis": {
            "backgroundcolor": "#E5ECF6",
            "gridcolor": "white",
            "gridwidth": 2,
            "linecolor": "white",
            "showbackground": true,
            "ticks": "",
            "zerolinecolor": "white"
           },
           "zaxis": {
            "backgroundcolor": "#E5ECF6",
            "gridcolor": "white",
            "gridwidth": 2,
            "linecolor": "white",
            "showbackground": true,
            "ticks": "",
            "zerolinecolor": "white"
           }
          },
          "shapedefaults": {
           "line": {
            "color": "#2a3f5f"
           }
          },
          "ternary": {
           "aaxis": {
            "gridcolor": "white",
            "linecolor": "white",
            "ticks": ""
           },
           "baxis": {
            "gridcolor": "white",
            "linecolor": "white",
            "ticks": ""
           },
           "bgcolor": "#E5ECF6",
           "caxis": {
            "gridcolor": "white",
            "linecolor": "white",
            "ticks": ""
           }
          },
          "title": {
           "x": 0.05
          },
          "xaxis": {
           "automargin": true,
           "gridcolor": "white",
           "linecolor": "white",
           "ticks": "",
           "title": {
            "standoff": 15
           },
           "zerolinecolor": "white",
           "zerolinewidth": 2
          },
          "yaxis": {
           "automargin": true,
           "gridcolor": "white",
           "linecolor": "white",
           "ticks": "",
           "title": {
            "standoff": 15
           },
           "zerolinecolor": "white",
           "zerolinewidth": 2
          }
         }
        },
        "xaxis": {
         "anchor": "y",
         "domain": [
          0,
          1
         ],
         "title": {
          "text": "Year"
         }
        },
        "yaxis": {
         "anchor": "x",
         "domain": [
          0,
          1
         ],
         "title": {
          "text": "Value"
         }
        }
       }
      }
     },
     "metadata": {},
     "output_type": "display_data"
    }
   ],
   "source": [
    "popWorld = pd.DataFrame(popDF.sum(axis=0)).T\n",
    "popWorld['ISO_country'] = 'World'\n",
    "popWorld = popWorld.reset_index(drop=True)\n",
    "popWorld_melted = popWorld.melt(id_vars=['ISO_country'], var_name='Year', value_name='Value')\n",
    "fig = px.line(popWorld_melted, x='Year', y='Value', color='ISO_country')\n",
    "fig.show()\n"
   ]
  },
  {
   "cell_type": "code",
   "execution_count": 17,
   "metadata": {},
   "outputs": [
    {
     "data": {
      "text/html": [
       "<div>\n",
       "<style scoped>\n",
       "    .dataframe tbody tr th:only-of-type {\n",
       "        vertical-align: middle;\n",
       "    }\n",
       "\n",
       "    .dataframe tbody tr th {\n",
       "        vertical-align: top;\n",
       "    }\n",
       "\n",
       "    .dataframe thead th {\n",
       "        text-align: right;\n",
       "    }\n",
       "</style>\n",
       "<table border=\"1\" class=\"dataframe\">\n",
       "  <thead>\n",
       "    <tr style=\"text-align: right;\">\n",
       "      <th></th>\n",
       "      <th>ISO_country</th>\n",
       "      <th>2000</th>\n",
       "      <th>2001</th>\n",
       "      <th>2002</th>\n",
       "      <th>2003</th>\n",
       "      <th>2004</th>\n",
       "      <th>2005</th>\n",
       "      <th>2006</th>\n",
       "      <th>2007</th>\n",
       "      <th>2008</th>\n",
       "      <th>...</th>\n",
       "      <th>2013</th>\n",
       "      <th>2014</th>\n",
       "      <th>2015</th>\n",
       "      <th>2016</th>\n",
       "      <th>2017</th>\n",
       "      <th>2018</th>\n",
       "      <th>2019</th>\n",
       "      <th>2020</th>\n",
       "      <th>2021</th>\n",
       "      <th>2022</th>\n",
       "    </tr>\n",
       "  </thead>\n",
       "  <tbody>\n",
       "    <tr>\n",
       "      <th>0</th>\n",
       "      <td>World</td>\n",
       "      <td>6.035629</td>\n",
       "      <td>5.984896</td>\n",
       "      <td>6.09916</td>\n",
       "      <td>6.198919</td>\n",
       "      <td>6.440622</td>\n",
       "      <td>6.517651</td>\n",
       "      <td>6.671549</td>\n",
       "      <td>6.703227</td>\n",
       "      <td>6.640824</td>\n",
       "      <td>...</td>\n",
       "      <td>6.762506</td>\n",
       "      <td>6.781445</td>\n",
       "      <td>6.712093</td>\n",
       "      <td>6.599974</td>\n",
       "      <td>6.637687</td>\n",
       "      <td>6.739539</td>\n",
       "      <td>6.723199</td>\n",
       "      <td>6.384985</td>\n",
       "      <td>6.599143</td>\n",
       "      <td>6.61156</td>\n",
       "    </tr>\n",
       "  </tbody>\n",
       "</table>\n",
       "<p>1 rows × 24 columns</p>\n",
       "</div>"
      ],
      "text/plain": [
       "  ISO_country      2000      2001     2002      2003      2004      2005  \\\n",
       "0       World  6.035629  5.984896  6.09916  6.198919  6.440622  6.517651   \n",
       "\n",
       "       2006      2007      2008  ...      2013      2014      2015      2016  \\\n",
       "0  6.671549  6.703227  6.640824  ...  6.762506  6.781445  6.712093  6.599974   \n",
       "\n",
       "       2017      2018      2019      2020      2021     2022  \n",
       "0  6.637687  6.739539  6.723199  6.384985  6.599143  6.61156  \n",
       "\n",
       "[1 rows x 24 columns]"
      ]
     },
     "execution_count": 17,
     "metadata": {},
     "output_type": "execute_result"
    }
   ],
   "source": [
    "ccCapitaDF = ccWorld.set_index('ISO_country') * 1000000 / popWorld.set_index('ISO_country')\n",
    "ccCapitaDF = ccCapitaDF.reset_index()\n",
    "ccCapitaDF.head()"
   ]
  },
  {
   "cell_type": "code",
   "execution_count": 18,
   "metadata": {},
   "outputs": [
    {
     "data": {
      "application/vnd.plotly.v1+json": {
       "config": {
        "plotlyServerURL": "https://plot.ly"
       },
       "data": [
        {
         "hovertemplate": "ISO_country=World<br>Year=%{x}<br>Value=%{y}<extra></extra>",
         "legendgroup": "World",
         "line": {
          "color": "#636efa",
          "dash": "solid"
         },
         "marker": {
          "symbol": "circle"
         },
         "mode": "lines",
         "name": "World",
         "orientation": "v",
         "showlegend": true,
         "type": "scatter",
         "x": [
          "2000",
          "2001",
          "2002",
          "2003",
          "2004",
          "2005",
          "2006",
          "2007",
          "2008",
          "2009",
          "2010",
          "2011",
          "2012",
          "2013",
          "2014",
          "2015",
          "2016",
          "2017",
          "2018",
          "2019",
          "2020",
          "2021",
          "2022"
         ],
         "xaxis": "x",
         "y": [
          6.035629263419721,
          5.984895684553867,
          6.0991596872188945,
          6.1989187232042715,
          6.440622137090153,
          6.5176514673390935,
          6.6715488570865515,
          6.703226811216611,
          6.640823709467794,
          6.548634130122634,
          6.7089468957696194,
          6.714088522638377,
          6.729873743404713,
          6.762506005976266,
          6.781444777407461,
          6.712092852877638,
          6.5999738278045665,
          6.637687437210073,
          6.739539282672556,
          6.7231986489528435,
          6.384985085094404,
          6.599143202192792,
          6.611560472545139
         ],
         "yaxis": "y"
        }
       ],
       "layout": {
        "legend": {
         "title": {
          "text": "ISO_country"
         },
         "tracegroupgap": 0
        },
        "margin": {
         "t": 60
        },
        "template": {
         "data": {
          "bar": [
           {
            "error_x": {
             "color": "#2a3f5f"
            },
            "error_y": {
             "color": "#2a3f5f"
            },
            "marker": {
             "line": {
              "color": "#E5ECF6",
              "width": 0.5
             },
             "pattern": {
              "fillmode": "overlay",
              "size": 10,
              "solidity": 0.2
             }
            },
            "type": "bar"
           }
          ],
          "barpolar": [
           {
            "marker": {
             "line": {
              "color": "#E5ECF6",
              "width": 0.5
             },
             "pattern": {
              "fillmode": "overlay",
              "size": 10,
              "solidity": 0.2
             }
            },
            "type": "barpolar"
           }
          ],
          "carpet": [
           {
            "aaxis": {
             "endlinecolor": "#2a3f5f",
             "gridcolor": "white",
             "linecolor": "white",
             "minorgridcolor": "white",
             "startlinecolor": "#2a3f5f"
            },
            "baxis": {
             "endlinecolor": "#2a3f5f",
             "gridcolor": "white",
             "linecolor": "white",
             "minorgridcolor": "white",
             "startlinecolor": "#2a3f5f"
            },
            "type": "carpet"
           }
          ],
          "choropleth": [
           {
            "colorbar": {
             "outlinewidth": 0,
             "ticks": ""
            },
            "type": "choropleth"
           }
          ],
          "contour": [
           {
            "colorbar": {
             "outlinewidth": 0,
             "ticks": ""
            },
            "colorscale": [
             [
              0,
              "#0d0887"
             ],
             [
              0.1111111111111111,
              "#46039f"
             ],
             [
              0.2222222222222222,
              "#7201a8"
             ],
             [
              0.3333333333333333,
              "#9c179e"
             ],
             [
              0.4444444444444444,
              "#bd3786"
             ],
             [
              0.5555555555555556,
              "#d8576b"
             ],
             [
              0.6666666666666666,
              "#ed7953"
             ],
             [
              0.7777777777777778,
              "#fb9f3a"
             ],
             [
              0.8888888888888888,
              "#fdca26"
             ],
             [
              1,
              "#f0f921"
             ]
            ],
            "type": "contour"
           }
          ],
          "contourcarpet": [
           {
            "colorbar": {
             "outlinewidth": 0,
             "ticks": ""
            },
            "type": "contourcarpet"
           }
          ],
          "heatmap": [
           {
            "colorbar": {
             "outlinewidth": 0,
             "ticks": ""
            },
            "colorscale": [
             [
              0,
              "#0d0887"
             ],
             [
              0.1111111111111111,
              "#46039f"
             ],
             [
              0.2222222222222222,
              "#7201a8"
             ],
             [
              0.3333333333333333,
              "#9c179e"
             ],
             [
              0.4444444444444444,
              "#bd3786"
             ],
             [
              0.5555555555555556,
              "#d8576b"
             ],
             [
              0.6666666666666666,
              "#ed7953"
             ],
             [
              0.7777777777777778,
              "#fb9f3a"
             ],
             [
              0.8888888888888888,
              "#fdca26"
             ],
             [
              1,
              "#f0f921"
             ]
            ],
            "type": "heatmap"
           }
          ],
          "heatmapgl": [
           {
            "colorbar": {
             "outlinewidth": 0,
             "ticks": ""
            },
            "colorscale": [
             [
              0,
              "#0d0887"
             ],
             [
              0.1111111111111111,
              "#46039f"
             ],
             [
              0.2222222222222222,
              "#7201a8"
             ],
             [
              0.3333333333333333,
              "#9c179e"
             ],
             [
              0.4444444444444444,
              "#bd3786"
             ],
             [
              0.5555555555555556,
              "#d8576b"
             ],
             [
              0.6666666666666666,
              "#ed7953"
             ],
             [
              0.7777777777777778,
              "#fb9f3a"
             ],
             [
              0.8888888888888888,
              "#fdca26"
             ],
             [
              1,
              "#f0f921"
             ]
            ],
            "type": "heatmapgl"
           }
          ],
          "histogram": [
           {
            "marker": {
             "pattern": {
              "fillmode": "overlay",
              "size": 10,
              "solidity": 0.2
             }
            },
            "type": "histogram"
           }
          ],
          "histogram2d": [
           {
            "colorbar": {
             "outlinewidth": 0,
             "ticks": ""
            },
            "colorscale": [
             [
              0,
              "#0d0887"
             ],
             [
              0.1111111111111111,
              "#46039f"
             ],
             [
              0.2222222222222222,
              "#7201a8"
             ],
             [
              0.3333333333333333,
              "#9c179e"
             ],
             [
              0.4444444444444444,
              "#bd3786"
             ],
             [
              0.5555555555555556,
              "#d8576b"
             ],
             [
              0.6666666666666666,
              "#ed7953"
             ],
             [
              0.7777777777777778,
              "#fb9f3a"
             ],
             [
              0.8888888888888888,
              "#fdca26"
             ],
             [
              1,
              "#f0f921"
             ]
            ],
            "type": "histogram2d"
           }
          ],
          "histogram2dcontour": [
           {
            "colorbar": {
             "outlinewidth": 0,
             "ticks": ""
            },
            "colorscale": [
             [
              0,
              "#0d0887"
             ],
             [
              0.1111111111111111,
              "#46039f"
             ],
             [
              0.2222222222222222,
              "#7201a8"
             ],
             [
              0.3333333333333333,
              "#9c179e"
             ],
             [
              0.4444444444444444,
              "#bd3786"
             ],
             [
              0.5555555555555556,
              "#d8576b"
             ],
             [
              0.6666666666666666,
              "#ed7953"
             ],
             [
              0.7777777777777778,
              "#fb9f3a"
             ],
             [
              0.8888888888888888,
              "#fdca26"
             ],
             [
              1,
              "#f0f921"
             ]
            ],
            "type": "histogram2dcontour"
           }
          ],
          "mesh3d": [
           {
            "colorbar": {
             "outlinewidth": 0,
             "ticks": ""
            },
            "type": "mesh3d"
           }
          ],
          "parcoords": [
           {
            "line": {
             "colorbar": {
              "outlinewidth": 0,
              "ticks": ""
             }
            },
            "type": "parcoords"
           }
          ],
          "pie": [
           {
            "automargin": true,
            "type": "pie"
           }
          ],
          "scatter": [
           {
            "fillpattern": {
             "fillmode": "overlay",
             "size": 10,
             "solidity": 0.2
            },
            "type": "scatter"
           }
          ],
          "scatter3d": [
           {
            "line": {
             "colorbar": {
              "outlinewidth": 0,
              "ticks": ""
             }
            },
            "marker": {
             "colorbar": {
              "outlinewidth": 0,
              "ticks": ""
             }
            },
            "type": "scatter3d"
           }
          ],
          "scattercarpet": [
           {
            "marker": {
             "colorbar": {
              "outlinewidth": 0,
              "ticks": ""
             }
            },
            "type": "scattercarpet"
           }
          ],
          "scattergeo": [
           {
            "marker": {
             "colorbar": {
              "outlinewidth": 0,
              "ticks": ""
             }
            },
            "type": "scattergeo"
           }
          ],
          "scattergl": [
           {
            "marker": {
             "colorbar": {
              "outlinewidth": 0,
              "ticks": ""
             }
            },
            "type": "scattergl"
           }
          ],
          "scattermapbox": [
           {
            "marker": {
             "colorbar": {
              "outlinewidth": 0,
              "ticks": ""
             }
            },
            "type": "scattermapbox"
           }
          ],
          "scatterpolar": [
           {
            "marker": {
             "colorbar": {
              "outlinewidth": 0,
              "ticks": ""
             }
            },
            "type": "scatterpolar"
           }
          ],
          "scatterpolargl": [
           {
            "marker": {
             "colorbar": {
              "outlinewidth": 0,
              "ticks": ""
             }
            },
            "type": "scatterpolargl"
           }
          ],
          "scatterternary": [
           {
            "marker": {
             "colorbar": {
              "outlinewidth": 0,
              "ticks": ""
             }
            },
            "type": "scatterternary"
           }
          ],
          "surface": [
           {
            "colorbar": {
             "outlinewidth": 0,
             "ticks": ""
            },
            "colorscale": [
             [
              0,
              "#0d0887"
             ],
             [
              0.1111111111111111,
              "#46039f"
             ],
             [
              0.2222222222222222,
              "#7201a8"
             ],
             [
              0.3333333333333333,
              "#9c179e"
             ],
             [
              0.4444444444444444,
              "#bd3786"
             ],
             [
              0.5555555555555556,
              "#d8576b"
             ],
             [
              0.6666666666666666,
              "#ed7953"
             ],
             [
              0.7777777777777778,
              "#fb9f3a"
             ],
             [
              0.8888888888888888,
              "#fdca26"
             ],
             [
              1,
              "#f0f921"
             ]
            ],
            "type": "surface"
           }
          ],
          "table": [
           {
            "cells": {
             "fill": {
              "color": "#EBF0F8"
             },
             "line": {
              "color": "white"
             }
            },
            "header": {
             "fill": {
              "color": "#C8D4E3"
             },
             "line": {
              "color": "white"
             }
            },
            "type": "table"
           }
          ]
         },
         "layout": {
          "annotationdefaults": {
           "arrowcolor": "#2a3f5f",
           "arrowhead": 0,
           "arrowwidth": 1
          },
          "autotypenumbers": "strict",
          "coloraxis": {
           "colorbar": {
            "outlinewidth": 0,
            "ticks": ""
           }
          },
          "colorscale": {
           "diverging": [
            [
             0,
             "#8e0152"
            ],
            [
             0.1,
             "#c51b7d"
            ],
            [
             0.2,
             "#de77ae"
            ],
            [
             0.3,
             "#f1b6da"
            ],
            [
             0.4,
             "#fde0ef"
            ],
            [
             0.5,
             "#f7f7f7"
            ],
            [
             0.6,
             "#e6f5d0"
            ],
            [
             0.7,
             "#b8e186"
            ],
            [
             0.8,
             "#7fbc41"
            ],
            [
             0.9,
             "#4d9221"
            ],
            [
             1,
             "#276419"
            ]
           ],
           "sequential": [
            [
             0,
             "#0d0887"
            ],
            [
             0.1111111111111111,
             "#46039f"
            ],
            [
             0.2222222222222222,
             "#7201a8"
            ],
            [
             0.3333333333333333,
             "#9c179e"
            ],
            [
             0.4444444444444444,
             "#bd3786"
            ],
            [
             0.5555555555555556,
             "#d8576b"
            ],
            [
             0.6666666666666666,
             "#ed7953"
            ],
            [
             0.7777777777777778,
             "#fb9f3a"
            ],
            [
             0.8888888888888888,
             "#fdca26"
            ],
            [
             1,
             "#f0f921"
            ]
           ],
           "sequentialminus": [
            [
             0,
             "#0d0887"
            ],
            [
             0.1111111111111111,
             "#46039f"
            ],
            [
             0.2222222222222222,
             "#7201a8"
            ],
            [
             0.3333333333333333,
             "#9c179e"
            ],
            [
             0.4444444444444444,
             "#bd3786"
            ],
            [
             0.5555555555555556,
             "#d8576b"
            ],
            [
             0.6666666666666666,
             "#ed7953"
            ],
            [
             0.7777777777777778,
             "#fb9f3a"
            ],
            [
             0.8888888888888888,
             "#fdca26"
            ],
            [
             1,
             "#f0f921"
            ]
           ]
          },
          "colorway": [
           "#636efa",
           "#EF553B",
           "#00cc96",
           "#ab63fa",
           "#FFA15A",
           "#19d3f3",
           "#FF6692",
           "#B6E880",
           "#FF97FF",
           "#FECB52"
          ],
          "font": {
           "color": "#2a3f5f"
          },
          "geo": {
           "bgcolor": "white",
           "lakecolor": "white",
           "landcolor": "#E5ECF6",
           "showlakes": true,
           "showland": true,
           "subunitcolor": "white"
          },
          "hoverlabel": {
           "align": "left"
          },
          "hovermode": "closest",
          "mapbox": {
           "style": "light"
          },
          "paper_bgcolor": "white",
          "plot_bgcolor": "#E5ECF6",
          "polar": {
           "angularaxis": {
            "gridcolor": "white",
            "linecolor": "white",
            "ticks": ""
           },
           "bgcolor": "#E5ECF6",
           "radialaxis": {
            "gridcolor": "white",
            "linecolor": "white",
            "ticks": ""
           }
          },
          "scene": {
           "xaxis": {
            "backgroundcolor": "#E5ECF6",
            "gridcolor": "white",
            "gridwidth": 2,
            "linecolor": "white",
            "showbackground": true,
            "ticks": "",
            "zerolinecolor": "white"
           },
           "yaxis": {
            "backgroundcolor": "#E5ECF6",
            "gridcolor": "white",
            "gridwidth": 2,
            "linecolor": "white",
            "showbackground": true,
            "ticks": "",
            "zerolinecolor": "white"
           },
           "zaxis": {
            "backgroundcolor": "#E5ECF6",
            "gridcolor": "white",
            "gridwidth": 2,
            "linecolor": "white",
            "showbackground": true,
            "ticks": "",
            "zerolinecolor": "white"
           }
          },
          "shapedefaults": {
           "line": {
            "color": "#2a3f5f"
           }
          },
          "ternary": {
           "aaxis": {
            "gridcolor": "white",
            "linecolor": "white",
            "ticks": ""
           },
           "baxis": {
            "gridcolor": "white",
            "linecolor": "white",
            "ticks": ""
           },
           "bgcolor": "#E5ECF6",
           "caxis": {
            "gridcolor": "white",
            "linecolor": "white",
            "ticks": ""
           }
          },
          "title": {
           "x": 0.05
          },
          "xaxis": {
           "automargin": true,
           "gridcolor": "white",
           "linecolor": "white",
           "ticks": "",
           "title": {
            "standoff": 15
           },
           "zerolinecolor": "white",
           "zerolinewidth": 2
          },
          "yaxis": {
           "automargin": true,
           "gridcolor": "white",
           "linecolor": "white",
           "ticks": "",
           "title": {
            "standoff": 15
           },
           "zerolinecolor": "white",
           "zerolinewidth": 2
          }
         }
        },
        "xaxis": {
         "anchor": "y",
         "domain": [
          0,
          1
         ],
         "title": {
          "text": "Year"
         }
        },
        "yaxis": {
         "anchor": "x",
         "domain": [
          0,
          1
         ],
         "title": {
          "text": "Value"
         }
        }
       }
      }
     },
     "metadata": {},
     "output_type": "display_data"
    }
   ],
   "source": [
    "ccCapita_melted = ccCapitaDF.melt(id_vars=['ISO_country'], var_name='Year', value_name='Value')\n",
    "fig = px.line(ccCapita_melted, x='Year', y='Value', color='ISO_country')\n",
    "fig.show()\n"
   ]
  }
 ],
 "metadata": {
  "kernelspec": {
   "display_name": "Python 3",
   "language": "python",
   "name": "python3"
  },
  "language_info": {
   "codemirror_mode": {
    "name": "ipython",
    "version": 3
   },
   "file_extension": ".py",
   "mimetype": "text/x-python",
   "name": "python",
   "nbconvert_exporter": "python",
   "pygments_lexer": "ipython3",
   "version": "3.11.5"
  }
 },
 "nbformat": 4,
 "nbformat_minor": 2
}
